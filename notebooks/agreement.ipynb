{
 "cells": [
  {
   "cell_type": "code",
   "execution_count": 1,
   "metadata": {
    "collapsed": true,
    "pycharm": {
     "name": "#%%\n"
    }
   },
   "outputs": [],
   "source": [
    "from math import nan\n",
    "from pathlib import Path\n",
    "\n",
    "from gspread import service_account, Spreadsheet\n",
    "from numpy import array\n",
    "from pandas import DataFrame\n",
    "from statsmodels.stats.inter_rater import fleiss_kappa"
   ]
  },
  {
   "cell_type": "code",
   "execution_count": 2,
   "outputs": [],
   "source": [
    "sheet_url = \"https://docs.google.com/spreadsheets/d/1ud5ij645_khLMiydH3g_Dun9YCEeToWJnICw5a1RfNo/edit\"\n",
    "sheet_id = 0"
   ],
   "metadata": {
    "collapsed": false,
    "pycharm": {
     "name": "#%%\n"
    }
   }
  },
  {
   "cell_type": "code",
   "execution_count": null,
   "outputs": [],
   "source": [
    "data_path = Path(\"../data\")\n",
    "figures_path = data_path / \"figures\""
   ],
   "metadata": {
    "collapsed": false
   }
  },
  {
   "cell_type": "code",
   "execution_count": 3,
   "outputs": [],
   "source": [
    "query = 19"
   ],
   "metadata": {
    "collapsed": false,
    "pycharm": {
     "name": "#%%\n"
    }
   }
  },
  {
   "cell_type": "code",
   "execution_count": 4,
   "outputs": [],
   "source": [
    "column_categories = {\n",
    "    '2.1.A.': [\"0\", \"1\"],\n",
    "    '2.1.B.': [\"0\", \"1\"],\n",
    "    '2.2.A.': [\"0\", \"1\"],\n",
    "    '2.2.B.': [\"0\", \"1\"],\n",
    "    '2.3.': [\"1\", \"2\", \"3\", \"4\", \"5\", \"6\", \"99\"],\n",
    "    '2.3.1.': [\"1\", \"2\", \"3\", \"99\"],\n",
    "    '2.3.A.': [\"0\", \"1\"],\n",
    "    '2.3.B.': [\"0\", \"1\"],\n",
    "    '3.1.': [\"1\", \"2\", \"3\", \"4\", \"99\"],\n",
    "    '3.2.': [\"1\", \"2\", \"3\", \"4\", \"5\", \"99\"],\n",
    "    '3.3.': [\"1\", \"2\", \"3\", \"4\", \"99\"],\n",
    "    '4.1.1.': [\"0\", \"1\"],\n",
    "    '4.1.2.': [\"0\", \"1\"],\n",
    "    '4.1.3.': [\"0\", \"1\"],\n",
    "    '4.1.4.': [\"0\", \"1\"],\n",
    "    '4.1.5.': [\"0\", \"1\"],\n",
    "    '4.1.6.': [\"0\", \"1\"],\n",
    "    '4.1.7.': [\"0\", \"1\"],\n",
    "    '4.1.99.': [\"0\", \"1\"],\n",
    "    '4.2.': [\"1\", \"2\", \"3\", \"4\", \"99\"],\n",
    "    '5.1.': [\"1\", \"2\", \"3\", \"4\", \"5\", \"6\", \"99\"],\n",
    "    '5.2.': [\"1\", \"2\", \"3\", \"4\", \"99\"],\n",
    "    '5.3.': [\"1\", \"2\", \"3\", \"4\"],\n",
    "    '5.4.': [\"0\", \"1\"],\n",
    "    '6.1.': [\"1\", \"2\", \"3\", \"99\"],\n",
    "    '6.2.': [\"1\", \"2\", \"99\"],\n",
    "    '6.3.': [\"1\", \"2\", \"99\"],\n",
    "    '7': [\"1\", \"2\", \"3\"],\n",
    "    '7.1.': [\"0\", \"1\"],\n",
    "}\n",
    "columns = list(column_categories.keys())"
   ],
   "metadata": {
    "collapsed": false,
    "pycharm": {
     "name": "#%%\n"
    }
   }
  },
  {
   "cell_type": "code",
   "execution_count": 5,
   "outputs": [],
   "source": [
    "sheets = service_account(\"google-services.json\")"
   ],
   "metadata": {
    "collapsed": false,
    "pycharm": {
     "name": "#%%\n"
    }
   }
  },
  {
   "cell_type": "code",
   "execution_count": 6,
   "outputs": [],
   "source": [
    "sheet: Spreadsheet = sheets.open_by_url(sheet_url)"
   ],
   "metadata": {
    "collapsed": false,
    "pycharm": {
     "name": "#%%\n"
    }
   }
  },
  {
   "cell_type": "code",
   "execution_count": 7,
   "outputs": [],
   "source": [
    "values = sheet.get_worksheet_by_id(sheet_id).get_all_values()"
   ],
   "metadata": {
    "collapsed": false,
    "pycharm": {
     "name": "#%%\n"
    }
   }
  },
  {
   "cell_type": "code",
   "execution_count": 8,
   "outputs": [],
   "source": [
    "def haltung_staerke(x: str) -> str:\n",
    "    if x == \"1\" or x == \"5\":\n",
    "        return \"3\"\n",
    "    elif (x == \"2\" or \n",
    "          x == \"4\"):\n",
    "        return \"2\"\n",
    "    elif x == \"3\" or x == \"6\":\n",
    "        return \"1\"\n",
    "    elif x == \"99\":\n",
    "        return \"99\"\n",
    "    else:\n",
    "        raise Exception(x)"
   ],
   "metadata": {
    "collapsed": false,
    "pycharm": {
     "name": "#%%\n"
    }
   }
  },
  {
   "cell_type": "code",
   "execution_count": 9,
   "outputs": [
    {
     "data": {
      "text/plain": "  1.1. Codierer Hintergrund 1.2.  \\\n0    1    Paula           1    1   \n1    1    Paula           1    2   \n2    1    Paula           1    3   \n3    1    Paula           1    4   \n4    2    Luisa           1    5   \n\n                                                1.3.  \\\n0  Was sind die Vor- und Nachteile von PHP gegenü...   \n1  Was sind die Vor- und Nachteile von PHP gegenü...   \n2  Was sind die Vor- und Nachteile von PHP gegenü...   \n3  Was sind die Vor- und Nachteile von PHP gegenü...   \n4                Warum ist Linux besser als Windows?   \n\n                                                1.4.  \\\n0  Ohne frühere Programmiererfahrung plant ein ju...   \n1  Ohne frühere Programmiererfahrung plant ein ju...   \n2  Ohne frühere Programmiererfahrung plant ein ju...   \n3  Ohne frühere Programmiererfahrung plant ein ju...   \n4  Ein Windows-Benutzer satt, unkontrollierte Upd...   \n\n                                                1.5.   1.6.     1.7. 2.1.  \\\n0  https://web.archive.org/web/20220504110310/htt...    PHP   Python    3   \n1  https://web.archive.org/web/20220504110445/htt...    PHP   Python    3   \n2  https://web.archive.org/web/20220504110927/htt...    PHP   Python    3   \n3  https://web.archive.org/web/20220505172700/htt...    PHP   Python    3   \n4  https://www.software-eule.de/blogs/software-ma...  Linux  Windows    3   \n\n   ... 2.3.B. 4.1.1. 4.1.2. 4.1.3. 4.1.4. 4.1.5. 4.1.6. 4.1.7. 4.1.99. 7.1.  \n0  ...      1      1      1      1      1      1      0      0       0    1  \n1  ...      0      1      1      1      1      0      0      0       0    1  \n2  ...      0      1      1      0      1      0      0      0       0    1  \n3  ...      1      1      1      0      0      0      0      0       0    1  \n4  ...      0      1      0      0      1      0      0      0       0    1  \n\n[5 rows x 48 columns]",
      "text/html": "<div>\n<style scoped>\n    .dataframe tbody tr th:only-of-type {\n        vertical-align: middle;\n    }\n\n    .dataframe tbody tr th {\n        vertical-align: top;\n    }\n\n    .dataframe thead th {\n        text-align: right;\n    }\n</style>\n<table border=\"1\" class=\"dataframe\">\n  <thead>\n    <tr style=\"text-align: right;\">\n      <th></th>\n      <th>1.1.</th>\n      <th>Codierer</th>\n      <th>Hintergrund</th>\n      <th>1.2.</th>\n      <th>1.3.</th>\n      <th>1.4.</th>\n      <th>1.5.</th>\n      <th>1.6.</th>\n      <th>1.7.</th>\n      <th>2.1.</th>\n      <th>...</th>\n      <th>2.3.B.</th>\n      <th>4.1.1.</th>\n      <th>4.1.2.</th>\n      <th>4.1.3.</th>\n      <th>4.1.4.</th>\n      <th>4.1.5.</th>\n      <th>4.1.6.</th>\n      <th>4.1.7.</th>\n      <th>4.1.99.</th>\n      <th>7.1.</th>\n    </tr>\n  </thead>\n  <tbody>\n    <tr>\n      <th>0</th>\n      <td>1</td>\n      <td>Paula</td>\n      <td>1</td>\n      <td>1</td>\n      <td>Was sind die Vor- und Nachteile von PHP gegenü...</td>\n      <td>Ohne frühere Programmiererfahrung plant ein ju...</td>\n      <td>https://web.archive.org/web/20220504110310/htt...</td>\n      <td>PHP</td>\n      <td>Python</td>\n      <td>3</td>\n      <td>...</td>\n      <td>1</td>\n      <td>1</td>\n      <td>1</td>\n      <td>1</td>\n      <td>1</td>\n      <td>1</td>\n      <td>0</td>\n      <td>0</td>\n      <td>0</td>\n      <td>1</td>\n    </tr>\n    <tr>\n      <th>1</th>\n      <td>1</td>\n      <td>Paula</td>\n      <td>1</td>\n      <td>2</td>\n      <td>Was sind die Vor- und Nachteile von PHP gegenü...</td>\n      <td>Ohne frühere Programmiererfahrung plant ein ju...</td>\n      <td>https://web.archive.org/web/20220504110445/htt...</td>\n      <td>PHP</td>\n      <td>Python</td>\n      <td>3</td>\n      <td>...</td>\n      <td>0</td>\n      <td>1</td>\n      <td>1</td>\n      <td>1</td>\n      <td>1</td>\n      <td>0</td>\n      <td>0</td>\n      <td>0</td>\n      <td>0</td>\n      <td>1</td>\n    </tr>\n    <tr>\n      <th>2</th>\n      <td>1</td>\n      <td>Paula</td>\n      <td>1</td>\n      <td>3</td>\n      <td>Was sind die Vor- und Nachteile von PHP gegenü...</td>\n      <td>Ohne frühere Programmiererfahrung plant ein ju...</td>\n      <td>https://web.archive.org/web/20220504110927/htt...</td>\n      <td>PHP</td>\n      <td>Python</td>\n      <td>3</td>\n      <td>...</td>\n      <td>0</td>\n      <td>1</td>\n      <td>1</td>\n      <td>0</td>\n      <td>1</td>\n      <td>0</td>\n      <td>0</td>\n      <td>0</td>\n      <td>0</td>\n      <td>1</td>\n    </tr>\n    <tr>\n      <th>3</th>\n      <td>1</td>\n      <td>Paula</td>\n      <td>1</td>\n      <td>4</td>\n      <td>Was sind die Vor- und Nachteile von PHP gegenü...</td>\n      <td>Ohne frühere Programmiererfahrung plant ein ju...</td>\n      <td>https://web.archive.org/web/20220505172700/htt...</td>\n      <td>PHP</td>\n      <td>Python</td>\n      <td>3</td>\n      <td>...</td>\n      <td>1</td>\n      <td>1</td>\n      <td>1</td>\n      <td>0</td>\n      <td>0</td>\n      <td>0</td>\n      <td>0</td>\n      <td>0</td>\n      <td>0</td>\n      <td>1</td>\n    </tr>\n    <tr>\n      <th>4</th>\n      <td>2</td>\n      <td>Luisa</td>\n      <td>1</td>\n      <td>5</td>\n      <td>Warum ist Linux besser als Windows?</td>\n      <td>Ein Windows-Benutzer satt, unkontrollierte Upd...</td>\n      <td>https://www.software-eule.de/blogs/software-ma...</td>\n      <td>Linux</td>\n      <td>Windows</td>\n      <td>3</td>\n      <td>...</td>\n      <td>0</td>\n      <td>1</td>\n      <td>0</td>\n      <td>0</td>\n      <td>1</td>\n      <td>0</td>\n      <td>0</td>\n      <td>0</td>\n      <td>0</td>\n      <td>1</td>\n    </tr>\n  </tbody>\n</table>\n<p>5 rows × 48 columns</p>\n</div>"
     },
     "execution_count": 9,
     "metadata": {},
     "output_type": "execute_result"
    }
   ],
   "source": [
    "data = DataFrame(values[2:], columns=values[0])\n",
    "\n",
    "# Spalten löschen\n",
    "# del data[\"1.3.\"]\n",
    "# del data[\"1.4.\"]\n",
    "# del data[\"1.5.\"]\n",
    "# del data[\"Relevanzkriterium\"]\n",
    "# del data[\"Haltung\"]\n",
    "# del data[\"Nutzbarkeit\"]\n",
    "# del data[\"Inhalt\"]\n",
    "# del data[\"Glaubwürdigkeit\"]\n",
    "# del data[\"Aktualität\"]\n",
    "# del data[\"QUALITÄT\"]\n",
    "\n",
    "data[\"1.6.\"] = data[\"1.6.\"].str.strip()\n",
    "data[\"1.7.\"] = data[\"1.7.\"].str.strip()\n",
    "\n",
    "# Umcodierung\n",
    "data[\"2.1.A.\"] = ((data[\"2.1.\"] == \"1\") | (data[\"2.1.\"] == \"3\")).astype(int).astype(str)\n",
    "data[\"2.1.B.\"] = ((data[\"2.1.\"] == \"2\") | (data[\"2.1.\"] == \"3\")).astype(int).astype(str)\n",
    "# del data[\"2.1.\"]\n",
    "\n",
    "# Umcodierung\n",
    "data[\"2.2.A.\"] = ((data[\"2.2.\"] == \"1\") | (data[\"2.2.\"] == \"3\")).astype(int).astype(str)\n",
    "data[\"2.2.B.\"] = ((data[\"2.2.\"] == \"2\") | (data[\"2.2.\"] == \"3\")).astype(int).astype(str)\n",
    "# del data[\"2.2.\"]\n",
    "\n",
    "data.loc[data[\"5.2.\"] == \"99\", \"2.3.\"] = \"99\"\n",
    "data[\"2.3.1.\"] = data[\"2.3.\"].map(haltung_staerke).astype(int).astype(str)\n",
    "data[\"2.3.A.\"] = ((data[\"2.3.\"] == \"1\") | (data[\"2.3.\"] == \"2\")).astype(int).astype(str)\n",
    "data[\"2.3.B.\"] = ((data[\"2.3.\"] == \"4\") | (data[\"2.3.\"] == \"5\")).astype(int).astype(str)\n",
    "\n",
    "# Daten aufbereiten\n",
    "data[\"4.1.\"] = data[\"4.1.\"].str.replace(\";\", \",\")\n",
    "data[\"4.1.\"] = data[\"4.1.\"].str.replace(\" \", \"\")\n",
    "data[\"4.1.\"] = data[\"4.1.\"].str.removesuffix(\",\")\n",
    "data[\"4.1.\"] = data[\"4.1.\"].map(lambda text: set(text.split(\",\")))\n",
    "for element in [\"1\", \"2\", \"3\", \"4\", \"5\", \"6\", \"7\", \"99\"]:\n",
    "    data[f\"4.1.{element}.\"] = data[\"4.1.\"].map(lambda labels: str(int(element in labels)))\n",
    "# del data[\"4.1.\"]\n",
    "\n",
    "# Umcodierung\n",
    "data[\"5.4.\"] = data[\"5.4.\"].str.replace(\";\", \",\")\n",
    "data[\"5.4.\"] = data[\"5.4.\"].str.replace(\" \", \"\")\n",
    "data[\"5.4.\"] = data[\"5.4.\"].str.removesuffix(\",\")\n",
    "data[\"5.4.\"] = data[\"5.4.\"].map(lambda text: set(text.split(\",\")))\n",
    "data[\"5.4.\"] = data[\"5.4.\"].map(\n",
    "    lambda labels: \"1\" in labels or \"2\" in labels or \"3\" in labels or \"99\" in labels).astype(int).astype(str)\n",
    "\n",
    "# Umcodierung\n",
    "data[\"7.1.\"] = ((data[\"7\"] == \"2\") | (data[\"7\"] == \"3\")).astype(int).astype(str)\n",
    "\n",
    "data.head()"
   ],
   "metadata": {
    "collapsed": false,
    "pycharm": {
     "name": "#%%\n"
    }
   }
  },
  {
   "cell_type": "code",
   "execution_count": 10,
   "outputs": [
    {
     "data": {
      "text/plain": "   Subject  Codierer 2.1.A. 2.1.B. 2.2.A. 2.2.B. 2.3. 2.3.1. 2.3.A. 2.3.B.  \\\n72   19-73     Luisa      1      1      1      1    3      1      0      0   \n73   19-73  Johannes      1      1      1      1    3      1      0      0   \n74   19-73     Paula      1      1      0      0    3      1      0      0   \n75   19-73      Lena      1      1      1      1    3      1      0      0   \n76   19-73     Sonja      1      1      0      1    3      1      0      0   \n\n    ... 4.2. 5.1. 5.2. 5.3. 5.4. 6.1. 6.2. 6.3.  7 7.1.  \n72  ...    3    2    1    1    0    1   99    2  1    0  \n73  ...    4    5    4    1    0   99   99    1  1    0  \n74  ...    2    2    1    1    0    3    2    2  1    0  \n75  ...    4   99    4    1    0    2    2    1  1    0  \n76  ...    4    5    4    1    0    2   99    1  1    0  \n\n[5 rows x 31 columns]",
      "text/html": "<div>\n<style scoped>\n    .dataframe tbody tr th:only-of-type {\n        vertical-align: middle;\n    }\n\n    .dataframe tbody tr th {\n        vertical-align: top;\n    }\n\n    .dataframe thead th {\n        text-align: right;\n    }\n</style>\n<table border=\"1\" class=\"dataframe\">\n  <thead>\n    <tr style=\"text-align: right;\">\n      <th></th>\n      <th>Subject</th>\n      <th>Codierer</th>\n      <th>2.1.A.</th>\n      <th>2.1.B.</th>\n      <th>2.2.A.</th>\n      <th>2.2.B.</th>\n      <th>2.3.</th>\n      <th>2.3.1.</th>\n      <th>2.3.A.</th>\n      <th>2.3.B.</th>\n      <th>...</th>\n      <th>4.2.</th>\n      <th>5.1.</th>\n      <th>5.2.</th>\n      <th>5.3.</th>\n      <th>5.4.</th>\n      <th>6.1.</th>\n      <th>6.2.</th>\n      <th>6.3.</th>\n      <th>7</th>\n      <th>7.1.</th>\n    </tr>\n  </thead>\n  <tbody>\n    <tr>\n      <th>72</th>\n      <td>19-73</td>\n      <td>Luisa</td>\n      <td>1</td>\n      <td>1</td>\n      <td>1</td>\n      <td>1</td>\n      <td>3</td>\n      <td>1</td>\n      <td>0</td>\n      <td>0</td>\n      <td>...</td>\n      <td>3</td>\n      <td>2</td>\n      <td>1</td>\n      <td>1</td>\n      <td>0</td>\n      <td>1</td>\n      <td>99</td>\n      <td>2</td>\n      <td>1</td>\n      <td>0</td>\n    </tr>\n    <tr>\n      <th>73</th>\n      <td>19-73</td>\n      <td>Johannes</td>\n      <td>1</td>\n      <td>1</td>\n      <td>1</td>\n      <td>1</td>\n      <td>3</td>\n      <td>1</td>\n      <td>0</td>\n      <td>0</td>\n      <td>...</td>\n      <td>4</td>\n      <td>5</td>\n      <td>4</td>\n      <td>1</td>\n      <td>0</td>\n      <td>99</td>\n      <td>99</td>\n      <td>1</td>\n      <td>1</td>\n      <td>0</td>\n    </tr>\n    <tr>\n      <th>74</th>\n      <td>19-73</td>\n      <td>Paula</td>\n      <td>1</td>\n      <td>1</td>\n      <td>0</td>\n      <td>0</td>\n      <td>3</td>\n      <td>1</td>\n      <td>0</td>\n      <td>0</td>\n      <td>...</td>\n      <td>2</td>\n      <td>2</td>\n      <td>1</td>\n      <td>1</td>\n      <td>0</td>\n      <td>3</td>\n      <td>2</td>\n      <td>2</td>\n      <td>1</td>\n      <td>0</td>\n    </tr>\n    <tr>\n      <th>75</th>\n      <td>19-73</td>\n      <td>Lena</td>\n      <td>1</td>\n      <td>1</td>\n      <td>1</td>\n      <td>1</td>\n      <td>3</td>\n      <td>1</td>\n      <td>0</td>\n      <td>0</td>\n      <td>...</td>\n      <td>4</td>\n      <td>99</td>\n      <td>4</td>\n      <td>1</td>\n      <td>0</td>\n      <td>2</td>\n      <td>2</td>\n      <td>1</td>\n      <td>1</td>\n      <td>0</td>\n    </tr>\n    <tr>\n      <th>76</th>\n      <td>19-73</td>\n      <td>Sonja</td>\n      <td>1</td>\n      <td>1</td>\n      <td>0</td>\n      <td>1</td>\n      <td>3</td>\n      <td>1</td>\n      <td>0</td>\n      <td>0</td>\n      <td>...</td>\n      <td>4</td>\n      <td>5</td>\n      <td>4</td>\n      <td>1</td>\n      <td>0</td>\n      <td>2</td>\n      <td>99</td>\n      <td>1</td>\n      <td>1</td>\n      <td>0</td>\n    </tr>\n  </tbody>\n</table>\n<p>5 rows × 31 columns</p>\n</div>"
     },
     "execution_count": 10,
     "metadata": {},
     "output_type": "execute_result"
    }
   ],
   "source": [
    "agreement_data = data.copy()\n",
    "agreement_data = agreement_data[agreement_data[\"1.1.\"] == str(query)]\n",
    "agreement_data[\"Subject\"] = agreement_data[\"1.1.\"].str.cat(agreement_data[\"1.2.\"], sep=\"-\")\n",
    "agreement_data = agreement_data[[\"Subject\", \"Codierer\", *columns]]\n",
    "agreement_data.sort_values(by=[\"Subject\", \"7\"], inplace=True)\n",
    "agreement_data.head()"
   ],
   "metadata": {
    "collapsed": false,
    "pycharm": {
     "name": "#%%\n"
    }
   }
  },
  {
   "cell_type": "code",
   "execution_count": 11,
   "outputs": [
    {
     "data": {
      "text/plain": "array(['19-73', '19-74', '19-75', '19-76'], dtype=object)"
     },
     "execution_count": 11,
     "metadata": {},
     "output_type": "execute_result"
    }
   ],
   "source": [
    "subjects = agreement_data[\"Subject\"].unique()\n",
    "subjects"
   ],
   "metadata": {
    "collapsed": false,
    "pycharm": {
     "name": "#%%\n"
    }
   }
  },
  {
   "cell_type": "code",
   "execution_count": 12,
   "outputs": [],
   "source": [
    "def column_fleiss_kappa(column: str) -> float:\n",
    "    categories = column_categories[column]\n",
    "    table = array([\n",
    "        [\n",
    "            len(agreement_data[(agreement_data[\"Subject\"] == subject) & (agreement_data[column] == category)])\n",
    "            for category in categories\n",
    "        ]\n",
    "        for subject in subjects\n",
    "    ])\n",
    "    return fleiss_kappa(table)"
   ],
   "metadata": {
    "collapsed": false,
    "pycharm": {
     "name": "#%%\n"
    }
   }
  },
  {
   "cell_type": "code",
   "execution_count": 13,
   "outputs": [
    {
     "name": "stderr",
     "output_type": "stream",
     "text": [
      "/home/heinrich/.local/share/virtualenvs/master-s8JoE7B2/lib/python3.9/site-packages/statsmodels/stats/inter_rater.py:264: RuntimeWarning: invalid value encountered in double_scalars\n",
      "  kappa = (p_mean - p_mean_exp) / (1- p_mean_exp)\n"
     ]
    },
    {
     "data": {
      "text/plain": "      Frage  Fleiss' κ\n0    2.1.A.        NaN\n1    2.1.B.        NaN\n2    2.2.A.  -0.101614\n3    2.2.B.  -0.001001\n4      2.3.   0.428735\n5    2.3.1.   0.514074\n6    2.3.A.        NaN\n7    2.3.B.        NaN\n8      3.1.  -0.011568\n9      3.2.   0.243124\n10     3.3.   0.320647\n11   4.1.1.   0.047619\n12   4.1.2.  -0.052632\n13   4.1.3.   0.477124\n14   4.1.4.        NaN\n15   4.1.5.   0.298246\n16   4.1.6.        NaN\n17   4.1.7.        NaN\n18  4.1.99.        NaN\n19     4.2.   0.246561\n20     5.1.   0.523810\n21     5.2.   0.304730\n22     5.3.   0.288554\n23     5.4.  -0.111111\n24     6.1.   0.396534\n25     6.2.   0.148936\n26     6.3.  -0.084656\n27        7   0.159159\n28     7.1.   0.192953",
      "text/html": "<div>\n<style scoped>\n    .dataframe tbody tr th:only-of-type {\n        vertical-align: middle;\n    }\n\n    .dataframe tbody tr th {\n        vertical-align: top;\n    }\n\n    .dataframe thead th {\n        text-align: right;\n    }\n</style>\n<table border=\"1\" class=\"dataframe\">\n  <thead>\n    <tr style=\"text-align: right;\">\n      <th></th>\n      <th>Frage</th>\n      <th>Fleiss' κ</th>\n    </tr>\n  </thead>\n  <tbody>\n    <tr>\n      <th>0</th>\n      <td>2.1.A.</td>\n      <td>NaN</td>\n    </tr>\n    <tr>\n      <th>1</th>\n      <td>2.1.B.</td>\n      <td>NaN</td>\n    </tr>\n    <tr>\n      <th>2</th>\n      <td>2.2.A.</td>\n      <td>-0.101614</td>\n    </tr>\n    <tr>\n      <th>3</th>\n      <td>2.2.B.</td>\n      <td>-0.001001</td>\n    </tr>\n    <tr>\n      <th>4</th>\n      <td>2.3.</td>\n      <td>0.428735</td>\n    </tr>\n    <tr>\n      <th>5</th>\n      <td>2.3.1.</td>\n      <td>0.514074</td>\n    </tr>\n    <tr>\n      <th>6</th>\n      <td>2.3.A.</td>\n      <td>NaN</td>\n    </tr>\n    <tr>\n      <th>7</th>\n      <td>2.3.B.</td>\n      <td>NaN</td>\n    </tr>\n    <tr>\n      <th>8</th>\n      <td>3.1.</td>\n      <td>-0.011568</td>\n    </tr>\n    <tr>\n      <th>9</th>\n      <td>3.2.</td>\n      <td>0.243124</td>\n    </tr>\n    <tr>\n      <th>10</th>\n      <td>3.3.</td>\n      <td>0.320647</td>\n    </tr>\n    <tr>\n      <th>11</th>\n      <td>4.1.1.</td>\n      <td>0.047619</td>\n    </tr>\n    <tr>\n      <th>12</th>\n      <td>4.1.2.</td>\n      <td>-0.052632</td>\n    </tr>\n    <tr>\n      <th>13</th>\n      <td>4.1.3.</td>\n      <td>0.477124</td>\n    </tr>\n    <tr>\n      <th>14</th>\n      <td>4.1.4.</td>\n      <td>NaN</td>\n    </tr>\n    <tr>\n      <th>15</th>\n      <td>4.1.5.</td>\n      <td>0.298246</td>\n    </tr>\n    <tr>\n      <th>16</th>\n      <td>4.1.6.</td>\n      <td>NaN</td>\n    </tr>\n    <tr>\n      <th>17</th>\n      <td>4.1.7.</td>\n      <td>NaN</td>\n    </tr>\n    <tr>\n      <th>18</th>\n      <td>4.1.99.</td>\n      <td>NaN</td>\n    </tr>\n    <tr>\n      <th>19</th>\n      <td>4.2.</td>\n      <td>0.246561</td>\n    </tr>\n    <tr>\n      <th>20</th>\n      <td>5.1.</td>\n      <td>0.523810</td>\n    </tr>\n    <tr>\n      <th>21</th>\n      <td>5.2.</td>\n      <td>0.304730</td>\n    </tr>\n    <tr>\n      <th>22</th>\n      <td>5.3.</td>\n      <td>0.288554</td>\n    </tr>\n    <tr>\n      <th>23</th>\n      <td>5.4.</td>\n      <td>-0.111111</td>\n    </tr>\n    <tr>\n      <th>24</th>\n      <td>6.1.</td>\n      <td>0.396534</td>\n    </tr>\n    <tr>\n      <th>25</th>\n      <td>6.2.</td>\n      <td>0.148936</td>\n    </tr>\n    <tr>\n      <th>26</th>\n      <td>6.3.</td>\n      <td>-0.084656</td>\n    </tr>\n    <tr>\n      <th>27</th>\n      <td>7</td>\n      <td>0.159159</td>\n    </tr>\n    <tr>\n      <th>28</th>\n      <td>7.1.</td>\n      <td>0.192953</td>\n    </tr>\n  </tbody>\n</table>\n</div>"
     },
     "execution_count": 13,
     "metadata": {},
     "output_type": "execute_result"
    }
   ],
   "source": [
    "agreement = DataFrame([\n",
    "    {\n",
    "        \"Frage\": column,\n",
    "        \"Fleiss' κ\": column_fleiss_kappa(column),\n",
    "    }\n",
    "    for column in columns\n",
    "])\n",
    "agreement"
   ],
   "metadata": {
    "collapsed": false,
    "pycharm": {
     "name": "#%%\n"
    }
   }
  },
  {
   "cell_type": "code",
   "execution_count": 14,
   "outputs": [],
   "source": [
    "agreement.to_excel(\"agreement.xlsx\")"
   ],
   "metadata": {
    "collapsed": false,
    "pycharm": {
     "name": "#%%\n"
    }
   }
  },
  {
   "cell_type": "code",
   "execution_count": 15,
   "outputs": [],
   "source": [
    "data.to_excel(\"umcodiert.xlsx\")"
   ],
   "metadata": {
    "collapsed": false,
    "pycharm": {
     "name": "#%%\n"
    }
   }
  },
  {
   "cell_type": "code",
   "execution_count": 108,
   "outputs": [
    {
     "name": "stderr",
     "output_type": "stream",
     "text": [
      "/tmp/ipykernel_310843/3482714391.py:15: FutureWarning: Dropping invalid columns in DataFrameGroupBy.agg is deprecated. In a future version, a TypeError will be raised. Before calling .agg, select only columns which should be valid for the function.\n",
      "  analytics_data = analytics_data.groupby(by=[\"1.1.\", \"1.2.\"]).aggregate(majority_vote).reset_index()\n"
     ]
    },
    {
     "data": {
      "text/plain": "    1.1. 1.2. Codierer Hintergrund  \\\n0      1    1    Paula           1   \n1      1    2    Paula           1   \n2      1    3    Paula           1   \n3      1    4    Paula           1   \n4     10   37    Sonja           1   \n..   ...  ...      ...         ...   \n115    8   32       10           1   \n116    9   33   Jürgen           1   \n117    9   34   Jürgen           1   \n118    9   35   Jürgen           1   \n119    9   36   Jürgen           1   \n\n                                                  1.3.  \\\n0    Was sind die Vor- und Nachteile von PHP gegenü...   \n1    Was sind die Vor- und Nachteile von PHP gegenü...   \n2    Was sind die Vor- und Nachteile von PHP gegenü...   \n3    Was sind die Vor- und Nachteile von PHP gegenü...   \n4    Sollte ich Python oder R zur Datenanalyse lernen?   \n..                                                 ...   \n115  Welcher Algorithmus ist besser, Quicksort oder...   \n116  Sind Random-Forest-Klassikator besser als deci...   \n117  Sind Random-Forest-Klassikator besser als deci...   \n118  Sind Random-Forest-Klassikator besser als deci...   \n119  Sind Random-Forest-Klassikator besser als deci...   \n\n                                                  1.4.  \\\n0    Ohne frühere Programmiererfahrung plant ein ju...   \n1    Ohne frühere Programmiererfahrung plant ein ju...   \n2    Ohne frühere Programmiererfahrung plant ein ju...   \n3    Ohne frühere Programmiererfahrung plant ein ju...   \n4    Sie fragen sich, ob Sie Python oder R für die ...   \n..                                                 ...   \n115  Dies ist eine häufige Frage, die in Data Scien...   \n116  Maschinelles Lernen ist ein umfangreiches Fors...   \n117  Maschinelles Lernen ist ein umfangreiches Fors...   \n118  Maschinelles Lernen ist ein umfangreiches Fors...   \n119  Maschinelles Lernen ist ein umfangreiches Fors...   \n\n                                                  1.5.  \\\n0    https://web.archive.org/web/20220504110310/htt...   \n1    https://web.archive.org/web/20220504110445/htt...   \n2    https://web.archive.org/web/20220504110927/htt...   \n3    https://web.archive.org/web/20220505172700/htt...   \n4    https://web.archive.org/web/20220504132031/htt...   \n..                                                 ...   \n115  https://web.archive.org/web/20220516100138/htt...   \n116  https://web.archive.org/web/20220504131404/htt...   \n117  https://web.archive.org/web/20220504131536/htt...   \n118  https://web.archive.org/web/20220504131702/htt...   \n119  https://web.archive.org/web/20220504131753/htt...   \n\n                          1.6.            1.7. 2.1.  ... 2.3.B. 4.1.1. 4.1.2.  \\\n0                          PHP          Python    3  ...      1      1      1   \n1                          PHP          Python    3  ...      0      1      1   \n2                          PHP          Python    3  ...      0      1      1   \n3                          PHP          Python    3  ...      1      1      1   \n4                       Python               R    3  ...      0      1      0   \n..                         ...             ...  ...  ...    ...    ...    ...   \n115                  Quicksort       Mergesort    3  ...      0      1      0   \n116  Ramdom-Forest-Klassikator  decision trees    3  ...      0      1      0   \n117  Ramdom-Forest-Klassikator  decision trees    3  ...      0      1      0   \n118  Ramdom-Forest-Klassikator  decision trees    3  ...      0      1      0   \n119  Ramdom-Forest-Klassikator  decision trees    3  ...      0      1      1   \n\n    4.1.3. 4.1.4. 4.1.5. 4.1.6. 4.1.7. 4.1.99. 7.1.  \n0        1      1      1      0      0       0    1  \n1        1      1      0      0      0       0    1  \n2        0      1      0      0      0       0    1  \n3        0      0      0      0      0       0    1  \n4        0      0      0      0      0       0    1  \n..     ...    ...    ...    ...    ...     ...  ...  \n115      0      1      0      0      0       0    1  \n116      0      0      0      0      0       0    1  \n117      1      0      0      0      0       0    1  \n118      0      0      0      0      0       0    1  \n119      1      0      0      0      0       0    1  \n\n[120 rows x 47 columns]",
      "text/html": "<div>\n<style scoped>\n    .dataframe tbody tr th:only-of-type {\n        vertical-align: middle;\n    }\n\n    .dataframe tbody tr th {\n        vertical-align: top;\n    }\n\n    .dataframe thead th {\n        text-align: right;\n    }\n</style>\n<table border=\"1\" class=\"dataframe\">\n  <thead>\n    <tr style=\"text-align: right;\">\n      <th></th>\n      <th>1.1.</th>\n      <th>1.2.</th>\n      <th>Codierer</th>\n      <th>Hintergrund</th>\n      <th>1.3.</th>\n      <th>1.4.</th>\n      <th>1.5.</th>\n      <th>1.6.</th>\n      <th>1.7.</th>\n      <th>2.1.</th>\n      <th>...</th>\n      <th>2.3.B.</th>\n      <th>4.1.1.</th>\n      <th>4.1.2.</th>\n      <th>4.1.3.</th>\n      <th>4.1.4.</th>\n      <th>4.1.5.</th>\n      <th>4.1.6.</th>\n      <th>4.1.7.</th>\n      <th>4.1.99.</th>\n      <th>7.1.</th>\n    </tr>\n  </thead>\n  <tbody>\n    <tr>\n      <th>0</th>\n      <td>1</td>\n      <td>1</td>\n      <td>Paula</td>\n      <td>1</td>\n      <td>Was sind die Vor- und Nachteile von PHP gegenü...</td>\n      <td>Ohne frühere Programmiererfahrung plant ein ju...</td>\n      <td>https://web.archive.org/web/20220504110310/htt...</td>\n      <td>PHP</td>\n      <td>Python</td>\n      <td>3</td>\n      <td>...</td>\n      <td>1</td>\n      <td>1</td>\n      <td>1</td>\n      <td>1</td>\n      <td>1</td>\n      <td>1</td>\n      <td>0</td>\n      <td>0</td>\n      <td>0</td>\n      <td>1</td>\n    </tr>\n    <tr>\n      <th>1</th>\n      <td>1</td>\n      <td>2</td>\n      <td>Paula</td>\n      <td>1</td>\n      <td>Was sind die Vor- und Nachteile von PHP gegenü...</td>\n      <td>Ohne frühere Programmiererfahrung plant ein ju...</td>\n      <td>https://web.archive.org/web/20220504110445/htt...</td>\n      <td>PHP</td>\n      <td>Python</td>\n      <td>3</td>\n      <td>...</td>\n      <td>0</td>\n      <td>1</td>\n      <td>1</td>\n      <td>1</td>\n      <td>1</td>\n      <td>0</td>\n      <td>0</td>\n      <td>0</td>\n      <td>0</td>\n      <td>1</td>\n    </tr>\n    <tr>\n      <th>2</th>\n      <td>1</td>\n      <td>3</td>\n      <td>Paula</td>\n      <td>1</td>\n      <td>Was sind die Vor- und Nachteile von PHP gegenü...</td>\n      <td>Ohne frühere Programmiererfahrung plant ein ju...</td>\n      <td>https://web.archive.org/web/20220504110927/htt...</td>\n      <td>PHP</td>\n      <td>Python</td>\n      <td>3</td>\n      <td>...</td>\n      <td>0</td>\n      <td>1</td>\n      <td>1</td>\n      <td>0</td>\n      <td>1</td>\n      <td>0</td>\n      <td>0</td>\n      <td>0</td>\n      <td>0</td>\n      <td>1</td>\n    </tr>\n    <tr>\n      <th>3</th>\n      <td>1</td>\n      <td>4</td>\n      <td>Paula</td>\n      <td>1</td>\n      <td>Was sind die Vor- und Nachteile von PHP gegenü...</td>\n      <td>Ohne frühere Programmiererfahrung plant ein ju...</td>\n      <td>https://web.archive.org/web/20220505172700/htt...</td>\n      <td>PHP</td>\n      <td>Python</td>\n      <td>3</td>\n      <td>...</td>\n      <td>1</td>\n      <td>1</td>\n      <td>1</td>\n      <td>0</td>\n      <td>0</td>\n      <td>0</td>\n      <td>0</td>\n      <td>0</td>\n      <td>0</td>\n      <td>1</td>\n    </tr>\n    <tr>\n      <th>4</th>\n      <td>10</td>\n      <td>37</td>\n      <td>Sonja</td>\n      <td>1</td>\n      <td>Sollte ich Python oder R zur Datenanalyse lernen?</td>\n      <td>Sie fragen sich, ob Sie Python oder R für die ...</td>\n      <td>https://web.archive.org/web/20220504132031/htt...</td>\n      <td>Python</td>\n      <td>R</td>\n      <td>3</td>\n      <td>...</td>\n      <td>0</td>\n      <td>1</td>\n      <td>0</td>\n      <td>0</td>\n      <td>0</td>\n      <td>0</td>\n      <td>0</td>\n      <td>0</td>\n      <td>0</td>\n      <td>1</td>\n    </tr>\n    <tr>\n      <th>...</th>\n      <td>...</td>\n      <td>...</td>\n      <td>...</td>\n      <td>...</td>\n      <td>...</td>\n      <td>...</td>\n      <td>...</td>\n      <td>...</td>\n      <td>...</td>\n      <td>...</td>\n      <td>...</td>\n      <td>...</td>\n      <td>...</td>\n      <td>...</td>\n      <td>...</td>\n      <td>...</td>\n      <td>...</td>\n      <td>...</td>\n      <td>...</td>\n      <td>...</td>\n      <td>...</td>\n    </tr>\n    <tr>\n      <th>115</th>\n      <td>8</td>\n      <td>32</td>\n      <td>10</td>\n      <td>1</td>\n      <td>Welcher Algorithmus ist besser, Quicksort oder...</td>\n      <td>Dies ist eine häufige Frage, die in Data Scien...</td>\n      <td>https://web.archive.org/web/20220516100138/htt...</td>\n      <td>Quicksort</td>\n      <td>Mergesort</td>\n      <td>3</td>\n      <td>...</td>\n      <td>0</td>\n      <td>1</td>\n      <td>0</td>\n      <td>0</td>\n      <td>1</td>\n      <td>0</td>\n      <td>0</td>\n      <td>0</td>\n      <td>0</td>\n      <td>1</td>\n    </tr>\n    <tr>\n      <th>116</th>\n      <td>9</td>\n      <td>33</td>\n      <td>Jürgen</td>\n      <td>1</td>\n      <td>Sind Random-Forest-Klassikator besser als deci...</td>\n      <td>Maschinelles Lernen ist ein umfangreiches Fors...</td>\n      <td>https://web.archive.org/web/20220504131404/htt...</td>\n      <td>Ramdom-Forest-Klassikator</td>\n      <td>decision trees</td>\n      <td>3</td>\n      <td>...</td>\n      <td>0</td>\n      <td>1</td>\n      <td>0</td>\n      <td>0</td>\n      <td>0</td>\n      <td>0</td>\n      <td>0</td>\n      <td>0</td>\n      <td>0</td>\n      <td>1</td>\n    </tr>\n    <tr>\n      <th>117</th>\n      <td>9</td>\n      <td>34</td>\n      <td>Jürgen</td>\n      <td>1</td>\n      <td>Sind Random-Forest-Klassikator besser als deci...</td>\n      <td>Maschinelles Lernen ist ein umfangreiches Fors...</td>\n      <td>https://web.archive.org/web/20220504131536/htt...</td>\n      <td>Ramdom-Forest-Klassikator</td>\n      <td>decision trees</td>\n      <td>3</td>\n      <td>...</td>\n      <td>0</td>\n      <td>1</td>\n      <td>0</td>\n      <td>1</td>\n      <td>0</td>\n      <td>0</td>\n      <td>0</td>\n      <td>0</td>\n      <td>0</td>\n      <td>1</td>\n    </tr>\n    <tr>\n      <th>118</th>\n      <td>9</td>\n      <td>35</td>\n      <td>Jürgen</td>\n      <td>1</td>\n      <td>Sind Random-Forest-Klassikator besser als deci...</td>\n      <td>Maschinelles Lernen ist ein umfangreiches Fors...</td>\n      <td>https://web.archive.org/web/20220504131702/htt...</td>\n      <td>Ramdom-Forest-Klassikator</td>\n      <td>decision trees</td>\n      <td>3</td>\n      <td>...</td>\n      <td>0</td>\n      <td>1</td>\n      <td>0</td>\n      <td>0</td>\n      <td>0</td>\n      <td>0</td>\n      <td>0</td>\n      <td>0</td>\n      <td>0</td>\n      <td>1</td>\n    </tr>\n    <tr>\n      <th>119</th>\n      <td>9</td>\n      <td>36</td>\n      <td>Jürgen</td>\n      <td>1</td>\n      <td>Sind Random-Forest-Klassikator besser als deci...</td>\n      <td>Maschinelles Lernen ist ein umfangreiches Fors...</td>\n      <td>https://web.archive.org/web/20220504131753/htt...</td>\n      <td>Ramdom-Forest-Klassikator</td>\n      <td>decision trees</td>\n      <td>3</td>\n      <td>...</td>\n      <td>0</td>\n      <td>1</td>\n      <td>1</td>\n      <td>1</td>\n      <td>0</td>\n      <td>0</td>\n      <td>0</td>\n      <td>0</td>\n      <td>0</td>\n      <td>1</td>\n    </tr>\n  </tbody>\n</table>\n<p>120 rows × 47 columns</p>\n</div>"
     },
     "execution_count": 108,
     "metadata": {},
     "output_type": "execute_result"
    }
   ],
   "source": [
    "from pandas import Series\n",
    "from collections import Counter\n",
    "\n",
    "analytics_data = data.copy()\n",
    "\n",
    "\n",
    "def majority_vote(items: Series):\n",
    "    counter = Counter(items.tolist())\n",
    "    _, most_common_count = counter.most_common(1)[0]\n",
    "    most_common = {key for key in counter.keys() if counter[key] == most_common_count}\n",
    "    most_common = list(sorted(most_common))\n",
    "    return most_common[0] if len(most_common) >= 1 else nan\n",
    "\n",
    "\n",
    "analytics_data = analytics_data.groupby(by=[\"1.1.\", \"1.2.\"]).aggregate(majority_vote).reset_index()\n",
    "analytics_data"
   ],
   "metadata": {
    "collapsed": false,
    "pycharm": {
     "name": "#%%\n"
    }
   }
  },
  {
   "cell_type": "code",
   "execution_count": 17,
   "outputs": [],
   "source": [
    "analytics_data.to_excel(\"umcodiert_majority_vote.xlsx\")"
   ],
   "metadata": {
    "collapsed": false,
    "pycharm": {
     "name": "#%%\n"
    }
   }
  },
  {
   "cell_type": "code",
   "execution_count": 18,
   "outputs": [],
   "source": [
    "def score_umfang(value: str) -> float:\n",
    "    if value == \"1\":\n",
    "        return 1\n",
    "    elif value == \"2\":\n",
    "        return 2\n",
    "    elif value == \"3\":\n",
    "        return 3\n",
    "    elif value == \"4\":\n",
    "        return 4\n",
    "    elif value == \"5\":\n",
    "        return 0\n",
    "    else:\n",
    "        return nan"
   ],
   "metadata": {
    "collapsed": false,
    "pycharm": {
     "name": "#%%\n"
    }
   }
  },
  {
   "cell_type": "code",
   "execution_count": 19,
   "outputs": [],
   "source": [
    "def score_sprache(value: str) -> float:\n",
    "    if value == \"1\":\n",
    "        return 2\n",
    "    elif value == \"2\":\n",
    "        return 1\n",
    "    elif value == \"3\":\n",
    "        return 0\n",
    "    elif value == \"4\":\n",
    "        return 0\n",
    "    else:\n",
    "        return nan"
   ],
   "metadata": {
    "collapsed": false,
    "pycharm": {
     "name": "#%%\n"
    }
   }
  },
  {
   "cell_type": "code",
   "execution_count": 124,
   "outputs": [],
   "source": [
    "def score_lesbarkeit(value: str) -> float:\n",
    "    if value == \"1\":\n",
    "        return 0\n",
    "    elif value == \"2\":\n",
    "        return 1\n",
    "    elif value == \"3\":\n",
    "        return 2\n",
    "    elif value == \"4\":\n",
    "        return 3\n",
    "    else:\n",
    "        return nan"
   ],
   "metadata": {
    "collapsed": false,
    "pycharm": {
     "name": "#%%\n"
    }
   }
  },
  {
   "cell_type": "code",
   "execution_count": 21,
   "outputs": [],
   "source": [
    "def score_quelle(value: str) -> float:\n",
    "    if value == \"1\":\n",
    "        return 2\n",
    "    elif value == \"2\":\n",
    "        return 2\n",
    "    elif value == \"3\":\n",
    "        return 0\n",
    "    elif value == \"4\":\n",
    "        return 1\n",
    "    elif value == \"5\":\n",
    "        return 1\n",
    "    elif value == \"6\":\n",
    "        return 0\n",
    "    else:\n",
    "        return nan"
   ],
   "metadata": {
    "collapsed": false,
    "pycharm": {
     "name": "#%%\n"
    }
   }
  },
  {
   "cell_type": "code",
   "execution_count": 22,
   "outputs": [],
   "source": [
    "def score_autor(value: str) -> float:\n",
    "    if value == \"1\":\n",
    "        return 2\n",
    "    elif value == \"2\":\n",
    "        return 1\n",
    "    elif value == \"3\":\n",
    "        return 0\n",
    "    elif value == \"4\":\n",
    "        return 1\n",
    "    elif value == \"99\":\n",
    "        return 1\n",
    "    else:\n",
    "        return nan"
   ],
   "metadata": {
    "collapsed": false,
    "pycharm": {
     "name": "#%%\n"
    }
   }
  },
  {
   "cell_type": "code",
   "execution_count": 23,
   "outputs": [],
   "source": [
    "def score_wahrheit(value: str) -> float:\n",
    "    if value == \"1\":\n",
    "        return 1\n",
    "    elif value == \"2\":\n",
    "        return 0\n",
    "    elif value == \"3\":\n",
    "        return 0.5\n",
    "    elif value == \"4\":\n",
    "        return 1\n",
    "    else:\n",
    "        return nan"
   ],
   "metadata": {
    "collapsed": false,
    "pycharm": {
     "name": "#%%\n"
    }
   }
  },
  {
   "cell_type": "code",
   "execution_count": 24,
   "outputs": [],
   "source": [
    "def score_datum(value: str) -> float:\n",
    "    if value == \"1\":\n",
    "        return 1\n",
    "    elif value == \"2\":\n",
    "        return 2\n",
    "    elif value == \"3\":\n",
    "        return 2\n",
    "    elif value == \"99\":\n",
    "        return 0\n",
    "    else:\n",
    "        return nan"
   ],
   "metadata": {
    "collapsed": false,
    "pycharm": {
     "name": "#%%\n"
    }
   }
  },
  {
   "cell_type": "code",
   "execution_count": 25,
   "outputs": [],
   "source": [
    "def score_updates(value: str) -> float:\n",
    "    if value == \"1\":\n",
    "        return 1\n",
    "    elif value == \"2\":\n",
    "        return 0\n",
    "    elif value == \"99\":\n",
    "        return 0\n",
    "    else:\n",
    "        return nan"
   ],
   "metadata": {
    "collapsed": false,
    "pycharm": {
     "name": "#%%\n"
    }
   }
  },
  {
   "cell_type": "code",
   "execution_count": 125,
   "outputs": [
    {
     "data": {
      "text/plain": "    1.1. 1.2. Codierer Hintergrund  \\\n0      1    1    Paula           1   \n1      1    2    Paula           1   \n2      1    3    Paula           1   \n3      1    4    Paula           1   \n4     10   37    Sonja           1   \n..   ...  ...      ...         ...   \n115    8   32       10           1   \n116    9   33   Jürgen           1   \n117    9   34   Jürgen           1   \n118    9   35   Jürgen           1   \n119    9   36   Jürgen           1   \n\n                                                  1.3.  \\\n0    Was sind die Vor- und Nachteile von PHP gegenü...   \n1    Was sind die Vor- und Nachteile von PHP gegenü...   \n2    Was sind die Vor- und Nachteile von PHP gegenü...   \n3    Was sind die Vor- und Nachteile von PHP gegenü...   \n4    Sollte ich Python oder R zur Datenanalyse lernen?   \n..                                                 ...   \n115  Welcher Algorithmus ist besser, Quicksort oder...   \n116  Sind Random-Forest-Klassikator besser als deci...   \n117  Sind Random-Forest-Klassikator besser als deci...   \n118  Sind Random-Forest-Klassikator besser als deci...   \n119  Sind Random-Forest-Klassikator besser als deci...   \n\n                                                  1.4.  \\\n0    Ohne frühere Programmiererfahrung plant ein ju...   \n1    Ohne frühere Programmiererfahrung plant ein ju...   \n2    Ohne frühere Programmiererfahrung plant ein ju...   \n3    Ohne frühere Programmiererfahrung plant ein ju...   \n4    Sie fragen sich, ob Sie Python oder R für die ...   \n..                                                 ...   \n115  Dies ist eine häufige Frage, die in Data Scien...   \n116  Maschinelles Lernen ist ein umfangreiches Fors...   \n117  Maschinelles Lernen ist ein umfangreiches Fors...   \n118  Maschinelles Lernen ist ein umfangreiches Fors...   \n119  Maschinelles Lernen ist ein umfangreiches Fors...   \n\n                                                  1.5.  \\\n0    https://web.archive.org/web/20220504110310/htt...   \n1    https://web.archive.org/web/20220504110445/htt...   \n2    https://web.archive.org/web/20220504110927/htt...   \n3    https://web.archive.org/web/20220505172700/htt...   \n4    https://web.archive.org/web/20220504132031/htt...   \n..                                                 ...   \n115  https://web.archive.org/web/20220516100138/htt...   \n116  https://web.archive.org/web/20220504131404/htt...   \n117  https://web.archive.org/web/20220504131536/htt...   \n118  https://web.archive.org/web/20220504131702/htt...   \n119  https://web.archive.org/web/20220504131753/htt...   \n\n                          1.6.            1.7. 2.1.  ... 4.2.score  \\\n0                          PHP          Python    3  ...         2   \n1                          PHP          Python    3  ...         3   \n2                          PHP          Python    3  ...         2   \n3                          PHP          Python    3  ...         1   \n4                       Python               R    3  ...         1   \n..                         ...             ...  ...  ...       ...   \n115                  Quicksort       Mergesort    3  ...         3   \n116  Ramdom-Forest-Klassikator  decision trees    3  ...         2   \n117  Ramdom-Forest-Klassikator  decision trees    3  ...         0   \n118  Ramdom-Forest-Klassikator  decision trees    3  ...         2   \n119  Ramdom-Forest-Klassikator  decision trees    3  ...         2   \n\n    I-Nutzerfreundlichkeit 5.1.score 5.2.score 5.3.score I-Glaubwürdigkeit  \\\n0                 0.666667       1.0       1.0       1.0          0.500000   \n1                 1.000000       1.0       1.0       1.0          0.500000   \n2                 0.666667       1.0       1.0       1.0          0.500000   \n3                 0.333333       2.0       1.0       1.0          0.833333   \n4                 0.333333       1.0       2.0       1.0          0.666667   \n..                     ...       ...       ...       ...               ...   \n115               1.000000       2.0       2.0       1.0          1.000000   \n116               0.666667       1.0       2.0       1.0          0.666667   \n117               0.000000       0.0       2.0       1.0          0.333333   \n118               0.666667       1.0       1.0       1.0          0.500000   \n119               0.666667       1.0       2.0       1.0          0.666667   \n\n    6.1.score 6.2.score I-Aktualität I-Qualität  \n0           2         0          0.8   0.709091  \n1           2         0          0.8   0.830303  \n2           2         0          0.8   0.648485  \n3           1         0          0.4   0.490909  \n4           1         0          0.4   0.581818  \n..        ...       ...          ...        ...  \n115         1         0          0.4   0.763636  \n116         1         0          0.4   0.703030  \n117         2         0          0.8   0.496970  \n118         1         1          0.6   0.630303  \n119         1         0          0.4   0.763636  \n\n[120 rows x 61 columns]",
      "text/html": "<div>\n<style scoped>\n    .dataframe tbody tr th:only-of-type {\n        vertical-align: middle;\n    }\n\n    .dataframe tbody tr th {\n        vertical-align: top;\n    }\n\n    .dataframe thead th {\n        text-align: right;\n    }\n</style>\n<table border=\"1\" class=\"dataframe\">\n  <thead>\n    <tr style=\"text-align: right;\">\n      <th></th>\n      <th>1.1.</th>\n      <th>1.2.</th>\n      <th>Codierer</th>\n      <th>Hintergrund</th>\n      <th>1.3.</th>\n      <th>1.4.</th>\n      <th>1.5.</th>\n      <th>1.6.</th>\n      <th>1.7.</th>\n      <th>2.1.</th>\n      <th>...</th>\n      <th>4.2.score</th>\n      <th>I-Nutzerfreundlichkeit</th>\n      <th>5.1.score</th>\n      <th>5.2.score</th>\n      <th>5.3.score</th>\n      <th>I-Glaubwürdigkeit</th>\n      <th>6.1.score</th>\n      <th>6.2.score</th>\n      <th>I-Aktualität</th>\n      <th>I-Qualität</th>\n    </tr>\n  </thead>\n  <tbody>\n    <tr>\n      <th>0</th>\n      <td>1</td>\n      <td>1</td>\n      <td>Paula</td>\n      <td>1</td>\n      <td>Was sind die Vor- und Nachteile von PHP gegenü...</td>\n      <td>Ohne frühere Programmiererfahrung plant ein ju...</td>\n      <td>https://web.archive.org/web/20220504110310/htt...</td>\n      <td>PHP</td>\n      <td>Python</td>\n      <td>3</td>\n      <td>...</td>\n      <td>2</td>\n      <td>0.666667</td>\n      <td>1.0</td>\n      <td>1.0</td>\n      <td>1.0</td>\n      <td>0.500000</td>\n      <td>2</td>\n      <td>0</td>\n      <td>0.8</td>\n      <td>0.709091</td>\n    </tr>\n    <tr>\n      <th>1</th>\n      <td>1</td>\n      <td>2</td>\n      <td>Paula</td>\n      <td>1</td>\n      <td>Was sind die Vor- und Nachteile von PHP gegenü...</td>\n      <td>Ohne frühere Programmiererfahrung plant ein ju...</td>\n      <td>https://web.archive.org/web/20220504110445/htt...</td>\n      <td>PHP</td>\n      <td>Python</td>\n      <td>3</td>\n      <td>...</td>\n      <td>3</td>\n      <td>1.000000</td>\n      <td>1.0</td>\n      <td>1.0</td>\n      <td>1.0</td>\n      <td>0.500000</td>\n      <td>2</td>\n      <td>0</td>\n      <td>0.8</td>\n      <td>0.830303</td>\n    </tr>\n    <tr>\n      <th>2</th>\n      <td>1</td>\n      <td>3</td>\n      <td>Paula</td>\n      <td>1</td>\n      <td>Was sind die Vor- und Nachteile von PHP gegenü...</td>\n      <td>Ohne frühere Programmiererfahrung plant ein ju...</td>\n      <td>https://web.archive.org/web/20220504110927/htt...</td>\n      <td>PHP</td>\n      <td>Python</td>\n      <td>3</td>\n      <td>...</td>\n      <td>2</td>\n      <td>0.666667</td>\n      <td>1.0</td>\n      <td>1.0</td>\n      <td>1.0</td>\n      <td>0.500000</td>\n      <td>2</td>\n      <td>0</td>\n      <td>0.8</td>\n      <td>0.648485</td>\n    </tr>\n    <tr>\n      <th>3</th>\n      <td>1</td>\n      <td>4</td>\n      <td>Paula</td>\n      <td>1</td>\n      <td>Was sind die Vor- und Nachteile von PHP gegenü...</td>\n      <td>Ohne frühere Programmiererfahrung plant ein ju...</td>\n      <td>https://web.archive.org/web/20220505172700/htt...</td>\n      <td>PHP</td>\n      <td>Python</td>\n      <td>3</td>\n      <td>...</td>\n      <td>1</td>\n      <td>0.333333</td>\n      <td>2.0</td>\n      <td>1.0</td>\n      <td>1.0</td>\n      <td>0.833333</td>\n      <td>1</td>\n      <td>0</td>\n      <td>0.4</td>\n      <td>0.490909</td>\n    </tr>\n    <tr>\n      <th>4</th>\n      <td>10</td>\n      <td>37</td>\n      <td>Sonja</td>\n      <td>1</td>\n      <td>Sollte ich Python oder R zur Datenanalyse lernen?</td>\n      <td>Sie fragen sich, ob Sie Python oder R für die ...</td>\n      <td>https://web.archive.org/web/20220504132031/htt...</td>\n      <td>Python</td>\n      <td>R</td>\n      <td>3</td>\n      <td>...</td>\n      <td>1</td>\n      <td>0.333333</td>\n      <td>1.0</td>\n      <td>2.0</td>\n      <td>1.0</td>\n      <td>0.666667</td>\n      <td>1</td>\n      <td>0</td>\n      <td>0.4</td>\n      <td>0.581818</td>\n    </tr>\n    <tr>\n      <th>...</th>\n      <td>...</td>\n      <td>...</td>\n      <td>...</td>\n      <td>...</td>\n      <td>...</td>\n      <td>...</td>\n      <td>...</td>\n      <td>...</td>\n      <td>...</td>\n      <td>...</td>\n      <td>...</td>\n      <td>...</td>\n      <td>...</td>\n      <td>...</td>\n      <td>...</td>\n      <td>...</td>\n      <td>...</td>\n      <td>...</td>\n      <td>...</td>\n      <td>...</td>\n      <td>...</td>\n    </tr>\n    <tr>\n      <th>115</th>\n      <td>8</td>\n      <td>32</td>\n      <td>10</td>\n      <td>1</td>\n      <td>Welcher Algorithmus ist besser, Quicksort oder...</td>\n      <td>Dies ist eine häufige Frage, die in Data Scien...</td>\n      <td>https://web.archive.org/web/20220516100138/htt...</td>\n      <td>Quicksort</td>\n      <td>Mergesort</td>\n      <td>3</td>\n      <td>...</td>\n      <td>3</td>\n      <td>1.000000</td>\n      <td>2.0</td>\n      <td>2.0</td>\n      <td>1.0</td>\n      <td>1.000000</td>\n      <td>1</td>\n      <td>0</td>\n      <td>0.4</td>\n      <td>0.763636</td>\n    </tr>\n    <tr>\n      <th>116</th>\n      <td>9</td>\n      <td>33</td>\n      <td>Jürgen</td>\n      <td>1</td>\n      <td>Sind Random-Forest-Klassikator besser als deci...</td>\n      <td>Maschinelles Lernen ist ein umfangreiches Fors...</td>\n      <td>https://web.archive.org/web/20220504131404/htt...</td>\n      <td>Ramdom-Forest-Klassikator</td>\n      <td>decision trees</td>\n      <td>3</td>\n      <td>...</td>\n      <td>2</td>\n      <td>0.666667</td>\n      <td>1.0</td>\n      <td>2.0</td>\n      <td>1.0</td>\n      <td>0.666667</td>\n      <td>1</td>\n      <td>0</td>\n      <td>0.4</td>\n      <td>0.703030</td>\n    </tr>\n    <tr>\n      <th>117</th>\n      <td>9</td>\n      <td>34</td>\n      <td>Jürgen</td>\n      <td>1</td>\n      <td>Sind Random-Forest-Klassikator besser als deci...</td>\n      <td>Maschinelles Lernen ist ein umfangreiches Fors...</td>\n      <td>https://web.archive.org/web/20220504131536/htt...</td>\n      <td>Ramdom-Forest-Klassikator</td>\n      <td>decision trees</td>\n      <td>3</td>\n      <td>...</td>\n      <td>0</td>\n      <td>0.000000</td>\n      <td>0.0</td>\n      <td>2.0</td>\n      <td>1.0</td>\n      <td>0.333333</td>\n      <td>2</td>\n      <td>0</td>\n      <td>0.8</td>\n      <td>0.496970</td>\n    </tr>\n    <tr>\n      <th>118</th>\n      <td>9</td>\n      <td>35</td>\n      <td>Jürgen</td>\n      <td>1</td>\n      <td>Sind Random-Forest-Klassikator besser als deci...</td>\n      <td>Maschinelles Lernen ist ein umfangreiches Fors...</td>\n      <td>https://web.archive.org/web/20220504131702/htt...</td>\n      <td>Ramdom-Forest-Klassikator</td>\n      <td>decision trees</td>\n      <td>3</td>\n      <td>...</td>\n      <td>2</td>\n      <td>0.666667</td>\n      <td>1.0</td>\n      <td>1.0</td>\n      <td>1.0</td>\n      <td>0.500000</td>\n      <td>1</td>\n      <td>1</td>\n      <td>0.6</td>\n      <td>0.630303</td>\n    </tr>\n    <tr>\n      <th>119</th>\n      <td>9</td>\n      <td>36</td>\n      <td>Jürgen</td>\n      <td>1</td>\n      <td>Sind Random-Forest-Klassikator besser als deci...</td>\n      <td>Maschinelles Lernen ist ein umfangreiches Fors...</td>\n      <td>https://web.archive.org/web/20220504131753/htt...</td>\n      <td>Ramdom-Forest-Klassikator</td>\n      <td>decision trees</td>\n      <td>3</td>\n      <td>...</td>\n      <td>2</td>\n      <td>0.666667</td>\n      <td>1.0</td>\n      <td>2.0</td>\n      <td>1.0</td>\n      <td>0.666667</td>\n      <td>1</td>\n      <td>0</td>\n      <td>0.4</td>\n      <td>0.763636</td>\n    </tr>\n  </tbody>\n</table>\n<p>120 rows × 61 columns</p>\n</div>"
     },
     "execution_count": 125,
     "metadata": {},
     "output_type": "execute_result"
    }
   ],
   "source": [
    "index_data = analytics_data.copy()\n",
    "index_data[\"I-Haltung\"] = (index_data[\"2.3.1.\"].astype(int).replace(99, nan) - 1) / 2\n",
    "index_data[\"3.2.score\"] = index_data[\"3.2.\"].map(score_umfang)\n",
    "index_data[\"3.3.score\"] = index_data[\"3.3.\"].map(score_sprache)\n",
    "index_data[\"I-Inhalt\"] = (index_data[\"3.3.score\"] + index_data[\"3.2.score\"]) / 6\n",
    "index_data[\"4.2.score\"] = index_data[\"4.2.\"].map(score_lesbarkeit)\n",
    "index_data[\"I-Nutzerfreundlichkeit\"] = (\n",
    "                                               # index_data[\"4.1.3.\"].astype(int)\n",
    "                                               # + index_data[\"4.1.4.\"].astype(int)\n",
    "                                               # + index_data[\"4.1.6.\"].astype(int)\n",
    "                                               # +\n",
    "                                               index_data[\"4.2.score\"]\n",
    "                                       ) / 3#9\n",
    "index_data[\"5.1.score\"] = index_data[\"5.1.\"].map(score_quelle)\n",
    "index_data[\"5.2.score\"] = index_data[\"5.2.\"].map(score_autor)\n",
    "index_data[\"5.3.score\"] = index_data[\"5.3.\"].map(score_wahrheit)\n",
    "index_data[\"I-Glaubwürdigkeit\"] = ((\n",
    "                                           (index_data[\"5.1.score\"] * 2) +\n",
    "                                           index_data[\"5.2.score\"]\n",
    "                                   ) * index_data[\"5.3.score\"]) / 6\n",
    "index_data[\"6.1.score\"] = index_data[\"6.1.\"].map(score_datum)\n",
    "index_data[\"6.2.score\"] = index_data[\"6.2.\"].map(score_updates)\n",
    "index_data[\"I-Aktualität\"] = ((index_data[\"6.1.score\"] * 2) + index_data[\"6.2.score\"]) / 5\n",
    "index_data[\"I-Qualität\"] = (\n",
    "                                   (index_data[\"I-Inhalt\"] * 4) +\n",
    "                                   (index_data[\"I-Nutzerfreundlichkeit\"] * 4) +\n",
    "                                   (index_data[\"I-Glaubwürdigkeit\"] * 2) +\n",
    "                                   index_data[\"I-Aktualität\"]\n",
    "                           ) / 11\n",
    "index_data"
   ],
   "metadata": {
    "collapsed": false,
    "pycharm": {
     "name": "#%%\n"
    }
   }
  },
  {
   "cell_type": "code",
   "execution_count": 126,
   "outputs": [],
   "source": [
    "index_data.to_excel(\"scores.xlsx\")"
   ],
   "metadata": {
    "collapsed": false,
    "pycharm": {
     "name": "#%%\n"
    }
   }
  },
  {
   "cell_type": "code",
   "execution_count": 127,
   "outputs": [],
   "source": [
    "from math import ceil\n",
    "from matplotlib import pyplot as plt\n",
    "\n",
    "\n",
    "def hist(col: str, bins: int):\n",
    "    n, bins, patches = plt.hist(x=index_data[col], bins=bins, color='#0504aa', alpha=0.7, rwidth=0.85)\n",
    "    plt.grid(axis='y', alpha=0.75)\n",
    "    plt.xlabel('Wert')\n",
    "    plt.ylabel('Häufigkeit')\n",
    "    maxfreq = n.max()\n",
    "    # Set a clean upper y-axis limit.\n",
    "    plt.xlim(xmin=0, xmax=1)\n",
    "    plt.ylim(ymax=ceil(maxfreq / 10) * 10 if maxfreq % 10 else maxfreq + 10)\n",
    "    plt.savefig(figures_path / f\"Histogramm_{col}.png\")\n",
    "    plt.savefig(figures_path / f\"Histogramm_{col}.pdf\")"
   ],
   "metadata": {
    "collapsed": false,
    "pycharm": {
     "name": "#%%\n"
    }
   }
  },
  {
   "cell_type": "code",
   "execution_count": 128,
   "outputs": [
    {
     "data": {
      "text/plain": "<Figure size 432x288 with 1 Axes>",
      "image/png": "[encoded data removed]"
     },
     "metadata": {
      "needs_background": "light"
     },
     "output_type": "display_data"
    }
   ],
   "source": [
    "hist(\"I-Haltung\", 3)"
   ],
   "metadata": {
    "collapsed": false,
    "pycharm": {
     "name": "#%%\n"
    }
   }
  },
  {
   "cell_type": "code",
   "execution_count": 132,
   "outputs": [
    {
     "data": {
      "text/plain": "<Figure size 432x288 with 1 Axes>",
      "image/png": "[encoded data removed]"
     },
     "metadata": {
      "needs_background": "light"
     },
     "output_type": "display_data"
    }
   ],
   "source": [
    "hist(\"I-Inhalt\", 6)"
   ],
   "metadata": {
    "collapsed": false,
    "pycharm": {
     "name": "#%%\n"
    }
   }
  },
  {
   "cell_type": "code",
   "execution_count": 133,
   "outputs": [
    {
     "data": {
      "text/plain": "<Figure size 432x288 with 1 Axes>",
      "image/png": "[encoded data removed]"
     },
     "metadata": {
      "needs_background": "light"
     },
     "output_type": "display_data"
    }
   ],
   "source": [
    "hist(\"I-Nutzerfreundlichkeit\", 4)"
   ],
   "metadata": {
    "collapsed": false,
    "pycharm": {
     "name": "#%%\n"
    }
   }
  },
  {
   "cell_type": "code",
   "execution_count": 134,
   "outputs": [
    {
     "data": {
      "text/plain": "<Figure size 432x288 with 1 Axes>",
      "image/png": "[encoded data removed]"
     },
     "metadata": {
      "needs_background": "light"
     },
     "output_type": "display_data"
    }
   ],
   "source": [
    "hist(\"I-Glaubwürdigkeit\", 3)"
   ],
   "metadata": {
    "collapsed": false,
    "pycharm": {
     "name": "#%%\n"
    }
   }
  },
  {
   "cell_type": "code",
   "execution_count": 135,
   "outputs": [
    {
     "data": {
      "text/plain": "<Figure size 432x288 with 1 Axes>",
      "image/png": "[encoded data removed]"
     },
     "metadata": {
      "needs_background": "light"
     },
     "output_type": "display_data"
    }
   ],
   "source": [
    "hist(\"I-Aktualität\", 3)"
   ],
   "metadata": {
    "collapsed": false,
    "pycharm": {
     "name": "#%%\n"
    }
   }
  },
  {
   "cell_type": "code",
   "execution_count": 136,
   "outputs": [
    {
     "data": {
      "text/plain": "<Figure size 432x288 with 1 Axes>",
      "image/png": "[encoded data removed]"
     },
     "metadata": {
      "needs_background": "light"
     },
     "output_type": "display_data"
    }
   ],
   "source": [
    "hist(\"I-Qualität\", 10)"
   ],
   "metadata": {
    "collapsed": false,
    "pycharm": {
     "name": "#%%\n"
    }
   }
  },
  {
   "cell_type": "code",
   "execution_count": 137,
   "outputs": [],
   "source": [
    "index_data[\"7.1.\"] = index_data[\"7.1.\"].astype(int)"
   ],
   "metadata": {
    "collapsed": false,
    "pycharm": {
     "name": "#%%\n"
    }
   }
  },
  {
   "cell_type": "code",
   "execution_count": 138,
   "outputs": [
    {
     "data": {
      "text/plain": "                       Haltung    Inhalt  Nutzerfreundlichkeit  \\\nHaltung               1.000000  0.107353              0.020901   \nInhalt                0.107353  1.000000              0.330653   \nNutzerfreundlichkeit  0.020901  0.330653              1.000000   \nGlaubwürdigkeit       0.026214  0.204643              0.399852   \nAktualität           -0.097015 -0.016682              0.012586   \nQualität              0.091198  0.733503              0.551732   \nRelevanz              0.266249  0.525284              0.087952   \n\n                      Glaubwürdigkeit  Aktualität  Qualität  Relevanz  \nHaltung                      0.026214   -0.097015  0.091198  0.266249  \nInhalt                       0.204643   -0.016682  0.733503  0.525284  \nNutzerfreundlichkeit         0.399852    0.012586  0.551732  0.087952  \nGlaubwürdigkeit              1.000000    0.078235  0.622604  0.008311  \nAktualität                   0.078235    1.000000  0.080983 -0.001996  \nQualität                     0.622604    0.080983  1.000000  0.319391  \nRelevanz                     0.008311   -0.001996  0.319391  1.000000  ",
      "text/html": "<div>\n<style scoped>\n    .dataframe tbody tr th:only-of-type {\n        vertical-align: middle;\n    }\n\n    .dataframe tbody tr th {\n        vertical-align: top;\n    }\n\n    .dataframe thead th {\n        text-align: right;\n    }\n</style>\n<table border=\"1\" class=\"dataframe\">\n  <thead>\n    <tr style=\"text-align: right;\">\n      <th></th>\n      <th>Haltung</th>\n      <th>Inhalt</th>\n      <th>Nutzerfreundlichkeit</th>\n      <th>Glaubwürdigkeit</th>\n      <th>Aktualität</th>\n      <th>Qualität</th>\n      <th>Relevanz</th>\n    </tr>\n  </thead>\n  <tbody>\n    <tr>\n      <th>Haltung</th>\n      <td>1.000000</td>\n      <td>0.107353</td>\n      <td>0.020901</td>\n      <td>0.026214</td>\n      <td>-0.097015</td>\n      <td>0.091198</td>\n      <td>0.266249</td>\n    </tr>\n    <tr>\n      <th>Inhalt</th>\n      <td>0.107353</td>\n      <td>1.000000</td>\n      <td>0.330653</td>\n      <td>0.204643</td>\n      <td>-0.016682</td>\n      <td>0.733503</td>\n      <td>0.525284</td>\n    </tr>\n    <tr>\n      <th>Nutzerfreundlichkeit</th>\n      <td>0.020901</td>\n      <td>0.330653</td>\n      <td>1.000000</td>\n      <td>0.399852</td>\n      <td>0.012586</td>\n      <td>0.551732</td>\n      <td>0.087952</td>\n    </tr>\n    <tr>\n      <th>Glaubwürdigkeit</th>\n      <td>0.026214</td>\n      <td>0.204643</td>\n      <td>0.399852</td>\n      <td>1.000000</td>\n      <td>0.078235</td>\n      <td>0.622604</td>\n      <td>0.008311</td>\n    </tr>\n    <tr>\n      <th>Aktualität</th>\n      <td>-0.097015</td>\n      <td>-0.016682</td>\n      <td>0.012586</td>\n      <td>0.078235</td>\n      <td>1.000000</td>\n      <td>0.080983</td>\n      <td>-0.001996</td>\n    </tr>\n    <tr>\n      <th>Qualität</th>\n      <td>0.091198</td>\n      <td>0.733503</td>\n      <td>0.551732</td>\n      <td>0.622604</td>\n      <td>0.080983</td>\n      <td>1.000000</td>\n      <td>0.319391</td>\n    </tr>\n    <tr>\n      <th>Relevanz</th>\n      <td>0.266249</td>\n      <td>0.525284</td>\n      <td>0.087952</td>\n      <td>0.008311</td>\n      <td>-0.001996</td>\n      <td>0.319391</td>\n      <td>1.000000</td>\n    </tr>\n  </tbody>\n</table>\n</div>"
     },
     "execution_count": 138,
     "metadata": {},
     "output_type": "execute_result"
    }
   ],
   "source": [
    "from seaborn import heatmap\n",
    "\n",
    "corr_data = DataFrame()\n",
    "corr_data[[\n",
    "    \"Haltung\",\n",
    "    \"Inhalt\",\n",
    "    \"Nutzerfreundlichkeit\",\n",
    "    \"Glaubwürdigkeit\",\n",
    "    \"Aktualität\",\n",
    "    \"Qualität\",\n",
    "    \"Relevanz\"\n",
    "]] = index_data[[\n",
    "    \"I-Haltung\",\n",
    "    \"I-Inhalt\",\n",
    "    \"I-Nutzerfreundlichkeit\",\n",
    "    \"I-Glaubwürdigkeit\",\n",
    "    \"I-Aktualität\",\n",
    "    \"I-Qualität\",\n",
    "    \"7.1.\"\n",
    "]]\n",
    "corr_data = corr_data.fillna(0)\n",
    "corr = corr_data.corr()\n",
    "corr"
   ],
   "metadata": {
    "collapsed": false,
    "pycharm": {
     "name": "#%%\n"
    }
   }
  },
  {
   "cell_type": "code",
   "execution_count": 139,
   "outputs": [
    {
     "data": {
      "text/plain": "<Figure size 432x288 with 2 Axes>",
      "image/png": "[encoded data removed]"
     },
     "metadata": {
      "needs_background": "light"
     },
     "output_type": "display_data"
    }
   ],
   "source": [
    "heatmap(corr)\n",
    "plt.savefig(figures_path / \"Qualität_Korrelation.png\")\n",
    "plt.savefig(figures_path / \"Qualität_Korrelation.pdf\")"
   ],
   "metadata": {
    "collapsed": false,
    "pycharm": {
     "name": "#%%\n"
    }
   }
  },
  {
   "cell_type": "code",
   "execution_count": 140,
   "outputs": [
    {
     "data": {
      "text/plain": "              7.1.  I-Haltung  3.2.score  3.3.score  I-Inhalt  4.2.score  \\\nHintergrund                                                                \n1            0.650   0.203704   1.941176   1.514286  0.580808      1.475   \n2            0.350   0.250000   1.473684   1.200000  0.439394      1.775   \n3            0.675   0.264706   1.950000   1.450000  0.566667      1.950   \n\n             I-Nutzerfreundlichkeit  5.1.score  5.2.score  5.3.score  \\\nHintergrund                                                            \n1                          0.491667   0.692308   1.175000     0.9500   \n2                          0.591667   1.277778   1.050000     0.9250   \n3                          0.650000   1.051282   1.025641     0.8875   \n\n             I-Glaubwürdigkeit  6.1.score  6.2.score  I-Aktualität  I-Qualität  \nHintergrund                                                                     \n1                     0.418803      1.225      0.225         0.535    0.515530  \n2                     0.557870      1.475      0.175         0.625    0.545943  \n3                     0.480263      1.175      0.275         0.525    0.574242  ",
      "text/html": "<div>\n<style scoped>\n    .dataframe tbody tr th:only-of-type {\n        vertical-align: middle;\n    }\n\n    .dataframe tbody tr th {\n        vertical-align: top;\n    }\n\n    .dataframe thead th {\n        text-align: right;\n    }\n</style>\n<table border=\"1\" class=\"dataframe\">\n  <thead>\n    <tr style=\"text-align: right;\">\n      <th></th>\n      <th>7.1.</th>\n      <th>I-Haltung</th>\n      <th>3.2.score</th>\n      <th>3.3.score</th>\n      <th>I-Inhalt</th>\n      <th>4.2.score</th>\n      <th>I-Nutzerfreundlichkeit</th>\n      <th>5.1.score</th>\n      <th>5.2.score</th>\n      <th>5.3.score</th>\n      <th>I-Glaubwürdigkeit</th>\n      <th>6.1.score</th>\n      <th>6.2.score</th>\n      <th>I-Aktualität</th>\n      <th>I-Qualität</th>\n    </tr>\n    <tr>\n      <th>Hintergrund</th>\n      <th></th>\n      <th></th>\n      <th></th>\n      <th></th>\n      <th></th>\n      <th></th>\n      <th></th>\n      <th></th>\n      <th></th>\n      <th></th>\n      <th></th>\n      <th></th>\n      <th></th>\n      <th></th>\n      <th></th>\n    </tr>\n  </thead>\n  <tbody>\n    <tr>\n      <th>1</th>\n      <td>0.650</td>\n      <td>0.203704</td>\n      <td>1.941176</td>\n      <td>1.514286</td>\n      <td>0.580808</td>\n      <td>1.475</td>\n      <td>0.491667</td>\n      <td>0.692308</td>\n      <td>1.175000</td>\n      <td>0.9500</td>\n      <td>0.418803</td>\n      <td>1.225</td>\n      <td>0.225</td>\n      <td>0.535</td>\n      <td>0.515530</td>\n    </tr>\n    <tr>\n      <th>2</th>\n      <td>0.350</td>\n      <td>0.250000</td>\n      <td>1.473684</td>\n      <td>1.200000</td>\n      <td>0.439394</td>\n      <td>1.775</td>\n      <td>0.591667</td>\n      <td>1.277778</td>\n      <td>1.050000</td>\n      <td>0.9250</td>\n      <td>0.557870</td>\n      <td>1.475</td>\n      <td>0.175</td>\n      <td>0.625</td>\n      <td>0.545943</td>\n    </tr>\n    <tr>\n      <th>3</th>\n      <td>0.675</td>\n      <td>0.264706</td>\n      <td>1.950000</td>\n      <td>1.450000</td>\n      <td>0.566667</td>\n      <td>1.950</td>\n      <td>0.650000</td>\n      <td>1.051282</td>\n      <td>1.025641</td>\n      <td>0.8875</td>\n      <td>0.480263</td>\n      <td>1.175</td>\n      <td>0.275</td>\n      <td>0.525</td>\n      <td>0.574242</td>\n    </tr>\n  </tbody>\n</table>\n</div>"
     },
     "execution_count": 140,
     "metadata": {},
     "output_type": "execute_result"
    }
   ],
   "source": [
    "index_data.groupby(\"Hintergrund\").aggregate(\"mean\")"
   ],
   "metadata": {
    "collapsed": false,
    "pycharm": {
     "name": "#%%\n"
    }
   }
  },
  {
   "cell_type": "code",
   "execution_count": 141,
   "outputs": [
    {
     "data": {
      "text/plain": "      7.1.  I-Haltung  3.2.score  3.3.score  I-Inhalt  4.2.score  \\\n1.1.                                                               \n1     1.00   0.250000       2.50   1.750000  0.708333       2.00   \n10    0.75   0.125000       2.75   1.750000  0.750000       1.00   \n11    0.25   0.250000       0.75   1.000000  0.291667       1.50   \n12    0.25   0.000000       1.25   2.000000  0.555556       2.00   \n13    0.50   0.500000       1.25   0.666667  0.333333       1.50   \n14    0.50   0.375000       2.50   1.666667  0.666667       1.75   \n15    0.75   0.250000       1.75   1.250000  0.500000       2.25   \n16    0.00   0.250000       1.00   1.500000  0.416667       3.00   \n17    0.25   0.250000       2.25   1.250000  0.583333       2.25   \n18    0.75   0.000000       2.25   1.666667  0.611111       1.50   \n19    0.25   0.000000       0.25   0.666667  0.166667       1.25   \n2     1.00   0.166667       1.50   1.000000  0.416667       1.50   \n20    0.00   0.125000       1.25   0.500000  0.291667       0.75   \n21    1.00   0.125000       3.25   1.000000  0.708333       2.00   \n22    0.75   0.500000       2.00   1.500000  0.583333       1.75   \n23    1.00   0.000000       1.75   1.750000  0.583333       2.00   \n24    0.75   0.250000       2.25   1.500000  0.625000       2.25   \n25    0.50   0.375000       3.00   1.500000  0.750000       1.75   \n26    0.25   0.125000       1.50   1.500000  0.500000       2.50   \n27    1.00   0.500000       2.50   1.000000  0.583333       3.00   \n28    0.75        NaN       1.00   1.250000  0.375000       1.00   \n29    0.50   0.500000       1.50   1.500000  0.500000       1.00   \n3     0.75   0.250000       0.75   1.333333  0.388889       0.50   \n30    0.25   0.000000       0.75   2.000000  0.458333       2.25   \n4     0.25   0.500000       1.25   1.000000  0.375000       0.75   \n5     0.75   0.125000       1.25   1.250000  0.416667       1.75   \n6     0.00   0.166667       2.00   2.000000  0.666667       3.00   \n7     0.00        NaN        NaN        NaN       NaN       1.00   \n8     1.00   0.000000       2.25   1.500000  0.625000       1.75   \n9     1.00   0.500000       3.25   2.000000  0.875000       1.50   \n\n      I-Nutzerfreundlichkeit  5.1.score  5.2.score  5.3.score  \\\n1.1.                                                            \n1                   0.666667   1.250000       1.00      1.000   \n10                  0.333333   0.250000       1.75      0.875   \n11                  0.500000   1.750000       1.00      1.000   \n12                  0.666667   1.250000       1.00      1.000   \n13                  0.500000   1.000000       1.00      1.000   \n14                  0.583333   1.333333       1.25      0.875   \n15                  0.750000   1.750000       1.00      0.500   \n16                  1.000000   1.333333       1.25      1.000   \n17                  0.750000   2.000000       1.00      1.000   \n18                  0.500000   1.500000       1.00      1.000   \n19                  0.416667   0.500000       1.00      0.875   \n2                   0.500000   1.000000       1.00      1.000   \n20                  0.250000   0.500000       1.00      1.000   \n21                  0.666667   0.750000       1.00      1.000   \n22                  0.583333   1.250000       1.00      1.000   \n23                  0.666667   2.000000       1.00      1.000   \n24                  0.750000   1.000000       1.25      0.875   \n25                  0.583333   1.250000       1.00      0.500   \n26                  0.833333   0.500000       1.00      1.000   \n27                  1.000000   1.666667       1.00      1.000   \n28                  0.333333   0.000000       1.00      0.500   \n29                  0.333333   1.000000       1.00      1.000   \n3                   0.166667   0.500000       1.00      0.875   \n30                  0.750000   1.250000       1.00      1.000   \n4                   0.250000   0.500000       1.00      0.750   \n5                   0.583333   1.333333       0.75      1.000   \n6                   1.000000   1.000000       1.00      1.000   \n7                   0.333333   0.000000       1.00      1.000   \n8                   0.583333   0.500000       1.50      1.000   \n9                   0.500000   0.750000       1.75      1.000   \n\n      I-Glaubwürdigkeit  6.1.score  6.2.score  I-Aktualität  I-Qualität  \n1.1.                                                                     \n1              0.583333       1.75       0.00          0.70    0.669697  \n10             0.354167       1.25       0.00          0.50    0.503788  \n11             0.750000       1.00       0.25          0.45    0.465152  \n12             0.583333       1.25       0.00          0.50    0.664646  \n13             0.500000       2.00       0.25          0.85    0.507071  \n14             0.666667       1.25       0.25          0.55    0.688889  \n15             0.375000       2.00       0.25          0.85    0.600000  \n16             0.666667       1.75       0.00          0.70    0.824242  \n17             0.833333       1.75       0.00          0.70    0.700000  \n18             0.666667       1.25       0.00          0.50    0.600000  \n19             0.312500       1.00       0.75          0.55    0.336364  \n2              0.500000       1.75       0.00          0.70    0.487879  \n20             0.333333       1.50       0.00          0.60    0.312121  \n21             0.416667       1.25       0.75          0.65    0.634848  \n22             0.583333       1.25       0.50          0.60    0.584848  \n23             0.833333       2.00       0.50          0.90    0.687879  \n24             0.520833       0.50       0.25          0.25    0.617424  \n25             0.291667       1.50       0.00          0.60    0.592424  \n26             0.333333       1.00       0.00          0.40    0.581818  \n27             0.722222       0.50       0.00          0.20    0.761616  \n28             0.083333       1.00       0.75          0.55    0.322727  \n29             0.500000       0.75       0.00          0.30    0.421212  \n3              0.312500       0.75       1.00          0.50    0.289899  \n30             0.611111       2.00       0.00          0.80    0.587879  \n4              0.291667       1.00       0.00          0.40    0.316667  \n5              0.555556       1.50       0.50          0.70    0.470707  \n6              0.500000       1.00       0.25          0.45    0.742424  \n7              0.166667       1.00       0.00          0.40         NaN  \n8              0.416667       1.00       0.25          0.45    0.556061  \n9              0.541667       1.25       0.25          0.55    0.648485  ",
      "text/html": "<div>\n<style scoped>\n    .dataframe tbody tr th:only-of-type {\n        vertical-align: middle;\n    }\n\n    .dataframe tbody tr th {\n        vertical-align: top;\n    }\n\n    .dataframe thead th {\n        text-align: right;\n    }\n</style>\n<table border=\"1\" class=\"dataframe\">\n  <thead>\n    <tr style=\"text-align: right;\">\n      <th></th>\n      <th>7.1.</th>\n      <th>I-Haltung</th>\n      <th>3.2.score</th>\n      <th>3.3.score</th>\n      <th>I-Inhalt</th>\n      <th>4.2.score</th>\n      <th>I-Nutzerfreundlichkeit</th>\n      <th>5.1.score</th>\n      <th>5.2.score</th>\n      <th>5.3.score</th>\n      <th>I-Glaubwürdigkeit</th>\n      <th>6.1.score</th>\n      <th>6.2.score</th>\n      <th>I-Aktualität</th>\n      <th>I-Qualität</th>\n    </tr>\n    <tr>\n      <th>1.1.</th>\n      <th></th>\n      <th></th>\n      <th></th>\n      <th></th>\n      <th></th>\n      <th></th>\n      <th></th>\n      <th></th>\n      <th></th>\n      <th></th>\n      <th></th>\n      <th></th>\n      <th></th>\n      <th></th>\n      <th></th>\n    </tr>\n  </thead>\n  <tbody>\n    <tr>\n      <th>1</th>\n      <td>1.00</td>\n      <td>0.250000</td>\n      <td>2.50</td>\n      <td>1.750000</td>\n      <td>0.708333</td>\n      <td>2.00</td>\n      <td>0.666667</td>\n      <td>1.250000</td>\n      <td>1.00</td>\n      <td>1.000</td>\n      <td>0.583333</td>\n      <td>1.75</td>\n      <td>0.00</td>\n      <td>0.70</td>\n      <td>0.669697</td>\n    </tr>\n    <tr>\n      <th>10</th>\n      <td>0.75</td>\n      <td>0.125000</td>\n      <td>2.75</td>\n      <td>1.750000</td>\n      <td>0.750000</td>\n      <td>1.00</td>\n      <td>0.333333</td>\n      <td>0.250000</td>\n      <td>1.75</td>\n      <td>0.875</td>\n      <td>0.354167</td>\n      <td>1.25</td>\n      <td>0.00</td>\n      <td>0.50</td>\n      <td>0.503788</td>\n    </tr>\n    <tr>\n      <th>11</th>\n      <td>0.25</td>\n      <td>0.250000</td>\n      <td>0.75</td>\n      <td>1.000000</td>\n      <td>0.291667</td>\n      <td>1.50</td>\n      <td>0.500000</td>\n      <td>1.750000</td>\n      <td>1.00</td>\n      <td>1.000</td>\n      <td>0.750000</td>\n      <td>1.00</td>\n      <td>0.25</td>\n      <td>0.45</td>\n      <td>0.465152</td>\n    </tr>\n    <tr>\n      <th>12</th>\n      <td>0.25</td>\n      <td>0.000000</td>\n      <td>1.25</td>\n      <td>2.000000</td>\n      <td>0.555556</td>\n      <td>2.00</td>\n      <td>0.666667</td>\n      <td>1.250000</td>\n      <td>1.00</td>\n      <td>1.000</td>\n      <td>0.583333</td>\n      <td>1.25</td>\n      <td>0.00</td>\n      <td>0.50</td>\n      <td>0.664646</td>\n    </tr>\n    <tr>\n      <th>13</th>\n      <td>0.50</td>\n      <td>0.500000</td>\n      <td>1.25</td>\n      <td>0.666667</td>\n      <td>0.333333</td>\n      <td>1.50</td>\n      <td>0.500000</td>\n      <td>1.000000</td>\n      <td>1.00</td>\n      <td>1.000</td>\n      <td>0.500000</td>\n      <td>2.00</td>\n      <td>0.25</td>\n      <td>0.85</td>\n      <td>0.507071</td>\n    </tr>\n    <tr>\n      <th>14</th>\n      <td>0.50</td>\n      <td>0.375000</td>\n      <td>2.50</td>\n      <td>1.666667</td>\n      <td>0.666667</td>\n      <td>1.75</td>\n      <td>0.583333</td>\n      <td>1.333333</td>\n      <td>1.25</td>\n      <td>0.875</td>\n      <td>0.666667</td>\n      <td>1.25</td>\n      <td>0.25</td>\n      <td>0.55</td>\n      <td>0.688889</td>\n    </tr>\n    <tr>\n      <th>15</th>\n      <td>0.75</td>\n      <td>0.250000</td>\n      <td>1.75</td>\n      <td>1.250000</td>\n      <td>0.500000</td>\n      <td>2.25</td>\n      <td>0.750000</td>\n      <td>1.750000</td>\n      <td>1.00</td>\n      <td>0.500</td>\n      <td>0.375000</td>\n      <td>2.00</td>\n      <td>0.25</td>\n      <td>0.85</td>\n      <td>0.600000</td>\n    </tr>\n    <tr>\n      <th>16</th>\n      <td>0.00</td>\n      <td>0.250000</td>\n      <td>1.00</td>\n      <td>1.500000</td>\n      <td>0.416667</td>\n      <td>3.00</td>\n      <td>1.000000</td>\n      <td>1.333333</td>\n      <td>1.25</td>\n      <td>1.000</td>\n      <td>0.666667</td>\n      <td>1.75</td>\n      <td>0.00</td>\n      <td>0.70</td>\n      <td>0.824242</td>\n    </tr>\n    <tr>\n      <th>17</th>\n      <td>0.25</td>\n      <td>0.250000</td>\n      <td>2.25</td>\n      <td>1.250000</td>\n      <td>0.583333</td>\n      <td>2.25</td>\n      <td>0.750000</td>\n      <td>2.000000</td>\n      <td>1.00</td>\n      <td>1.000</td>\n      <td>0.833333</td>\n      <td>1.75</td>\n      <td>0.00</td>\n      <td>0.70</td>\n      <td>0.700000</td>\n    </tr>\n    <tr>\n      <th>18</th>\n      <td>0.75</td>\n      <td>0.000000</td>\n      <td>2.25</td>\n      <td>1.666667</td>\n      <td>0.611111</td>\n      <td>1.50</td>\n      <td>0.500000</td>\n      <td>1.500000</td>\n      <td>1.00</td>\n      <td>1.000</td>\n      <td>0.666667</td>\n      <td>1.25</td>\n      <td>0.00</td>\n      <td>0.50</td>\n      <td>0.600000</td>\n    </tr>\n    <tr>\n      <th>19</th>\n      <td>0.25</td>\n      <td>0.000000</td>\n      <td>0.25</td>\n      <td>0.666667</td>\n      <td>0.166667</td>\n      <td>1.25</td>\n      <td>0.416667</td>\n      <td>0.500000</td>\n      <td>1.00</td>\n      <td>0.875</td>\n      <td>0.312500</td>\n      <td>1.00</td>\n      <td>0.75</td>\n      <td>0.55</td>\n      <td>0.336364</td>\n    </tr>\n    <tr>\n      <th>2</th>\n      <td>1.00</td>\n      <td>0.166667</td>\n      <td>1.50</td>\n      <td>1.000000</td>\n      <td>0.416667</td>\n      <td>1.50</td>\n      <td>0.500000</td>\n      <td>1.000000</td>\n      <td>1.00</td>\n      <td>1.000</td>\n      <td>0.500000</td>\n      <td>1.75</td>\n      <td>0.00</td>\n      <td>0.70</td>\n      <td>0.487879</td>\n    </tr>\n    <tr>\n      <th>20</th>\n      <td>0.00</td>\n      <td>0.125000</td>\n      <td>1.25</td>\n      <td>0.500000</td>\n      <td>0.291667</td>\n      <td>0.75</td>\n      <td>0.250000</td>\n      <td>0.500000</td>\n      <td>1.00</td>\n      <td>1.000</td>\n      <td>0.333333</td>\n      <td>1.50</td>\n      <td>0.00</td>\n      <td>0.60</td>\n      <td>0.312121</td>\n    </tr>\n    <tr>\n      <th>21</th>\n      <td>1.00</td>\n      <td>0.125000</td>\n      <td>3.25</td>\n      <td>1.000000</td>\n      <td>0.708333</td>\n      <td>2.00</td>\n      <td>0.666667</td>\n      <td>0.750000</td>\n      <td>1.00</td>\n      <td>1.000</td>\n      <td>0.416667</td>\n      <td>1.25</td>\n      <td>0.75</td>\n      <td>0.65</td>\n      <td>0.634848</td>\n    </tr>\n    <tr>\n      <th>22</th>\n      <td>0.75</td>\n      <td>0.500000</td>\n      <td>2.00</td>\n      <td>1.500000</td>\n      <td>0.583333</td>\n      <td>1.75</td>\n      <td>0.583333</td>\n      <td>1.250000</td>\n      <td>1.00</td>\n      <td>1.000</td>\n      <td>0.583333</td>\n      <td>1.25</td>\n      <td>0.50</td>\n      <td>0.60</td>\n      <td>0.584848</td>\n    </tr>\n    <tr>\n      <th>23</th>\n      <td>1.00</td>\n      <td>0.000000</td>\n      <td>1.75</td>\n      <td>1.750000</td>\n      <td>0.583333</td>\n      <td>2.00</td>\n      <td>0.666667</td>\n      <td>2.000000</td>\n      <td>1.00</td>\n      <td>1.000</td>\n      <td>0.833333</td>\n      <td>2.00</td>\n      <td>0.50</td>\n      <td>0.90</td>\n      <td>0.687879</td>\n    </tr>\n    <tr>\n      <th>24</th>\n      <td>0.75</td>\n      <td>0.250000</td>\n      <td>2.25</td>\n      <td>1.500000</td>\n      <td>0.625000</td>\n      <td>2.25</td>\n      <td>0.750000</td>\n      <td>1.000000</td>\n      <td>1.25</td>\n      <td>0.875</td>\n      <td>0.520833</td>\n      <td>0.50</td>\n      <td>0.25</td>\n      <td>0.25</td>\n      <td>0.617424</td>\n    </tr>\n    <tr>\n      <th>25</th>\n      <td>0.50</td>\n      <td>0.375000</td>\n      <td>3.00</td>\n      <td>1.500000</td>\n      <td>0.750000</td>\n      <td>1.75</td>\n      <td>0.583333</td>\n      <td>1.250000</td>\n      <td>1.00</td>\n      <td>0.500</td>\n      <td>0.291667</td>\n      <td>1.50</td>\n      <td>0.00</td>\n      <td>0.60</td>\n      <td>0.592424</td>\n    </tr>\n    <tr>\n      <th>26</th>\n      <td>0.25</td>\n      <td>0.125000</td>\n      <td>1.50</td>\n      <td>1.500000</td>\n      <td>0.500000</td>\n      <td>2.50</td>\n      <td>0.833333</td>\n      <td>0.500000</td>\n      <td>1.00</td>\n      <td>1.000</td>\n      <td>0.333333</td>\n      <td>1.00</td>\n      <td>0.00</td>\n      <td>0.40</td>\n      <td>0.581818</td>\n    </tr>\n    <tr>\n      <th>27</th>\n      <td>1.00</td>\n      <td>0.500000</td>\n      <td>2.50</td>\n      <td>1.000000</td>\n      <td>0.583333</td>\n      <td>3.00</td>\n      <td>1.000000</td>\n      <td>1.666667</td>\n      <td>1.00</td>\n      <td>1.000</td>\n      <td>0.722222</td>\n      <td>0.50</td>\n      <td>0.00</td>\n      <td>0.20</td>\n      <td>0.761616</td>\n    </tr>\n    <tr>\n      <th>28</th>\n      <td>0.75</td>\n      <td>NaN</td>\n      <td>1.00</td>\n      <td>1.250000</td>\n      <td>0.375000</td>\n      <td>1.00</td>\n      <td>0.333333</td>\n      <td>0.000000</td>\n      <td>1.00</td>\n      <td>0.500</td>\n      <td>0.083333</td>\n      <td>1.00</td>\n      <td>0.75</td>\n      <td>0.55</td>\n      <td>0.322727</td>\n    </tr>\n    <tr>\n      <th>29</th>\n      <td>0.50</td>\n      <td>0.500000</td>\n      <td>1.50</td>\n      <td>1.500000</td>\n      <td>0.500000</td>\n      <td>1.00</td>\n      <td>0.333333</td>\n      <td>1.000000</td>\n      <td>1.00</td>\n      <td>1.000</td>\n      <td>0.500000</td>\n      <td>0.75</td>\n      <td>0.00</td>\n      <td>0.30</td>\n      <td>0.421212</td>\n    </tr>\n    <tr>\n      <th>3</th>\n      <td>0.75</td>\n      <td>0.250000</td>\n      <td>0.75</td>\n      <td>1.333333</td>\n      <td>0.388889</td>\n      <td>0.50</td>\n      <td>0.166667</td>\n      <td>0.500000</td>\n      <td>1.00</td>\n      <td>0.875</td>\n      <td>0.312500</td>\n      <td>0.75</td>\n      <td>1.00</td>\n      <td>0.50</td>\n      <td>0.289899</td>\n    </tr>\n    <tr>\n      <th>30</th>\n      <td>0.25</td>\n      <td>0.000000</td>\n      <td>0.75</td>\n      <td>2.000000</td>\n      <td>0.458333</td>\n      <td>2.25</td>\n      <td>0.750000</td>\n      <td>1.250000</td>\n      <td>1.00</td>\n      <td>1.000</td>\n      <td>0.611111</td>\n      <td>2.00</td>\n      <td>0.00</td>\n      <td>0.80</td>\n      <td>0.587879</td>\n    </tr>\n    <tr>\n      <th>4</th>\n      <td>0.25</td>\n      <td>0.500000</td>\n      <td>1.25</td>\n      <td>1.000000</td>\n      <td>0.375000</td>\n      <td>0.75</td>\n      <td>0.250000</td>\n      <td>0.500000</td>\n      <td>1.00</td>\n      <td>0.750</td>\n      <td>0.291667</td>\n      <td>1.00</td>\n      <td>0.00</td>\n      <td>0.40</td>\n      <td>0.316667</td>\n    </tr>\n    <tr>\n      <th>5</th>\n      <td>0.75</td>\n      <td>0.125000</td>\n      <td>1.25</td>\n      <td>1.250000</td>\n      <td>0.416667</td>\n      <td>1.75</td>\n      <td>0.583333</td>\n      <td>1.333333</td>\n      <td>0.75</td>\n      <td>1.000</td>\n      <td>0.555556</td>\n      <td>1.50</td>\n      <td>0.50</td>\n      <td>0.70</td>\n      <td>0.470707</td>\n    </tr>\n    <tr>\n      <th>6</th>\n      <td>0.00</td>\n      <td>0.166667</td>\n      <td>2.00</td>\n      <td>2.000000</td>\n      <td>0.666667</td>\n      <td>3.00</td>\n      <td>1.000000</td>\n      <td>1.000000</td>\n      <td>1.00</td>\n      <td>1.000</td>\n      <td>0.500000</td>\n      <td>1.00</td>\n      <td>0.25</td>\n      <td>0.45</td>\n      <td>0.742424</td>\n    </tr>\n    <tr>\n      <th>7</th>\n      <td>0.00</td>\n      <td>NaN</td>\n      <td>NaN</td>\n      <td>NaN</td>\n      <td>NaN</td>\n      <td>1.00</td>\n      <td>0.333333</td>\n      <td>0.000000</td>\n      <td>1.00</td>\n      <td>1.000</td>\n      <td>0.166667</td>\n      <td>1.00</td>\n      <td>0.00</td>\n      <td>0.40</td>\n      <td>NaN</td>\n    </tr>\n    <tr>\n      <th>8</th>\n      <td>1.00</td>\n      <td>0.000000</td>\n      <td>2.25</td>\n      <td>1.500000</td>\n      <td>0.625000</td>\n      <td>1.75</td>\n      <td>0.583333</td>\n      <td>0.500000</td>\n      <td>1.50</td>\n      <td>1.000</td>\n      <td>0.416667</td>\n      <td>1.00</td>\n      <td>0.25</td>\n      <td>0.45</td>\n      <td>0.556061</td>\n    </tr>\n    <tr>\n      <th>9</th>\n      <td>1.00</td>\n      <td>0.500000</td>\n      <td>3.25</td>\n      <td>2.000000</td>\n      <td>0.875000</td>\n      <td>1.50</td>\n      <td>0.500000</td>\n      <td>0.750000</td>\n      <td>1.75</td>\n      <td>1.000</td>\n      <td>0.541667</td>\n      <td>1.25</td>\n      <td>0.25</td>\n      <td>0.55</td>\n      <td>0.648485</td>\n    </tr>\n  </tbody>\n</table>\n</div>"
     },
     "execution_count": 141,
     "metadata": {},
     "output_type": "execute_result"
    }
   ],
   "source": [
    "index_data.groupby(\"1.1.\").aggregate(\"mean\")  #[[\"I-Haltung\", \"I-Qualität\"]]"
   ],
   "metadata": {
    "collapsed": false,
    "pycharm": {
     "name": "#%%\n"
    }
   }
  },
  {
   "cell_type": "code",
   "execution_count": 142,
   "outputs": [
    {
     "data": {
      "text/plain": "               7.1.  I-Haltung  3.2.score  3.3.score  I-Inhalt  4.2.score  \\\nCodierer                                                                    \n10         0.687500   0.000000   1.437500   1.285714  0.452381   1.375000   \nAndi       0.666667   0.250000   1.500000   1.400000  0.500000   1.500000   \nAndi       0.833333   0.250000   1.000000   1.200000  0.400000   1.166667   \nAngelique  0.416667   0.375000   2.375000   1.125000  0.583333   2.083333   \nJohannes   0.625000   0.312500   2.375000   1.571429  0.642857   2.000000   \nJürgen     0.583333   0.500000   2.000000   1.500000  0.583333   1.083333   \nLena       0.666667   0.250000   2.000000   1.333333  0.555556   1.916667   \nLuisa      0.666667   0.285714   1.583333   1.454545  0.515152   1.750000   \nPatrick    0.083333   0.166667   1.500000   1.666667  0.520833   2.833333   \nPaula      0.750000   0.208333   2.166667   1.250000  0.569444   1.833333   \nSonja      0.333333   0.083333   1.583333   1.416667  0.500000   1.333333   \n\n           I-Nutzerfreundlichkeit  5.1.score  5.2.score  5.3.score  \\\nCodierer                                                             \n10                       0.458333   0.500000   1.125000   0.843750   \nAndi                     0.500000   0.833333   1.000000   0.916667   \nAndi                     0.388889   1.500000   1.000000   1.000000   \nAngelique                0.694444   1.181818   1.000000   1.000000   \nJohannes                 0.666667   1.142857   1.250000   0.875000   \nJürgen                   0.361111   0.750000   1.250000   0.916667   \nLena                     0.638889   1.454545   0.916667   0.666667   \nLuisa                    0.583333   1.166667   1.000000   1.000000   \nPatrick                  0.944444   0.909091   1.083333   1.000000   \nPaula                    0.611111   1.250000   1.000000   1.000000   \nSonja                    0.444444   0.666667   1.272727   0.958333   \n\n           I-Glaubwürdigkeit  6.1.score  6.2.score  I-Aktualität  I-Qualität  \nCodierer                                                                      \n10                  0.327381   1.062500   0.437500      0.512500    0.440326  \nAndi                0.430556   1.666667   0.666667      0.800000    0.532727  \nAndi                0.666667   1.500000   0.500000      0.700000    0.495758  \nAngelique           0.560606   1.083333   0.000000      0.433333    0.726407  \nJohannes            0.583333   0.875000   0.250000      0.400000    0.648052  \nJürgen              0.444444   1.000000   0.083333      0.416667    0.462121  \nLena                0.393939   1.666667   0.250000      0.716667    0.561983  \nLuisa               0.555556   1.416667   0.166667      0.600000    0.571350  \nPatrick             0.484848   1.250000   0.083333      0.516667    0.662338  \nPaula               0.583333   1.333333   0.333333      0.600000    0.589899  \nSonja               0.416667   1.583333   0.000000      0.633333    0.457025  ",
      "text/html": "<div>\n<style scoped>\n    .dataframe tbody tr th:only-of-type {\n        vertical-align: middle;\n    }\n\n    .dataframe tbody tr th {\n        vertical-align: top;\n    }\n\n    .dataframe thead th {\n        text-align: right;\n    }\n</style>\n<table border=\"1\" class=\"dataframe\">\n  <thead>\n    <tr style=\"text-align: right;\">\n      <th></th>\n      <th>7.1.</th>\n      <th>I-Haltung</th>\n      <th>3.2.score</th>\n      <th>3.3.score</th>\n      <th>I-Inhalt</th>\n      <th>4.2.score</th>\n      <th>I-Nutzerfreundlichkeit</th>\n      <th>5.1.score</th>\n      <th>5.2.score</th>\n      <th>5.3.score</th>\n      <th>I-Glaubwürdigkeit</th>\n      <th>6.1.score</th>\n      <th>6.2.score</th>\n      <th>I-Aktualität</th>\n      <th>I-Qualität</th>\n    </tr>\n    <tr>\n      <th>Codierer</th>\n      <th></th>\n      <th></th>\n      <th></th>\n      <th></th>\n      <th></th>\n      <th></th>\n      <th></th>\n      <th></th>\n      <th></th>\n      <th></th>\n      <th></th>\n      <th></th>\n      <th></th>\n      <th></th>\n      <th></th>\n    </tr>\n  </thead>\n  <tbody>\n    <tr>\n      <th>10</th>\n      <td>0.687500</td>\n      <td>0.000000</td>\n      <td>1.437500</td>\n      <td>1.285714</td>\n      <td>0.452381</td>\n      <td>1.375000</td>\n      <td>0.458333</td>\n      <td>0.500000</td>\n      <td>1.125000</td>\n      <td>0.843750</td>\n      <td>0.327381</td>\n      <td>1.062500</td>\n      <td>0.437500</td>\n      <td>0.512500</td>\n      <td>0.440326</td>\n    </tr>\n    <tr>\n      <th>Andi</th>\n      <td>0.666667</td>\n      <td>0.250000</td>\n      <td>1.500000</td>\n      <td>1.400000</td>\n      <td>0.500000</td>\n      <td>1.500000</td>\n      <td>0.500000</td>\n      <td>0.833333</td>\n      <td>1.000000</td>\n      <td>0.916667</td>\n      <td>0.430556</td>\n      <td>1.666667</td>\n      <td>0.666667</td>\n      <td>0.800000</td>\n      <td>0.532727</td>\n    </tr>\n    <tr>\n      <th>Andi</th>\n      <td>0.833333</td>\n      <td>0.250000</td>\n      <td>1.000000</td>\n      <td>1.200000</td>\n      <td>0.400000</td>\n      <td>1.166667</td>\n      <td>0.388889</td>\n      <td>1.500000</td>\n      <td>1.000000</td>\n      <td>1.000000</td>\n      <td>0.666667</td>\n      <td>1.500000</td>\n      <td>0.500000</td>\n      <td>0.700000</td>\n      <td>0.495758</td>\n    </tr>\n    <tr>\n      <th>Angelique</th>\n      <td>0.416667</td>\n      <td>0.375000</td>\n      <td>2.375000</td>\n      <td>1.125000</td>\n      <td>0.583333</td>\n      <td>2.083333</td>\n      <td>0.694444</td>\n      <td>1.181818</td>\n      <td>1.000000</td>\n      <td>1.000000</td>\n      <td>0.560606</td>\n      <td>1.083333</td>\n      <td>0.000000</td>\n      <td>0.433333</td>\n      <td>0.726407</td>\n    </tr>\n    <tr>\n      <th>Johannes</th>\n      <td>0.625000</td>\n      <td>0.312500</td>\n      <td>2.375000</td>\n      <td>1.571429</td>\n      <td>0.642857</td>\n      <td>2.000000</td>\n      <td>0.666667</td>\n      <td>1.142857</td>\n      <td>1.250000</td>\n      <td>0.875000</td>\n      <td>0.583333</td>\n      <td>0.875000</td>\n      <td>0.250000</td>\n      <td>0.400000</td>\n      <td>0.648052</td>\n    </tr>\n    <tr>\n      <th>Jürgen</th>\n      <td>0.583333</td>\n      <td>0.500000</td>\n      <td>2.000000</td>\n      <td>1.500000</td>\n      <td>0.583333</td>\n      <td>1.083333</td>\n      <td>0.361111</td>\n      <td>0.750000</td>\n      <td>1.250000</td>\n      <td>0.916667</td>\n      <td>0.444444</td>\n      <td>1.000000</td>\n      <td>0.083333</td>\n      <td>0.416667</td>\n      <td>0.462121</td>\n    </tr>\n    <tr>\n      <th>Lena</th>\n      <td>0.666667</td>\n      <td>0.250000</td>\n      <td>2.000000</td>\n      <td>1.333333</td>\n      <td>0.555556</td>\n      <td>1.916667</td>\n      <td>0.638889</td>\n      <td>1.454545</td>\n      <td>0.916667</td>\n      <td>0.666667</td>\n      <td>0.393939</td>\n      <td>1.666667</td>\n      <td>0.250000</td>\n      <td>0.716667</td>\n      <td>0.561983</td>\n    </tr>\n    <tr>\n      <th>Luisa</th>\n      <td>0.666667</td>\n      <td>0.285714</td>\n      <td>1.583333</td>\n      <td>1.454545</td>\n      <td>0.515152</td>\n      <td>1.750000</td>\n      <td>0.583333</td>\n      <td>1.166667</td>\n      <td>1.000000</td>\n      <td>1.000000</td>\n      <td>0.555556</td>\n      <td>1.416667</td>\n      <td>0.166667</td>\n      <td>0.600000</td>\n      <td>0.571350</td>\n    </tr>\n    <tr>\n      <th>Patrick</th>\n      <td>0.083333</td>\n      <td>0.166667</td>\n      <td>1.500000</td>\n      <td>1.666667</td>\n      <td>0.520833</td>\n      <td>2.833333</td>\n      <td>0.944444</td>\n      <td>0.909091</td>\n      <td>1.083333</td>\n      <td>1.000000</td>\n      <td>0.484848</td>\n      <td>1.250000</td>\n      <td>0.083333</td>\n      <td>0.516667</td>\n      <td>0.662338</td>\n    </tr>\n    <tr>\n      <th>Paula</th>\n      <td>0.750000</td>\n      <td>0.208333</td>\n      <td>2.166667</td>\n      <td>1.250000</td>\n      <td>0.569444</td>\n      <td>1.833333</td>\n      <td>0.611111</td>\n      <td>1.250000</td>\n      <td>1.000000</td>\n      <td>1.000000</td>\n      <td>0.583333</td>\n      <td>1.333333</td>\n      <td>0.333333</td>\n      <td>0.600000</td>\n      <td>0.589899</td>\n    </tr>\n    <tr>\n      <th>Sonja</th>\n      <td>0.333333</td>\n      <td>0.083333</td>\n      <td>1.583333</td>\n      <td>1.416667</td>\n      <td>0.500000</td>\n      <td>1.333333</td>\n      <td>0.444444</td>\n      <td>0.666667</td>\n      <td>1.272727</td>\n      <td>0.958333</td>\n      <td>0.416667</td>\n      <td>1.583333</td>\n      <td>0.000000</td>\n      <td>0.633333</td>\n      <td>0.457025</td>\n    </tr>\n  </tbody>\n</table>\n</div>"
     },
     "execution_count": 142,
     "metadata": {},
     "output_type": "execute_result"
    }
   ],
   "source": [
    "index_data.groupby(\"Codierer\").aggregate(\"mean\")"
   ],
   "metadata": {
    "collapsed": false,
    "pycharm": {
     "name": "#%%\n"
    }
   }
  },
  {
   "cell_type": "code",
   "execution_count": 143,
   "outputs": [
    {
     "data": {
      "text/plain": "<AxesSubplot:>"
     },
     "execution_count": 143,
     "metadata": {},
     "output_type": "execute_result"
    },
    {
     "data": {
      "text/plain": "<Figure size 432x288 with 2 Axes>",
      "image/png": "[encoded data removed]"
     },
     "metadata": {
      "needs_background": "light"
     },
     "output_type": "display_data"
    }
   ],
   "source": [
    "heatmap(index_data.groupby(\"1.1.\").aggregate(\"mean\")[[\n",
    "    \"I-Haltung\",\n",
    "    \"I-Inhalt\",\n",
    "    \"I-Nutzerfreundlichkeit\",\n",
    "    \"I-Glaubwürdigkeit\",\n",
    "    \"I-Aktualität\",\n",
    "    \"I-Qualität\",\n",
    "    \"7.1.\"\n",
    "]].corr())"
   ],
   "metadata": {
    "collapsed": false,
    "pycharm": {
     "name": "#%%\n"
    }
   }
  },
  {
   "cell_type": "code",
   "execution_count": 143,
   "outputs": [],
   "source": [],
   "metadata": {
    "collapsed": false,
    "pycharm": {
     "name": "#%%\n"
    }
   }
  },
  {
   "cell_type": "code",
   "execution_count": 143,
   "outputs": [],
   "source": [],
   "metadata": {
    "collapsed": false,
    "pycharm": {
     "name": "#%%\n"
    }
   }
  },
  {
   "cell_type": "code",
   "execution_count": 143,
   "outputs": [],
   "source": [],
   "metadata": {
    "collapsed": false,
    "pycharm": {
     "name": "#%%\n"
    }
   }
  },
  {
   "cell_type": "code",
   "execution_count": null,
   "outputs": [],
   "source": [],
   "metadata": {
    "collapsed": false,
    "pycharm": {
     "name": "#%%\n"
    }
   }
  }
 ],
 "metadata": {
  "kernelspec": {
   "display_name": "Python 3",
   "language": "python",
   "name": "python3"
  },
  "language_info": {
   "codemirror_mode": {
    "name": "ipython",
    "version": 2
   },
   "file_extension": ".py",
   "mimetype": "text/x-python",
   "name": "python",
   "nbconvert_exporter": "python",
   "pygments_lexer": "ipython2",
   "version": "2.7.6"
  }
 },
 "nbformat": 4,
 "nbformat_minor": 0
}
