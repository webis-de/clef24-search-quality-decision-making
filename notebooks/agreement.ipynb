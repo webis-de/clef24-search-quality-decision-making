{
 "cells": [
  {
   "cell_type": "code",
   "execution_count": null,
   "metadata": {
    "collapsed": true,
    "jupyter": {
     "outputs_hidden": true
    },
    "pycharm": {
     "name": "#%%\n"
    }
   },
   "outputs": [],
   "source": [
    "from math import nan\n",
    "from pathlib import Path\n",
    "\n",
    "from gspread import service_account, Spreadsheet\n",
    "from numpy import array\n",
    "from pandas import DataFrame\n",
    "from statsmodels.stats.inter_rater import fleiss_kappa"
   ]
  },
  {
   "cell_type": "code",
   "execution_count": null,
   "metadata": {
    "collapsed": false,
    "jupyter": {
     "outputs_hidden": false
    },
    "pycharm": {
     "name": "#%%\n"
    }
   },
   "outputs": [],
   "source": [
    "sheet_url = \"https://docs.google.com/spreadsheets/d/1ud5ij645_khLMiydH3g_Dun9YCEeToWJnICw5a1RfNo/edit\"\n",
    "sheet_id = 0"
   ]
  },
  {
   "cell_type": "code",
   "execution_count": null,
   "metadata": {
    "collapsed": false,
    "jupyter": {
     "outputs_hidden": false
    }
   },
   "outputs": [],
   "source": [
    "data_path = Path(\"../data\")\n",
    "figures_path = data_path / \"figures\""
   ]
  },
  {
   "cell_type": "code",
   "execution_count": null,
   "metadata": {
    "collapsed": false,
    "jupyter": {
     "outputs_hidden": false
    },
    "pycharm": {
     "name": "#%%\n"
    }
   },
   "outputs": [],
   "source": [
    "query = 19"
   ]
  },
  {
   "cell_type": "code",
   "execution_count": null,
   "metadata": {
    "collapsed": false,
    "jupyter": {
     "outputs_hidden": false
    },
    "pycharm": {
     "name": "#%%\n"
    }
   },
   "outputs": [],
   "source": [
    "column_categories = {\n",
    "    '2.1.A.': [\"0\", \"1\"],\n",
    "    '2.1.B.': [\"0\", \"1\"],\n",
    "    '2.2.A.': [\"0\", \"1\"],\n",
    "    '2.2.B.': [\"0\", \"1\"],\n",
    "    '2.3.': [\"1\", \"2\", \"3\", \"4\", \"5\", \"6\", \"99\"],\n",
    "    '2.3.1.': [\"1\", \"2\", \"3\", \"99\"],\n",
    "    '2.3.A.': [\"0\", \"1\"],\n",
    "    '2.3.B.': [\"0\", \"1\"],\n",
    "    '3.1.': [\"1\", \"2\", \"3\", \"4\", \"99\"],\n",
    "    '3.2.': [\"1\", \"2\", \"3\", \"4\", \"5\", \"99\"],\n",
    "    '3.3.': [\"1\", \"2\", \"3\", \"4\", \"99\"],\n",
    "    '4.1.1.': [\"0\", \"1\"],\n",
    "    '4.1.2.': [\"0\", \"1\"],\n",
    "    '4.1.3.': [\"0\", \"1\"],\n",
    "    '4.1.4.': [\"0\", \"1\"],\n",
    "    '4.1.5.': [\"0\", \"1\"],\n",
    "    '4.1.6.': [\"0\", \"1\"],\n",
    "    '4.1.7.': [\"0\", \"1\"],\n",
    "    '4.1.99.': [\"0\", \"1\"],\n",
    "    '4.2.': [\"1\", \"2\", \"3\", \"4\", \"99\"],\n",
    "    '5.1.': [\"1\", \"2\", \"3\", \"4\", \"5\", \"6\", \"99\"],\n",
    "    '5.2.': [\"1\", \"2\", \"3\", \"4\", \"99\"],\n",
    "    '5.3.': [\"1\", \"2\", \"3\", \"4\"],\n",
    "    '5.4.': [\"0\", \"1\"],\n",
    "    '6.1.': [\"1\", \"2\", \"3\", \"99\"],\n",
    "    '6.2.': [\"1\", \"2\", \"99\"],\n",
    "    '6.3.': [\"1\", \"2\", \"99\"],\n",
    "    '7': [\"1\", \"2\", \"3\"],\n",
    "    '7.1.': [\"0\", \"1\"],\n",
    "}\n",
    "columns = list(column_categories.keys())"
   ]
  },
  {
   "cell_type": "code",
   "execution_count": null,
   "metadata": {
    "collapsed": false,
    "jupyter": {
     "outputs_hidden": false
    },
    "pycharm": {
     "name": "#%%\n"
    }
   },
   "outputs": [],
   "source": [
    "sheets = service_account(\"google-services.json\")"
   ]
  },
  {
   "cell_type": "code",
   "execution_count": null,
   "metadata": {
    "collapsed": false,
    "jupyter": {
     "outputs_hidden": false
    },
    "pycharm": {
     "name": "#%%\n"
    }
   },
   "outputs": [],
   "source": [
    "sheet: Spreadsheet = sheets.open_by_url(sheet_url)"
   ]
  },
  {
   "cell_type": "code",
   "execution_count": null,
   "metadata": {
    "collapsed": false,
    "jupyter": {
     "outputs_hidden": false
    },
    "pycharm": {
     "name": "#%%\n"
    }
   },
   "outputs": [],
   "source": [
    "values = sheet.get_worksheet_by_id(sheet_id).get_all_values()"
   ]
  },
  {
   "cell_type": "code",
   "execution_count": null,
   "metadata": {
    "collapsed": false,
    "jupyter": {
     "outputs_hidden": false
    },
    "pycharm": {
     "name": "#%%\n"
    }
   },
   "outputs": [],
   "source": [
    "def haltung_staerke(x: str) -> str:\n",
    "    if x == \"1\" or x == \"5\":\n",
    "        return \"3\"\n",
    "    elif (x == \"2\" or \n",
    "          x == \"4\"):\n",
    "        return \"2\"\n",
    "    elif x == \"3\" or x == \"6\":\n",
    "        return \"1\"\n",
    "    elif x == \"99\":\n",
    "        return \"99\"\n",
    "    else:\n",
    "        raise Exception(x)"
   ]
  },
  {
   "cell_type": "code",
   "execution_count": null,
   "metadata": {
    "collapsed": false,
    "jupyter": {
     "outputs_hidden": false
    },
    "pycharm": {
     "name": "#%%\n"
    }
   },
   "outputs": [],
   "source": [
    "data = DataFrame(values[2:], columns=values[0])\n",
    "\n",
    "# Spalten löschen\n",
    "# del data[\"1.3.\"]\n",
    "# del data[\"1.4.\"]\n",
    "# del data[\"1.5.\"]\n",
    "# del data[\"Relevanzkriterium\"]\n",
    "# del data[\"Haltung\"]\n",
    "# del data[\"Nutzbarkeit\"]\n",
    "# del data[\"Inhalt\"]\n",
    "# del data[\"Glaubwürdigkeit\"]\n",
    "# del data[\"Aktualität\"]\n",
    "# del data[\"QUALITÄT\"]\n",
    "\n",
    "data[\"1.6.\"] = data[\"1.6.\"].str.strip()\n",
    "data[\"1.7.\"] = data[\"1.7.\"].str.strip()\n",
    "\n",
    "# Umcodierung\n",
    "data[\"2.1.A.\"] = ((data[\"2.1.\"] == \"1\") | (data[\"2.1.\"] == \"3\")).astype(int).astype(str)\n",
    "data[\"2.1.B.\"] = ((data[\"2.1.\"] == \"2\") | (data[\"2.1.\"] == \"3\")).astype(int).astype(str)\n",
    "# del data[\"2.1.\"]\n",
    "\n",
    "# Umcodierung\n",
    "data[\"2.2.A.\"] = ((data[\"2.2.\"] == \"1\") | (data[\"2.2.\"] == \"3\")).astype(int).astype(str)\n",
    "data[\"2.2.B.\"] = ((data[\"2.2.\"] == \"2\") | (data[\"2.2.\"] == \"3\")).astype(int).astype(str)\n",
    "# del data[\"2.2.\"]\n",
    "\n",
    "data.loc[data[\"5.2.\"] == \"99\", \"2.3.\"] = \"99\"\n",
    "data[\"2.3.1.\"] = data[\"2.3.\"].map(haltung_staerke).astype(int).astype(str)\n",
    "data[\"2.3.A.\"] = ((data[\"2.3.\"] == \"1\") | (data[\"2.3.\"] == \"2\")).astype(int).astype(str)\n",
    "data[\"2.3.B.\"] = ((data[\"2.3.\"] == \"4\") | (data[\"2.3.\"] == \"5\")).astype(int).astype(str)\n",
    "\n",
    "# Daten aufbereiten\n",
    "data[\"4.1.\"] = data[\"4.1.\"].str.replace(\";\", \",\")\n",
    "data[\"4.1.\"] = data[\"4.1.\"].str.replace(\" \", \"\")\n",
    "data[\"4.1.\"] = data[\"4.1.\"].str.removesuffix(\",\")\n",
    "data[\"4.1.\"] = data[\"4.1.\"].map(lambda text: set(text.split(\",\")))\n",
    "for element in [\"1\", \"2\", \"3\", \"4\", \"5\", \"6\", \"7\", \"99\"]:\n",
    "    data[f\"4.1.{element}.\"] = data[\"4.1.\"].map(lambda labels: str(int(element in labels)))\n",
    "# del data[\"4.1.\"]\n",
    "\n",
    "# Umcodierung\n",
    "data[\"5.4.\"] = data[\"5.4.\"].str.replace(\";\", \",\")\n",
    "data[\"5.4.\"] = data[\"5.4.\"].str.replace(\" \", \"\")\n",
    "data[\"5.4.\"] = data[\"5.4.\"].str.removesuffix(\",\")\n",
    "data[\"5.4.\"] = data[\"5.4.\"].map(lambda text: set(text.split(\",\")))\n",
    "data[\"5.4.\"] = data[\"5.4.\"].map(\n",
    "    lambda labels: \"1\" in labels or \"2\" in labels or \"3\" in labels or \"99\" in labels).astype(int).astype(str)\n",
    "\n",
    "# Umcodierung\n",
    "data[\"7.1.\"] = ((data[\"7\"] == \"2\") | (data[\"7\"] == \"3\")).astype(int).astype(str)\n",
    "\n",
    "data.head()"
   ]
  },
  {
   "cell_type": "code",
   "execution_count": null,
   "metadata": {
    "collapsed": false,
    "jupyter": {
     "outputs_hidden": false
    },
    "pycharm": {
     "name": "#%%\n"
    }
   },
   "outputs": [],
   "source": [
    "agreement_data = data.copy()\n",
    "agreement_data = agreement_data[agreement_data[\"1.1.\"] == str(query)]\n",
    "agreement_data[\"Subject\"] = agreement_data[\"1.1.\"].str.cat(agreement_data[\"1.2.\"], sep=\"-\")\n",
    "agreement_data = agreement_data[[\"Subject\", \"Codierer\", *columns]]\n",
    "agreement_data.sort_values(by=[\"Subject\", \"7\"], inplace=True)\n",
    "agreement_data.head()"
   ]
  },
  {
   "cell_type": "code",
   "execution_count": null,
   "metadata": {
    "collapsed": false,
    "jupyter": {
     "outputs_hidden": false
    },
    "pycharm": {
     "name": "#%%\n"
    }
   },
   "outputs": [],
   "source": [
    "subjects = agreement_data[\"Subject\"].unique()\n",
    "subjects"
   ]
  },
  {
   "cell_type": "code",
   "execution_count": null,
   "metadata": {
    "collapsed": false,
    "jupyter": {
     "outputs_hidden": false
    },
    "pycharm": {
     "name": "#%%\n"
    }
   },
   "outputs": [],
   "source": [
    "def column_fleiss_kappa(column: str) -> float:\n",
    "    categories = column_categories[column]\n",
    "    table = array([\n",
    "        [\n",
    "            len(agreement_data[(agreement_data[\"Subject\"] == subject) & (agreement_data[column] == category)])\n",
    "            for category in categories\n",
    "        ]\n",
    "        for subject in subjects\n",
    "    ])\n",
    "    return fleiss_kappa(table)"
   ]
  },
  {
   "cell_type": "code",
   "execution_count": null,
   "metadata": {
    "collapsed": false,
    "jupyter": {
     "outputs_hidden": false
    },
    "pycharm": {
     "name": "#%%\n"
    }
   },
   "outputs": [],
   "source": [
    "agreement = DataFrame([\n",
    "    {\n",
    "        \"Frage\": column,\n",
    "        \"Fleiss' κ\": column_fleiss_kappa(column),\n",
    "    }\n",
    "    for column in columns\n",
    "])\n",
    "agreement"
   ]
  },
  {
   "cell_type": "code",
   "execution_count": null,
   "metadata": {
    "collapsed": false,
    "jupyter": {
     "outputs_hidden": false
    },
    "pycharm": {
     "name": "#%%\n"
    }
   },
   "outputs": [],
   "source": [
    "agreement.to_excel(\"agreement.xlsx\")"
   ]
  },
  {
   "cell_type": "code",
   "execution_count": null,
   "metadata": {
    "collapsed": false,
    "jupyter": {
     "outputs_hidden": false
    },
    "pycharm": {
     "name": "#%%\n"
    }
   },
   "outputs": [],
   "source": [
    "data.to_excel(\"umcodiert.xlsx\")"
   ]
  },
  {
   "cell_type": "code",
   "execution_count": null,
   "metadata": {
    "collapsed": false,
    "jupyter": {
     "outputs_hidden": false
    },
    "pycharm": {
     "name": "#%%\n"
    }
   },
   "outputs": [],
   "source": [
    "from pandas import Series\n",
    "from collections import Counter\n",
    "\n",
    "analytics_data = data.copy()\n",
    "\n",
    "\n",
    "def majority_vote(items: Series):\n",
    "    counter = Counter(items.tolist())\n",
    "    _, most_common_count = counter.most_common(1)[0]\n",
    "    most_common = {key for key in counter.keys() if counter[key] == most_common_count}\n",
    "    most_common = list(sorted(most_common))\n",
    "    return most_common[0] if len(most_common) >= 1 else nan\n",
    "\n",
    "\n",
    "analytics_data = analytics_data.groupby(by=[\"1.1.\", \"1.2.\"]).aggregate(majority_vote).reset_index()\n",
    "analytics_data"
   ]
  },
  {
   "cell_type": "code",
   "execution_count": null,
   "metadata": {
    "collapsed": false,
    "jupyter": {
     "outputs_hidden": false
    },
    "pycharm": {
     "name": "#%%\n"
    }
   },
   "outputs": [],
   "source": [
    "analytics_data.to_excel(\"umcodiert_majority_vote.xlsx\")"
   ]
  },
  {
   "cell_type": "code",
   "execution_count": null,
   "metadata": {
    "collapsed": false,
    "jupyter": {
     "outputs_hidden": false
    },
    "pycharm": {
     "name": "#%%\n"
    }
   },
   "outputs": [],
   "source": [
    "def score_umfang(value: str) -> float:\n",
    "    if value == \"1\":\n",
    "        return 1\n",
    "    elif value == \"2\":\n",
    "        return 2\n",
    "    elif value == \"3\":\n",
    "        return 3\n",
    "    elif value == \"4\":\n",
    "        return 4\n",
    "    elif value == \"5\":\n",
    "        return 0\n",
    "    else:\n",
    "        return nan"
   ]
  },
  {
   "cell_type": "code",
   "execution_count": null,
   "metadata": {
    "collapsed": false,
    "jupyter": {
     "outputs_hidden": false
    },
    "pycharm": {
     "name": "#%%\n"
    }
   },
   "outputs": [],
   "source": [
    "def score_sprache(value: str) -> float:\n",
    "    if value == \"1\":\n",
    "        return 2\n",
    "    elif value == \"2\":\n",
    "        return 1\n",
    "    elif value == \"3\":\n",
    "        return 0\n",
    "    elif value == \"4\":\n",
    "        return 0\n",
    "    else:\n",
    "        return nan"
   ]
  },
  {
   "cell_type": "code",
   "execution_count": null,
   "metadata": {
    "collapsed": false,
    "jupyter": {
     "outputs_hidden": false
    },
    "pycharm": {
     "name": "#%%\n"
    }
   },
   "outputs": [],
   "source": [
    "def score_lesbarkeit(value: str) -> float:\n",
    "    if value == \"1\":\n",
    "        return 0\n",
    "    elif value == \"2\":\n",
    "        return 1\n",
    "    elif value == \"3\":\n",
    "        return 2\n",
    "    elif value == \"4\":\n",
    "        return 3\n",
    "    else:\n",
    "        return nan"
   ]
  },
  {
   "cell_type": "code",
   "execution_count": null,
   "metadata": {
    "collapsed": false,
    "jupyter": {
     "outputs_hidden": false
    },
    "pycharm": {
     "name": "#%%\n"
    }
   },
   "outputs": [],
   "source": [
    "def score_quelle(value: str) -> float:\n",
    "    if value == \"1\":\n",
    "        return 2\n",
    "    elif value == \"2\":\n",
    "        return 2\n",
    "    elif value == \"3\":\n",
    "        return 0\n",
    "    elif value == \"4\":\n",
    "        return 1\n",
    "    elif value == \"5\":\n",
    "        return 1\n",
    "    elif value == \"6\":\n",
    "        return 0\n",
    "    else:\n",
    "        return nan"
   ]
  },
  {
   "cell_type": "code",
   "execution_count": null,
   "metadata": {
    "collapsed": false,
    "jupyter": {
     "outputs_hidden": false
    },
    "pycharm": {
     "name": "#%%\n"
    }
   },
   "outputs": [],
   "source": [
    "def score_autor(value: str) -> float:\n",
    "    if value == \"1\":\n",
    "        return 2\n",
    "    elif value == \"2\":\n",
    "        return 1\n",
    "    elif value == \"3\":\n",
    "        return 0\n",
    "    elif value == \"4\":\n",
    "        return 1\n",
    "    elif value == \"99\":\n",
    "        return 1\n",
    "    else:\n",
    "        return nan"
   ]
  },
  {
   "cell_type": "code",
   "execution_count": null,
   "metadata": {
    "collapsed": false,
    "jupyter": {
     "outputs_hidden": false
    },
    "pycharm": {
     "name": "#%%\n"
    }
   },
   "outputs": [],
   "source": [
    "def score_wahrheit(value: str) -> float:\n",
    "    if value == \"1\":\n",
    "        return 1\n",
    "    elif value == \"2\":\n",
    "        return 0\n",
    "    elif value == \"3\":\n",
    "        return 0.5\n",
    "    elif value == \"4\":\n",
    "        return 1\n",
    "    else:\n",
    "        return nan"
   ]
  },
  {
   "cell_type": "code",
   "execution_count": null,
   "metadata": {
    "collapsed": false,
    "jupyter": {
     "outputs_hidden": false
    },
    "pycharm": {
     "name": "#%%\n"
    }
   },
   "outputs": [],
   "source": [
    "def score_datum(value: str) -> float:\n",
    "    if value == \"1\":\n",
    "        return 1\n",
    "    elif value == \"2\":\n",
    "        return 2\n",
    "    elif value == \"3\":\n",
    "        return 2\n",
    "    elif value == \"99\":\n",
    "        return 0\n",
    "    else:\n",
    "        return nan"
   ]
  },
  {
   "cell_type": "code",
   "execution_count": null,
   "metadata": {
    "collapsed": false,
    "jupyter": {
     "outputs_hidden": false
    },
    "pycharm": {
     "name": "#%%\n"
    }
   },
   "outputs": [],
   "source": [
    "def score_updates(value: str) -> float:\n",
    "    if value == \"1\":\n",
    "        return 1\n",
    "    elif value == \"2\":\n",
    "        return 0\n",
    "    elif value == \"99\":\n",
    "        return 0\n",
    "    else:\n",
    "        return nan"
   ]
  },
  {
   "cell_type": "code",
   "execution_count": null,
   "metadata": {
    "collapsed": false,
    "jupyter": {
     "outputs_hidden": false
    },
    "pycharm": {
     "name": "#%%\n"
    }
   },
   "outputs": [],
   "source": [
    "index_data = analytics_data.copy()\n",
    "index_data[\"I-Haltung\"] = (index_data[\"2.3.1.\"].astype(int).replace(99, nan) - 1) / 2\n",
    "index_data[\"3.2.score\"] = index_data[\"3.2.\"].map(score_umfang)\n",
    "index_data[\"3.3.score\"] = index_data[\"3.3.\"].map(score_sprache)\n",
    "index_data[\"I-Inhalt\"] = (index_data[\"3.3.score\"] + index_data[\"3.2.score\"]) / 6\n",
    "index_data[\"4.2.score\"] = index_data[\"4.2.\"].map(score_lesbarkeit)\n",
    "index_data[\"I-Nutzerfreundlichkeit\"] = (\n",
    "                                               # index_data[\"4.1.3.\"].astype(int)\n",
    "                                               # + index_data[\"4.1.4.\"].astype(int)\n",
    "                                               # + index_data[\"4.1.6.\"].astype(int)\n",
    "                                               # +\n",
    "                                               index_data[\"4.2.score\"]\n",
    "                                       ) / 3#9\n",
    "index_data[\"5.1.score\"] = index_data[\"5.1.\"].map(score_quelle)\n",
    "index_data[\"5.2.score\"] = index_data[\"5.2.\"].map(score_autor)\n",
    "index_data[\"5.3.score\"] = index_data[\"5.3.\"].map(score_wahrheit)\n",
    "index_data[\"I-Glaubwürdigkeit\"] = ((\n",
    "                                           (index_data[\"5.1.score\"] * 2) +\n",
    "                                           index_data[\"5.2.score\"]\n",
    "                                   ) * index_data[\"5.3.score\"]) / 6\n",
    "index_data[\"6.1.score\"] = index_data[\"6.1.\"].map(score_datum)\n",
    "index_data[\"6.2.score\"] = index_data[\"6.2.\"].map(score_updates)\n",
    "index_data[\"I-Aktualität\"] = ((index_data[\"6.1.score\"] * 2) + index_data[\"6.2.score\"]) / 5\n",
    "index_data[\"I-Qualität\"] = (\n",
    "                                   (index_data[\"I-Inhalt\"] * 4) +\n",
    "                                   (index_data[\"I-Nutzerfreundlichkeit\"] * 4) +\n",
    "                                   (index_data[\"I-Glaubwürdigkeit\"] * 2) +\n",
    "                                   index_data[\"I-Aktualität\"]\n",
    "                           ) / 11\n",
    "index_data"
   ]
  },
  {
   "cell_type": "code",
   "execution_count": null,
   "metadata": {
    "collapsed": false,
    "jupyter": {
     "outputs_hidden": false
    },
    "pycharm": {
     "name": "#%%\n"
    }
   },
   "outputs": [],
   "source": [
    "index_data.to_excel(\"scores.xlsx\")"
   ]
  },
  {
   "cell_type": "code",
   "execution_count": null,
   "metadata": {
    "collapsed": false,
    "jupyter": {
     "outputs_hidden": false
    },
    "pycharm": {
     "name": "#%%\n"
    }
   },
   "outputs": [],
   "source": [
    "from math import ceil\n",
    "from matplotlib import pyplot as plt\n",
    "\n",
    "\n",
    "def hist(col: str, bins: int):\n",
    "    n, bins, patches = plt.hist(x=index_data[col], bins=bins, color='#0504aa', alpha=0.7, rwidth=0.85)\n",
    "    plt.grid(axis='y', alpha=0.75)\n",
    "    plt.xlabel('Wert')\n",
    "    plt.ylabel('Häufigkeit')\n",
    "    maxfreq = n.max()\n",
    "    # Set a clean upper y-axis limit.\n",
    "    plt.xlim(xmin=0, xmax=1)\n",
    "    plt.ylim(ymax=ceil(maxfreq / 10) * 10 if maxfreq % 10 else maxfreq + 10)\n",
    "    plt.savefig(figures_path / f\"Histogramm_{col}.png\")\n",
    "    plt.savefig(figures_path / f\"Histogramm_{col}.pdf\")"
   ]
  },
  {
   "cell_type": "code",
   "execution_count": null,
   "metadata": {
    "collapsed": false,
    "jupyter": {
     "outputs_hidden": false
    },
    "pycharm": {
     "name": "#%%\n"
    }
   },
   "outputs": [],
   "source": [
    "hist(\"I-Haltung\", 3)"
   ]
  },
  {
   "cell_type": "code",
   "execution_count": null,
   "metadata": {
    "collapsed": false,
    "jupyter": {
     "outputs_hidden": false
    },
    "pycharm": {
     "name": "#%%\n"
    }
   },
   "outputs": [],
   "source": [
    "hist(\"I-Inhalt\", 6)"
   ]
  },
  {
   "cell_type": "code",
   "execution_count": null,
   "metadata": {
    "collapsed": false,
    "jupyter": {
     "outputs_hidden": false
    },
    "pycharm": {
     "name": "#%%\n"
    }
   },
   "outputs": [],
   "source": [
    "hist(\"I-Nutzerfreundlichkeit\", 4)"
   ]
  },
  {
   "cell_type": "code",
   "execution_count": null,
   "metadata": {
    "collapsed": false,
    "jupyter": {
     "outputs_hidden": false
    },
    "pycharm": {
     "name": "#%%\n"
    }
   },
   "outputs": [],
   "source": [
    "hist(\"I-Glaubwürdigkeit\", 3)"
   ]
  },
  {
   "cell_type": "code",
   "execution_count": null,
   "metadata": {
    "collapsed": false,
    "jupyter": {
     "outputs_hidden": false
    },
    "pycharm": {
     "name": "#%%\n"
    }
   },
   "outputs": [],
   "source": [
    "hist(\"I-Aktualität\", 3)"
   ]
  },
  {
   "cell_type": "code",
   "execution_count": null,
   "metadata": {
    "collapsed": false,
    "jupyter": {
     "outputs_hidden": false
    },
    "pycharm": {
     "name": "#%%\n"
    }
   },
   "outputs": [],
   "source": [
    "hist(\"I-Qualität\", 10)"
   ]
  },
  {
   "cell_type": "code",
   "execution_count": null,
   "metadata": {
    "collapsed": false,
    "jupyter": {
     "outputs_hidden": false
    },
    "pycharm": {
     "name": "#%%\n"
    }
   },
   "outputs": [],
   "source": [
    "index_data[\"7.1.\"] = index_data[\"7.1.\"].astype(int)"
   ]
  },
  {
   "cell_type": "code",
   "execution_count": null,
   "metadata": {
    "collapsed": false,
    "jupyter": {
     "outputs_hidden": false
    },
    "pycharm": {
     "name": "#%%\n"
    }
   },
   "outputs": [],
   "source": [
    "from seaborn import heatmap\n",
    "\n",
    "corr_data = DataFrame()\n",
    "corr_data[[\n",
    "    \"Haltung\",\n",
    "    \"Inhalt\",\n",
    "    \"Nutzerfreundlichkeit\",\n",
    "    \"Glaubwürdigkeit\",\n",
    "    \"Aktualität\",\n",
    "    \"Qualität\",\n",
    "    \"Relevanz\"\n",
    "]] = index_data[[\n",
    "    \"I-Haltung\",\n",
    "    \"I-Inhalt\",\n",
    "    \"I-Nutzerfreundlichkeit\",\n",
    "    \"I-Glaubwürdigkeit\",\n",
    "    \"I-Aktualität\",\n",
    "    \"I-Qualität\",\n",
    "    \"7.1.\"\n",
    "]]\n",
    "corr_data = corr_data.fillna(0)\n",
    "corr = corr_data.corr()\n",
    "corr"
   ]
  },
  {
   "cell_type": "code",
   "execution_count": null,
   "metadata": {
    "collapsed": false,
    "jupyter": {
     "outputs_hidden": false
    },
    "pycharm": {
     "name": "#%%\n"
    }
   },
   "outputs": [],
   "source": [
    "heatmap(corr)\n",
    "plt.savefig(figures_path / \"Qualität_Korrelation.png\")\n",
    "plt.savefig(figures_path / \"Qualität_Korrelation.pdf\")"
   ]
  },
  {
   "cell_type": "code",
   "execution_count": null,
   "metadata": {
    "collapsed": false,
    "jupyter": {
     "outputs_hidden": false
    },
    "pycharm": {
     "name": "#%%\n"
    }
   },
   "outputs": [],
   "source": [
    "index_data.groupby(\"Hintergrund\").aggregate(\"mean\")"
   ]
  },
  {
   "cell_type": "code",
   "execution_count": null,
   "metadata": {
    "collapsed": false,
    "jupyter": {
     "outputs_hidden": false
    },
    "pycharm": {
     "name": "#%%\n"
    }
   },
   "outputs": [],
   "source": [
    "index_data.groupby(\"1.1.\").aggregate(\"mean\")  #[[\"I-Haltung\", \"I-Qualität\"]]"
   ]
  },
  {
   "cell_type": "code",
   "execution_count": null,
   "metadata": {
    "collapsed": false,
    "jupyter": {
     "outputs_hidden": false
    },
    "pycharm": {
     "name": "#%%\n"
    }
   },
   "outputs": [],
   "source": [
    "index_data.groupby(\"Codierer\").aggregate(\"mean\")"
   ]
  },
  {
   "cell_type": "code",
   "execution_count": null,
   "metadata": {
    "collapsed": false,
    "jupyter": {
     "outputs_hidden": false
    },
    "pycharm": {
     "name": "#%%\n"
    }
   },
   "outputs": [],
   "source": [
    "heatmap(index_data.groupby(\"1.1.\").aggregate(\"mean\")[[\n",
    "    \"I-Haltung\",\n",
    "    \"I-Inhalt\",\n",
    "    \"I-Nutzerfreundlichkeit\",\n",
    "    \"I-Glaubwürdigkeit\",\n",
    "    \"I-Aktualität\",\n",
    "    \"I-Qualität\",\n",
    "    \"7.1.\"\n",
    "]].corr())"
   ]
  },
  {
   "cell_type": "code",
   "execution_count": null,
   "metadata": {
    "collapsed": false,
    "jupyter": {
     "outputs_hidden": false
    },
    "pycharm": {
     "name": "#%%\n"
    }
   },
   "outputs": [],
   "source": []
  },
  {
   "cell_type": "code",
   "execution_count": null,
   "metadata": {
    "collapsed": false,
    "jupyter": {
     "outputs_hidden": false
    },
    "pycharm": {
     "name": "#%%\n"
    }
   },
   "outputs": [],
   "source": []
  },
  {
   "cell_type": "code",
   "execution_count": null,
   "metadata": {
    "collapsed": false,
    "jupyter": {
     "outputs_hidden": false
    },
    "pycharm": {
     "name": "#%%\n"
    }
   },
   "outputs": [],
   "source": []
  },
  {
   "cell_type": "code",
   "execution_count": null,
   "metadata": {
    "collapsed": false,
    "jupyter": {
     "outputs_hidden": false
    },
    "pycharm": {
     "name": "#%%\n"
    }
   },
   "outputs": [],
   "source": []
  }
 ],
 "metadata": {
  "kernelspec": {
   "display_name": "Python 3 (ipykernel)",
   "language": "python",
   "name": "python3"
  },
  "language_info": {
   "codemirror_mode": {
    "name": "ipython",
    "version": 3
   },
   "file_extension": ".py",
   "mimetype": "text/x-python",
   "name": "python",
   "nbconvert_exporter": "python",
   "pygments_lexer": "ipython3",
   "version": "3.11.9"
  }
 },
 "nbformat": 4,
 "nbformat_minor": 4
}
