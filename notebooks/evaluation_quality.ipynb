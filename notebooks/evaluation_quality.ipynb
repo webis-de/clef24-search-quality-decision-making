{
 "cells": [
  {
   "cell_type": "code",
   "execution_count": 83,
   "outputs": [],
   "source": [
    "from math import nan\n",
    "\n",
    "from pandas import read_excel, DataFrame, NamedAgg\n",
    "from seaborn import FacetGrid, histplot, set_theme"
   ],
   "metadata": {
    "collapsed": false,
    "ExecuteTime": {
     "end_time": "2023-10-04T11:07:29.464747051Z",
     "start_time": "2023-10-04T11:07:29.423950603Z"
    }
   },
   "id": "e4f72d14fe64e74a"
  },
  {
   "cell_type": "code",
   "execution_count": 39,
   "id": "initial_id",
   "metadata": {
    "collapsed": true,
    "ExecuteTime": {
     "end_time": "2023-10-04T09:57:36.963087584Z",
     "start_time": "2023-10-04T09:57:36.855143066Z"
    }
   },
   "outputs": [
    {
     "data": {
      "text/plain": "     qid  docno  stance_score  content_score  usability_score  \\\n0      1      1           0.5       0.833333         0.666667   \n1      1      2           0.0       0.833333         1.000000   \n2      1      3           0.0       0.666667         0.666667   \n3      1      4           0.5       0.500000         0.333333   \n4      2      5           0.0       0.666667         0.333333   \n..   ...    ...           ...            ...              ...   \n115   29    116           1.0       0.666667         0.333333   \n116   30    117           0.0       0.333333         0.666667   \n117   30    118           0.0       0.333333         0.666667   \n118   30    119           0.0       0.333333         1.000000   \n119   30    120           0.0       0.833333         0.666667   \n\n     credibility_score  up_to_dateness_score  quality_score  \n0             0.500000                   0.8       0.709091  \n1             0.500000                   0.8       0.830303  \n2             0.500000                   0.8       0.648485  \n3             0.833333                   0.4       0.490909  \n4             0.500000                   0.8       0.527273  \n..                 ...                   ...            ...  \n115           0.500000                   0.8       0.527273  \n116           0.833333                   0.8       0.587879  \n117           0.500000                   0.8       0.527273  \n118           0.500000                   0.8       0.648485  \n119                NaN                   0.8            NaN  \n\n[120 rows x 8 columns]",
      "text/html": "<div>\n<style scoped>\n    .dataframe tbody tr th:only-of-type {\n        vertical-align: middle;\n    }\n\n    .dataframe tbody tr th {\n        vertical-align: top;\n    }\n\n    .dataframe thead th {\n        text-align: right;\n    }\n</style>\n<table border=\"1\" class=\"dataframe\">\n  <thead>\n    <tr style=\"text-align: right;\">\n      <th></th>\n      <th>qid</th>\n      <th>docno</th>\n      <th>stance_score</th>\n      <th>content_score</th>\n      <th>usability_score</th>\n      <th>credibility_score</th>\n      <th>up_to_dateness_score</th>\n      <th>quality_score</th>\n    </tr>\n  </thead>\n  <tbody>\n    <tr>\n      <th>0</th>\n      <td>1</td>\n      <td>1</td>\n      <td>0.5</td>\n      <td>0.833333</td>\n      <td>0.666667</td>\n      <td>0.500000</td>\n      <td>0.8</td>\n      <td>0.709091</td>\n    </tr>\n    <tr>\n      <th>1</th>\n      <td>1</td>\n      <td>2</td>\n      <td>0.0</td>\n      <td>0.833333</td>\n      <td>1.000000</td>\n      <td>0.500000</td>\n      <td>0.8</td>\n      <td>0.830303</td>\n    </tr>\n    <tr>\n      <th>2</th>\n      <td>1</td>\n      <td>3</td>\n      <td>0.0</td>\n      <td>0.666667</td>\n      <td>0.666667</td>\n      <td>0.500000</td>\n      <td>0.8</td>\n      <td>0.648485</td>\n    </tr>\n    <tr>\n      <th>3</th>\n      <td>1</td>\n      <td>4</td>\n      <td>0.5</td>\n      <td>0.500000</td>\n      <td>0.333333</td>\n      <td>0.833333</td>\n      <td>0.4</td>\n      <td>0.490909</td>\n    </tr>\n    <tr>\n      <th>4</th>\n      <td>2</td>\n      <td>5</td>\n      <td>0.0</td>\n      <td>0.666667</td>\n      <td>0.333333</td>\n      <td>0.500000</td>\n      <td>0.8</td>\n      <td>0.527273</td>\n    </tr>\n    <tr>\n      <th>...</th>\n      <td>...</td>\n      <td>...</td>\n      <td>...</td>\n      <td>...</td>\n      <td>...</td>\n      <td>...</td>\n      <td>...</td>\n      <td>...</td>\n    </tr>\n    <tr>\n      <th>115</th>\n      <td>29</td>\n      <td>116</td>\n      <td>1.0</td>\n      <td>0.666667</td>\n      <td>0.333333</td>\n      <td>0.500000</td>\n      <td>0.8</td>\n      <td>0.527273</td>\n    </tr>\n    <tr>\n      <th>116</th>\n      <td>30</td>\n      <td>117</td>\n      <td>0.0</td>\n      <td>0.333333</td>\n      <td>0.666667</td>\n      <td>0.833333</td>\n      <td>0.8</td>\n      <td>0.587879</td>\n    </tr>\n    <tr>\n      <th>117</th>\n      <td>30</td>\n      <td>118</td>\n      <td>0.0</td>\n      <td>0.333333</td>\n      <td>0.666667</td>\n      <td>0.500000</td>\n      <td>0.8</td>\n      <td>0.527273</td>\n    </tr>\n    <tr>\n      <th>118</th>\n      <td>30</td>\n      <td>119</td>\n      <td>0.0</td>\n      <td>0.333333</td>\n      <td>1.000000</td>\n      <td>0.500000</td>\n      <td>0.8</td>\n      <td>0.648485</td>\n    </tr>\n    <tr>\n      <th>119</th>\n      <td>30</td>\n      <td>120</td>\n      <td>0.0</td>\n      <td>0.833333</td>\n      <td>0.666667</td>\n      <td>NaN</td>\n      <td>0.8</td>\n      <td>NaN</td>\n    </tr>\n  </tbody>\n</table>\n<p>120 rows × 8 columns</p>\n</div>"
     },
     "execution_count": 39,
     "metadata": {},
     "output_type": "execute_result"
    }
   ],
   "source": [
    "df: DataFrame = read_excel(\"../data/06-study.xlsx\", sheet_name=\"05 Quality\", header=0)\n",
    "df.rename(columns={\n",
    "    \"1.1.\": \"qid\",\n",
    "    \"1.2.\": \"docno\",\n",
    "    \"1.3.\": \"query\",\n",
    "    \"1.4.\": \"description\",\n",
    "    \"Relevanzkriterium\": \"narrative\",\n",
    "    \"1.5.\": \"url\",\n",
    "    \"1.6.\": \"object1\",\n",
    "    \"1.7.\": \"object2\",\n",
    "    \"2.1.\": \"stance_mentioned_objects\",\n",
    "    \"2.1.A.\": \"stance_mentioned_object1\",\n",
    "    \"2.1.B.\": \"stance_mentioned_object2\",\n",
    "    \"2.2.\": \"stance_most_detailed_objects\",\n",
    "    \"2.2.A.\": \"stance_most_detailed_object1\",\n",
    "    \"2.2.B.\": \"stance_most_detailed_object2\",\n",
    "    \"2.3.\": \"stance_favored_objects\",\n",
    "    \"2.3.1.\": \"stance_strength\",\n",
    "    \"2.3.A.\": \"stance_favored_object1\",\n",
    "    \"2.3.B.\": \"stance_favored_object2\",\n",
    "    \"I-Haltung\": \"stance_score\",\n",
    "    \"3.1.\": \"content_information_depth\",\n",
    "    \"3.2.\": \"content_wordiness\",\n",
    "    \"3.2.score\": \"content_wordiness_score\",\n",
    "    \"3.3.\": \"content_rhetoric\",\n",
    "    \"3.3.score\": \"content_rhetoric_score\",\n",
    "    \"I-Inhalt\": \"content_score\",\n",
    "    \"4.1.1.\": \"usability_design_elements_text\",\n",
    "    \"4.1.2.\": \"usability_design_elements_tables\",\n",
    "    \"4.1.3.\": \"usability_design_elements_pictures_graphics\",\n",
    "    \"4.1.4.\": \"usability_design_elements_key_points\",\n",
    "    \"4.1.5.\": \"usability_design_elements_question_answer\",\n",
    "    \"4.1.6.\": \"usability_design_elements_interviews\",\n",
    "    \"4.1.7.\": \"usability_design_elements_animations_interactive_media\",\n",
    "    \"4.1.99.\": \"usability_design_elements_none\",\n",
    "    \"4.2.\": \"usability_readability\",\n",
    "    \"4.2.score\": \"usability_readability_score\",\n",
    "    \"I-Nutzbarkeit\": \"usability_score\",\n",
    "    \"5.1.\": \"credibility_source\",\n",
    "    \"5.1.score\": \"credibility_source_score\",\n",
    "    \"5.2.\": \"credibility_author\",\n",
    "    \"5.2.score\": \"credibility_author_score\",\n",
    "    \"5.3.\": \"credibility_truthfulness\",\n",
    "    \"5.3.score\": \"credibility_truthfulness_score\",\n",
    "    \"5.4.\": \"credibility_verifiability\",\n",
    "    \"I-Glaubwürdigkeit\": \"credibility_score\",\n",
    "    \"6.1.\": \"up_to_dateness_date\",\n",
    "    \"6.1.score\": \"up_to_dateness_date_score\",\n",
    "    \"6.2.\": \"up_to_dateness_updates\",\n",
    "    \"6.2.score\": \"up_to_dateness_updates_score\",\n",
    "    \"I-Aktualität\": \"up_to_dateness_score\",\n",
    "    \"6.3.\": \"???\",\n",
    "    \"7\": \"relevance\",\n",
    "    \"7.1.\": \"relevance_score\",\n",
    "    \"I-Qualität\": \"quality_score\",\n",
    "\n",
    "}, inplace=True)\n",
    "df[\"content_information_depth_score\"] = df[\"content_information_depth\"]\n",
    "df[\"usability_design_elements_score\"] = (\n",
    "        df[\"usability_design_elements_text\"]\n",
    "        + df[\"usability_design_elements_tables\"]\n",
    "        + df[\"usability_design_elements_pictures_graphics\"]\n",
    "        + df[\"usability_design_elements_key_points\"]\n",
    "        + df[\"usability_design_elements_question_answer\"]\n",
    "        + df[\"usability_design_elements_interviews\"]\n",
    "        - df[\"usability_design_elements_animations_interactive_media\"]\n",
    ")\n",
    "df[\"credibility_verifiability_score\"] = df[\"credibility_verifiability\"]\n",
    "df.drop(columns=[\n",
    "    \"query\",\n",
    "    \"description\",\n",
    "    \"narrative\",\n",
    "    \"url\",\n",
    "    \"object1\",\n",
    "    \"object2\",\n",
    "    \"stance_mentioned_objects\",\n",
    "    \"stance_mentioned_object1\",\n",
    "    \"stance_mentioned_object2\",\n",
    "    \"stance_most_detailed_objects\",\n",
    "    \"stance_most_detailed_object1\",\n",
    "    \"stance_most_detailed_object2\",\n",
    "    \"stance_favored_objects\",\n",
    "    \"stance_strength\",\n",
    "    \"stance_favored_object1\",\n",
    "    \"stance_favored_object2\",\n",
    "    \"content_information_depth\",\n",
    "    \"content_information_depth_score\",\n",
    "    \"content_wordiness\",\n",
    "    \"content_wordiness_score\",\n",
    "    \"content_rhetoric\",\n",
    "    \"content_rhetoric_score\",\n",
    "    \"usability_design_elements_text\",\n",
    "    \"usability_design_elements_tables\",\n",
    "    \"usability_design_elements_pictures_graphics\",\n",
    "    \"usability_design_elements_key_points\",\n",
    "    \"usability_design_elements_question_answer\",\n",
    "    \"usability_design_elements_interviews\",\n",
    "    \"usability_design_elements_animations_interactive_media\",\n",
    "    \"usability_design_elements_none\",\n",
    "    \"usability_design_elements_score\",\n",
    "    \"usability_readability\",\n",
    "    \"usability_readability_score\",\n",
    "    \"credibility_source\",\n",
    "    \"credibility_source_score\",\n",
    "    \"credibility_author\",\n",
    "    \"credibility_author_score\",\n",
    "    \"credibility_truthfulness\",\n",
    "    \"credibility_truthfulness_score\",\n",
    "    \"credibility_verifiability\",\n",
    "    \"credibility_verifiability_score\",\n",
    "    \"up_to_dateness_date\",\n",
    "    \"up_to_dateness_date_score\",\n",
    "    \"up_to_dateness_updates\",\n",
    "    \"up_to_dateness_updates_score\",\n",
    "    \"relevance\",\n",
    "    \"relevance_score\",\n",
    "    \"???\",\n",
    "], inplace=True)\n",
    "df"
   ]
  },
  {
   "cell_type": "code",
   "execution_count": 51,
   "outputs": [],
   "source": [
    "no_quality_topics = df[df[\"quality_score\"].isna()][\"qid\"].unique()\n",
    "no_stance_topics = df[df[\"stance_score\"].isna()][\"qid\"].unique()"
   ],
   "metadata": {
    "collapsed": false,
    "ExecuteTime": {
     "end_time": "2023-10-04T10:09:04.886396103Z",
     "start_time": "2023-10-04T10:09:04.844020233Z"
    }
   },
   "id": "670439579acd2567"
  },
  {
   "cell_type": "code",
   "execution_count": 60,
   "outputs": [
    {
     "data": {
      "text/plain": "    qid  quality_score_mean  quality_score_std  stance_score_mean  \\\n16   17                0.70               0.18               0.25   \n22   23                0.69               0.16                NaN   \n0     1                0.67               0.14               0.25   \n11   12                0.66               0.07                NaN   \n8     9                0.65               0.11                NaN   \n20   21                0.63               0.15               0.12   \n23   24                0.62               0.37               0.25   \n14   15                0.60               0.26               0.25   \n24   25                0.59               0.12               0.38   \n21   22                0.58               0.06                NaN   \n25   26                0.58               0.12               0.12   \n7     8                0.56               0.25                NaN   \n9    10                0.50               0.24               0.12   \n1     2                0.49               0.16                NaN   \n10   11                0.47               0.11               0.25   \n28   29                0.42               0.09               0.50   \n18   19                0.34               0.31                NaN   \n27   28                0.32               0.06                NaN   \n3     4                0.32               0.33                NaN   \n19   20                0.31               0.14               0.12   \n26   27                 NaN                NaN               0.50   \n13   14                 NaN                NaN               0.38   \n4     5                 NaN                NaN               0.12   \n29   30                 NaN                NaN               0.00   \n2     3                 NaN                NaN                NaN   \n5     6                 NaN                NaN                NaN   \n6     7                 NaN                NaN                NaN   \n12   13                 NaN                NaN                NaN   \n15   16                 NaN                NaN                NaN   \n17   18                 NaN                NaN                NaN   \n\n    stance_score_std  \n16              0.50  \n22               NaN  \n0               0.29  \n11               NaN  \n8                NaN  \n20              0.25  \n23              0.50  \n14              0.29  \n24              0.48  \n21               NaN  \n25              0.25  \n7                NaN  \n9               0.25  \n1                NaN  \n10              0.50  \n28              0.58  \n18               NaN  \n27               NaN  \n3                NaN  \n19              0.25  \n26              0.58  \n13              0.48  \n4               0.25  \n29              0.00  \n2                NaN  \n5                NaN  \n6                NaN  \n12               NaN  \n15               NaN  \n17               NaN  ",
      "text/html": "<div>\n<style scoped>\n    .dataframe tbody tr th:only-of-type {\n        vertical-align: middle;\n    }\n\n    .dataframe tbody tr th {\n        vertical-align: top;\n    }\n\n    .dataframe thead th {\n        text-align: right;\n    }\n</style>\n<table border=\"1\" class=\"dataframe\">\n  <thead>\n    <tr style=\"text-align: right;\">\n      <th></th>\n      <th>qid</th>\n      <th>quality_score_mean</th>\n      <th>quality_score_std</th>\n      <th>stance_score_mean</th>\n      <th>stance_score_std</th>\n    </tr>\n  </thead>\n  <tbody>\n    <tr>\n      <th>16</th>\n      <td>17</td>\n      <td>0.70</td>\n      <td>0.18</td>\n      <td>0.25</td>\n      <td>0.50</td>\n    </tr>\n    <tr>\n      <th>22</th>\n      <td>23</td>\n      <td>0.69</td>\n      <td>0.16</td>\n      <td>NaN</td>\n      <td>NaN</td>\n    </tr>\n    <tr>\n      <th>0</th>\n      <td>1</td>\n      <td>0.67</td>\n      <td>0.14</td>\n      <td>0.25</td>\n      <td>0.29</td>\n    </tr>\n    <tr>\n      <th>11</th>\n      <td>12</td>\n      <td>0.66</td>\n      <td>0.07</td>\n      <td>NaN</td>\n      <td>NaN</td>\n    </tr>\n    <tr>\n      <th>8</th>\n      <td>9</td>\n      <td>0.65</td>\n      <td>0.11</td>\n      <td>NaN</td>\n      <td>NaN</td>\n    </tr>\n    <tr>\n      <th>20</th>\n      <td>21</td>\n      <td>0.63</td>\n      <td>0.15</td>\n      <td>0.12</td>\n      <td>0.25</td>\n    </tr>\n    <tr>\n      <th>23</th>\n      <td>24</td>\n      <td>0.62</td>\n      <td>0.37</td>\n      <td>0.25</td>\n      <td>0.50</td>\n    </tr>\n    <tr>\n      <th>14</th>\n      <td>15</td>\n      <td>0.60</td>\n      <td>0.26</td>\n      <td>0.25</td>\n      <td>0.29</td>\n    </tr>\n    <tr>\n      <th>24</th>\n      <td>25</td>\n      <td>0.59</td>\n      <td>0.12</td>\n      <td>0.38</td>\n      <td>0.48</td>\n    </tr>\n    <tr>\n      <th>21</th>\n      <td>22</td>\n      <td>0.58</td>\n      <td>0.06</td>\n      <td>NaN</td>\n      <td>NaN</td>\n    </tr>\n    <tr>\n      <th>25</th>\n      <td>26</td>\n      <td>0.58</td>\n      <td>0.12</td>\n      <td>0.12</td>\n      <td>0.25</td>\n    </tr>\n    <tr>\n      <th>7</th>\n      <td>8</td>\n      <td>0.56</td>\n      <td>0.25</td>\n      <td>NaN</td>\n      <td>NaN</td>\n    </tr>\n    <tr>\n      <th>9</th>\n      <td>10</td>\n      <td>0.50</td>\n      <td>0.24</td>\n      <td>0.12</td>\n      <td>0.25</td>\n    </tr>\n    <tr>\n      <th>1</th>\n      <td>2</td>\n      <td>0.49</td>\n      <td>0.16</td>\n      <td>NaN</td>\n      <td>NaN</td>\n    </tr>\n    <tr>\n      <th>10</th>\n      <td>11</td>\n      <td>0.47</td>\n      <td>0.11</td>\n      <td>0.25</td>\n      <td>0.50</td>\n    </tr>\n    <tr>\n      <th>28</th>\n      <td>29</td>\n      <td>0.42</td>\n      <td>0.09</td>\n      <td>0.50</td>\n      <td>0.58</td>\n    </tr>\n    <tr>\n      <th>18</th>\n      <td>19</td>\n      <td>0.34</td>\n      <td>0.31</td>\n      <td>NaN</td>\n      <td>NaN</td>\n    </tr>\n    <tr>\n      <th>27</th>\n      <td>28</td>\n      <td>0.32</td>\n      <td>0.06</td>\n      <td>NaN</td>\n      <td>NaN</td>\n    </tr>\n    <tr>\n      <th>3</th>\n      <td>4</td>\n      <td>0.32</td>\n      <td>0.33</td>\n      <td>NaN</td>\n      <td>NaN</td>\n    </tr>\n    <tr>\n      <th>19</th>\n      <td>20</td>\n      <td>0.31</td>\n      <td>0.14</td>\n      <td>0.12</td>\n      <td>0.25</td>\n    </tr>\n    <tr>\n      <th>26</th>\n      <td>27</td>\n      <td>NaN</td>\n      <td>NaN</td>\n      <td>0.50</td>\n      <td>0.58</td>\n    </tr>\n    <tr>\n      <th>13</th>\n      <td>14</td>\n      <td>NaN</td>\n      <td>NaN</td>\n      <td>0.38</td>\n      <td>0.48</td>\n    </tr>\n    <tr>\n      <th>4</th>\n      <td>5</td>\n      <td>NaN</td>\n      <td>NaN</td>\n      <td>0.12</td>\n      <td>0.25</td>\n    </tr>\n    <tr>\n      <th>29</th>\n      <td>30</td>\n      <td>NaN</td>\n      <td>NaN</td>\n      <td>0.00</td>\n      <td>0.00</td>\n    </tr>\n    <tr>\n      <th>2</th>\n      <td>3</td>\n      <td>NaN</td>\n      <td>NaN</td>\n      <td>NaN</td>\n      <td>NaN</td>\n    </tr>\n    <tr>\n      <th>5</th>\n      <td>6</td>\n      <td>NaN</td>\n      <td>NaN</td>\n      <td>NaN</td>\n      <td>NaN</td>\n    </tr>\n    <tr>\n      <th>6</th>\n      <td>7</td>\n      <td>NaN</td>\n      <td>NaN</td>\n      <td>NaN</td>\n      <td>NaN</td>\n    </tr>\n    <tr>\n      <th>12</th>\n      <td>13</td>\n      <td>NaN</td>\n      <td>NaN</td>\n      <td>NaN</td>\n      <td>NaN</td>\n    </tr>\n    <tr>\n      <th>15</th>\n      <td>16</td>\n      <td>NaN</td>\n      <td>NaN</td>\n      <td>NaN</td>\n      <td>NaN</td>\n    </tr>\n    <tr>\n      <th>17</th>\n      <td>18</td>\n      <td>NaN</td>\n      <td>NaN</td>\n      <td>NaN</td>\n      <td>NaN</td>\n    </tr>\n  </tbody>\n</table>\n</div>"
     },
     "execution_count": 60,
     "metadata": {},
     "output_type": "execute_result"
    }
   ],
   "source": [
    "df_topics = df.groupby(\"qid\").aggregate(\n",
    "    quality_score_mean=NamedAgg(column=\"quality_score\", aggfunc=\"mean\"),\n",
    "    quality_score_std=NamedAgg(column=\"quality_score\", aggfunc=\"std\"),\n",
    "    stance_score_mean=NamedAgg(column=\"stance_score\", aggfunc=\"mean\"),\n",
    "    stance_score_std=NamedAgg(column=\"stance_score\", aggfunc=\"std\"),\n",
    ").reset_index()\n",
    "df_topics.loc[df_topics[\"qid\"].isin(no_quality_topics), [\"quality_score_mean\", \"quality_score_std\"]] = nan\n",
    "df_topics.loc[df_topics[\"qid\"].isin(no_stance_topics), [\"stance_score_mean\", \"stance_score_std\"]] = nan\n",
    "df_topics.sort_values(by=[\"quality_score_mean\", \"stance_score_mean\"], ascending=False, inplace=True)\n",
    "df_topics = df_topics.round(decimals=2)\n",
    "df_topics"
   ],
   "metadata": {
    "collapsed": false,
    "ExecuteTime": {
     "end_time": "2023-10-04T10:14:59.687781370Z",
     "start_time": "2023-10-04T10:14:59.669671380Z"
    }
   },
   "id": "c2308b3fc0cd2dbd"
  },
  {
   "cell_type": "code",
   "execution_count": 104,
   "outputs": [
    {
     "data": {
      "text/plain": "     qid  docno                                        variable     value\n0      1      1   Content\\n(mean: 0.53, std: 0.3\\nmedian: 0.58)  0.833333\n1      1      2   Content\\n(mean: 0.53, std: 0.3\\nmedian: 0.58)  0.833333\n2      1      3   Content\\n(mean: 0.53, std: 0.3\\nmedian: 0.58)  0.666667\n3      1      4   Content\\n(mean: 0.53, std: 0.3\\nmedian: 0.58)  0.500000\n4      2      5   Content\\n(mean: 0.53, std: 0.3\\nmedian: 0.58)  0.666667\n..   ...    ...                                             ...       ...\n595   29    116  Quality\\n(mean: 0.55, std: 0.21\\nmedian: 0.57)  0.527273\n596   30    117  Quality\\n(mean: 0.55, std: 0.21\\nmedian: 0.57)  0.587879\n597   30    118  Quality\\n(mean: 0.55, std: 0.21\\nmedian: 0.57)  0.527273\n598   30    119  Quality\\n(mean: 0.55, std: 0.21\\nmedian: 0.57)  0.648485\n599   30    120  Quality\\n(mean: 0.55, std: 0.21\\nmedian: 0.57)       NaN\n\n[600 rows x 4 columns]",
      "text/html": "<div>\n<style scoped>\n    .dataframe tbody tr th:only-of-type {\n        vertical-align: middle;\n    }\n\n    .dataframe tbody tr th {\n        vertical-align: top;\n    }\n\n    .dataframe thead th {\n        text-align: right;\n    }\n</style>\n<table border=\"1\" class=\"dataframe\">\n  <thead>\n    <tr style=\"text-align: right;\">\n      <th></th>\n      <th>qid</th>\n      <th>docno</th>\n      <th>variable</th>\n      <th>value</th>\n    </tr>\n  </thead>\n  <tbody>\n    <tr>\n      <th>0</th>\n      <td>1</td>\n      <td>1</td>\n      <td>Content\\n(mean: 0.53, std: 0.3\\nmedian: 0.58)</td>\n      <td>0.833333</td>\n    </tr>\n    <tr>\n      <th>1</th>\n      <td>1</td>\n      <td>2</td>\n      <td>Content\\n(mean: 0.53, std: 0.3\\nmedian: 0.58)</td>\n      <td>0.833333</td>\n    </tr>\n    <tr>\n      <th>2</th>\n      <td>1</td>\n      <td>3</td>\n      <td>Content\\n(mean: 0.53, std: 0.3\\nmedian: 0.58)</td>\n      <td>0.666667</td>\n    </tr>\n    <tr>\n      <th>3</th>\n      <td>1</td>\n      <td>4</td>\n      <td>Content\\n(mean: 0.53, std: 0.3\\nmedian: 0.58)</td>\n      <td>0.500000</td>\n    </tr>\n    <tr>\n      <th>4</th>\n      <td>2</td>\n      <td>5</td>\n      <td>Content\\n(mean: 0.53, std: 0.3\\nmedian: 0.58)</td>\n      <td>0.666667</td>\n    </tr>\n    <tr>\n      <th>...</th>\n      <td>...</td>\n      <td>...</td>\n      <td>...</td>\n      <td>...</td>\n    </tr>\n    <tr>\n      <th>595</th>\n      <td>29</td>\n      <td>116</td>\n      <td>Quality\\n(mean: 0.55, std: 0.21\\nmedian: 0.57)</td>\n      <td>0.527273</td>\n    </tr>\n    <tr>\n      <th>596</th>\n      <td>30</td>\n      <td>117</td>\n      <td>Quality\\n(mean: 0.55, std: 0.21\\nmedian: 0.57)</td>\n      <td>0.587879</td>\n    </tr>\n    <tr>\n      <th>597</th>\n      <td>30</td>\n      <td>118</td>\n      <td>Quality\\n(mean: 0.55, std: 0.21\\nmedian: 0.57)</td>\n      <td>0.527273</td>\n    </tr>\n    <tr>\n      <th>598</th>\n      <td>30</td>\n      <td>119</td>\n      <td>Quality\\n(mean: 0.55, std: 0.21\\nmedian: 0.57)</td>\n      <td>0.648485</td>\n    </tr>\n    <tr>\n      <th>599</th>\n      <td>30</td>\n      <td>120</td>\n      <td>Quality\\n(mean: 0.55, std: 0.21\\nmedian: 0.57)</td>\n      <td>NaN</td>\n    </tr>\n  </tbody>\n</table>\n<p>600 rows × 4 columns</p>\n</div>"
     },
     "execution_count": 104,
     "metadata": {},
     "output_type": "execute_result"
    }
   ],
   "source": [
    "cols_plot = {\n",
    "    \"content_score\": \"Content\",\n",
    "    \"usability_score\": \"Usability\",\n",
    "    \"credibility_score\": \"Credibility\",\n",
    "    \"up_to_dateness_score\": \"Up-to-dateness\",\n",
    "    \"quality_score\": \"Quality\",\n",
    "}\n",
    "df_plot = df.melt(\n",
    "    id_vars=[\"qid\", \"docno\"],\n",
    "    value_vars=cols_plot.keys(),\n",
    ")\n",
    "for col, col_name in cols_plot.items():\n",
    "    col_mean = df[col].mean().round(decimals=2)\n",
    "    col_median = df[col].median().round(decimals=2)\n",
    "    col_std = df[col].std().round(decimals=2)\n",
    "    col_name = f\"{col_name}\\n(mean: {col_mean}, std: {col_std}\\nmedian: {col_median})\"\n",
    "    df_plot[\"variable\"].replace(col, col_name, inplace=True)\n",
    "df_plot"
   ],
   "metadata": {
    "collapsed": false,
    "ExecuteTime": {
     "end_time": "2023-10-04T11:24:16.950405075Z",
     "start_time": "2023-10-04T11:24:16.907731456Z"
    }
   },
   "id": "632587665b968dc4"
  },
  {
   "cell_type": "code",
   "execution_count": 101,
   "outputs": [
    {
     "data": {
      "text/plain": "<Figure size 1500x300 with 5 Axes>",
      "image/png": "[encoded data removed]"
     },
     "metadata": {},
     "output_type": "display_data"
    }
   ],
   "source": [
    "set_theme(\n",
    "    style=\"ticks\",\n",
    "    palette=\"colorblind\",\n",
    "    font_scale=1.0,\n",
    "    font=\"sans-serif\",\n",
    ")\n",
    "plot = FacetGrid(\n",
    "    df_plot,\n",
    "    col=\"variable\",\n",
    ")\n",
    "plot.map_dataframe(\n",
    "    histplot,\n",
    "    x=\"value\",\n",
    ")\n",
    "plot.set_titles(template=\"{col_name}\")\n",
    "plot.set_xlabels(label=\"Score\")\n",
    "plot.savefig(\"../data/figures/quality-score-distributions.pdf\")"
   ],
   "metadata": {
    "collapsed": false,
    "ExecuteTime": {
     "end_time": "2023-10-04T11:21:06.413169103Z",
     "start_time": "2023-10-04T11:21:05.364093530Z"
    }
   },
   "id": "b88b2158b9d00fc4"
  },
  {
   "cell_type": "code",
   "execution_count": null,
   "outputs": [],
   "source": [],
   "metadata": {
    "collapsed": false
   },
   "id": "6547f4bcbd6fae8e"
  }
 ],
 "metadata": {
  "kernelspec": {
   "display_name": "Python 3",
   "language": "python",
   "name": "python3"
  },
  "language_info": {
   "codemirror_mode": {
    "name": "ipython",
    "version": 2
   },
   "file_extension": ".py",
   "mimetype": "text/x-python",
   "name": "python",
   "nbconvert_exporter": "python",
   "pygments_lexer": "ipython2",
   "version": "2.7.6"
  }
 },
 "nbformat": 4,
 "nbformat_minor": 5
}
