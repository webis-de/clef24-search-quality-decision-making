{
 "cells": [
  {
   "cell_type": "code",
   "execution_count": null,
   "id": "e4f72d14fe64e74a",
   "metadata": {
    "ExecuteTime": {
     "end_time": "2023-10-11T07:15:10.010781339Z",
     "start_time": "2023-10-11T07:15:10.002344210Z"
    },
    "collapsed": false
   },
   "outputs": [],
   "source": [
    "from math import nan\n",
    "\n",
    "from pandas import read_excel, DataFrame, NamedAgg\n",
    "from scipy.stats import kendalltau\n",
    "from seaborn import FacetGrid, histplot, set_theme"
   ]
  },
  {
   "cell_type": "code",
   "execution_count": null,
   "id": "initial_id",
   "metadata": {
    "ExecuteTime": {
     "end_time": "2023-10-11T07:49:03.335557534Z",
     "start_time": "2023-10-11T07:49:03.246385761Z"
    },
    "collapsed": true
   },
   "outputs": [],
   "source": [
    "df: DataFrame = read_excel(\"../data/06-study.xlsx\", sheet_name=\"05 Quality\", header=0)\n",
    "df.rename(columns={\n",
    "    \"1.1.\": \"qid\",\n",
    "    \"1.2.\": \"docno\",\n",
    "    \"1.3.\": \"query\",\n",
    "    \"1.4.\": \"description\",\n",
    "    \"Relevanzkriterium\": \"narrative\",\n",
    "    \"1.5.\": \"url\",\n",
    "    \"1.6.\": \"object1\",\n",
    "    \"1.7.\": \"object2\",\n",
    "    \"2.1.\": \"stance_mentioned_objects\",\n",
    "    \"2.1.A.\": \"stance_mentioned_object1\",\n",
    "    \"2.1.B.\": \"stance_mentioned_object2\",\n",
    "    \"2.2.\": \"stance_most_detailed_objects\",\n",
    "    \"2.2.A.\": \"stance_most_detailed_object1\",\n",
    "    \"2.2.B.\": \"stance_most_detailed_object2\",\n",
    "    \"2.3.\": \"stance_favored_objects\",\n",
    "    \"2.3.1.\": \"stance_strength\",\n",
    "    \"2.3.A.\": \"stance_favored_object1\",\n",
    "    \"2.3.B.\": \"stance_favored_object2\",\n",
    "    \"I-Haltung\": \"stance_score\",\n",
    "    \"3.1.\": \"content_information_depth\",\n",
    "    \"3.2.\": \"content_wordiness\",\n",
    "    \"3.2.score\": \"content_wordiness_score\",\n",
    "    \"3.3.\": \"content_rhetoric\",\n",
    "    \"3.3.score\": \"content_rhetoric_score\",\n",
    "    \"I-Inhalt\": \"content_score\",\n",
    "    \"4.1.1.\": \"usability_design_elements_text\",\n",
    "    \"4.1.2.\": \"usability_design_elements_tables\",\n",
    "    \"4.1.3.\": \"usability_design_elements_pictures_graphics\",\n",
    "    \"4.1.4.\": \"usability_design_elements_key_points\",\n",
    "    \"4.1.5.\": \"usability_design_elements_question_answer\",\n",
    "    \"4.1.6.\": \"usability_design_elements_interviews\",\n",
    "    \"4.1.7.\": \"usability_design_elements_animations_interactive_media\",\n",
    "    \"4.1.99.\": \"usability_design_elements_none\",\n",
    "    \"4.2.\": \"usability_readability\",\n",
    "    \"4.2.score\": \"usability_readability_score\",\n",
    "    \"I-Nutzbarkeit\": \"usability_score\",\n",
    "    \"5.1.\": \"credibility_source\",\n",
    "    \"5.1.score\": \"credibility_source_score\",\n",
    "    \"5.2.\": \"credibility_author\",\n",
    "    \"5.2.score\": \"credibility_author_score\",\n",
    "    \"5.3.\": \"credibility_truthfulness\",\n",
    "    \"5.3.score\": \"credibility_truthfulness_score\",\n",
    "    \"5.4.\": \"credibility_verifiability\",\n",
    "    \"I-Glaubwürdigkeit\": \"credibility_score\",\n",
    "    \"6.1.\": \"up_to_dateness_date\",\n",
    "    \"6.1.score\": \"up_to_dateness_date_score\",\n",
    "    \"6.2.\": \"up_to_dateness_updates\",\n",
    "    \"6.2.score\": \"up_to_dateness_updates_score\",\n",
    "    \"I-Aktualität\": \"up_to_dateness_score\",\n",
    "    \"6.3.\": \"???\",\n",
    "    \"7\": \"relevance\",\n",
    "    \"7.1.\": \"relevance_score\",\n",
    "    \"I-Qualität\": \"quality_score\",\n",
    "\n",
    "}, inplace=True)\n",
    "df[\"content_information_depth_score\"] = df[\"content_information_depth\"]\n",
    "df[\"usability_design_elements_score\"] = (\n",
    "        df[\"usability_design_elements_text\"]\n",
    "        + df[\"usability_design_elements_tables\"]\n",
    "        + df[\"usability_design_elements_pictures_graphics\"]\n",
    "        + df[\"usability_design_elements_key_points\"]\n",
    "        + df[\"usability_design_elements_question_answer\"]\n",
    "        + df[\"usability_design_elements_interviews\"]\n",
    "        - df[\"usability_design_elements_animations_interactive_media\"]\n",
    ")\n",
    "df[\"credibility_verifiability_score\"] = df[\"credibility_verifiability\"]\n",
    "df.drop(columns=[\n",
    "    \"query\",\n",
    "    \"description\",\n",
    "    \"narrative\",\n",
    "    \"url\",\n",
    "    \"object1\",\n",
    "    \"object2\",\n",
    "    \"stance_mentioned_objects\",\n",
    "    \"stance_mentioned_object1\",\n",
    "    \"stance_mentioned_object2\",\n",
    "    \"stance_most_detailed_objects\",\n",
    "    \"stance_most_detailed_object1\",\n",
    "    \"stance_most_detailed_object2\",\n",
    "    \"stance_favored_objects\",\n",
    "    # \"stance_strength\",\n",
    "    \"stance_favored_object1\",\n",
    "    \"stance_favored_object2\",\n",
    "    \"content_information_depth\",\n",
    "    \"content_information_depth_score\",\n",
    "    \"content_wordiness\",\n",
    "    \"content_wordiness_score\",\n",
    "    \"content_rhetoric\",\n",
    "    \"content_rhetoric_score\",\n",
    "    \"usability_design_elements_text\",\n",
    "    \"usability_design_elements_tables\",\n",
    "    \"usability_design_elements_pictures_graphics\",\n",
    "    \"usability_design_elements_key_points\",\n",
    "    \"usability_design_elements_question_answer\",\n",
    "    \"usability_design_elements_interviews\",\n",
    "    \"usability_design_elements_animations_interactive_media\",\n",
    "    \"usability_design_elements_none\",\n",
    "    \"usability_design_elements_score\",\n",
    "    \"usability_readability\",\n",
    "    \"usability_readability_score\",\n",
    "    \"credibility_source\",\n",
    "    \"credibility_source_score\",\n",
    "    \"credibility_author\",\n",
    "    \"credibility_author_score\",\n",
    "    \"credibility_truthfulness\",\n",
    "    \"credibility_truthfulness_score\",\n",
    "    \"credibility_verifiability\",\n",
    "    \"credibility_verifiability_score\",\n",
    "    \"up_to_dateness_date\",\n",
    "    \"up_to_dateness_date_score\",\n",
    "    \"up_to_dateness_updates\",\n",
    "    \"up_to_dateness_updates_score\",\n",
    "    # \"relevance\",\n",
    "    # \"relevance_score\",\n",
    "    \"???\",\n",
    "], inplace=True)\n",
    "df[\"rank\"] = df.groupby(\"qid\")[\"docno\"].rank(method=\"dense\", ascending=True).astype(int)\n",
    "df"
   ]
  },
  {
   "cell_type": "code",
   "execution_count": null,
   "id": "6547f4bcbd6fae8e",
   "metadata": {
    "ExecuteTime": {
     "end_time": "2023-10-11T07:44:43.302356214Z",
     "start_time": "2023-10-11T07:44:43.253433778Z"
    },
    "collapsed": false
   },
   "outputs": [],
   "source": [
    "df_corr = df.copy()\n",
    "df_corr = df_corr[df_corr[\"quality_score\"].notna()]\n",
    "kendalltau(-df_corr[\"rank\"], df_corr[\"quality_score\"])"
   ]
  },
  {
   "cell_type": "code",
   "execution_count": null,
   "id": "64ee6acdf8dcaecb",
   "metadata": {
    "ExecuteTime": {
     "end_time": "2023-10-11T07:49:38.035807528Z",
     "start_time": "2023-10-11T07:49:38.018901756Z"
    },
    "collapsed": false
   },
   "outputs": [],
   "source": [
    "df_corr = df.copy()\n",
    "df_corr = df_corr[df_corr[\"relevance_score\"].notna()]\n",
    "kendalltau(-df_corr[\"rank\"], df_corr[\"relevance_score\"])"
   ]
  },
  {
   "cell_type": "code",
   "execution_count": null,
   "id": "2eaae961562dacaf",
   "metadata": {
    "ExecuteTime": {
     "end_time": "2023-10-11T07:49:38.315134440Z",
     "start_time": "2023-10-11T07:49:38.306472994Z"
    },
    "collapsed": false
   },
   "outputs": [],
   "source": [
    "df_corr = df.copy()\n",
    "df_corr = df_corr[df_corr[\"quality_score\"].notna() & df_corr[\"relevance_score\"].notna()]\n",
    "kendalltau(df_corr[\"quality_score\"], df_corr[\"relevance_score\"])"
   ]
  },
  {
   "cell_type": "code",
   "execution_count": null,
   "id": "670439579acd2567",
   "metadata": {
    "ExecuteTime": {
     "start_time": "2023-10-10T13:09:44.618939416Z"
    },
    "collapsed": false
   },
   "outputs": [],
   "source": [
    "no_quality_topics = df[df[\"quality_score\"].isna()][\"qid\"].unique()\n",
    "no_stance_topics = df[df[\"stance_score\"].isna()][\"qid\"].unique()"
   ]
  },
  {
   "cell_type": "code",
   "execution_count": null,
   "id": "c2308b3fc0cd2dbd",
   "metadata": {
    "ExecuteTime": {
     "start_time": "2023-10-04T10:14:59.669671380Z"
    },
    "collapsed": false
   },
   "outputs": [],
   "source": [
    "df_topics = df.groupby(\"qid\").aggregate(\n",
    "    quality_score_mean=NamedAgg(column=\"quality_score\", aggfunc=\"mean\"),\n",
    "    quality_score_std=NamedAgg(column=\"quality_score\", aggfunc=\"std\"),\n",
    "    stance_score_mean=NamedAgg(column=\"stance_score\", aggfunc=\"mean\"),\n",
    "    stance_score_std=NamedAgg(column=\"stance_score\", aggfunc=\"std\"),\n",
    ").reset_index()\n",
    "df_topics.loc[df_topics[\"qid\"].isin(no_quality_topics), [\"quality_score_mean\", \"quality_score_std\"]] = nan\n",
    "df_topics.loc[df_topics[\"qid\"].isin(no_stance_topics), [\"stance_score_mean\", \"stance_score_std\"]] = nan\n",
    "df_topics.sort_values(by=[\"quality_score_mean\", \"stance_score_mean\"], ascending=False, inplace=True)\n",
    "df_topics = df_topics.round(decimals=2)\n",
    "df_topics"
   ]
  },
  {
   "cell_type": "code",
   "execution_count": null,
   "id": "6b047e39",
   "metadata": {},
   "outputs": [],
   "source": [
    "# Copy-paste into user study evaluation notebook as the quality threshold.\n",
    "df[\"quality_score\"].median()"
   ]
  },
  {
   "cell_type": "code",
   "execution_count": null,
   "id": "632587665b968dc4",
   "metadata": {
    "ExecuteTime": {
     "start_time": "2023-10-04T11:24:16.907731456Z"
    },
    "collapsed": false
   },
   "outputs": [],
   "source": [
    "cols_plot = {\n",
    "    \"content_score\": \"Content\",\n",
    "    \"usability_score\": \"Usability\",\n",
    "    \"credibility_score\": \"Credibility\",\n",
    "    \"up_to_dateness_score\": \"Up-to-dateness\",\n",
    "    \"quality_score\": \"Quality\",\n",
    "}\n",
    "df_plot = df.melt(\n",
    "    id_vars=[\"qid\", \"docno\"],\n",
    "    value_vars=cols_plot.keys(),\n",
    ")\n",
    "for col, col_name in cols_plot.items():\n",
    "    col_mean = df[col].mean().round(decimals=2)\n",
    "    col_median = df[col].median().round(decimals=2)\n",
    "    col_std = df[col].std().round(decimals=2)\n",
    "    col_name = f\"{col_name}\\n(mean: {col_mean}, std: {col_std}\\nmedian: {col_median})\"\n",
    "    df_plot[\"variable\"].replace(col, col_name, inplace=True)\n",
    "df_plot"
   ]
  },
  {
   "cell_type": "code",
   "execution_count": null,
   "id": "b88b2158b9d00fc4",
   "metadata": {
    "ExecuteTime": {
     "start_time": "2023-10-04T11:21:05.364093530Z"
    },
    "collapsed": false
   },
   "outputs": [],
   "source": [
    "set_theme(\n",
    "    style=\"ticks\",\n",
    "    palette=\"colorblind\",\n",
    "    font_scale=1.0,\n",
    "    font=\"sans-serif\",\n",
    ")\n",
    "plot = FacetGrid(\n",
    "    df_plot,\n",
    "    col=\"variable\",\n",
    ")\n",
    "plot.map_dataframe(\n",
    "    histplot,\n",
    "    x=\"value\",\n",
    ")\n",
    "plot.set_titles(template=\"{col_name}\")\n",
    "plot.set_xlabels(label=\"Score\")\n",
    "plot.savefig(\"../data/figures/quality-score-distributions.pdf\")\n",
    "plot"
   ]
  },
  {
   "cell_type": "code",
   "execution_count": null,
   "id": "ffe2de8b86dd5234",
   "metadata": {
    "collapsed": false
   },
   "outputs": [],
   "source": []
  }
 ],
 "metadata": {
  "kernelspec": {
   "display_name": "Python 3",
   "language": "python",
   "name": "python3"
  },
  "language_info": {
   "codemirror_mode": {
    "name": "ipython",
    "version": 3
   },
   "file_extension": ".py",
   "mimetype": "text/x-python",
   "name": "python",
   "nbconvert_exporter": "python",
   "pygments_lexer": "ipython3",
   "version": "3.11.9"
  }
 },
 "nbformat": 4,
 "nbformat_minor": 5
}
