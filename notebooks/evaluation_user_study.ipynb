{
 "cells": [
  {
   "cell_type": "code",
   "execution_count": 649,
   "id": "e4f72d14fe64e74a",
   "metadata": {
    "ExecuteTime": {
     "end_time": "2023-10-20T00:33:44.934193136Z",
     "start_time": "2023-10-20T00:33:42.412045392Z"
    },
    "collapsed": false
   },
   "outputs": [],
   "source": [
    "from math import nan, isnan\n",
    "\n",
    "from pandas import read_excel, DataFrame, to_datetime, concat, Categorical, crosstab, Series\n",
    "from scipy.stats import pearsonr, chi2_contingency\n",
    "from scipy.stats.contingency import Chi2ContingencyResult\n",
    "from seaborn import set_theme, displot, move_legend"
   ]
  },
  {
   "cell_type": "code",
   "execution_count": 650,
   "id": "initial_id",
   "metadata": {
    "ExecuteTime": {
     "end_time": "2023-10-20T00:33:59.624028506Z",
     "start_time": "2023-10-20T00:33:42.451618180Z"
    },
    "collapsed": true
   },
   "outputs": [
    {
     "data": {
      "text/html": [
       "<div>\n",
       "<style scoped>\n",
       "    .dataframe tbody tr th:only-of-type {\n",
       "        vertical-align: middle;\n",
       "    }\n",
       "\n",
       "    .dataframe tbody tr th {\n",
       "        vertical-align: top;\n",
       "    }\n",
       "\n",
       "    .dataframe thead th {\n",
       "        text-align: right;\n",
       "    }\n",
       "</style>\n",
       "<table border=\"1\" class=\"dataframe\">\n",
       "  <thead>\n",
       "    <tr style=\"text-align: right;\">\n",
       "      <th></th>\n",
       "      <th>survey_id</th>\n",
       "      <th>qid</th>\n",
       "      <th>prior_knowledge</th>\n",
       "      <th>confidence_before_search</th>\n",
       "      <th>confidence_after_search</th>\n",
       "      <th>quality_score</th>\n",
       "      <th>quality_score_document1</th>\n",
       "      <th>quality_score_document2</th>\n",
       "      <th>quality_score_document3</th>\n",
       "      <th>quality_score_document4</th>\n",
       "      <th>...</th>\n",
       "      <th>has_fully_read_document4</th>\n",
       "      <th>stance_direction_document4</th>\n",
       "      <th>stance_strength_document4</th>\n",
       "      <th>decision_before_search_none</th>\n",
       "      <th>decision_after_search_none</th>\n",
       "      <th>confidence_delta</th>\n",
       "      <th>decision_unchanged</th>\n",
       "      <th>decision_changed</th>\n",
       "      <th>num_influencing_documents</th>\n",
       "      <th>relevance</th>\n",
       "    </tr>\n",
       "  </thead>\n",
       "  <tbody>\n",
       "    <tr>\n",
       "      <th>0</th>\n",
       "      <td>0</td>\n",
       "      <td>28</td>\n",
       "      <td>False</td>\n",
       "      <td>3.0</td>\n",
       "      <td>3.0</td>\n",
       "      <td>0.322727</td>\n",
       "      <td>0.251515</td>\n",
       "      <td>0.372727</td>\n",
       "      <td>0.293939</td>\n",
       "      <td>0.372727</td>\n",
       "      <td>...</td>\n",
       "      <td>False</td>\n",
       "      <td>NaN</td>\n",
       "      <td>NaN</td>\n",
       "      <td>True</td>\n",
       "      <td>True</td>\n",
       "      <td>0.0</td>\n",
       "      <td>True</td>\n",
       "      <td>False</td>\n",
       "      <td>0</td>\n",
       "      <td>0.75</td>\n",
       "    </tr>\n",
       "    <tr>\n",
       "      <th>1</th>\n",
       "      <td>1</td>\n",
       "      <td>28</td>\n",
       "      <td>False</td>\n",
       "      <td>4.0</td>\n",
       "      <td>5.0</td>\n",
       "      <td>0.322727</td>\n",
       "      <td>0.251515</td>\n",
       "      <td>0.372727</td>\n",
       "      <td>0.293939</td>\n",
       "      <td>0.372727</td>\n",
       "      <td>...</td>\n",
       "      <td>True</td>\n",
       "      <td>NaN</td>\n",
       "      <td>NaN</td>\n",
       "      <td>False</td>\n",
       "      <td>True</td>\n",
       "      <td>1.0</td>\n",
       "      <td>False</td>\n",
       "      <td>True</td>\n",
       "      <td>2</td>\n",
       "      <td>0.75</td>\n",
       "    </tr>\n",
       "    <tr>\n",
       "      <th>2</th>\n",
       "      <td>2</td>\n",
       "      <td>28</td>\n",
       "      <td>False</td>\n",
       "      <td>3.0</td>\n",
       "      <td>3.0</td>\n",
       "      <td>0.322727</td>\n",
       "      <td>0.251515</td>\n",
       "      <td>0.372727</td>\n",
       "      <td>0.293939</td>\n",
       "      <td>0.372727</td>\n",
       "      <td>...</td>\n",
       "      <td>False</td>\n",
       "      <td>NaN</td>\n",
       "      <td>NaN</td>\n",
       "      <td>True</td>\n",
       "      <td>True</td>\n",
       "      <td>0.0</td>\n",
       "      <td>True</td>\n",
       "      <td>False</td>\n",
       "      <td>0</td>\n",
       "      <td>0.75</td>\n",
       "    </tr>\n",
       "    <tr>\n",
       "      <th>3</th>\n",
       "      <td>3</td>\n",
       "      <td>28</td>\n",
       "      <td>False</td>\n",
       "      <td>1.0</td>\n",
       "      <td>3.0</td>\n",
       "      <td>0.322727</td>\n",
       "      <td>0.251515</td>\n",
       "      <td>0.372727</td>\n",
       "      <td>0.293939</td>\n",
       "      <td>0.372727</td>\n",
       "      <td>...</td>\n",
       "      <td>False</td>\n",
       "      <td>NaN</td>\n",
       "      <td>NaN</td>\n",
       "      <td>True</td>\n",
       "      <td>True</td>\n",
       "      <td>2.0</td>\n",
       "      <td>True</td>\n",
       "      <td>False</td>\n",
       "      <td>0</td>\n",
       "      <td>0.75</td>\n",
       "    </tr>\n",
       "    <tr>\n",
       "      <th>4</th>\n",
       "      <td>4</td>\n",
       "      <td>28</td>\n",
       "      <td>True</td>\n",
       "      <td>3.0</td>\n",
       "      <td>6.0</td>\n",
       "      <td>0.322727</td>\n",
       "      <td>0.251515</td>\n",
       "      <td>0.372727</td>\n",
       "      <td>0.293939</td>\n",
       "      <td>0.372727</td>\n",
       "      <td>...</td>\n",
       "      <td>False</td>\n",
       "      <td>NaN</td>\n",
       "      <td>NaN</td>\n",
       "      <td>False</td>\n",
       "      <td>True</td>\n",
       "      <td>3.0</td>\n",
       "      <td>False</td>\n",
       "      <td>True</td>\n",
       "      <td>1</td>\n",
       "      <td>0.75</td>\n",
       "    </tr>\n",
       "    <tr>\n",
       "      <th>...</th>\n",
       "      <td>...</td>\n",
       "      <td>...</td>\n",
       "      <td>...</td>\n",
       "      <td>...</td>\n",
       "      <td>...</td>\n",
       "      <td>...</td>\n",
       "      <td>...</td>\n",
       "      <td>...</td>\n",
       "      <td>...</td>\n",
       "      <td>...</td>\n",
       "      <td>...</td>\n",
       "      <td>...</td>\n",
       "      <td>...</td>\n",
       "      <td>...</td>\n",
       "      <td>...</td>\n",
       "      <td>...</td>\n",
       "      <td>...</td>\n",
       "      <td>...</td>\n",
       "      <td>...</td>\n",
       "      <td>...</td>\n",
       "      <td>...</td>\n",
       "    </tr>\n",
       "    <tr>\n",
       "      <th>549</th>\n",
       "      <td>549</td>\n",
       "      <td>10</td>\n",
       "      <td>False</td>\n",
       "      <td>6.0</td>\n",
       "      <td>4.0</td>\n",
       "      <td>0.503788</td>\n",
       "      <td>0.581818</td>\n",
       "      <td>0.739394</td>\n",
       "      <td>0.521212</td>\n",
       "      <td>0.172727</td>\n",
       "      <td>...</td>\n",
       "      <td>False</td>\n",
       "      <td>neutral</td>\n",
       "      <td>0.0</td>\n",
       "      <td>True</td>\n",
       "      <td>False</td>\n",
       "      <td>-2.0</td>\n",
       "      <td>False</td>\n",
       "      <td>True</td>\n",
       "      <td>3</td>\n",
       "      <td>0.75</td>\n",
       "    </tr>\n",
       "    <tr>\n",
       "      <th>550</th>\n",
       "      <td>550</td>\n",
       "      <td>10</td>\n",
       "      <td>False</td>\n",
       "      <td>5.0</td>\n",
       "      <td>6.0</td>\n",
       "      <td>0.503788</td>\n",
       "      <td>0.581818</td>\n",
       "      <td>0.739394</td>\n",
       "      <td>0.521212</td>\n",
       "      <td>0.172727</td>\n",
       "      <td>...</td>\n",
       "      <td>False</td>\n",
       "      <td>neutral</td>\n",
       "      <td>0.0</td>\n",
       "      <td>False</td>\n",
       "      <td>False</td>\n",
       "      <td>1.0</td>\n",
       "      <td>False</td>\n",
       "      <td>True</td>\n",
       "      <td>1</td>\n",
       "      <td>0.75</td>\n",
       "    </tr>\n",
       "    <tr>\n",
       "      <th>551</th>\n",
       "      <td>551</td>\n",
       "      <td>10</td>\n",
       "      <td>False</td>\n",
       "      <td>2.0</td>\n",
       "      <td>3.0</td>\n",
       "      <td>0.503788</td>\n",
       "      <td>0.581818</td>\n",
       "      <td>0.739394</td>\n",
       "      <td>0.521212</td>\n",
       "      <td>0.172727</td>\n",
       "      <td>...</td>\n",
       "      <td>False</td>\n",
       "      <td>neutral</td>\n",
       "      <td>0.0</td>\n",
       "      <td>False</td>\n",
       "      <td>False</td>\n",
       "      <td>1.0</td>\n",
       "      <td>True</td>\n",
       "      <td>False</td>\n",
       "      <td>2</td>\n",
       "      <td>0.75</td>\n",
       "    </tr>\n",
       "    <tr>\n",
       "      <th>552</th>\n",
       "      <td>552</td>\n",
       "      <td>10</td>\n",
       "      <td>True</td>\n",
       "      <td>4.0</td>\n",
       "      <td>6.0</td>\n",
       "      <td>0.503788</td>\n",
       "      <td>0.581818</td>\n",
       "      <td>0.739394</td>\n",
       "      <td>0.521212</td>\n",
       "      <td>0.172727</td>\n",
       "      <td>...</td>\n",
       "      <td>True</td>\n",
       "      <td>neutral</td>\n",
       "      <td>0.0</td>\n",
       "      <td>False</td>\n",
       "      <td>False</td>\n",
       "      <td>2.0</td>\n",
       "      <td>True</td>\n",
       "      <td>False</td>\n",
       "      <td>4</td>\n",
       "      <td>0.75</td>\n",
       "    </tr>\n",
       "    <tr>\n",
       "      <th>553</th>\n",
       "      <td>553</td>\n",
       "      <td>10</td>\n",
       "      <td>False</td>\n",
       "      <td>1.0</td>\n",
       "      <td>2.0</td>\n",
       "      <td>0.503788</td>\n",
       "      <td>0.581818</td>\n",
       "      <td>0.739394</td>\n",
       "      <td>0.521212</td>\n",
       "      <td>0.172727</td>\n",
       "      <td>...</td>\n",
       "      <td>False</td>\n",
       "      <td>neutral</td>\n",
       "      <td>0.0</td>\n",
       "      <td>False</td>\n",
       "      <td>False</td>\n",
       "      <td>1.0</td>\n",
       "      <td>True</td>\n",
       "      <td>False</td>\n",
       "      <td>1</td>\n",
       "      <td>0.75</td>\n",
       "    </tr>\n",
       "  </tbody>\n",
       "</table>\n",
       "<p>554 rows × 55 columns</p>\n",
       "</div>"
      ],
      "text/plain": [
       "     survey_id  qid  prior_knowledge  confidence_before_search  \\\n",
       "0            0   28            False                       3.0   \n",
       "1            1   28            False                       4.0   \n",
       "2            2   28            False                       3.0   \n",
       "3            3   28            False                       1.0   \n",
       "4            4   28             True                       3.0   \n",
       "..         ...  ...              ...                       ...   \n",
       "549        549   10            False                       6.0   \n",
       "550        550   10            False                       5.0   \n",
       "551        551   10            False                       2.0   \n",
       "552        552   10             True                       4.0   \n",
       "553        553   10            False                       1.0   \n",
       "\n",
       "     confidence_after_search  quality_score  quality_score_document1  \\\n",
       "0                        3.0       0.322727                 0.251515   \n",
       "1                        5.0       0.322727                 0.251515   \n",
       "2                        3.0       0.322727                 0.251515   \n",
       "3                        3.0       0.322727                 0.251515   \n",
       "4                        6.0       0.322727                 0.251515   \n",
       "..                       ...            ...                      ...   \n",
       "549                      4.0       0.503788                 0.581818   \n",
       "550                      6.0       0.503788                 0.581818   \n",
       "551                      3.0       0.503788                 0.581818   \n",
       "552                      6.0       0.503788                 0.581818   \n",
       "553                      2.0       0.503788                 0.581818   \n",
       "\n",
       "     quality_score_document2  quality_score_document3  \\\n",
       "0                   0.372727                 0.293939   \n",
       "1                   0.372727                 0.293939   \n",
       "2                   0.372727                 0.293939   \n",
       "3                   0.372727                 0.293939   \n",
       "4                   0.372727                 0.293939   \n",
       "..                       ...                      ...   \n",
       "549                 0.739394                 0.521212   \n",
       "550                 0.739394                 0.521212   \n",
       "551                 0.739394                 0.521212   \n",
       "552                 0.739394                 0.521212   \n",
       "553                 0.739394                 0.521212   \n",
       "\n",
       "     quality_score_document4  ...  has_fully_read_document4  \\\n",
       "0                   0.372727  ...                     False   \n",
       "1                   0.372727  ...                      True   \n",
       "2                   0.372727  ...                     False   \n",
       "3                   0.372727  ...                     False   \n",
       "4                   0.372727  ...                     False   \n",
       "..                       ...  ...                       ...   \n",
       "549                 0.172727  ...                     False   \n",
       "550                 0.172727  ...                     False   \n",
       "551                 0.172727  ...                     False   \n",
       "552                 0.172727  ...                      True   \n",
       "553                 0.172727  ...                     False   \n",
       "\n",
       "     stance_direction_document4  stance_strength_document4  \\\n",
       "0                           NaN                        NaN   \n",
       "1                           NaN                        NaN   \n",
       "2                           NaN                        NaN   \n",
       "3                           NaN                        NaN   \n",
       "4                           NaN                        NaN   \n",
       "..                          ...                        ...   \n",
       "549                     neutral                        0.0   \n",
       "550                     neutral                        0.0   \n",
       "551                     neutral                        0.0   \n",
       "552                     neutral                        0.0   \n",
       "553                     neutral                        0.0   \n",
       "\n",
       "     decision_before_search_none  decision_after_search_none  \\\n",
       "0                           True                        True   \n",
       "1                          False                        True   \n",
       "2                           True                        True   \n",
       "3                           True                        True   \n",
       "4                          False                        True   \n",
       "..                           ...                         ...   \n",
       "549                         True                       False   \n",
       "550                        False                       False   \n",
       "551                        False                       False   \n",
       "552                        False                       False   \n",
       "553                        False                       False   \n",
       "\n",
       "     confidence_delta  decision_unchanged  decision_changed  \\\n",
       "0                 0.0                True             False   \n",
       "1                 1.0               False              True   \n",
       "2                 0.0                True             False   \n",
       "3                 2.0                True             False   \n",
       "4                 3.0               False              True   \n",
       "..                ...                 ...               ...   \n",
       "549              -2.0               False              True   \n",
       "550               1.0               False              True   \n",
       "551               1.0                True             False   \n",
       "552               2.0                True             False   \n",
       "553               1.0                True             False   \n",
       "\n",
       "    num_influencing_documents  relevance  \n",
       "0                           0       0.75  \n",
       "1                           2       0.75  \n",
       "2                           0       0.75  \n",
       "3                           0       0.75  \n",
       "4                           1       0.75  \n",
       "..                        ...        ...  \n",
       "549                         3       0.75  \n",
       "550                         1       0.75  \n",
       "551                         2       0.75  \n",
       "552                         4       0.75  \n",
       "553                         1       0.75  \n",
       "\n",
       "[554 rows x 55 columns]"
      ]
     },
     "execution_count": 650,
     "metadata": {},
     "output_type": "execute_result"
    }
   ],
   "source": [
    "df: DataFrame = read_excel(\"../data/06-study.xlsx\", sheet_name=\"07 Survey\", header=0)\n",
    "df.rename(columns={\n",
    "    \"V1\": \"survey_id\",\n",
    "    \"Zeitstempel\": \"datetime\",\n",
    "    \"FrageNr\": \"qid\",\n",
    "    \"Fachlichpersönlich\": \"background\",\n",
    "    \"ObjektA\": \"object1\",\n",
    "    \"ObjektB\": \"object2\",\n",
    "    \"HastdudazuVorkenntnisse\": \"prior_knowledge\",\n",
    "    \"WiewürdestdudichohneweitergehendeRechercheentscheiden\": \"decision_before_search_raw\",\n",
    "    \"Wiesicherbistdudirdamit\": \"confidence_before_search\",\n",
    "    \"HastdudiesesDokumentgelesen\": \"has_read_document1\",\n",
    "    \"HastdudiesesDokumentgelesen_A\": \"has_read_document2\",\n",
    "    \"HastdudiesesDokumentgelesen_B\": \"has_read_document3\",\n",
    "    \"HastdudiesesDokumentgelesen_C\": \"has_read_document4\",\n",
    "    \"WieentscheidestdudichnachdemdudieseDokumentegelesenhast\": \"decision_after_search_raw\",\n",
    "    \"Wiesicherbistdudirjetztdamit\": \"confidence_after_search\",\n",
    "    \"WelchesDokumentehathabendeineEntscheidungbeeinflusst\": \"influencing_documents\",\n",
    "    \"WelchedieserAussagentrifftzu\": \"statements\",\n",
    "    \"Relevanz_Dok1\": \"relevance_document1\",\n",
    "    \"Relevanz_Dok2\": \"relevance_document2\",\n",
    "    \"Relevanz_Dok3\": \"relevance_document3\",\n",
    "    \"Relevanz_Dok4\": \"relevance_document4\",\n",
    "    \"Haltung_Dok1\": \"stance_document1\",\n",
    "    \"Haltung_Dok2\": \"stance_document2\",\n",
    "    \"Haltung_Dok3\": \"stance_document3\",\n",
    "    \"Haltung_Dok4\": \"stance_document4\",\n",
    "    \"Qualität_Dok1\": \"quality_score_document1\",\n",
    "    \"Qualität_Dok2\": \"quality_score_document2\",\n",
    "    \"Qualität_Dok3\": \"quality_score_document3\",\n",
    "    \"Qualität_Dok4\": \"quality_score_document4\",\n",
    "    \"Qualität_Gesamt\": \"quality_score\",\n",
    "    \"Entscheidung1A\": \"decision_before_search_object1\",\n",
    "    \"Entscheidung1B\": \"decision_before_search_object2\",\n",
    "    \"Entscheidung2A\": \"decision_after_search_object1\",\n",
    "    \"Entscheidung2B\": \"decision_after_search_object2\",\n",
    "    \"Beeinflussung1\": \"influence_document1\",\n",
    "    \"Beeinflussung2\": \"influence_document2\",\n",
    "    \"Beeinflussung3\": \"influence_document3\",\n",
    "    \"Beeinflussung4\": \"influence_document4\",\n",
    "    \"AussageDieRecherchehatmichinmeinerMeinungbestätigt\": \"statement_research_confirmed\",\n",
    "    \"AussageIchkannmichmithilfedieserSuchergebnissebesserentscheiden\": \"statement_research_helped\",\n",
    "    \"AussageDurchdieRecherchehabeichetwasNeueszudemThemagelernt\": \"statement_research_learned\",\n",
    "    \"AussageDieSuchergebnissehabenmirnichtgeholfen\": \"statement_research_not_helped\",\n",
    "    \"AussageIchwürdeandieserStellenochweiterrecherchieren\": \"statement_research_continue\",\n",
    "    \"EntscheidungVorher\": \"stance_before_search\",\n",
    "    \"EntscheidungVorherA\": \"stance_before_search_object1\",\n",
    "    \"EntscheidungVorherB\": \"stance_before_search_object2\",\n",
    "    \"EntscheidungNachher\": \"stance_after_search\",\n",
    "    \"EntscheidungNachherA\": \"stance_after_search_object1\",\n",
    "    \"EntscheidungNachherB\": \"stance_after_search_object2\",\n",
    "    \"EntscheidungVorherX\": \"stance_before_search_none\",\n",
    "    \"EntscheidungNachherX\": \"stance_after_search_none\",\n",
    "}, inplace=True)\n",
    "df[\"background\"] = df[\"background\"].map({\n",
    "    \"fachlich\": \"factual\",\n",
    "    \"persönlich\": \"subjective\",\n",
    "}).astype(\"category\")\n",
    "for doc in [1, 2, 3, 4]:\n",
    "    df[f\"has_partially_read_document{doc}\"] = df[f\"has_read_document{doc}\"].map({\n",
    "        \"Ja\": True,\n",
    "        \"Überflogen\": True,\n",
    "        \"Nein\": False,\n",
    "    })\n",
    "    df[f\"has_fully_read_document{doc}\"] = df[f\"has_read_document{doc}\"].map({\n",
    "        \"Ja\": True,\n",
    "        \"Überflogen\": False,\n",
    "        \"Nein\": False,\n",
    "    })\n",
    "    df[f\"stance_direction_document{doc}\"] = df[f\"stance_document{doc}\"].map({\n",
    "        1: \"object1\",\n",
    "        2: \"object1\",\n",
    "        3: \"neutral\",\n",
    "        4: \"object2\",\n",
    "        5: \"object2\",\n",
    "        6: nan,\n",
    "        nan: nan,\n",
    "    }, na_action=\"ignore\")\n",
    "    df[f\"stance_strength_document{doc}\"] = df[f\"stance_document{doc}\"].map({\n",
    "        1: 2,\n",
    "        2: 1,\n",
    "        3: 0,\n",
    "        4: 1,\n",
    "        5: 2,\n",
    "        6: nan,\n",
    "        nan: nan,\n",
    "    }, na_action=\"ignore\")\n",
    "df[\"prior_knowledge\"] = df[\"prior_knowledge\"].map({\n",
    "    \"Ja\": True,\n",
    "    \"Nein\": False,\n",
    "})\n",
    "df[\"datetime\"] = to_datetime(df[\"datetime\"], format=\"%d.%m.%Y %H:%M:%S\", utc=True)\n",
    "df.drop(columns=[\n",
    "    \"datetime\",\n",
    "    \"object1\",\n",
    "    \"object2\",\n",
    "    \"decision_before_search_raw\",\n",
    "    \"decision_after_search_raw\",\n",
    "    \"influencing_documents\",\n",
    "    \"statements\",\n",
    "    \"stance_before_search\",\n",
    "    \"stance_before_search_object1\",\n",
    "    \"stance_before_search_object2\",\n",
    "    \"stance_before_search_none\",\n",
    "    \"stance_after_search\",\n",
    "    \"stance_after_search_object1\",\n",
    "    \"stance_after_search_object2\",\n",
    "    \"stance_after_search_none\",\n",
    "    \"has_read_document1\",\n",
    "    \"has_read_document2\",\n",
    "    \"has_read_document3\",\n",
    "    \"has_read_document4\",\n",
    "], inplace=True)\n",
    "for col in [\n",
    "    \"decision_before_search_object1\",\n",
    "    \"decision_before_search_object2\",\n",
    "    \"decision_after_search_object1\",\n",
    "    \"decision_after_search_object2\",\n",
    "    \"influence_document1\",\n",
    "    \"influence_document2\",\n",
    "    \"influence_document3\",\n",
    "    \"influence_document4\",\n",
    "    \"statement_research_confirmed\",\n",
    "    \"statement_research_helped\",\n",
    "    \"statement_research_learned\",\n",
    "    \"statement_research_not_helped\",\n",
    "    \"statement_research_continue\",\n",
    "    \"relevance_document1\",\n",
    "    \"relevance_document2\",\n",
    "    \"relevance_document3\",\n",
    "    \"relevance_document4\",\n",
    "]:\n",
    "    df[col] = df[col].astype(bool)\n",
    "df[\"decision_before_search_none\"] = ~df[\"decision_before_search_object1\"] & ~df[\"decision_before_search_object2\"]\n",
    "df[\"decision_after_search_none\"] = ~df[\"decision_after_search_object1\"] & ~df[\"decision_after_search_object2\"]\n",
    "df[\"confidence_delta\"] = df[\"confidence_after_search\"] - df[\"confidence_before_search\"]\n",
    "df[\"decision_unchanged\"] = (\n",
    "        df[\"decision_before_search_object1\"].eq(df[\"decision_after_search_object1\"]) &\n",
    "        df[\"decision_before_search_object2\"].eq(df[\"decision_after_search_object2\"]) &\n",
    "        df[\"decision_before_search_none\"].eq(df[\"decision_after_search_none\"])\n",
    ")\n",
    "df[\"decision_changed\"] = ~df[\"decision_unchanged\"]\n",
    "df[\"num_influencing_documents\"] = df[[\n",
    "    \"influence_document1\",\n",
    "    \"influence_document2\",\n",
    "    \"influence_document3\",\n",
    "    \"influence_document4\",\n",
    "]].sum(axis=\"columns\")\n",
    "df[\"relevance\"] = df[[\n",
    "    \"relevance_document1\",\n",
    "    \"relevance_document2\",\n",
    "    \"relevance_document3\",\n",
    "    \"relevance_document4\",\n",
    "]].mean(axis=\"columns\")\n",
    "df"
   ]
  },
  {
   "cell_type": "code",
   "execution_count": 651,
   "id": "6547f4bcbd6fae8e",
   "metadata": {
    "ExecuteTime": {
     "end_time": "2023-10-20T00:33:59.647745216Z",
     "start_time": "2023-10-20T00:33:45.266900002Z"
    },
    "collapsed": false
   },
   "outputs": [
    {
     "data": {
      "text/html": [
       "<div>\n",
       "<style scoped>\n",
       "    .dataframe tbody tr th:only-of-type {\n",
       "        vertical-align: middle;\n",
       "    }\n",
       "\n",
       "    .dataframe tbody tr th {\n",
       "        vertical-align: top;\n",
       "    }\n",
       "\n",
       "    .dataframe thead th {\n",
       "        text-align: right;\n",
       "    }\n",
       "</style>\n",
       "<table border=\"1\" class=\"dataframe\">\n",
       "  <thead>\n",
       "    <tr style=\"text-align: right;\">\n",
       "      <th></th>\n",
       "      <th>survey_id</th>\n",
       "      <th>qid</th>\n",
       "      <th>background</th>\n",
       "      <th>rank</th>\n",
       "      <th>decision_before_search_object1</th>\n",
       "      <th>decision_before_search_object2</th>\n",
       "      <th>decision_before_search_none</th>\n",
       "      <th>confidence_before_search</th>\n",
       "      <th>decision_after_search_object1</th>\n",
       "      <th>decision_after_search_object2</th>\n",
       "      <th>...</th>\n",
       "      <th>quality_score_document</th>\n",
       "      <th>relevance_document</th>\n",
       "      <th>stance_document</th>\n",
       "      <th>stance_direction_document</th>\n",
       "      <th>stance_strength_document</th>\n",
       "      <th>statement_research_confirmed</th>\n",
       "      <th>statement_research_continue</th>\n",
       "      <th>statement_research_helped</th>\n",
       "      <th>statement_research_learned</th>\n",
       "      <th>statement_research_not_helped</th>\n",
       "    </tr>\n",
       "  </thead>\n",
       "  <tbody>\n",
       "    <tr>\n",
       "      <th>0</th>\n",
       "      <td>0</td>\n",
       "      <td>28</td>\n",
       "      <td>factual</td>\n",
       "      <td>1</td>\n",
       "      <td>False</td>\n",
       "      <td>False</td>\n",
       "      <td>True</td>\n",
       "      <td>3.0</td>\n",
       "      <td>False</td>\n",
       "      <td>False</td>\n",
       "      <td>...</td>\n",
       "      <td>0.251515</td>\n",
       "      <td>False</td>\n",
       "      <td>NaN</td>\n",
       "      <td>NaN</td>\n",
       "      <td>NaN</td>\n",
       "      <td>False</td>\n",
       "      <td>False</td>\n",
       "      <td>False</td>\n",
       "      <td>False</td>\n",
       "      <td>True</td>\n",
       "    </tr>\n",
       "    <tr>\n",
       "      <th>1</th>\n",
       "      <td>0</td>\n",
       "      <td>28</td>\n",
       "      <td>factual</td>\n",
       "      <td>2</td>\n",
       "      <td>False</td>\n",
       "      <td>False</td>\n",
       "      <td>True</td>\n",
       "      <td>3.0</td>\n",
       "      <td>False</td>\n",
       "      <td>False</td>\n",
       "      <td>...</td>\n",
       "      <td>0.372727</td>\n",
       "      <td>True</td>\n",
       "      <td>NaN</td>\n",
       "      <td>NaN</td>\n",
       "      <td>NaN</td>\n",
       "      <td>False</td>\n",
       "      <td>False</td>\n",
       "      <td>False</td>\n",
       "      <td>False</td>\n",
       "      <td>True</td>\n",
       "    </tr>\n",
       "    <tr>\n",
       "      <th>2</th>\n",
       "      <td>0</td>\n",
       "      <td>28</td>\n",
       "      <td>factual</td>\n",
       "      <td>3</td>\n",
       "      <td>False</td>\n",
       "      <td>False</td>\n",
       "      <td>True</td>\n",
       "      <td>3.0</td>\n",
       "      <td>False</td>\n",
       "      <td>False</td>\n",
       "      <td>...</td>\n",
       "      <td>0.293939</td>\n",
       "      <td>True</td>\n",
       "      <td>NaN</td>\n",
       "      <td>NaN</td>\n",
       "      <td>NaN</td>\n",
       "      <td>False</td>\n",
       "      <td>False</td>\n",
       "      <td>False</td>\n",
       "      <td>False</td>\n",
       "      <td>True</td>\n",
       "    </tr>\n",
       "    <tr>\n",
       "      <th>3</th>\n",
       "      <td>0</td>\n",
       "      <td>28</td>\n",
       "      <td>factual</td>\n",
       "      <td>4</td>\n",
       "      <td>False</td>\n",
       "      <td>False</td>\n",
       "      <td>True</td>\n",
       "      <td>3.0</td>\n",
       "      <td>False</td>\n",
       "      <td>False</td>\n",
       "      <td>...</td>\n",
       "      <td>0.372727</td>\n",
       "      <td>True</td>\n",
       "      <td>NaN</td>\n",
       "      <td>NaN</td>\n",
       "      <td>NaN</td>\n",
       "      <td>False</td>\n",
       "      <td>False</td>\n",
       "      <td>False</td>\n",
       "      <td>False</td>\n",
       "      <td>True</td>\n",
       "    </tr>\n",
       "    <tr>\n",
       "      <th>0</th>\n",
       "      <td>1</td>\n",
       "      <td>28</td>\n",
       "      <td>factual</td>\n",
       "      <td>1</td>\n",
       "      <td>True</td>\n",
       "      <td>False</td>\n",
       "      <td>False</td>\n",
       "      <td>4.0</td>\n",
       "      <td>False</td>\n",
       "      <td>False</td>\n",
       "      <td>...</td>\n",
       "      <td>0.251515</td>\n",
       "      <td>False</td>\n",
       "      <td>NaN</td>\n",
       "      <td>NaN</td>\n",
       "      <td>NaN</td>\n",
       "      <td>False</td>\n",
       "      <td>True</td>\n",
       "      <td>True</td>\n",
       "      <td>True</td>\n",
       "      <td>False</td>\n",
       "    </tr>\n",
       "    <tr>\n",
       "      <th>...</th>\n",
       "      <td>...</td>\n",
       "      <td>...</td>\n",
       "      <td>...</td>\n",
       "      <td>...</td>\n",
       "      <td>...</td>\n",
       "      <td>...</td>\n",
       "      <td>...</td>\n",
       "      <td>...</td>\n",
       "      <td>...</td>\n",
       "      <td>...</td>\n",
       "      <td>...</td>\n",
       "      <td>...</td>\n",
       "      <td>...</td>\n",
       "      <td>...</td>\n",
       "      <td>...</td>\n",
       "      <td>...</td>\n",
       "      <td>...</td>\n",
       "      <td>...</td>\n",
       "      <td>...</td>\n",
       "      <td>...</td>\n",
       "      <td>...</td>\n",
       "    </tr>\n",
       "    <tr>\n",
       "      <th>3</th>\n",
       "      <td>552</td>\n",
       "      <td>10</td>\n",
       "      <td>factual</td>\n",
       "      <td>4</td>\n",
       "      <td>True</td>\n",
       "      <td>False</td>\n",
       "      <td>False</td>\n",
       "      <td>4.0</td>\n",
       "      <td>True</td>\n",
       "      <td>False</td>\n",
       "      <td>...</td>\n",
       "      <td>0.172727</td>\n",
       "      <td>True</td>\n",
       "      <td>3.0</td>\n",
       "      <td>neutral</td>\n",
       "      <td>0.0</td>\n",
       "      <td>True</td>\n",
       "      <td>False</td>\n",
       "      <td>True</td>\n",
       "      <td>False</td>\n",
       "      <td>False</td>\n",
       "    </tr>\n",
       "    <tr>\n",
       "      <th>0</th>\n",
       "      <td>553</td>\n",
       "      <td>10</td>\n",
       "      <td>factual</td>\n",
       "      <td>1</td>\n",
       "      <td>True</td>\n",
       "      <td>False</td>\n",
       "      <td>False</td>\n",
       "      <td>1.0</td>\n",
       "      <td>True</td>\n",
       "      <td>False</td>\n",
       "      <td>...</td>\n",
       "      <td>0.581818</td>\n",
       "      <td>True</td>\n",
       "      <td>3.0</td>\n",
       "      <td>neutral</td>\n",
       "      <td>0.0</td>\n",
       "      <td>False</td>\n",
       "      <td>False</td>\n",
       "      <td>False</td>\n",
       "      <td>True</td>\n",
       "      <td>False</td>\n",
       "    </tr>\n",
       "    <tr>\n",
       "      <th>1</th>\n",
       "      <td>553</td>\n",
       "      <td>10</td>\n",
       "      <td>factual</td>\n",
       "      <td>2</td>\n",
       "      <td>True</td>\n",
       "      <td>False</td>\n",
       "      <td>False</td>\n",
       "      <td>1.0</td>\n",
       "      <td>True</td>\n",
       "      <td>False</td>\n",
       "      <td>...</td>\n",
       "      <td>0.739394</td>\n",
       "      <td>True</td>\n",
       "      <td>3.0</td>\n",
       "      <td>neutral</td>\n",
       "      <td>0.0</td>\n",
       "      <td>False</td>\n",
       "      <td>False</td>\n",
       "      <td>False</td>\n",
       "      <td>True</td>\n",
       "      <td>False</td>\n",
       "    </tr>\n",
       "    <tr>\n",
       "      <th>2</th>\n",
       "      <td>553</td>\n",
       "      <td>10</td>\n",
       "      <td>factual</td>\n",
       "      <td>3</td>\n",
       "      <td>True</td>\n",
       "      <td>False</td>\n",
       "      <td>False</td>\n",
       "      <td>1.0</td>\n",
       "      <td>True</td>\n",
       "      <td>False</td>\n",
       "      <td>...</td>\n",
       "      <td>0.521212</td>\n",
       "      <td>False</td>\n",
       "      <td>2.0</td>\n",
       "      <td>object1</td>\n",
       "      <td>1.0</td>\n",
       "      <td>False</td>\n",
       "      <td>False</td>\n",
       "      <td>False</td>\n",
       "      <td>True</td>\n",
       "      <td>False</td>\n",
       "    </tr>\n",
       "    <tr>\n",
       "      <th>3</th>\n",
       "      <td>553</td>\n",
       "      <td>10</td>\n",
       "      <td>factual</td>\n",
       "      <td>4</td>\n",
       "      <td>True</td>\n",
       "      <td>False</td>\n",
       "      <td>False</td>\n",
       "      <td>1.0</td>\n",
       "      <td>True</td>\n",
       "      <td>False</td>\n",
       "      <td>...</td>\n",
       "      <td>0.172727</td>\n",
       "      <td>True</td>\n",
       "      <td>3.0</td>\n",
       "      <td>neutral</td>\n",
       "      <td>0.0</td>\n",
       "      <td>False</td>\n",
       "      <td>False</td>\n",
       "      <td>False</td>\n",
       "      <td>True</td>\n",
       "      <td>False</td>\n",
       "    </tr>\n",
       "  </tbody>\n",
       "</table>\n",
       "<p>2216 rows × 30 columns</p>\n",
       "</div>"
      ],
      "text/plain": [
       "    survey_id  qid background  rank  decision_before_search_object1  \\\n",
       "0           0   28    factual     1                           False   \n",
       "1           0   28    factual     2                           False   \n",
       "2           0   28    factual     3                           False   \n",
       "3           0   28    factual     4                           False   \n",
       "0           1   28    factual     1                            True   \n",
       "..        ...  ...        ...   ...                             ...   \n",
       "3         552   10    factual     4                            True   \n",
       "0         553   10    factual     1                            True   \n",
       "1         553   10    factual     2                            True   \n",
       "2         553   10    factual     3                            True   \n",
       "3         553   10    factual     4                            True   \n",
       "\n",
       "    decision_before_search_object2  decision_before_search_none  \\\n",
       "0                            False                         True   \n",
       "1                            False                         True   \n",
       "2                            False                         True   \n",
       "3                            False                         True   \n",
       "0                            False                        False   \n",
       "..                             ...                          ...   \n",
       "3                            False                        False   \n",
       "0                            False                        False   \n",
       "1                            False                        False   \n",
       "2                            False                        False   \n",
       "3                            False                        False   \n",
       "\n",
       "    confidence_before_search  decision_after_search_object1  \\\n",
       "0                        3.0                          False   \n",
       "1                        3.0                          False   \n",
       "2                        3.0                          False   \n",
       "3                        3.0                          False   \n",
       "0                        4.0                          False   \n",
       "..                       ...                            ...   \n",
       "3                        4.0                           True   \n",
       "0                        1.0                           True   \n",
       "1                        1.0                           True   \n",
       "2                        1.0                           True   \n",
       "3                        1.0                           True   \n",
       "\n",
       "    decision_after_search_object2  ...  quality_score_document  \\\n",
       "0                           False  ...                0.251515   \n",
       "1                           False  ...                0.372727   \n",
       "2                           False  ...                0.293939   \n",
       "3                           False  ...                0.372727   \n",
       "0                           False  ...                0.251515   \n",
       "..                            ...  ...                     ...   \n",
       "3                           False  ...                0.172727   \n",
       "0                           False  ...                0.581818   \n",
       "1                           False  ...                0.739394   \n",
       "2                           False  ...                0.521212   \n",
       "3                           False  ...                0.172727   \n",
       "\n",
       "    relevance_document  stance_document  stance_direction_document  \\\n",
       "0                False              NaN                        NaN   \n",
       "1                 True              NaN                        NaN   \n",
       "2                 True              NaN                        NaN   \n",
       "3                 True              NaN                        NaN   \n",
       "0                False              NaN                        NaN   \n",
       "..                 ...              ...                        ...   \n",
       "3                 True              3.0                    neutral   \n",
       "0                 True              3.0                    neutral   \n",
       "1                 True              3.0                    neutral   \n",
       "2                False              2.0                    object1   \n",
       "3                 True              3.0                    neutral   \n",
       "\n",
       "    stance_strength_document  statement_research_confirmed  \\\n",
       "0                        NaN                         False   \n",
       "1                        NaN                         False   \n",
       "2                        NaN                         False   \n",
       "3                        NaN                         False   \n",
       "0                        NaN                         False   \n",
       "..                       ...                           ...   \n",
       "3                        0.0                          True   \n",
       "0                        0.0                         False   \n",
       "1                        0.0                         False   \n",
       "2                        1.0                         False   \n",
       "3                        0.0                         False   \n",
       "\n",
       "    statement_research_continue  statement_research_helped  \\\n",
       "0                         False                      False   \n",
       "1                         False                      False   \n",
       "2                         False                      False   \n",
       "3                         False                      False   \n",
       "0                          True                       True   \n",
       "..                          ...                        ...   \n",
       "3                         False                       True   \n",
       "0                         False                      False   \n",
       "1                         False                      False   \n",
       "2                         False                      False   \n",
       "3                         False                      False   \n",
       "\n",
       "    statement_research_learned  statement_research_not_helped  \n",
       "0                        False                           True  \n",
       "1                        False                           True  \n",
       "2                        False                           True  \n",
       "3                        False                           True  \n",
       "0                         True                          False  \n",
       "..                         ...                            ...  \n",
       "3                        False                          False  \n",
       "0                         True                          False  \n",
       "1                         True                          False  \n",
       "2                         True                          False  \n",
       "3                         True                          False  \n",
       "\n",
       "[2216 rows x 30 columns]"
      ]
     },
     "execution_count": 651,
     "metadata": {},
     "output_type": "execute_result"
    }
   ],
   "source": [
    "df_doc = concat([\n",
    "    DataFrame([\n",
    "        {\n",
    "            \"survey_id\": row[\"survey_id\"],\n",
    "            \"qid\": row[\"qid\"],\n",
    "            \"background\": row[\"background\"],\n",
    "            \"rank\": rank,\n",
    "            \"decision_before_search_object1\": row[\"decision_before_search_object1\"],\n",
    "            \"decision_before_search_object2\": row[\"decision_before_search_object2\"],\n",
    "            \"decision_before_search_none\": row[\"decision_before_search_none\"],\n",
    "            \"confidence_before_search\": row[\"confidence_before_search\"],\n",
    "            \"decision_after_search_object1\": row[\"decision_after_search_object1\"],\n",
    "            \"decision_after_search_object2\": row[\"decision_after_search_object2\"],\n",
    "            \"decision_after_search_none\": row[\"decision_after_search_none\"],\n",
    "            \"confidence_after_search\": row[\"confidence_after_search\"],\n",
    "            \"decision_unchanged\": row[\"decision_unchanged\"],\n",
    "            \"decision_changed\": row[\"decision_changed\"],\n",
    "            \"confidence_delta\": row[\"confidence_delta\"],\n",
    "            \"has_fully_read_document\": row[f\"has_fully_read_document{rank}\"],\n",
    "            \"has_partially_read_document\": row[f\"has_partially_read_document{rank}\"],\n",
    "            \"influence_document\": row[f\"influence_document{rank}\"],\n",
    "            \"prior_knowledge\": row[\"prior_knowledge\"],\n",
    "            \"quality_score\": row[\"quality_score\"],\n",
    "            \"quality_score_document\": row[f\"quality_score_document{rank}\"],\n",
    "            \"relevance_document\": row[f\"relevance_document{rank}\"],\n",
    "            \"stance_document\": row[f\"stance_document{rank}\"],\n",
    "            \"stance_direction_document\": row[f\"stance_direction_document{rank}\"],\n",
    "            \"stance_strength_document\": row[f\"stance_strength_document{rank}\"],\n",
    "            \"statement_research_confirmed\": row[\"statement_research_confirmed\"],\n",
    "            \"statement_research_continue\": row[\"statement_research_continue\"],\n",
    "            \"statement_research_helped\": row[\"statement_research_helped\"],\n",
    "            \"statement_research_learned\": row[\"statement_research_learned\"],\n",
    "            \"statement_research_not_helped\": row[\"statement_research_not_helped\"],\n",
    "        }\n",
    "        for rank in [1, 2, 3, 4]\n",
    "    ])\n",
    "    for _, row in df.iterrows()\n",
    "])\n",
    "df_doc"
   ]
  },
  {
   "cell_type": "markdown",
   "id": "aea50df6ced4ca7",
   "metadata": {
    "collapsed": false
   },
   "source": [
    "## Descriptive statistics"
   ]
  },
  {
   "cell_type": "code",
   "execution_count": 652,
   "id": "c740f857aeb4bad5",
   "metadata": {
    "ExecuteTime": {
     "end_time": "2023-10-20T00:33:59.692427502Z",
     "start_time": "2023-10-20T00:33:49.883528879Z"
    },
    "collapsed": false
   },
   "outputs": [
    {
     "data": {
      "text/plain": [
       "background\n",
       "subjective    1120\n",
       "factual       1096\n",
       "Name: count, dtype: int64"
      ]
     },
     "execution_count": 652,
     "metadata": {},
     "output_type": "execute_result"
    }
   ],
   "source": [
    "df_doc[\"background\"].value_counts(dropna=False)"
   ]
  },
  {
   "cell_type": "code",
   "execution_count": 653,
   "id": "dd48ee5cfd868895",
   "metadata": {
    "ExecuteTime": {
     "end_time": "2023-10-20T00:33:59.698663922Z",
     "start_time": "2023-10-20T00:33:49.926836959Z"
    },
    "collapsed": false
   },
   "outputs": [
    {
     "data": {
      "text/plain": [
       "has_fully_read_document  has_partially_read_document\n",
       "False                    True                           1108\n",
       "True                     True                            658\n",
       "False                    False                           450\n",
       "Name: count, dtype: int64"
      ]
     },
     "execution_count": 653,
     "metadata": {},
     "output_type": "execute_result"
    }
   ],
   "source": [
    "df_doc[[\"has_fully_read_document\", \"has_partially_read_document\"]].value_counts(dropna=False)"
   ]
  },
  {
   "cell_type": "code",
   "execution_count": 654,
   "id": "e79ccc7505bb8966",
   "metadata": {
    "ExecuteTime": {
     "end_time": "2023-10-20T00:33:59.701489993Z",
     "start_time": "2023-10-20T00:33:49.971548847Z"
    },
    "collapsed": false
   },
   "outputs": [
    {
     "data": {
      "text/plain": [
       "decision_before_search_none  decision_before_search_object1  decision_before_search_object2\n",
       "False                        True                            False                             996\n",
       "True                         False                           False                             664\n",
       "False                        False                           True                              556\n",
       "Name: count, dtype: int64"
      ]
     },
     "execution_count": 654,
     "metadata": {},
     "output_type": "execute_result"
    }
   ],
   "source": [
    "df_doc[\n",
    "    [\"decision_before_search_none\", \"decision_before_search_object1\", \"decision_before_search_object2\"]].value_counts(\n",
    "    dropna=False)"
   ]
  },
  {
   "cell_type": "code",
   "execution_count": 655,
   "id": "64d9abef7dca827b",
   "metadata": {
    "ExecuteTime": {
     "end_time": "2023-10-20T00:33:59.709031933Z",
     "start_time": "2023-10-20T00:33:50.014895234Z"
    },
    "collapsed": false
   },
   "outputs": [
    {
     "data": {
      "text/plain": [
       "decision_after_search_none  decision_after_search_object1  decision_after_search_object2\n",
       "False                       True                           False                            988\n",
       "True                        False                          False                            836\n",
       "False                       False                          True                             392\n",
       "Name: count, dtype: int64"
      ]
     },
     "execution_count": 655,
     "metadata": {},
     "output_type": "execute_result"
    }
   ],
   "source": [
    "df_doc[[\"decision_after_search_none\", \"decision_after_search_object1\", \"decision_after_search_object2\"]].value_counts(\n",
    "    dropna=False)"
   ]
  },
  {
   "cell_type": "code",
   "execution_count": 656,
   "id": "c4f73f6f3a5c80dc",
   "metadata": {
    "ExecuteTime": {
     "end_time": "2023-10-20T00:33:59.712575288Z",
     "start_time": "2023-10-20T00:33:50.033894092Z"
    },
    "collapsed": false
   },
   "outputs": [
    {
     "data": {
      "text/plain": [
       "decision_before_search_none  decision_after_search_none\n",
       "False                        False                         1120\n",
       "                             True                           432\n",
       "True                         True                           404\n",
       "                             False                          260\n",
       "Name: count, dtype: int64"
      ]
     },
     "execution_count": 656,
     "metadata": {},
     "output_type": "execute_result"
    }
   ],
   "source": [
    "df_doc[[\"decision_before_search_none\", \"decision_after_search_none\"]].value_counts(dropna=False)"
   ]
  },
  {
   "cell_type": "code",
   "execution_count": 657,
   "id": "4ad5d131dfcb082b",
   "metadata": {
    "ExecuteTime": {
     "end_time": "2023-10-20T00:33:59.716080267Z",
     "start_time": "2023-10-20T00:33:50.079905011Z"
    },
    "collapsed": false
   },
   "outputs": [
    {
     "data": {
      "text/plain": [
       "decision_changed\n",
       "False    1364\n",
       "True      852\n",
       "Name: count, dtype: int64"
      ]
     },
     "execution_count": 657,
     "metadata": {},
     "output_type": "execute_result"
    }
   ],
   "source": [
    "df_doc[\"decision_changed\"].value_counts(dropna=False)"
   ]
  },
  {
   "cell_type": "markdown",
   "id": "fe1c26df90e65155",
   "metadata": {
    "collapsed": false
   },
   "source": [
    "## Histograms"
   ]
  },
  {
   "cell_type": "code",
   "execution_count": 658,
   "id": "6686bc66f65b775c",
   "metadata": {
    "ExecuteTime": {
     "end_time": "2023-10-20T00:33:59.719065253Z",
     "start_time": "2023-10-20T00:33:50.166503321Z"
    },
    "collapsed": false
   },
   "outputs": [
    {
     "name": "stderr",
     "output_type": "stream",
     "text": [
      "/home/heinrich/Repositories/algorithmic-quality-decision-making/venv/lib/python3.11/site-packages/seaborn/_base.py:949: FutureWarning: When grouping with a length-1 list-like, you will need to pass a length-1 tuple to get_group in a future version of pandas. Pass `(name,)` instead of `name` to silence this warning.\n",
      "  data_subset = grouped_data.get_group(pd_key)\n",
      "/home/heinrich/Repositories/algorithmic-quality-decision-making/venv/lib/python3.11/site-packages/seaborn/_base.py:949: FutureWarning: When grouping with a length-1 list-like, you will need to pass a length-1 tuple to get_group in a future version of pandas. Pass `(name,)` instead of `name` to silence this warning.\n",
      "  data_subset = grouped_data.get_group(pd_key)\n",
      "/home/heinrich/Repositories/algorithmic-quality-decision-making/venv/lib/python3.11/site-packages/seaborn/_base.py:949: FutureWarning: When grouping with a length-1 list-like, you will need to pass a length-1 tuple to get_group in a future version of pandas. Pass `(name,)` instead of `name` to silence this warning.\n",
      "  data_subset = grouped_data.get_group(pd_key)\n",
      "/home/heinrich/Repositories/algorithmic-quality-decision-making/venv/lib/python3.11/site-packages/seaborn/_base.py:949: FutureWarning: When grouping with a length-1 list-like, you will need to pass a length-1 tuple to get_group in a future version of pandas. Pass `(name,)` instead of `name` to silence this warning.\n",
      "  data_subset = grouped_data.get_group(pd_key)\n"
     ]
    },
    {
     "data": {
      "text/plain": [
       "<seaborn.axisgrid.FacetGrid at 0x7f3581466a50>"
      ]
     },
     "execution_count": 658,
     "metadata": {},
     "output_type": "execute_result"
    },
    {
     "data": {
      "image/png": "[encoded data removed]",
      "text/plain": [
       "<Figure size 425x250 with 1 Axes>"
      ]
     },
     "metadata": {},
     "output_type": "display_data"
    }
   ],
   "source": [
    "set_theme(\n",
    "    style=\"ticks\",\n",
    "    palette=\"colorblind\",\n",
    "    font_scale=1.0,\n",
    "    font=\"sans-serif\",\n",
    ")\n",
    "df_plot = df.copy()\n",
    "df_plot = df_plot[df_plot[\"confidence_delta\"].notna()]\n",
    "df_plot[\"confidence_changed\"] = df_plot[\"confidence_delta\"].map(\n",
    "    lambda x: \"no change\" if x == 0 else \"more confident\" if x > 0 else \"less confident\")\n",
    "df_plot[\"confidence_changed\"] = Categorical(\n",
    "    df_plot[\"confidence_changed\"],\n",
    "    categories=[\"less confident\", \"no change\", \"more confident\"],\n",
    "    ordered=True,\n",
    ")\n",
    "df_plot[\"background\"] = Categorical(\n",
    "    df_plot[\"background\"],\n",
    "    categories=[\"factual\", \"subjective\"],\n",
    "    ordered=True,\n",
    ")\n",
    "df_plot.sort_values([\"confidence_changed\", \"background\"], inplace=True)\n",
    "plot = displot(\n",
    "    df_plot,\n",
    "    x=\"background\",\n",
    "    hue=\"confidence_changed\",\n",
    "    multiple=\"dodge\",\n",
    "    aspect=1.7,\n",
    "    height=2.5,\n",
    "    legend=False,\n",
    "    shrink=0.9,\n",
    ")\n",
    "plot.set_xlabels(label=\"Background\")\n",
    "plot.savefig(\"../data/figures/histogram-confidence-change-background.pdf\")\n",
    "plot"
   ]
  },
  {
   "cell_type": "code",
   "execution_count": 659,
   "id": "d77c8e8eca746b81",
   "metadata": {
    "ExecuteTime": {
     "end_time": "2023-10-20T00:33:59.722540118Z",
     "start_time": "2023-10-20T00:33:51.759780407Z"
    },
    "collapsed": false
   },
   "outputs": [
    {
     "name": "stderr",
     "output_type": "stream",
     "text": [
      "/home/heinrich/Repositories/algorithmic-quality-decision-making/venv/lib/python3.11/site-packages/seaborn/_base.py:949: FutureWarning: When grouping with a length-1 list-like, you will need to pass a length-1 tuple to get_group in a future version of pandas. Pass `(name,)` instead of `name` to silence this warning.\n",
      "  data_subset = grouped_data.get_group(pd_key)\n",
      "/home/heinrich/Repositories/algorithmic-quality-decision-making/venv/lib/python3.11/site-packages/seaborn/_base.py:949: FutureWarning: When grouping with a length-1 list-like, you will need to pass a length-1 tuple to get_group in a future version of pandas. Pass `(name,)` instead of `name` to silence this warning.\n",
      "  data_subset = grouped_data.get_group(pd_key)\n",
      "/home/heinrich/Repositories/algorithmic-quality-decision-making/venv/lib/python3.11/site-packages/seaborn/_base.py:949: FutureWarning: When grouping with a length-1 list-like, you will need to pass a length-1 tuple to get_group in a future version of pandas. Pass `(name,)` instead of `name` to silence this warning.\n",
      "  data_subset = grouped_data.get_group(pd_key)\n",
      "/home/heinrich/Repositories/algorithmic-quality-decision-making/venv/lib/python3.11/site-packages/seaborn/_base.py:949: FutureWarning: When grouping with a length-1 list-like, you will need to pass a length-1 tuple to get_group in a future version of pandas. Pass `(name,)` instead of `name` to silence this warning.\n",
      "  data_subset = grouped_data.get_group(pd_key)\n"
     ]
    },
    {
     "data": {
      "text/plain": [
       "<seaborn.axisgrid.FacetGrid at 0x7f3581bd9d90>"
      ]
     },
     "execution_count": 659,
     "metadata": {},
     "output_type": "execute_result"
    },
    {
     "data": {
      "image/png": "[encoded data removed]",
      "text/plain": [
       "<Figure size 607.972x250 with 1 Axes>"
      ]
     },
     "metadata": {},
     "output_type": "display_data"
    }
   ],
   "source": [
    "set_theme(\n",
    "    style=\"ticks\",\n",
    "    palette=\"colorblind\",\n",
    "    font_scale=1.0,\n",
    "    font=\"sans-serif\",\n",
    ")\n",
    "df_plot = df.copy()\n",
    "df_plot = df_plot[df_plot[\"confidence_delta\"].notna()]\n",
    "df_plot[\"confidence_changed\"] = df_plot[\"confidence_delta\"].map(\n",
    "    lambda x: \"no change\" if x == 0 else \"more confident\" if x > 0 else \"less confident\")\n",
    "df_plot[\"confidence_changed\"] = Categorical(\n",
    "    df_plot[\"confidence_changed\"],\n",
    "    categories=[\"less confident\", \"no change\", \"more confident\"],\n",
    "    ordered=True,\n",
    ")\n",
    "df_plot[\"decision_changed\"] = df_plot[\"decision_changed\"].map(\n",
    "    lambda x: \"change\" if x else \"no change\")\n",
    "df_plot[\"decision_changed\"] = Categorical(\n",
    "    df_plot[\"decision_changed\"],\n",
    "    categories=[\"no change\", \"change\"],\n",
    "    ordered=True,\n",
    ")\n",
    "df_plot.sort_values([\"decision_changed\", \"confidence_changed\"], inplace=True)\n",
    "plot = displot(\n",
    "    df_plot,\n",
    "    x=\"decision_changed\",\n",
    "    hue=\"confidence_changed\",\n",
    "    multiple=\"dodge\",\n",
    "    aspect=1.7,\n",
    "    height=2.5,\n",
    "    shrink=0.9,\n",
    ")\n",
    "move_legend(\n",
    "    plot,\n",
    "    title=\"Confidence\",\n",
    "    loc=\"upper right\",\n",
    "    bbox_to_anchor=(0.69, 1),\n",
    ")\n",
    "plot.set_xlabels(label=\"Decision\")\n",
    "plot.savefig(\"../data/figures/histogram-confidence-change-decision-change.pdf\")\n",
    "plot"
   ]
  },
  {
   "cell_type": "code",
   "execution_count": 660,
   "id": "98ed88a28aff97a8",
   "metadata": {
    "ExecuteTime": {
     "end_time": "2023-10-20T00:33:59.726107676Z",
     "start_time": "2023-10-20T00:33:53.731746488Z"
    },
    "collapsed": false
   },
   "outputs": [
    {
     "name": "stderr",
     "output_type": "stream",
     "text": [
      "/home/heinrich/Repositories/algorithmic-quality-decision-making/venv/lib/python3.11/site-packages/seaborn/_base.py:949: FutureWarning: When grouping with a length-1 list-like, you will need to pass a length-1 tuple to get_group in a future version of pandas. Pass `(name,)` instead of `name` to silence this warning.\n",
      "  data_subset = grouped_data.get_group(pd_key)\n",
      "/home/heinrich/Repositories/algorithmic-quality-decision-making/venv/lib/python3.11/site-packages/seaborn/_base.py:949: FutureWarning: When grouping with a length-1 list-like, you will need to pass a length-1 tuple to get_group in a future version of pandas. Pass `(name,)` instead of `name` to silence this warning.\n",
      "  data_subset = grouped_data.get_group(pd_key)\n",
      "/home/heinrich/Repositories/algorithmic-quality-decision-making/venv/lib/python3.11/site-packages/seaborn/_base.py:949: FutureWarning: When grouping with a length-1 list-like, you will need to pass a length-1 tuple to get_group in a future version of pandas. Pass `(name,)` instead of `name` to silence this warning.\n",
      "  data_subset = grouped_data.get_group(pd_key)\n"
     ]
    },
    {
     "data": {
      "text/plain": [
       "<seaborn.axisgrid.FacetGrid at 0x7f3581499690>"
      ]
     },
     "execution_count": 660,
     "metadata": {},
     "output_type": "execute_result"
    },
    {
     "data": {
      "image/png": "[encoded data removed]",
      "text/plain": [
       "<Figure size 680.597x500 with 1 Axes>"
      ]
     },
     "metadata": {},
     "output_type": "display_data"
    }
   ],
   "source": [
    "set_theme(\n",
    "    style=\"ticks\",\n",
    "    palette=\"colorblind\",\n",
    "    font_scale=1.0,\n",
    "    font=\"sans-serif\",\n",
    ")\n",
    "df_plot = df_doc.copy()\n",
    "plot = displot(\n",
    "    df_plot,\n",
    "    x=\"quality_score_document\",\n",
    "    hue=\"influence_document\",\n",
    "    multiple=\"fill\",\n",
    ")\n",
    "plot.set_xlabels(\"Quality\")\n",
    "plot.set_ylabels(\"Proportion\")\n",
    "plot.legend.set_title(\"Influence\")\n",
    "plot"
   ]
  },
  {
   "cell_type": "code",
   "execution_count": 661,
   "id": "dbb402a2b7de0d01",
   "metadata": {
    "ExecuteTime": {
     "end_time": "2023-10-20T00:34:04.142700720Z",
     "start_time": "2023-10-20T00:33:58.774947908Z"
    },
    "collapsed": false
   },
   "outputs": [
    {
     "name": "stderr",
     "output_type": "stream",
     "text": [
      "/home/heinrich/Repositories/algorithmic-quality-decision-making/venv/lib/python3.11/site-packages/seaborn/_base.py:949: FutureWarning: When grouping with a length-1 list-like, you will need to pass a length-1 tuple to get_group in a future version of pandas. Pass `(name,)` instead of `name` to silence this warning.\n",
      "  data_subset = grouped_data.get_group(pd_key)\n",
      "/home/heinrich/Repositories/algorithmic-quality-decision-making/venv/lib/python3.11/site-packages/seaborn/_base.py:949: FutureWarning: When grouping with a length-1 list-like, you will need to pass a length-1 tuple to get_group in a future version of pandas. Pass `(name,)` instead of `name` to silence this warning.\n",
      "  data_subset = grouped_data.get_group(pd_key)\n",
      "/home/heinrich/Repositories/algorithmic-quality-decision-making/venv/lib/python3.11/site-packages/seaborn/_base.py:949: FutureWarning: When grouping with a length-1 list-like, you will need to pass a length-1 tuple to get_group in a future version of pandas. Pass `(name,)` instead of `name` to silence this warning.\n",
      "  data_subset = grouped_data.get_group(pd_key)\n"
     ]
    },
    {
     "data": {
      "text/plain": [
       "<seaborn.axisgrid.FacetGrid at 0x7f3581ed23d0>"
      ]
     },
     "execution_count": 661,
     "metadata": {},
     "output_type": "execute_result"
    },
    {
     "data": {
      "image/png": "[encoded data removed]",
      "text/plain": [
       "<Figure size 680.597x500 with 1 Axes>"
      ]
     },
     "metadata": {},
     "output_type": "display_data"
    }
   ],
   "source": [
    "set_theme(\n",
    "    style=\"ticks\",\n",
    "    palette=\"colorblind\",\n",
    "    font_scale=1.0,\n",
    "    font=\"sans-serif\",\n",
    ")\n",
    "df_plot = df_doc.copy()\n",
    "df_plot = df_plot[df_plot[\"stance_document\"].notna()]\n",
    "plot = displot(\n",
    "    df_plot,\n",
    "    x=\"stance_document\",\n",
    "    hue=\"influence_document\",\n",
    "    multiple=\"fill\",\n",
    ")\n",
    "plot.set_xlabels(\"Stance strength\")\n",
    "plot.set_ylabels(\"Proportion\")\n",
    "plot.legend.set_title(\"Influence\")\n",
    "plot"
   ]
  },
  {
   "cell_type": "code",
   "execution_count": 662,
   "id": "cb778cf29291b215",
   "metadata": {
    "ExecuteTime": {
     "end_time": "2023-10-20T00:34:09.588285367Z",
     "start_time": "2023-10-20T00:34:01.803573688Z"
    },
    "collapsed": false
   },
   "outputs": [
    {
     "name": "stderr",
     "output_type": "stream",
     "text": [
      "/home/heinrich/Repositories/algorithmic-quality-decision-making/venv/lib/python3.11/site-packages/seaborn/_base.py:949: FutureWarning: When grouping with a length-1 list-like, you will need to pass a length-1 tuple to get_group in a future version of pandas. Pass `(name,)` instead of `name` to silence this warning.\n",
      "  data_subset = grouped_data.get_group(pd_key)\n",
      "/home/heinrich/Repositories/algorithmic-quality-decision-making/venv/lib/python3.11/site-packages/seaborn/_base.py:949: FutureWarning: When grouping with a length-1 list-like, you will need to pass a length-1 tuple to get_group in a future version of pandas. Pass `(name,)` instead of `name` to silence this warning.\n",
      "  data_subset = grouped_data.get_group(pd_key)\n",
      "/home/heinrich/Repositories/algorithmic-quality-decision-making/venv/lib/python3.11/site-packages/seaborn/_base.py:949: FutureWarning: When grouping with a length-1 list-like, you will need to pass a length-1 tuple to get_group in a future version of pandas. Pass `(name,)` instead of `name` to silence this warning.\n",
      "  data_subset = grouped_data.get_group(pd_key)\n"
     ]
    },
    {
     "data": {
      "text/plain": [
       "<seaborn.axisgrid.FacetGrid at 0x7f3581711690>"
      ]
     },
     "execution_count": 662,
     "metadata": {},
     "output_type": "execute_result"
    },
    {
     "data": {
      "image/png": "[encoded data removed]",
      "text/plain": [
       "<Figure size 680.597x500 with 1 Axes>"
      ]
     },
     "metadata": {},
     "output_type": "display_data"
    }
   ],
   "source": [
    "set_theme(\n",
    "    style=\"ticks\",\n",
    "    palette=\"colorblind\",\n",
    "    font_scale=1.0,\n",
    "    font=\"sans-serif\",\n",
    ")\n",
    "df_plot = df_doc.copy()\n",
    "# df_plot[\"relevance_document\"] = df_plot[\"relevance_document\"].map(\n",
    "#     lambda x: \"relevant\" if x else \"irrelevant\")\n",
    "plot = displot(\n",
    "    df_plot,\n",
    "    x=\"relevance_document\",\n",
    "    hue=\"influence_document\",\n",
    "    multiple=\"fill\",\n",
    ")\n",
    "plot.set_xlabels(\"Relevance\")\n",
    "plot.set_ylabels(\"Proportion\")\n",
    "plot.legend.set_title(\"Influence\")\n",
    "plot"
   ]
  },
  {
   "cell_type": "code",
   "execution_count": 663,
   "id": "8c6557fb0fd9c6dd",
   "metadata": {
    "ExecuteTime": {
     "end_time": "2023-10-20T00:34:12.500113351Z",
     "start_time": "2023-10-20T00:34:09.377167518Z"
    },
    "collapsed": false
   },
   "outputs": [
    {
     "name": "stderr",
     "output_type": "stream",
     "text": [
      "/home/heinrich/Repositories/algorithmic-quality-decision-making/venv/lib/python3.11/site-packages/seaborn/_base.py:949: FutureWarning: When grouping with a length-1 list-like, you will need to pass a length-1 tuple to get_group in a future version of pandas. Pass `(name,)` instead of `name` to silence this warning.\n",
      "  data_subset = grouped_data.get_group(pd_key)\n",
      "/home/heinrich/Repositories/algorithmic-quality-decision-making/venv/lib/python3.11/site-packages/seaborn/_base.py:949: FutureWarning: When grouping with a length-1 list-like, you will need to pass a length-1 tuple to get_group in a future version of pandas. Pass `(name,)` instead of `name` to silence this warning.\n",
      "  data_subset = grouped_data.get_group(pd_key)\n",
      "/home/heinrich/Repositories/algorithmic-quality-decision-making/venv/lib/python3.11/site-packages/seaborn/_base.py:949: FutureWarning: When grouping with a length-1 list-like, you will need to pass a length-1 tuple to get_group in a future version of pandas. Pass `(name,)` instead of `name` to silence this warning.\n",
      "  data_subset = grouped_data.get_group(pd_key)\n"
     ]
    },
    {
     "data": {
      "text/plain": [
       "<seaborn.axisgrid.FacetGrid at 0x7f35809f7450>"
      ]
     },
     "execution_count": 663,
     "metadata": {},
     "output_type": "execute_result"
    },
    {
     "data": {
      "image/png": "[encoded data removed]",
      "text/plain": [
       "<Figure size 633.375x250 with 1 Axes>"
      ]
     },
     "metadata": {},
     "output_type": "display_data"
    }
   ],
   "source": [
    "set_theme(\n",
    "    style=\"ticks\",\n",
    "    palette=\"colorblind\",\n",
    "    font_scale=1.0,\n",
    "    font=\"sans-serif\",\n",
    ")\n",
    "df_plot = df.copy()\n",
    "df_plot.sort_values(\"num_influencing_documents\", inplace=True)\n",
    "df_plot[\"num_influencing_documents\"] = df_plot[\"num_influencing_documents\"].astype(str)\n",
    "plot = displot(\n",
    "    df_plot,\n",
    "    x=\"num_influencing_documents\",\n",
    "    hue=\"background\",\n",
    "    multiple=\"stack\",\n",
    "    aspect=2,\n",
    "    height=2.5,\n",
    "    shrink=0.7,\n",
    ")\n",
    "plot.set_xlabels(\"# Influencing documents\")\n",
    "move_legend(\n",
    "    plot,\n",
    "    title=\"Background\",\n",
    "    loc=\"upper right\",\n",
    "    bbox_to_anchor=(0.77, 0.9),\n",
    ")\n",
    "plot.savefig(\"../data/figures/histogram-num-influencing-documents.pdf\")\n",
    "plot"
   ]
  },
  {
   "cell_type": "markdown",
   "id": "a0b6bdbf28ec887f",
   "metadata": {
    "collapsed": false
   },
   "source": [
    "## Significance tests"
   ]
  },
  {
   "cell_type": "code",
   "execution_count": 664,
   "id": "51d4359c",
   "metadata": {},
   "outputs": [],
   "source": [
    "def chi2_to_tex(chi2_result: Chi2ContingencyResult, alpha: float, p_value_digits: int = 3) -> str:\n",
    "    statistic, p_value, dof, _ = chi2_result\n",
    "    is_significant = p_value < alpha\n",
    "    statistic_tex = r\"\\chi^2(\" + f\"{dof}\" + r\")\" + f\"={statistic:.2f}\"\n",
    "    min_p_value = pow(10, -p_value_digits)\n",
    "    p_value_tex = format(max(p_value, min_p_value), f\".{p_value_digits}f\")\n",
    "    significance_tex = r\"p\" + (\"=\" if p_value >= min_p_value else \"<\") + p_value_tex\n",
    "    if is_significant:\n",
    "        statistic_tex = r\"\\bm{\" + statistic_tex + r\"}\"\n",
    "        significance_tex = r\"\\bm{\" + significance_tex + r\"}\"\n",
    "    tex = r\"\\(\" + statistic_tex + r\"\\), \\(\" + significance_tex + r\"\\)\"\n",
    "    if is_significant:\n",
    "        tex = r\"\\textbfn{\" + tex + r\"}\"\n",
    "    return tex"
   ]
  },
  {
   "cell_type": "code",
   "execution_count": 665,
   "id": "c37af30a",
   "metadata": {},
   "outputs": [],
   "source": [
    "def diff_expected_freq_tex(row: Series, col: str, index: str, i: int, chi2_result: Chi2ContingencyResult) -> str:\n",
    "    if index == r\"\\(\\sum\\)\":\n",
    "        return \"\"\n",
    "    col_index = row.index.get_loc(col)\n",
    "    diff_expected_freq = (row[col] - chi2_result.expected_freq[i,col_index]).round()\n",
    "    diff_expected_freq_sign = r\"\\(+\\)\" if diff_expected_freq > 0 else r\"--\" if diff_expected_freq < 0 else r\"\\(\\pm\\)\"\n",
    "    diff_expected_freq_tex = f\"{diff_expected_freq_sign}{abs(diff_expected_freq):.0f}\"\n",
    "    diff_expected_freq_tex = r\"\\secondary{(\" + diff_expected_freq_tex + r\")}\"\n",
    "    return diff_expected_freq_tex"
   ]
  },
  {
   "cell_type": "code",
   "execution_count": 666,
   "id": "598a9e631623cf3e",
   "metadata": {
    "ExecuteTime": {
     "end_time": "2023-10-20T00:34:12.683101121Z",
     "start_time": "2023-10-20T00:34:12.367569301Z"
    },
    "collapsed": false
   },
   "outputs": [
    {
     "data": {
      "text/plain": [
       "0.56969696969697"
      ]
     },
     "execution_count": 666,
     "metadata": {},
     "output_type": "execute_result"
    }
   ],
   "source": [
    "# Copy-pasted from the quality assessments evaluation notebook (median).\n",
    "quality_threshold = 0.56969696969697\n",
    "label_low_quality = r\"low quality~\\secondary{(\\(<\" + f\"{quality_threshold:.2f}\" + r\"\\))}\"\n",
    "label_high_quality = r\"high quality~\\secondary{(\\(\\geq\" + f\"{quality_threshold:.2f}\" + r\"\\))}\"\n",
    "quality_threshold"
   ]
  },
  {
   "cell_type": "code",
   "execution_count": 667,
   "id": "8a680c01dd7f59c7",
   "metadata": {
    "ExecuteTime": {
     "end_time": "2023-10-20T00:34:12.684763097Z",
     "start_time": "2023-10-20T00:34:12.419005581Z"
    },
    "collapsed": false
   },
   "outputs": [
    {
     "data": {
      "text/plain": [
       "5.0"
      ]
     },
     "execution_count": 667,
     "metadata": {},
     "output_type": "execute_result"
    }
   ],
   "source": [
    "initial_confidence_threshold = df[\"confidence_before_search\"].median()\n",
    "label_low_initial_confidence = r\"low confidence~\\secondary{(\\(<\" + f\"{initial_confidence_threshold:.0f}\" + r\"\\))}\"\n",
    "label_high_initial_confidence = r\"high confidence~\\secondary{(\\(\\geq\" + f\"{initial_confidence_threshold:.0f}\" + r\"\\))}\"\n",
    "initial_confidence_threshold"
   ]
  },
  {
   "cell_type": "code",
   "execution_count": 668,
   "id": "8acd92faddded1f8",
   "metadata": {
    "ExecuteTime": {
     "end_time": "2023-10-20T00:34:12.790778817Z",
     "start_time": "2023-10-20T00:34:12.462913867Z"
    },
    "collapsed": false
   },
   "outputs": [
    {
     "data": {
      "text/plain": [
       "5.0"
      ]
     },
     "execution_count": 668,
     "metadata": {},
     "output_type": "execute_result"
    }
   ],
   "source": [
    "final_confidence_threshold = df[\"confidence_after_search\"].median()\n",
    "label_low_final_confidence = r\"low confidence~\\secondary{(\\(<\" + f\"{final_confidence_threshold:.0f}\" + r\"\\))}\"\n",
    "label_high_final_confidence = r\"high confidence~\\secondary{(\\(\\geq\" + f\"{final_confidence_threshold:.0f}\" + r\"\\))}\"\n",
    "final_confidence_threshold"
   ]
  },
  {
   "cell_type": "code",
   "execution_count": 669,
   "id": "bc029c749a145951",
   "metadata": {
    "ExecuteTime": {
     "end_time": "2023-10-20T00:34:14.098576928Z",
     "start_time": "2023-10-20T00:34:12.507098626Z"
    },
    "collapsed": false
   },
   "outputs": [
    {
     "data": {
      "text/html": [
       "<div>\n",
       "<style scoped>\n",
       "    .dataframe tbody tr th:only-of-type {\n",
       "        vertical-align: middle;\n",
       "    }\n",
       "\n",
       "    .dataframe tbody tr th {\n",
       "        vertical-align: top;\n",
       "    }\n",
       "\n",
       "    .dataframe thead th {\n",
       "        text-align: right;\n",
       "    }\n",
       "</style>\n",
       "<table border=\"1\" class=\"dataframe\">\n",
       "  <thead>\n",
       "    <tr style=\"text-align: right;\">\n",
       "      <th></th>\n",
       "      <th>survey_id</th>\n",
       "      <th>qid</th>\n",
       "      <th>background</th>\n",
       "      <th>rank</th>\n",
       "      <th>decision_before_search_object1</th>\n",
       "      <th>decision_before_search_object2</th>\n",
       "      <th>decision_before_search_none</th>\n",
       "      <th>confidence_before_search</th>\n",
       "      <th>decision_after_search_object1</th>\n",
       "      <th>decision_after_search_object2</th>\n",
       "      <th>...</th>\n",
       "      <th>statement_research_confirmed</th>\n",
       "      <th>statement_research_continue</th>\n",
       "      <th>statement_research_helped</th>\n",
       "      <th>statement_research_learned</th>\n",
       "      <th>statement_research_not_helped</th>\n",
       "      <th>quality_document</th>\n",
       "      <th>relevance_quality_document</th>\n",
       "      <th>initial_confidence</th>\n",
       "      <th>final_confidence</th>\n",
       "      <th>initial_confidence_low_quality</th>\n",
       "    </tr>\n",
       "  </thead>\n",
       "  <tbody>\n",
       "    <tr>\n",
       "      <th>0</th>\n",
       "      <td>0</td>\n",
       "      <td>28</td>\n",
       "      <td>factual</td>\n",
       "      <td>rank~1</td>\n",
       "      <td>False</td>\n",
       "      <td>False</td>\n",
       "      <td>True</td>\n",
       "      <td>3.0</td>\n",
       "      <td>False</td>\n",
       "      <td>False</td>\n",
       "      <td>...</td>\n",
       "      <td>False</td>\n",
       "      <td>False</td>\n",
       "      <td>False</td>\n",
       "      <td>False</td>\n",
       "      <td>True</td>\n",
       "      <td>low quality~\\secondary{(\\(&lt;0.57\\))}</td>\n",
       "      <td>not relevant, low quality~\\secondary{(\\(&lt;0.57\\))}</td>\n",
       "      <td>low confidence~\\secondary{(\\(&lt;5\\))}</td>\n",
       "      <td>low confidence~\\secondary{(\\(&lt;5\\))}</td>\n",
       "      <td>low confidence~\\secondary{(\\(&lt;5\\))}</td>\n",
       "    </tr>\n",
       "    <tr>\n",
       "      <th>2</th>\n",
       "      <td>0</td>\n",
       "      <td>28</td>\n",
       "      <td>factual</td>\n",
       "      <td>rank~3</td>\n",
       "      <td>False</td>\n",
       "      <td>False</td>\n",
       "      <td>True</td>\n",
       "      <td>3.0</td>\n",
       "      <td>False</td>\n",
       "      <td>False</td>\n",
       "      <td>...</td>\n",
       "      <td>False</td>\n",
       "      <td>False</td>\n",
       "      <td>False</td>\n",
       "      <td>False</td>\n",
       "      <td>True</td>\n",
       "      <td>low quality~\\secondary{(\\(&lt;0.57\\))}</td>\n",
       "      <td>relevant, low quality~\\secondary{(\\(&lt;0.57\\))}</td>\n",
       "      <td>low confidence~\\secondary{(\\(&lt;5\\))}</td>\n",
       "      <td>low confidence~\\secondary{(\\(&lt;5\\))}</td>\n",
       "      <td>low confidence~\\secondary{(\\(&lt;5\\))}</td>\n",
       "    </tr>\n",
       "    <tr>\n",
       "      <th>0</th>\n",
       "      <td>1</td>\n",
       "      <td>28</td>\n",
       "      <td>factual</td>\n",
       "      <td>rank~1</td>\n",
       "      <td>True</td>\n",
       "      <td>False</td>\n",
       "      <td>False</td>\n",
       "      <td>4.0</td>\n",
       "      <td>False</td>\n",
       "      <td>False</td>\n",
       "      <td>...</td>\n",
       "      <td>False</td>\n",
       "      <td>True</td>\n",
       "      <td>True</td>\n",
       "      <td>True</td>\n",
       "      <td>False</td>\n",
       "      <td>low quality~\\secondary{(\\(&lt;0.57\\))}</td>\n",
       "      <td>not relevant, low quality~\\secondary{(\\(&lt;0.57\\))}</td>\n",
       "      <td>low confidence~\\secondary{(\\(&lt;5\\))}</td>\n",
       "      <td>high confidence~\\secondary{(\\(\\geq5\\))}</td>\n",
       "      <td>low confidence~\\secondary{(\\(&lt;5\\))}</td>\n",
       "    </tr>\n",
       "    <tr>\n",
       "      <th>1</th>\n",
       "      <td>1</td>\n",
       "      <td>28</td>\n",
       "      <td>factual</td>\n",
       "      <td>rank~2</td>\n",
       "      <td>True</td>\n",
       "      <td>False</td>\n",
       "      <td>False</td>\n",
       "      <td>4.0</td>\n",
       "      <td>False</td>\n",
       "      <td>False</td>\n",
       "      <td>...</td>\n",
       "      <td>False</td>\n",
       "      <td>True</td>\n",
       "      <td>True</td>\n",
       "      <td>True</td>\n",
       "      <td>False</td>\n",
       "      <td>low quality~\\secondary{(\\(&lt;0.57\\))}</td>\n",
       "      <td>relevant, low quality~\\secondary{(\\(&lt;0.57\\))}</td>\n",
       "      <td>low confidence~\\secondary{(\\(&lt;5\\))}</td>\n",
       "      <td>high confidence~\\secondary{(\\(\\geq5\\))}</td>\n",
       "      <td>low confidence~\\secondary{(\\(&lt;5\\))}</td>\n",
       "    </tr>\n",
       "    <tr>\n",
       "      <th>2</th>\n",
       "      <td>1</td>\n",
       "      <td>28</td>\n",
       "      <td>factual</td>\n",
       "      <td>rank~3</td>\n",
       "      <td>True</td>\n",
       "      <td>False</td>\n",
       "      <td>False</td>\n",
       "      <td>4.0</td>\n",
       "      <td>False</td>\n",
       "      <td>False</td>\n",
       "      <td>...</td>\n",
       "      <td>False</td>\n",
       "      <td>True</td>\n",
       "      <td>True</td>\n",
       "      <td>True</td>\n",
       "      <td>False</td>\n",
       "      <td>low quality~\\secondary{(\\(&lt;0.57\\))}</td>\n",
       "      <td>relevant, low quality~\\secondary{(\\(&lt;0.57\\))}</td>\n",
       "      <td>low confidence~\\secondary{(\\(&lt;5\\))}</td>\n",
       "      <td>high confidence~\\secondary{(\\(\\geq5\\))}</td>\n",
       "      <td>low confidence~\\secondary{(\\(&lt;5\\))}</td>\n",
       "    </tr>\n",
       "    <tr>\n",
       "      <th>...</th>\n",
       "      <td>...</td>\n",
       "      <td>...</td>\n",
       "      <td>...</td>\n",
       "      <td>...</td>\n",
       "      <td>...</td>\n",
       "      <td>...</td>\n",
       "      <td>...</td>\n",
       "      <td>...</td>\n",
       "      <td>...</td>\n",
       "      <td>...</td>\n",
       "      <td>...</td>\n",
       "      <td>...</td>\n",
       "      <td>...</td>\n",
       "      <td>...</td>\n",
       "      <td>...</td>\n",
       "      <td>...</td>\n",
       "      <td>...</td>\n",
       "      <td>...</td>\n",
       "      <td>...</td>\n",
       "      <td>...</td>\n",
       "      <td>...</td>\n",
       "    </tr>\n",
       "    <tr>\n",
       "      <th>3</th>\n",
       "      <td>552</td>\n",
       "      <td>10</td>\n",
       "      <td>factual</td>\n",
       "      <td>rank~4</td>\n",
       "      <td>True</td>\n",
       "      <td>False</td>\n",
       "      <td>False</td>\n",
       "      <td>4.0</td>\n",
       "      <td>True</td>\n",
       "      <td>False</td>\n",
       "      <td>...</td>\n",
       "      <td>True</td>\n",
       "      <td>False</td>\n",
       "      <td>True</td>\n",
       "      <td>False</td>\n",
       "      <td>False</td>\n",
       "      <td>low quality~\\secondary{(\\(&lt;0.57\\))}</td>\n",
       "      <td>relevant, low quality~\\secondary{(\\(&lt;0.57\\))}</td>\n",
       "      <td>low confidence~\\secondary{(\\(&lt;5\\))}</td>\n",
       "      <td>high confidence~\\secondary{(\\(\\geq5\\))}</td>\n",
       "      <td>low confidence~\\secondary{(\\(&lt;5\\))}</td>\n",
       "    </tr>\n",
       "    <tr>\n",
       "      <th>0</th>\n",
       "      <td>553</td>\n",
       "      <td>10</td>\n",
       "      <td>factual</td>\n",
       "      <td>rank~1</td>\n",
       "      <td>True</td>\n",
       "      <td>False</td>\n",
       "      <td>False</td>\n",
       "      <td>1.0</td>\n",
       "      <td>True</td>\n",
       "      <td>False</td>\n",
       "      <td>...</td>\n",
       "      <td>False</td>\n",
       "      <td>False</td>\n",
       "      <td>False</td>\n",
       "      <td>True</td>\n",
       "      <td>False</td>\n",
       "      <td>high quality~\\secondary{(\\(\\geq0.57\\))}</td>\n",
       "      <td>relevant, high quality~\\secondary{(\\(\\geq0.57\\))}</td>\n",
       "      <td>low confidence~\\secondary{(\\(&lt;5\\))}</td>\n",
       "      <td>low confidence~\\secondary{(\\(&lt;5\\))}</td>\n",
       "      <td>NaN</td>\n",
       "    </tr>\n",
       "    <tr>\n",
       "      <th>1</th>\n",
       "      <td>553</td>\n",
       "      <td>10</td>\n",
       "      <td>factual</td>\n",
       "      <td>rank~2</td>\n",
       "      <td>True</td>\n",
       "      <td>False</td>\n",
       "      <td>False</td>\n",
       "      <td>1.0</td>\n",
       "      <td>True</td>\n",
       "      <td>False</td>\n",
       "      <td>...</td>\n",
       "      <td>False</td>\n",
       "      <td>False</td>\n",
       "      <td>False</td>\n",
       "      <td>True</td>\n",
       "      <td>False</td>\n",
       "      <td>high quality~\\secondary{(\\(\\geq0.57\\))}</td>\n",
       "      <td>relevant, high quality~\\secondary{(\\(\\geq0.57\\))}</td>\n",
       "      <td>low confidence~\\secondary{(\\(&lt;5\\))}</td>\n",
       "      <td>low confidence~\\secondary{(\\(&lt;5\\))}</td>\n",
       "      <td>NaN</td>\n",
       "    </tr>\n",
       "    <tr>\n",
       "      <th>2</th>\n",
       "      <td>553</td>\n",
       "      <td>10</td>\n",
       "      <td>factual</td>\n",
       "      <td>rank~3</td>\n",
       "      <td>True</td>\n",
       "      <td>False</td>\n",
       "      <td>False</td>\n",
       "      <td>1.0</td>\n",
       "      <td>True</td>\n",
       "      <td>False</td>\n",
       "      <td>...</td>\n",
       "      <td>False</td>\n",
       "      <td>False</td>\n",
       "      <td>False</td>\n",
       "      <td>True</td>\n",
       "      <td>False</td>\n",
       "      <td>low quality~\\secondary{(\\(&lt;0.57\\))}</td>\n",
       "      <td>not relevant, low quality~\\secondary{(\\(&lt;0.57\\))}</td>\n",
       "      <td>low confidence~\\secondary{(\\(&lt;5\\))}</td>\n",
       "      <td>low confidence~\\secondary{(\\(&lt;5\\))}</td>\n",
       "      <td>low confidence~\\secondary{(\\(&lt;5\\))}</td>\n",
       "    </tr>\n",
       "    <tr>\n",
       "      <th>3</th>\n",
       "      <td>553</td>\n",
       "      <td>10</td>\n",
       "      <td>factual</td>\n",
       "      <td>rank~4</td>\n",
       "      <td>True</td>\n",
       "      <td>False</td>\n",
       "      <td>False</td>\n",
       "      <td>1.0</td>\n",
       "      <td>True</td>\n",
       "      <td>False</td>\n",
       "      <td>...</td>\n",
       "      <td>False</td>\n",
       "      <td>False</td>\n",
       "      <td>False</td>\n",
       "      <td>True</td>\n",
       "      <td>False</td>\n",
       "      <td>low quality~\\secondary{(\\(&lt;0.57\\))}</td>\n",
       "      <td>relevant, low quality~\\secondary{(\\(&lt;0.57\\))}</td>\n",
       "      <td>low confidence~\\secondary{(\\(&lt;5\\))}</td>\n",
       "      <td>low confidence~\\secondary{(\\(&lt;5\\))}</td>\n",
       "      <td>low confidence~\\secondary{(\\(&lt;5\\))}</td>\n",
       "    </tr>\n",
       "  </tbody>\n",
       "</table>\n",
       "<p>1766 rows × 35 columns</p>\n",
       "</div>"
      ],
      "text/plain": [
       "    survey_id  qid background    rank  decision_before_search_object1  \\\n",
       "0           0   28    factual  rank~1                           False   \n",
       "2           0   28    factual  rank~3                           False   \n",
       "0           1   28    factual  rank~1                            True   \n",
       "1           1   28    factual  rank~2                            True   \n",
       "2           1   28    factual  rank~3                            True   \n",
       "..        ...  ...        ...     ...                             ...   \n",
       "3         552   10    factual  rank~4                            True   \n",
       "0         553   10    factual  rank~1                            True   \n",
       "1         553   10    factual  rank~2                            True   \n",
       "2         553   10    factual  rank~3                            True   \n",
       "3         553   10    factual  rank~4                            True   \n",
       "\n",
       "    decision_before_search_object2  decision_before_search_none  \\\n",
       "0                            False                         True   \n",
       "2                            False                         True   \n",
       "0                            False                        False   \n",
       "1                            False                        False   \n",
       "2                            False                        False   \n",
       "..                             ...                          ...   \n",
       "3                            False                        False   \n",
       "0                            False                        False   \n",
       "1                            False                        False   \n",
       "2                            False                        False   \n",
       "3                            False                        False   \n",
       "\n",
       "    confidence_before_search  decision_after_search_object1  \\\n",
       "0                        3.0                          False   \n",
       "2                        3.0                          False   \n",
       "0                        4.0                          False   \n",
       "1                        4.0                          False   \n",
       "2                        4.0                          False   \n",
       "..                       ...                            ...   \n",
       "3                        4.0                           True   \n",
       "0                        1.0                           True   \n",
       "1                        1.0                           True   \n",
       "2                        1.0                           True   \n",
       "3                        1.0                           True   \n",
       "\n",
       "    decision_after_search_object2  ...  statement_research_confirmed  \\\n",
       "0                           False  ...                         False   \n",
       "2                           False  ...                         False   \n",
       "0                           False  ...                         False   \n",
       "1                           False  ...                         False   \n",
       "2                           False  ...                         False   \n",
       "..                            ...  ...                           ...   \n",
       "3                           False  ...                          True   \n",
       "0                           False  ...                         False   \n",
       "1                           False  ...                         False   \n",
       "2                           False  ...                         False   \n",
       "3                           False  ...                         False   \n",
       "\n",
       "    statement_research_continue  statement_research_helped  \\\n",
       "0                         False                      False   \n",
       "2                         False                      False   \n",
       "0                          True                       True   \n",
       "1                          True                       True   \n",
       "2                          True                       True   \n",
       "..                          ...                        ...   \n",
       "3                         False                       True   \n",
       "0                         False                      False   \n",
       "1                         False                      False   \n",
       "2                         False                      False   \n",
       "3                         False                      False   \n",
       "\n",
       "    statement_research_learned  statement_research_not_helped  \\\n",
       "0                        False                           True   \n",
       "2                        False                           True   \n",
       "0                         True                          False   \n",
       "1                         True                          False   \n",
       "2                         True                          False   \n",
       "..                         ...                            ...   \n",
       "3                        False                          False   \n",
       "0                         True                          False   \n",
       "1                         True                          False   \n",
       "2                         True                          False   \n",
       "3                         True                          False   \n",
       "\n",
       "                           quality_document  \\\n",
       "0       low quality~\\secondary{(\\(<0.57\\))}   \n",
       "2       low quality~\\secondary{(\\(<0.57\\))}   \n",
       "0       low quality~\\secondary{(\\(<0.57\\))}   \n",
       "1       low quality~\\secondary{(\\(<0.57\\))}   \n",
       "2       low quality~\\secondary{(\\(<0.57\\))}   \n",
       "..                                      ...   \n",
       "3       low quality~\\secondary{(\\(<0.57\\))}   \n",
       "0   high quality~\\secondary{(\\(\\geq0.57\\))}   \n",
       "1   high quality~\\secondary{(\\(\\geq0.57\\))}   \n",
       "2       low quality~\\secondary{(\\(<0.57\\))}   \n",
       "3       low quality~\\secondary{(\\(<0.57\\))}   \n",
       "\n",
       "                           relevance_quality_document  \\\n",
       "0   not relevant, low quality~\\secondary{(\\(<0.57\\))}   \n",
       "2       relevant, low quality~\\secondary{(\\(<0.57\\))}   \n",
       "0   not relevant, low quality~\\secondary{(\\(<0.57\\))}   \n",
       "1       relevant, low quality~\\secondary{(\\(<0.57\\))}   \n",
       "2       relevant, low quality~\\secondary{(\\(<0.57\\))}   \n",
       "..                                                ...   \n",
       "3       relevant, low quality~\\secondary{(\\(<0.57\\))}   \n",
       "0   relevant, high quality~\\secondary{(\\(\\geq0.57\\))}   \n",
       "1   relevant, high quality~\\secondary{(\\(\\geq0.57\\))}   \n",
       "2   not relevant, low quality~\\secondary{(\\(<0.57\\))}   \n",
       "3       relevant, low quality~\\secondary{(\\(<0.57\\))}   \n",
       "\n",
       "                     initial_confidence  \\\n",
       "0   low confidence~\\secondary{(\\(<5\\))}   \n",
       "2   low confidence~\\secondary{(\\(<5\\))}   \n",
       "0   low confidence~\\secondary{(\\(<5\\))}   \n",
       "1   low confidence~\\secondary{(\\(<5\\))}   \n",
       "2   low confidence~\\secondary{(\\(<5\\))}   \n",
       "..                                  ...   \n",
       "3   low confidence~\\secondary{(\\(<5\\))}   \n",
       "0   low confidence~\\secondary{(\\(<5\\))}   \n",
       "1   low confidence~\\secondary{(\\(<5\\))}   \n",
       "2   low confidence~\\secondary{(\\(<5\\))}   \n",
       "3   low confidence~\\secondary{(\\(<5\\))}   \n",
       "\n",
       "                           final_confidence  \\\n",
       "0       low confidence~\\secondary{(\\(<5\\))}   \n",
       "2       low confidence~\\secondary{(\\(<5\\))}   \n",
       "0   high confidence~\\secondary{(\\(\\geq5\\))}   \n",
       "1   high confidence~\\secondary{(\\(\\geq5\\))}   \n",
       "2   high confidence~\\secondary{(\\(\\geq5\\))}   \n",
       "..                                      ...   \n",
       "3   high confidence~\\secondary{(\\(\\geq5\\))}   \n",
       "0       low confidence~\\secondary{(\\(<5\\))}   \n",
       "1       low confidence~\\secondary{(\\(<5\\))}   \n",
       "2       low confidence~\\secondary{(\\(<5\\))}   \n",
       "3       low confidence~\\secondary{(\\(<5\\))}   \n",
       "\n",
       "         initial_confidence_low_quality  \n",
       "0   low confidence~\\secondary{(\\(<5\\))}  \n",
       "2   low confidence~\\secondary{(\\(<5\\))}  \n",
       "0   low confidence~\\secondary{(\\(<5\\))}  \n",
       "1   low confidence~\\secondary{(\\(<5\\))}  \n",
       "2   low confidence~\\secondary{(\\(<5\\))}  \n",
       "..                                  ...  \n",
       "3   low confidence~\\secondary{(\\(<5\\))}  \n",
       "0                                   NaN  \n",
       "1                                   NaN  \n",
       "2   low confidence~\\secondary{(\\(<5\\))}  \n",
       "3   low confidence~\\secondary{(\\(<5\\))}  \n",
       "\n",
       "[1766 rows x 35 columns]"
      ]
     },
     "execution_count": 669,
     "metadata": {},
     "output_type": "execute_result"
    }
   ],
   "source": [
    "df_test = df_doc.copy()\n",
    "df_test = df_test[df_test[\"has_partially_read_document\"]]\n",
    "df_test[\"influence_document\"] = df_test[\"influence_document\"].map(\n",
    "    lambda x: \"influence\" if x else \"no influence\")\n",
    "df_test[\"influence_document\"] = Categorical(\n",
    "    df_test[\"influence_document\"],\n",
    "    categories=[\"no influence\", \"influence\"],\n",
    "    ordered=True,\n",
    ")\n",
    "df_test[\"quality_document\"] = df_test[\"quality_score_document\"].map(\n",
    "    lambda x: label_high_quality if x >= quality_threshold else label_low_quality)\n",
    "df_test[\"quality_document\"] = Categorical(\n",
    "    df_test[\"quality_document\"],\n",
    "    categories=[label_low_quality, label_high_quality],\n",
    "    ordered=True,\n",
    ")\n",
    "df_test[\"relevance_document\"] = df_test[\"relevance_document\"].map(\n",
    "    lambda x: \"relevant\" if x else \"not relevant\")\n",
    "df_test[\"relevance_document\"] = Categorical(\n",
    "    df_test[\"relevance_document\"],\n",
    "    categories=[\"not relevant\", \"relevant\"],\n",
    "    ordered=True,\n",
    ")\n",
    "df_test[\"relevance_quality_document\"] = [\n",
    "    row[\"relevance_document\"] + \", \" + row[\"quality_document\"]\n",
    "    for _, row in df_test.iterrows()\n",
    "]\n",
    "df_test[\"relevance_quality_document\"] = Categorical(\n",
    "    df_test[\"relevance_quality_document\"],\n",
    "    categories=[f\"not relevant, {label_low_quality}\", f\"not relevant, {label_high_quality}\", f\"relevant, {label_low_quality}\", f\"relevant, {label_high_quality}\"],\n",
    "    ordered=True,\n",
    ")\n",
    "df_test[\"stance_strength_document\"] = df_test[\"stance_strength_document\"].map({\n",
    "    0: \"no stance\",\n",
    "    1: \"weak stance\",\n",
    "    2: \"strong stance\",\n",
    "})\n",
    "df_test[\"stance_strength_document\"] = Categorical(\n",
    "    df_test[\"stance_strength_document\"],\n",
    "    categories=[\"no stance\", \"weak stance\", \"strong stance\"],\n",
    "    ordered=True,\n",
    ")\n",
    "df_test[\"initial_confidence\"] = df_test[\"confidence_before_search\"].map(\n",
    "    lambda x: label_high_initial_confidence if x >= initial_confidence_threshold else label_low_initial_confidence)\n",
    "df_test[\"initial_confidence\"] = Categorical(\n",
    "    df_test[\"initial_confidence\"],\n",
    "    categories=[label_low_initial_confidence, label_high_initial_confidence],\n",
    "    ordered=True,\n",
    ")\n",
    "df_test[\"final_confidence\"] = df_test[\"confidence_after_search\"].map(\n",
    "    lambda x: label_high_final_confidence if x >= final_confidence_threshold else label_low_final_confidence)\n",
    "df_test[\"final_confidence\"] = Categorical(\n",
    "    df_test[\"final_confidence\"],\n",
    "    categories=[label_low_final_confidence, label_high_final_confidence],\n",
    "    ordered=True,\n",
    ")\n",
    "df_test[\"initial_confidence_low_quality\"] = df_test[\"initial_confidence\"].where(\n",
    "    df_test[\"quality_document\"] == label_low_quality)\n",
    "df_test[\"rank\"] = \"rank~\" + df_test[\"rank\"].astype(str)\n",
    "df_test"
   ]
  },
  {
   "cell_type": "code",
   "execution_count": 670,
   "id": "7086e52aae86f01e",
   "metadata": {
    "ExecuteTime": {
     "end_time": "2023-10-20T00:34:14.254056045Z",
     "start_time": "2023-10-20T00:34:12.748352081Z"
    },
    "collapsed": false
   },
   "outputs": [
    {
     "data": {
      "text/html": [
       "<div>\n",
       "<style scoped>\n",
       "    .dataframe tbody tr th:only-of-type {\n",
       "        vertical-align: middle;\n",
       "    }\n",
       "\n",
       "    .dataframe tbody tr th {\n",
       "        vertical-align: top;\n",
       "    }\n",
       "\n",
       "    .dataframe thead th {\n",
       "        text-align: right;\n",
       "    }\n",
       "</style>\n",
       "<table border=\"1\" class=\"dataframe\">\n",
       "  <thead>\n",
       "    <tr style=\"text-align: right;\">\n",
       "      <th>influence_document</th>\n",
       "      <th>no influence</th>\n",
       "      <th>influence</th>\n",
       "      <th>All</th>\n",
       "    </tr>\n",
       "    <tr>\n",
       "      <th>quality_document</th>\n",
       "      <th></th>\n",
       "      <th></th>\n",
       "      <th></th>\n",
       "    </tr>\n",
       "  </thead>\n",
       "  <tbody>\n",
       "    <tr>\n",
       "      <th>low quality~\\secondary{(\\(&lt;0.57\\))}</th>\n",
       "      <td>648</td>\n",
       "      <td>252</td>\n",
       "      <td>900</td>\n",
       "    </tr>\n",
       "    <tr>\n",
       "      <th>high quality~\\secondary{(\\(\\geq0.57\\))}</th>\n",
       "      <td>492</td>\n",
       "      <td>374</td>\n",
       "      <td>866</td>\n",
       "    </tr>\n",
       "    <tr>\n",
       "      <th>All</th>\n",
       "      <td>1140</td>\n",
       "      <td>626</td>\n",
       "      <td>1766</td>\n",
       "    </tr>\n",
       "  </tbody>\n",
       "</table>\n",
       "</div>"
      ],
      "text/plain": [
       "influence_document                       no influence  influence   All\n",
       "quality_document                                                      \n",
       "low quality~\\secondary{(\\(<0.57\\))}               648        252   900\n",
       "high quality~\\secondary{(\\(\\geq0.57\\))}           492        374   866\n",
       "All                                              1140        626  1766"
      ]
     },
     "execution_count": 670,
     "metadata": {},
     "output_type": "execute_result"
    }
   ],
   "source": [
    "contingency_quality = crosstab(\n",
    "    index=df_test[\"quality_document\"],\n",
    "    columns=df_test[\"influence_document\"],\n",
    ")\n",
    "contingency_full_quality = crosstab(\n",
    "    index=df_test[\"quality_document\"],\n",
    "    columns=df_test[\"influence_document\"],\n",
    "    margins=True,\n",
    ")\n",
    "contingency_full_quality"
   ]
  },
  {
   "cell_type": "code",
   "execution_count": 671,
   "id": "e54cdfac40ec0b32",
   "metadata": {
    "ExecuteTime": {
     "end_time": "2023-10-20T00:34:14.255604324Z",
     "start_time": "2023-10-20T00:34:13.017228871Z"
    },
    "collapsed": false
   },
   "outputs": [
    {
     "data": {
      "text/plain": [
       "Chi2ContingencyResult(statistic=44.485628682305716, pvalue=5.0857754705797445e-09, dof=4, expected_freq=array([[ 580.97395243,  319.02604757,  900.        ],\n",
       "       [ 559.02604757,  306.97395243,  866.        ],\n",
       "       [1140.        ,  626.        , 1766.        ]]))"
      ]
     },
     "execution_count": 671,
     "metadata": {},
     "output_type": "execute_result"
    }
   ],
   "source": [
    "chi2_quality = chi2_contingency(contingency_full_quality)\n",
    "chi2_quality"
   ]
  },
  {
   "cell_type": "code",
   "execution_count": 672,
   "id": "c49658f01a9ca29a",
   "metadata": {
    "ExecuteTime": {
     "end_time": "2023-10-20T00:34:14.276373292Z",
     "start_time": "2023-10-20T00:34:13.158934084Z"
    },
    "collapsed": false
   },
   "outputs": [
    {
     "data": {
      "text/html": [
       "<div>\n",
       "<style scoped>\n",
       "    .dataframe tbody tr th:only-of-type {\n",
       "        vertical-align: middle;\n",
       "    }\n",
       "\n",
       "    .dataframe tbody tr th {\n",
       "        vertical-align: top;\n",
       "    }\n",
       "\n",
       "    .dataframe thead th {\n",
       "        text-align: right;\n",
       "    }\n",
       "</style>\n",
       "<table border=\"1\" class=\"dataframe\">\n",
       "  <thead>\n",
       "    <tr style=\"text-align: right;\">\n",
       "      <th>influence_document</th>\n",
       "      <th>no influence</th>\n",
       "      <th>influence</th>\n",
       "      <th>All</th>\n",
       "    </tr>\n",
       "    <tr>\n",
       "      <th>relevance_document</th>\n",
       "      <th></th>\n",
       "      <th></th>\n",
       "      <th></th>\n",
       "    </tr>\n",
       "  </thead>\n",
       "  <tbody>\n",
       "    <tr>\n",
       "      <th>not relevant</th>\n",
       "      <td>649</td>\n",
       "      <td>255</td>\n",
       "      <td>904</td>\n",
       "    </tr>\n",
       "    <tr>\n",
       "      <th>relevant</th>\n",
       "      <td>491</td>\n",
       "      <td>371</td>\n",
       "      <td>862</td>\n",
       "    </tr>\n",
       "    <tr>\n",
       "      <th>All</th>\n",
       "      <td>1140</td>\n",
       "      <td>626</td>\n",
       "      <td>1766</td>\n",
       "    </tr>\n",
       "  </tbody>\n",
       "</table>\n",
       "</div>"
      ],
      "text/plain": [
       "influence_document  no influence  influence   All\n",
       "relevance_document                               \n",
       "not relevant                 649        255   904\n",
       "relevant                     491        371   862\n",
       "All                         1140        626  1766"
      ]
     },
     "execution_count": 672,
     "metadata": {},
     "output_type": "execute_result"
    }
   ],
   "source": [
    "contingency_relevance = crosstab(\n",
    "    index=df_test[\"relevance_document\"],\n",
    "    columns=df_test[\"influence_document\"],\n",
    ")\n",
    "contingency_full_relevance = crosstab(\n",
    "    index=df_test[\"relevance_document\"],\n",
    "    columns=df_test[\"influence_document\"],\n",
    "    margins=True,\n",
    ")\n",
    "contingency_full_relevance"
   ]
  },
  {
   "cell_type": "code",
   "execution_count": 673,
   "id": "73cbecd5007a0c27",
   "metadata": {
    "ExecuteTime": {
     "end_time": "2023-10-20T00:34:14.279198959Z",
     "start_time": "2023-10-20T00:34:13.461888403Z"
    },
    "collapsed": false
   },
   "outputs": [
    {
     "data": {
      "text/plain": [
       "Chi2ContingencyResult(statistic=41.772887579013315, pvalue=1.0251515346927013e-10, dof=1, expected_freq=array([[583.55605889, 320.44394111],\n",
       "       [556.44394111, 305.55605889]]))"
      ]
     },
     "execution_count": 673,
     "metadata": {},
     "output_type": "execute_result"
    }
   ],
   "source": [
    "chi2_relevance = chi2_contingency(contingency_relevance)\n",
    "chi2_relevance"
   ]
  },
  {
   "cell_type": "code",
   "execution_count": 674,
   "id": "3619484521d5aef1",
   "metadata": {
    "ExecuteTime": {
     "end_time": "2023-10-20T00:34:14.300293434Z",
     "start_time": "2023-10-20T00:34:13.670688296Z"
    },
    "collapsed": false
   },
   "outputs": [
    {
     "data": {
      "text/html": [
       "<div>\n",
       "<style scoped>\n",
       "    .dataframe tbody tr th:only-of-type {\n",
       "        vertical-align: middle;\n",
       "    }\n",
       "\n",
       "    .dataframe tbody tr th {\n",
       "        vertical-align: top;\n",
       "    }\n",
       "\n",
       "    .dataframe thead th {\n",
       "        text-align: right;\n",
       "    }\n",
       "</style>\n",
       "<table border=\"1\" class=\"dataframe\">\n",
       "  <thead>\n",
       "    <tr style=\"text-align: right;\">\n",
       "      <th>influence_document</th>\n",
       "      <th>no influence</th>\n",
       "      <th>influence</th>\n",
       "      <th>All</th>\n",
       "    </tr>\n",
       "    <tr>\n",
       "      <th>relevance_quality_document</th>\n",
       "      <th></th>\n",
       "      <th></th>\n",
       "      <th></th>\n",
       "    </tr>\n",
       "  </thead>\n",
       "  <tbody>\n",
       "    <tr>\n",
       "      <th>not relevant, low quality~\\secondary{(\\(&lt;0.57\\))}</th>\n",
       "      <td>390</td>\n",
       "      <td>113</td>\n",
       "      <td>503</td>\n",
       "    </tr>\n",
       "    <tr>\n",
       "      <th>not relevant, high quality~\\secondary{(\\(\\geq0.57\\))}</th>\n",
       "      <td>259</td>\n",
       "      <td>142</td>\n",
       "      <td>401</td>\n",
       "    </tr>\n",
       "    <tr>\n",
       "      <th>relevant, low quality~\\secondary{(\\(&lt;0.57\\))}</th>\n",
       "      <td>258</td>\n",
       "      <td>139</td>\n",
       "      <td>397</td>\n",
       "    </tr>\n",
       "    <tr>\n",
       "      <th>relevant, high quality~\\secondary{(\\(\\geq0.57\\))}</th>\n",
       "      <td>233</td>\n",
       "      <td>232</td>\n",
       "      <td>465</td>\n",
       "    </tr>\n",
       "    <tr>\n",
       "      <th>All</th>\n",
       "      <td>1140</td>\n",
       "      <td>626</td>\n",
       "      <td>1766</td>\n",
       "    </tr>\n",
       "  </tbody>\n",
       "</table>\n",
       "</div>"
      ],
      "text/plain": [
       "influence_document                                  no influence  influence  \\\n",
       "relevance_quality_document                                                    \n",
       "not relevant, low quality~\\secondary{(\\(<0.57\\))}            390        113   \n",
       "not relevant, high quality~\\secondary{(\\(\\geq0....           259        142   \n",
       "relevant, low quality~\\secondary{(\\(<0.57\\))}                258        139   \n",
       "relevant, high quality~\\secondary{(\\(\\geq0.57\\))}            233        232   \n",
       "All                                                         1140        626   \n",
       "\n",
       "influence_document                                   All  \n",
       "relevance_quality_document                                \n",
       "not relevant, low quality~\\secondary{(\\(<0.57\\))}    503  \n",
       "not relevant, high quality~\\secondary{(\\(\\geq0....   401  \n",
       "relevant, low quality~\\secondary{(\\(<0.57\\))}        397  \n",
       "relevant, high quality~\\secondary{(\\(\\geq0.57\\))}    465  \n",
       "All                                                 1766  "
      ]
     },
     "execution_count": 674,
     "metadata": {},
     "output_type": "execute_result"
    }
   ],
   "source": [
    "contingency_quality_quality_relevance = crosstab(\n",
    "    index=df_test[\"relevance_quality_document\"],\n",
    "    columns=df_test[\"influence_document\"],\n",
    ")\n",
    "contingency_full_quality_relevance = crosstab(\n",
    "    index=df_test[\"relevance_quality_document\"],\n",
    "    columns=df_test[\"influence_document\"],\n",
    "    margins=True,\n",
    ")\n",
    "contingency_full_quality_relevance"
   ]
  },
  {
   "cell_type": "code",
   "execution_count": 675,
   "id": "31ec985de692108b",
   "metadata": {
    "ExecuteTime": {
     "end_time": "2023-10-20T00:34:14.303157466Z",
     "start_time": "2023-10-20T00:34:13.980288839Z"
    },
    "collapsed": false
   },
   "outputs": [
    {
     "data": {
      "text/plain": [
       "Chi2ContingencyResult(statistic=79.4839612057026, pvalue=6.209395338851014e-14, dof=8, expected_freq=array([[ 324.69988675,  178.30011325,  503.        ],\n",
       "       [ 258.85617214,  142.14382786,  401.        ],\n",
       "       [ 256.27406569,  140.72593431,  397.        ],\n",
       "       [ 300.16987542,  164.83012458,  465.        ],\n",
       "       [1140.        ,  626.        , 1766.        ]]))"
      ]
     },
     "execution_count": 675,
     "metadata": {},
     "output_type": "execute_result"
    }
   ],
   "source": [
    "chi2_quality_relevance = chi2_contingency(contingency_full_quality_relevance)\n",
    "chi2_quality_relevance"
   ]
  },
  {
   "cell_type": "code",
   "execution_count": 676,
   "id": "f9d6a6260f74b116",
   "metadata": {
    "ExecuteTime": {
     "end_time": "2023-10-20T00:34:14.896404184Z",
     "start_time": "2023-10-20T00:34:14.015505328Z"
    },
    "collapsed": false
   },
   "outputs": [
    {
     "data": {
      "text/html": [
       "<div>\n",
       "<style scoped>\n",
       "    .dataframe tbody tr th:only-of-type {\n",
       "        vertical-align: middle;\n",
       "    }\n",
       "\n",
       "    .dataframe tbody tr th {\n",
       "        vertical-align: top;\n",
       "    }\n",
       "\n",
       "    .dataframe thead th {\n",
       "        text-align: right;\n",
       "    }\n",
       "</style>\n",
       "<table border=\"1\" class=\"dataframe\">\n",
       "  <thead>\n",
       "    <tr style=\"text-align: right;\">\n",
       "      <th>influence_document</th>\n",
       "      <th>no influence</th>\n",
       "      <th>influence</th>\n",
       "      <th>All</th>\n",
       "    </tr>\n",
       "    <tr>\n",
       "      <th>stance_strength_document</th>\n",
       "      <th></th>\n",
       "      <th></th>\n",
       "      <th></th>\n",
       "    </tr>\n",
       "  </thead>\n",
       "  <tbody>\n",
       "    <tr>\n",
       "      <th>no stance</th>\n",
       "      <td>273</td>\n",
       "      <td>237</td>\n",
       "      <td>510</td>\n",
       "    </tr>\n",
       "    <tr>\n",
       "      <th>weak stance</th>\n",
       "      <td>111</td>\n",
       "      <td>45</td>\n",
       "      <td>156</td>\n",
       "    </tr>\n",
       "    <tr>\n",
       "      <th>strong stance</th>\n",
       "      <td>75</td>\n",
       "      <td>99</td>\n",
       "      <td>174</td>\n",
       "    </tr>\n",
       "    <tr>\n",
       "      <th>All</th>\n",
       "      <td>459</td>\n",
       "      <td>381</td>\n",
       "      <td>840</td>\n",
       "    </tr>\n",
       "  </tbody>\n",
       "</table>\n",
       "</div>"
      ],
      "text/plain": [
       "influence_document        no influence  influence  All\n",
       "stance_strength_document                              \n",
       "no stance                          273        237  510\n",
       "weak stance                        111         45  156\n",
       "strong stance                       75         99  174\n",
       "All                                459        381  840"
      ]
     },
     "execution_count": 676,
     "metadata": {},
     "output_type": "execute_result"
    }
   ],
   "source": [
    "contingency_stance_strength = crosstab(\n",
    "    index=df_test[\"stance_strength_document\"],\n",
    "    columns=df_test[\"influence_document\"],\n",
    ")\n",
    "contingency_full_stance_strength = crosstab(\n",
    "    index=df_test[\"stance_strength_document\"],\n",
    "    columns=df_test[\"influence_document\"],\n",
    "    margins=True,\n",
    ")\n",
    "contingency_full_stance_strength"
   ]
  },
  {
   "cell_type": "code",
   "execution_count": 677,
   "id": "3cf1e599247e0bd5",
   "metadata": {
    "ExecuteTime": {
     "end_time": "2023-10-20T00:34:14.986197015Z",
     "start_time": "2023-10-20T00:34:14.191172969Z"
    },
    "collapsed": false
   },
   "outputs": [
    {
     "data": {
      "text/plain": [
       "Chi2ContingencyResult(statistic=26.76249936372428, pvalue=1.543821561739049e-06, dof=2, expected_freq=array([[278.67857143, 231.32142857],\n",
       "       [ 85.24285714,  70.75714286],\n",
       "       [ 95.07857143,  78.92142857]]))"
      ]
     },
     "execution_count": 677,
     "metadata": {},
     "output_type": "execute_result"
    }
   ],
   "source": [
    "chi2_stance_strength = chi2_contingency(contingency_stance_strength)\n",
    "chi2_stance_strength"
   ]
  },
  {
   "cell_type": "code",
   "execution_count": 678,
   "id": "d253165ece96953f",
   "metadata": {
    "ExecuteTime": {
     "end_time": "2023-10-20T00:34:16.898164776Z",
     "start_time": "2023-10-20T00:34:14.502309670Z"
    },
    "collapsed": false
   },
   "outputs": [
    {
     "data": {
      "text/html": [
       "<div>\n",
       "<style scoped>\n",
       "    .dataframe tbody tr th:only-of-type {\n",
       "        vertical-align: middle;\n",
       "    }\n",
       "\n",
       "    .dataframe tbody tr th {\n",
       "        vertical-align: top;\n",
       "    }\n",
       "\n",
       "    .dataframe thead th {\n",
       "        text-align: right;\n",
       "    }\n",
       "</style>\n",
       "<table border=\"1\" class=\"dataframe\">\n",
       "  <thead>\n",
       "    <tr style=\"text-align: right;\">\n",
       "      <th>influence_document</th>\n",
       "      <th>no influence</th>\n",
       "      <th>influence</th>\n",
       "      <th>All</th>\n",
       "    </tr>\n",
       "    <tr>\n",
       "      <th>initial_confidence_low_quality</th>\n",
       "      <th></th>\n",
       "      <th></th>\n",
       "      <th></th>\n",
       "    </tr>\n",
       "  </thead>\n",
       "  <tbody>\n",
       "    <tr>\n",
       "      <th>low confidence~\\secondary{(\\(&lt;5\\))}</th>\n",
       "      <td>302</td>\n",
       "      <td>138</td>\n",
       "      <td>440</td>\n",
       "    </tr>\n",
       "    <tr>\n",
       "      <th>high confidence~\\secondary{(\\(\\geq5\\))}</th>\n",
       "      <td>346</td>\n",
       "      <td>114</td>\n",
       "      <td>460</td>\n",
       "    </tr>\n",
       "    <tr>\n",
       "      <th>All</th>\n",
       "      <td>648</td>\n",
       "      <td>252</td>\n",
       "      <td>900</td>\n",
       "    </tr>\n",
       "  </tbody>\n",
       "</table>\n",
       "</div>"
      ],
      "text/plain": [
       "influence_document                       no influence  influence  All\n",
       "initial_confidence_low_quality                                       \n",
       "low confidence~\\secondary{(\\(<5\\))}               302        138  440\n",
       "high confidence~\\secondary{(\\(\\geq5\\))}           346        114  460\n",
       "All                                               648        252  900"
      ]
     },
     "execution_count": 678,
     "metadata": {},
     "output_type": "execute_result"
    }
   ],
   "source": [
    "contingency_initial_confidence_low_quality = crosstab(\n",
    "    index=df_test[\"initial_confidence_low_quality\"],\n",
    "    columns=df_test[\"influence_document\"],\n",
    ")\n",
    "contingency_full_initial_confidence_low_quality = crosstab(\n",
    "    index=df_test[\"initial_confidence_low_quality\"],\n",
    "    columns=df_test[\"influence_document\"],\n",
    "    margins=True,\n",
    ")\n",
    "contingency_full_initial_confidence_low_quality"
   ]
  },
  {
   "cell_type": "code",
   "execution_count": 679,
   "id": "56b78a4facd48f77",
   "metadata": {
    "ExecuteTime": {
     "end_time": "2023-10-20T00:34:16.900920226Z",
     "start_time": "2023-10-20T00:34:14.736762302Z"
    },
    "collapsed": false
   },
   "outputs": [
    {
     "data": {
      "text/plain": [
       "Chi2ContingencyResult(statistic=4.510384316770191, pvalue=0.03368967019978816, dof=1, expected_freq=array([[316.8, 123.2],\n",
       "       [331.2, 128.8]]))"
      ]
     },
     "execution_count": 679,
     "metadata": {},
     "output_type": "execute_result"
    }
   ],
   "source": [
    "chi2_initial_confidence_low_quality = chi2_contingency(contingency_initial_confidence_low_quality)\n",
    "chi2_initial_confidence_low_quality"
   ]
  },
  {
   "cell_type": "code",
   "execution_count": 680,
   "id": "9d0e231700f5a22f",
   "metadata": {
    "ExecuteTime": {
     "end_time": "2023-10-20T00:34:17.440734884Z",
     "start_time": "2023-10-20T00:34:14.778963228Z"
    },
    "collapsed": false
   },
   "outputs": [
    {
     "data": {
      "text/html": [
       "<div>\n",
       "<style scoped>\n",
       "    .dataframe tbody tr th:only-of-type {\n",
       "        vertical-align: middle;\n",
       "    }\n",
       "\n",
       "    .dataframe tbody tr th {\n",
       "        vertical-align: top;\n",
       "    }\n",
       "\n",
       "    .dataframe thead th {\n",
       "        text-align: right;\n",
       "    }\n",
       "</style>\n",
       "<table border=\"1\" class=\"dataframe\">\n",
       "  <thead>\n",
       "    <tr style=\"text-align: right;\">\n",
       "      <th>influence_document</th>\n",
       "      <th>no influence</th>\n",
       "      <th>influence</th>\n",
       "      <th>All</th>\n",
       "    </tr>\n",
       "    <tr>\n",
       "      <th>rank</th>\n",
       "      <th></th>\n",
       "      <th></th>\n",
       "      <th></th>\n",
       "    </tr>\n",
       "  </thead>\n",
       "  <tbody>\n",
       "    <tr>\n",
       "      <th>rank~1</th>\n",
       "      <td>286</td>\n",
       "      <td>197</td>\n",
       "      <td>483</td>\n",
       "    </tr>\n",
       "    <tr>\n",
       "      <th>rank~2</th>\n",
       "      <td>302</td>\n",
       "      <td>166</td>\n",
       "      <td>468</td>\n",
       "    </tr>\n",
       "    <tr>\n",
       "      <th>rank~3</th>\n",
       "      <td>281</td>\n",
       "      <td>144</td>\n",
       "      <td>425</td>\n",
       "    </tr>\n",
       "    <tr>\n",
       "      <th>rank~4</th>\n",
       "      <td>271</td>\n",
       "      <td>119</td>\n",
       "      <td>390</td>\n",
       "    </tr>\n",
       "    <tr>\n",
       "      <th>All</th>\n",
       "      <td>1140</td>\n",
       "      <td>626</td>\n",
       "      <td>1766</td>\n",
       "    </tr>\n",
       "  </tbody>\n",
       "</table>\n",
       "</div>"
      ],
      "text/plain": [
       "influence_document  no influence  influence   All\n",
       "rank                                             \n",
       "rank~1                       286        197   483\n",
       "rank~2                       302        166   468\n",
       "rank~3                       281        144   425\n",
       "rank~4                       271        119   390\n",
       "All                         1140        626  1766"
      ]
     },
     "execution_count": 680,
     "metadata": {},
     "output_type": "execute_result"
    }
   ],
   "source": [
    "contingency_rank = crosstab(\n",
    "    index=df_test[\"rank\"],\n",
    "    columns=df_test[\"influence_document\"],\n",
    ")\n",
    "contingency_full_rank = crosstab(\n",
    "    index=df_test[\"rank\"],\n",
    "    columns=df_test[\"influence_document\"],\n",
    "    margins=True,\n",
    ")\n",
    "contingency_full_rank"
   ]
  },
  {
   "cell_type": "code",
   "execution_count": 681,
   "id": "2a4ba07862579b42",
   "metadata": {
    "ExecuteTime": {
     "end_time": "2023-10-20T00:34:17.947328115Z",
     "start_time": "2023-10-20T00:34:14.989168739Z"
    },
    "collapsed": false
   },
   "outputs": [
    {
     "data": {
      "text/plain": [
       "Chi2ContingencyResult(statistic=10.622856219043383, pvalue=0.013950237976468034, dof=3, expected_freq=array([[311.78935447, 171.21064553],\n",
       "       [302.10645527, 165.89354473],\n",
       "       [274.34881087, 150.65118913],\n",
       "       [251.75537939, 138.24462061]]))"
      ]
     },
     "execution_count": 681,
     "metadata": {},
     "output_type": "execute_result"
    }
   ],
   "source": [
    "chi2_rank = chi2_contingency(contingency_rank)\n",
    "chi2_rank"
   ]
  },
  {
   "cell_type": "code",
   "execution_count": 682,
   "id": "e01a611d59189e75",
   "metadata": {
    "ExecuteTime": {
     "end_time": "2023-10-20T00:34:17.951998802Z",
     "start_time": "2023-10-20T00:34:15.030609293Z"
    },
    "collapsed": false
   },
   "outputs": [
    {
     "name": "stdout",
     "output_type": "stream",
     "text": [
      "\\begin{tabular}{@{}l@{\\hspace{\\largetabcolsep}}r@{ }lr@{ }lr@{}}\n",
      "  \\toprule\n",
      "  \\textbf{Predictor} & \\multicolumn{5}{@{}c@{}}{\\textbf{Document influence}} \\\\\n",
      "  & \\multicolumn{2}{@{}l}{No influence} & \\multicolumn{2}{l}{Influence} & \\(\\sum\\) \\\\\n",
      "  \\midrule\n",
      "  \\textit{Quality} & \\multicolumn{5}{@{}c@{}}{\\textbfn{\\(\\bm{\\chi^2(4)=44.49}\\), \\(\\bm{p<0.001}\\)}} \\\\\n",
      "  \\midrule\n",
      "  low quality~\\secondary{(\\(<0.57\\))} & 648 & \\secondary{(\\(+\\)67)} & 252 & \\secondary{(--67)} & 900 \\\\\n",
      "  high quality~\\secondary{(\\(\\geq0.57\\))} & 492 & \\secondary{(--67)} & 374 & \\secondary{(\\(+\\)67)} & 866 \\\\\n",
      "  \\(\\sum\\) & 1140 &  & 626 &  & 1766 \\\\\n",
      "  \\midrule\n",
      "  \\textit{Relevance} & \\multicolumn{5}{@{}c@{}}{\\textbfn{\\(\\bm{\\chi^2(1)=41.77}\\), \\(\\bm{p<0.001}\\)}} \\\\\n",
      "  \\midrule\n",
      "  not relevant & 649 & \\secondary{(\\(+\\)65)} & 255 & \\secondary{(--65)} & 904 \\\\\n",
      "  relevant & 491 & \\secondary{(--65)} & 371 & \\secondary{(\\(+\\)65)} & 862 \\\\\n",
      "  \\(\\sum\\) & 1140 &  & 626 &  & 1766 \\\\\n",
      "  \\midrule\n",
      "  \\textit{Quality\\,\\(\\times\\)\\,relevance} & \\multicolumn{5}{@{}c@{}}{\\textbfn{\\(\\bm{\\chi^2(8)=79.48}\\), \\(\\bm{p<0.001}\\)}} \\\\\n",
      "  \\midrule\n",
      "  not relevant, low quality~\\secondary{(\\(<0.57\\))} & 390 & \\secondary{(\\(+\\)65)} & 113 & \\secondary{(--65)} & 503 \\\\\n",
      "  not relevant, high quality~\\secondary{(\\(\\geq0.57\\))} & 259 & \\secondary{(\\(\\pm\\)0)} & 142 & \\secondary{(\\(\\pm\\)0)} & 401 \\\\\n",
      "  relevant, low quality~\\secondary{(\\(<0.57\\))} & 258 & \\secondary{(\\(+\\)2)} & 139 & \\secondary{(--2)} & 397 \\\\\n",
      "  relevant, high quality~\\secondary{(\\(\\geq0.57\\))} & 233 & \\secondary{(--67)} & 232 & \\secondary{(\\(+\\)67)} & 465 \\\\\n",
      "  \\(\\sum\\) & 1140 &  & 626 &  & 1766 \\\\\n",
      "  \\midrule\n",
      "  \\textit{Stance strength} & \\multicolumn{5}{@{}c@{}}{\\textbfn{\\(\\bm{\\chi^2(2)=26.76}\\), \\(\\bm{p<0.001}\\)}} \\\\\n",
      "  \\midrule\n",
      "  no stance & 273 & \\secondary{(--6)} & 237 & \\secondary{(\\(+\\)6)} & 510 \\\\\n",
      "  weak stance & 111 & \\secondary{(\\(+\\)26)} & 45 & \\secondary{(--26)} & 156 \\\\\n",
      "  strong stance & 75 & \\secondary{(--20)} & 99 & \\secondary{(\\(+\\)20)} & 174 \\\\\n",
      "  \\(\\sum\\) & 459 &  & 381 &  & 840 \\\\\n",
      "  \\midrule\n",
      "  \\textit{Initial confidence (for low-quality docs.)} & \\multicolumn{5}{@{}c@{}}{\\textbfn{\\(\\bm{\\chi^2(1)=4.51}\\), \\(\\bm{p=0.034}\\)}} \\\\\n",
      "  \\midrule\n",
      "  low confidence~\\secondary{(\\(<5\\))} & 302 & \\secondary{(--15)} & 138 & \\secondary{(\\(+\\)15)} & 440 \\\\\n",
      "  high confidence~\\secondary{(\\(\\geq5\\))} & 346 & \\secondary{(\\(+\\)15)} & 114 & \\secondary{(--15)} & 460 \\\\\n",
      "  \\(\\sum\\) & 648 &  & 252 &  & 900 \\\\\n",
      "  \\midrule\n",
      "  \\textit{Ranking position} & \\multicolumn{5}{@{}c@{}}{\\textbfn{\\(\\bm{\\chi^2(3)=10.62}\\), \\(\\bm{p=0.014}\\)}} \\\\\n",
      "  \\midrule\n",
      "  rank~1 & 286 & \\secondary{(--26)} & 197 & \\secondary{(\\(+\\)26)} & 483 \\\\\n",
      "  rank~2 & 302 & \\secondary{(\\(\\pm\\)0)} & 166 & \\secondary{(\\(\\pm\\)0)} & 468 \\\\\n",
      "  rank~3 & 281 & \\secondary{(\\(+\\)7)} & 144 & \\secondary{(--7)} & 425 \\\\\n",
      "  rank~4 & 271 & \\secondary{(\\(+\\)19)} & 119 & \\secondary{(--19)} & 390 \\\\\n",
      "  \\(\\sum\\) & 1140 &  & 626 &  & 1766 \\\\\n",
      "  \\bottomrule\n",
      "\\end{tabular}\n"
     ]
    }
   ],
   "source": [
    "tests = [\n",
    "    (r\"Quality\", contingency_full_quality, chi2_quality),\n",
    "    (r\"Relevance\", contingency_full_relevance, chi2_relevance),\n",
    "    (r\"Quality\\,\\(\\times\\)\\,relevance\", contingency_full_quality_relevance, chi2_quality_relevance),\n",
    "    (r\"Stance strength\", contingency_full_stance_strength, chi2_stance_strength),\n",
    "    (r\"Initial confidence (for low-quality docs.)\", contingency_full_initial_confidence_low_quality, chi2_initial_confidence_low_quality),\n",
    "    (r\"Ranking position\", contingency_full_rank, chi2_rank),\n",
    "]\n",
    "alpha = 0.05\n",
    "correction = 1\n",
    "alpha_corrected = alpha / correction  # Bonferroni correction across outcomes\n",
    "# TODO: Indicate change compared to expected frequencies.\n",
    "print(r\"\\begin{tabular}{@{}l@{\\hspace{\\largetabcolsep}}r@{ }lr@{ }lr@{}}\")\n",
    "print(r\"  \\toprule\")\n",
    "print(r\"  \\textbf{Predictor} & \\multicolumn{5}{@{}c@{}}{\\textbf{Document influence}} \\\\\")\n",
    "print(r\"  & \\multicolumn{2}{@{}l}{No influence} & \\multicolumn{2}{l}{Influence} & \\(\\sum\\) \\\\\")\n",
    "for variable_name, contingency, chi2_result in tests:\n",
    "    print(r\"  \\midrule\")\n",
    "    print(r\"  \\textit{\" + variable_name + r\"} & \\multicolumn{5}{@{}c@{}}{\" +\n",
    "          chi2_to_tex(chi2_result, alpha_corrected) + r\"} \\\\\")\n",
    "    print(r\"  \\midrule\")\n",
    "    for i, (index, row) in enumerate(contingency.iterrows()):\n",
    "        if isinstance(index, tuple):\n",
    "            index = \", \".join(index)\n",
    "        elif \"All\" in index:\n",
    "            index = r\"\\(\\sum\\)\"\n",
    "        columns = [\n",
    "            index,\n",
    "            f\"{row['no influence']}\",\n",
    "            diff_expected_freq_tex(row, \"no influence\", index, i, chi2_result),\n",
    "            f\"{row['influence']}\",\n",
    "            diff_expected_freq_tex(row, \"influence\", index, i, chi2_result),\n",
    "            f\"{row['All']}\",\n",
    "        ]\n",
    "        print(r\"  \" + r\" & \".join(columns) + r\" \\\\\")\n",
    "print(r\"  \\bottomrule\")\n",
    "print(r\"\\end{tabular}\")"
   ]
  },
  {
   "cell_type": "code",
   "execution_count": 683,
   "id": "ce9efd13827264a9",
   "metadata": {
    "ExecuteTime": {
     "end_time": "2023-10-20T00:34:17.961320694Z",
     "start_time": "2023-10-20T00:34:15.075133401Z"
    },
    "collapsed": false
   },
   "outputs": [
    {
     "data": {
      "text/html": [
       "<div>\n",
       "<style scoped>\n",
       "    .dataframe tbody tr th:only-of-type {\n",
       "        vertical-align: middle;\n",
       "    }\n",
       "\n",
       "    .dataframe tbody tr th {\n",
       "        vertical-align: top;\n",
       "    }\n",
       "\n",
       "    .dataframe thead th {\n",
       "        text-align: right;\n",
       "    }\n",
       "</style>\n",
       "<table border=\"1\" class=\"dataframe\">\n",
       "  <thead>\n",
       "    <tr style=\"text-align: right;\">\n",
       "      <th></th>\n",
       "      <th>survey_id</th>\n",
       "      <th>qid</th>\n",
       "      <th>prior_knowledge</th>\n",
       "      <th>confidence_before_search</th>\n",
       "      <th>confidence_after_search</th>\n",
       "      <th>quality_score</th>\n",
       "      <th>quality_score_document1</th>\n",
       "      <th>quality_score_document2</th>\n",
       "      <th>quality_score_document3</th>\n",
       "      <th>quality_score_document4</th>\n",
       "      <th>...</th>\n",
       "      <th>decision_before_search_none</th>\n",
       "      <th>decision_after_search_none</th>\n",
       "      <th>confidence_delta</th>\n",
       "      <th>decision_unchanged</th>\n",
       "      <th>decision_changed</th>\n",
       "      <th>num_influencing_documents</th>\n",
       "      <th>relevance</th>\n",
       "      <th>final_confidence</th>\n",
       "      <th>confidence_changed</th>\n",
       "      <th>quality</th>\n",
       "    </tr>\n",
       "  </thead>\n",
       "  <tbody>\n",
       "    <tr>\n",
       "      <th>0</th>\n",
       "      <td>0</td>\n",
       "      <td>28</td>\n",
       "      <td>False</td>\n",
       "      <td>3.0</td>\n",
       "      <td>3.0</td>\n",
       "      <td>0.322727</td>\n",
       "      <td>0.251515</td>\n",
       "      <td>0.372727</td>\n",
       "      <td>0.293939</td>\n",
       "      <td>0.372727</td>\n",
       "      <td>...</td>\n",
       "      <td>True</td>\n",
       "      <td>True</td>\n",
       "      <td>0.0</td>\n",
       "      <td>True</td>\n",
       "      <td>same decision</td>\n",
       "      <td>0</td>\n",
       "      <td>0.75</td>\n",
       "      <td>low confidence~\\secondary{(\\(&lt;5\\))}</td>\n",
       "      <td>same confidence</td>\n",
       "      <td>low quality~\\secondary{(\\(&lt;0.57\\))}</td>\n",
       "    </tr>\n",
       "    <tr>\n",
       "      <th>1</th>\n",
       "      <td>1</td>\n",
       "      <td>28</td>\n",
       "      <td>False</td>\n",
       "      <td>4.0</td>\n",
       "      <td>5.0</td>\n",
       "      <td>0.322727</td>\n",
       "      <td>0.251515</td>\n",
       "      <td>0.372727</td>\n",
       "      <td>0.293939</td>\n",
       "      <td>0.372727</td>\n",
       "      <td>...</td>\n",
       "      <td>False</td>\n",
       "      <td>True</td>\n",
       "      <td>1.0</td>\n",
       "      <td>False</td>\n",
       "      <td>changed decision</td>\n",
       "      <td>2</td>\n",
       "      <td>0.75</td>\n",
       "      <td>high confidence~\\secondary{(\\(\\geq5\\))}</td>\n",
       "      <td>more confident</td>\n",
       "      <td>low quality~\\secondary{(\\(&lt;0.57\\))}</td>\n",
       "    </tr>\n",
       "    <tr>\n",
       "      <th>2</th>\n",
       "      <td>2</td>\n",
       "      <td>28</td>\n",
       "      <td>False</td>\n",
       "      <td>3.0</td>\n",
       "      <td>3.0</td>\n",
       "      <td>0.322727</td>\n",
       "      <td>0.251515</td>\n",
       "      <td>0.372727</td>\n",
       "      <td>0.293939</td>\n",
       "      <td>0.372727</td>\n",
       "      <td>...</td>\n",
       "      <td>True</td>\n",
       "      <td>True</td>\n",
       "      <td>0.0</td>\n",
       "      <td>True</td>\n",
       "      <td>same decision</td>\n",
       "      <td>0</td>\n",
       "      <td>0.75</td>\n",
       "      <td>low confidence~\\secondary{(\\(&lt;5\\))}</td>\n",
       "      <td>same confidence</td>\n",
       "      <td>low quality~\\secondary{(\\(&lt;0.57\\))}</td>\n",
       "    </tr>\n",
       "    <tr>\n",
       "      <th>3</th>\n",
       "      <td>3</td>\n",
       "      <td>28</td>\n",
       "      <td>False</td>\n",
       "      <td>1.0</td>\n",
       "      <td>3.0</td>\n",
       "      <td>0.322727</td>\n",
       "      <td>0.251515</td>\n",
       "      <td>0.372727</td>\n",
       "      <td>0.293939</td>\n",
       "      <td>0.372727</td>\n",
       "      <td>...</td>\n",
       "      <td>True</td>\n",
       "      <td>True</td>\n",
       "      <td>2.0</td>\n",
       "      <td>True</td>\n",
       "      <td>same decision</td>\n",
       "      <td>0</td>\n",
       "      <td>0.75</td>\n",
       "      <td>low confidence~\\secondary{(\\(&lt;5\\))}</td>\n",
       "      <td>more confident</td>\n",
       "      <td>low quality~\\secondary{(\\(&lt;0.57\\))}</td>\n",
       "    </tr>\n",
       "    <tr>\n",
       "      <th>4</th>\n",
       "      <td>4</td>\n",
       "      <td>28</td>\n",
       "      <td>True</td>\n",
       "      <td>3.0</td>\n",
       "      <td>6.0</td>\n",
       "      <td>0.322727</td>\n",
       "      <td>0.251515</td>\n",
       "      <td>0.372727</td>\n",
       "      <td>0.293939</td>\n",
       "      <td>0.372727</td>\n",
       "      <td>...</td>\n",
       "      <td>False</td>\n",
       "      <td>True</td>\n",
       "      <td>3.0</td>\n",
       "      <td>False</td>\n",
       "      <td>changed decision</td>\n",
       "      <td>1</td>\n",
       "      <td>0.75</td>\n",
       "      <td>high confidence~\\secondary{(\\(\\geq5\\))}</td>\n",
       "      <td>more confident</td>\n",
       "      <td>low quality~\\secondary{(\\(&lt;0.57\\))}</td>\n",
       "    </tr>\n",
       "    <tr>\n",
       "      <th>...</th>\n",
       "      <td>...</td>\n",
       "      <td>...</td>\n",
       "      <td>...</td>\n",
       "      <td>...</td>\n",
       "      <td>...</td>\n",
       "      <td>...</td>\n",
       "      <td>...</td>\n",
       "      <td>...</td>\n",
       "      <td>...</td>\n",
       "      <td>...</td>\n",
       "      <td>...</td>\n",
       "      <td>...</td>\n",
       "      <td>...</td>\n",
       "      <td>...</td>\n",
       "      <td>...</td>\n",
       "      <td>...</td>\n",
       "      <td>...</td>\n",
       "      <td>...</td>\n",
       "      <td>...</td>\n",
       "      <td>...</td>\n",
       "      <td>...</td>\n",
       "    </tr>\n",
       "    <tr>\n",
       "      <th>549</th>\n",
       "      <td>549</td>\n",
       "      <td>10</td>\n",
       "      <td>False</td>\n",
       "      <td>6.0</td>\n",
       "      <td>4.0</td>\n",
       "      <td>0.503788</td>\n",
       "      <td>0.581818</td>\n",
       "      <td>0.739394</td>\n",
       "      <td>0.521212</td>\n",
       "      <td>0.172727</td>\n",
       "      <td>...</td>\n",
       "      <td>True</td>\n",
       "      <td>False</td>\n",
       "      <td>-2.0</td>\n",
       "      <td>False</td>\n",
       "      <td>changed decision</td>\n",
       "      <td>3</td>\n",
       "      <td>0.75</td>\n",
       "      <td>low confidence~\\secondary{(\\(&lt;5\\))}</td>\n",
       "      <td>less confident</td>\n",
       "      <td>low quality~\\secondary{(\\(&lt;0.57\\))}</td>\n",
       "    </tr>\n",
       "    <tr>\n",
       "      <th>550</th>\n",
       "      <td>550</td>\n",
       "      <td>10</td>\n",
       "      <td>False</td>\n",
       "      <td>5.0</td>\n",
       "      <td>6.0</td>\n",
       "      <td>0.503788</td>\n",
       "      <td>0.581818</td>\n",
       "      <td>0.739394</td>\n",
       "      <td>0.521212</td>\n",
       "      <td>0.172727</td>\n",
       "      <td>...</td>\n",
       "      <td>False</td>\n",
       "      <td>False</td>\n",
       "      <td>1.0</td>\n",
       "      <td>False</td>\n",
       "      <td>changed decision</td>\n",
       "      <td>1</td>\n",
       "      <td>0.75</td>\n",
       "      <td>high confidence~\\secondary{(\\(\\geq5\\))}</td>\n",
       "      <td>more confident</td>\n",
       "      <td>low quality~\\secondary{(\\(&lt;0.57\\))}</td>\n",
       "    </tr>\n",
       "    <tr>\n",
       "      <th>551</th>\n",
       "      <td>551</td>\n",
       "      <td>10</td>\n",
       "      <td>False</td>\n",
       "      <td>2.0</td>\n",
       "      <td>3.0</td>\n",
       "      <td>0.503788</td>\n",
       "      <td>0.581818</td>\n",
       "      <td>0.739394</td>\n",
       "      <td>0.521212</td>\n",
       "      <td>0.172727</td>\n",
       "      <td>...</td>\n",
       "      <td>False</td>\n",
       "      <td>False</td>\n",
       "      <td>1.0</td>\n",
       "      <td>True</td>\n",
       "      <td>same decision</td>\n",
       "      <td>2</td>\n",
       "      <td>0.75</td>\n",
       "      <td>low confidence~\\secondary{(\\(&lt;5\\))}</td>\n",
       "      <td>more confident</td>\n",
       "      <td>low quality~\\secondary{(\\(&lt;0.57\\))}</td>\n",
       "    </tr>\n",
       "    <tr>\n",
       "      <th>552</th>\n",
       "      <td>552</td>\n",
       "      <td>10</td>\n",
       "      <td>True</td>\n",
       "      <td>4.0</td>\n",
       "      <td>6.0</td>\n",
       "      <td>0.503788</td>\n",
       "      <td>0.581818</td>\n",
       "      <td>0.739394</td>\n",
       "      <td>0.521212</td>\n",
       "      <td>0.172727</td>\n",
       "      <td>...</td>\n",
       "      <td>False</td>\n",
       "      <td>False</td>\n",
       "      <td>2.0</td>\n",
       "      <td>True</td>\n",
       "      <td>same decision</td>\n",
       "      <td>4</td>\n",
       "      <td>0.75</td>\n",
       "      <td>high confidence~\\secondary{(\\(\\geq5\\))}</td>\n",
       "      <td>more confident</td>\n",
       "      <td>low quality~\\secondary{(\\(&lt;0.57\\))}</td>\n",
       "    </tr>\n",
       "    <tr>\n",
       "      <th>553</th>\n",
       "      <td>553</td>\n",
       "      <td>10</td>\n",
       "      <td>False</td>\n",
       "      <td>1.0</td>\n",
       "      <td>2.0</td>\n",
       "      <td>0.503788</td>\n",
       "      <td>0.581818</td>\n",
       "      <td>0.739394</td>\n",
       "      <td>0.521212</td>\n",
       "      <td>0.172727</td>\n",
       "      <td>...</td>\n",
       "      <td>False</td>\n",
       "      <td>False</td>\n",
       "      <td>1.0</td>\n",
       "      <td>True</td>\n",
       "      <td>same decision</td>\n",
       "      <td>1</td>\n",
       "      <td>0.75</td>\n",
       "      <td>low confidence~\\secondary{(\\(&lt;5\\))}</td>\n",
       "      <td>more confident</td>\n",
       "      <td>low quality~\\secondary{(\\(&lt;0.57\\))}</td>\n",
       "    </tr>\n",
       "  </tbody>\n",
       "</table>\n",
       "<p>554 rows × 58 columns</p>\n",
       "</div>"
      ],
      "text/plain": [
       "     survey_id  qid  prior_knowledge  confidence_before_search  \\\n",
       "0            0   28            False                       3.0   \n",
       "1            1   28            False                       4.0   \n",
       "2            2   28            False                       3.0   \n",
       "3            3   28            False                       1.0   \n",
       "4            4   28             True                       3.0   \n",
       "..         ...  ...              ...                       ...   \n",
       "549        549   10            False                       6.0   \n",
       "550        550   10            False                       5.0   \n",
       "551        551   10            False                       2.0   \n",
       "552        552   10             True                       4.0   \n",
       "553        553   10            False                       1.0   \n",
       "\n",
       "     confidence_after_search  quality_score  quality_score_document1  \\\n",
       "0                        3.0       0.322727                 0.251515   \n",
       "1                        5.0       0.322727                 0.251515   \n",
       "2                        3.0       0.322727                 0.251515   \n",
       "3                        3.0       0.322727                 0.251515   \n",
       "4                        6.0       0.322727                 0.251515   \n",
       "..                       ...            ...                      ...   \n",
       "549                      4.0       0.503788                 0.581818   \n",
       "550                      6.0       0.503788                 0.581818   \n",
       "551                      3.0       0.503788                 0.581818   \n",
       "552                      6.0       0.503788                 0.581818   \n",
       "553                      2.0       0.503788                 0.581818   \n",
       "\n",
       "     quality_score_document2  quality_score_document3  \\\n",
       "0                   0.372727                 0.293939   \n",
       "1                   0.372727                 0.293939   \n",
       "2                   0.372727                 0.293939   \n",
       "3                   0.372727                 0.293939   \n",
       "4                   0.372727                 0.293939   \n",
       "..                       ...                      ...   \n",
       "549                 0.739394                 0.521212   \n",
       "550                 0.739394                 0.521212   \n",
       "551                 0.739394                 0.521212   \n",
       "552                 0.739394                 0.521212   \n",
       "553                 0.739394                 0.521212   \n",
       "\n",
       "     quality_score_document4  ...  decision_before_search_none  \\\n",
       "0                   0.372727  ...                         True   \n",
       "1                   0.372727  ...                        False   \n",
       "2                   0.372727  ...                         True   \n",
       "3                   0.372727  ...                         True   \n",
       "4                   0.372727  ...                        False   \n",
       "..                       ...  ...                          ...   \n",
       "549                 0.172727  ...                         True   \n",
       "550                 0.172727  ...                        False   \n",
       "551                 0.172727  ...                        False   \n",
       "552                 0.172727  ...                        False   \n",
       "553                 0.172727  ...                        False   \n",
       "\n",
       "     decision_after_search_none  confidence_delta  decision_unchanged  \\\n",
       "0                          True               0.0                True   \n",
       "1                          True               1.0               False   \n",
       "2                          True               0.0                True   \n",
       "3                          True               2.0                True   \n",
       "4                          True               3.0               False   \n",
       "..                          ...               ...                 ...   \n",
       "549                       False              -2.0               False   \n",
       "550                       False               1.0               False   \n",
       "551                       False               1.0                True   \n",
       "552                       False               2.0                True   \n",
       "553                       False               1.0                True   \n",
       "\n",
       "     decision_changed  num_influencing_documents  relevance  \\\n",
       "0       same decision                          0       0.75   \n",
       "1    changed decision                          2       0.75   \n",
       "2       same decision                          0       0.75   \n",
       "3       same decision                          0       0.75   \n",
       "4    changed decision                          1       0.75   \n",
       "..                ...                        ...        ...   \n",
       "549  changed decision                          3       0.75   \n",
       "550  changed decision                          1       0.75   \n",
       "551     same decision                          2       0.75   \n",
       "552     same decision                          4       0.75   \n",
       "553     same decision                          1       0.75   \n",
       "\n",
       "                            final_confidence confidence_changed  \\\n",
       "0        low confidence~\\secondary{(\\(<5\\))}    same confidence   \n",
       "1    high confidence~\\secondary{(\\(\\geq5\\))}     more confident   \n",
       "2        low confidence~\\secondary{(\\(<5\\))}    same confidence   \n",
       "3        low confidence~\\secondary{(\\(<5\\))}     more confident   \n",
       "4    high confidence~\\secondary{(\\(\\geq5\\))}     more confident   \n",
       "..                                       ...                ...   \n",
       "549      low confidence~\\secondary{(\\(<5\\))}     less confident   \n",
       "550  high confidence~\\secondary{(\\(\\geq5\\))}     more confident   \n",
       "551      low confidence~\\secondary{(\\(<5\\))}     more confident   \n",
       "552  high confidence~\\secondary{(\\(\\geq5\\))}     more confident   \n",
       "553      low confidence~\\secondary{(\\(<5\\))}     more confident   \n",
       "\n",
       "                                 quality  \n",
       "0    low quality~\\secondary{(\\(<0.57\\))}  \n",
       "1    low quality~\\secondary{(\\(<0.57\\))}  \n",
       "2    low quality~\\secondary{(\\(<0.57\\))}  \n",
       "3    low quality~\\secondary{(\\(<0.57\\))}  \n",
       "4    low quality~\\secondary{(\\(<0.57\\))}  \n",
       "..                                   ...  \n",
       "549  low quality~\\secondary{(\\(<0.57\\))}  \n",
       "550  low quality~\\secondary{(\\(<0.57\\))}  \n",
       "551  low quality~\\secondary{(\\(<0.57\\))}  \n",
       "552  low quality~\\secondary{(\\(<0.57\\))}  \n",
       "553  low quality~\\secondary{(\\(<0.57\\))}  \n",
       "\n",
       "[554 rows x 58 columns]"
      ]
     },
     "execution_count": 683,
     "metadata": {},
     "output_type": "execute_result"
    }
   ],
   "source": [
    "df_test2 = df.copy()\n",
    "df_test2[\"decision_changed\"] = df_test2[\"decision_changed\"].map(\n",
    "    lambda x: \"changed decision\" if x else \"same decision\")\n",
    "df_test2[\"decision_changed\"] = Categorical(\n",
    "    df_test2[\"decision_changed\"],\n",
    "    categories=[\"same decision\", \"changed decision\"],\n",
    "    ordered=True,\n",
    ")\n",
    "df_test2[\"final_confidence\"] = df_test2[\"confidence_after_search\"].map(\n",
    "    lambda x: label_high_final_confidence if x >= final_confidence_threshold else label_low_final_confidence)\n",
    "df_test2[\"final_confidence\"] = Categorical(\n",
    "    df_test2[\"final_confidence\"],\n",
    "    categories=[label_low_final_confidence, label_high_final_confidence],\n",
    "    ordered=True,\n",
    ")\n",
    "df_test2[\"confidence_changed\"] = df_test2[\"confidence_delta\"].map(\n",
    "    lambda x: nan if isnan(x) else \"less confident\" if x < 0 else \"more confident\" if x > 0 else \"same confidence\")\n",
    "df_test2[\"confidence_changed\"] = Categorical(\n",
    "    df_test2[\"confidence_changed\"],\n",
    "    categories=[\"less confident\", \"same confidence\", \"more confident\"],\n",
    "    ordered=True,\n",
    ")\n",
    "df_test2[\"quality\"] = df_test2[\"quality_score\"].map(\n",
    "    lambda x: label_high_quality if x >= quality_threshold else label_low_quality)\n",
    "df_test2[\"quality\"] = Categorical(\n",
    "    df_test2[\"quality\"],\n",
    "    categories=[label_low_quality, label_high_quality],\n",
    "    ordered=True,\n",
    ")\n",
    "df_test2[\"background\"] = Categorical(\n",
    "    df_test2[\"background\"],\n",
    "    categories=[\"factual\", \"subjective\"],\n",
    "    ordered=True,\n",
    ")\n",
    "for col in (\n",
    "        \"statement_research_confirmed\",\n",
    "        \"statement_research_helped\",\n",
    "        \"statement_research_not_helped\",\n",
    "        \"statement_research_learned\",\n",
    "        \"statement_research_continue\",\n",
    "            ):\n",
    "    df_test2[col]=    df_test2[col].map({True: \"yes\", False: \"no\"})\n",
    "    df_test2[col] = Categorical(\n",
    "        df_test2[col],\n",
    "        categories=[\"no\", \"yes\"],\n",
    "        ordered=True,\n",
    "    )\n",
    "df_test2"
   ]
  },
  {
   "cell_type": "code",
   "execution_count": 684,
   "id": "157bb7208aa9a410",
   "metadata": {
    "ExecuteTime": {
     "end_time": "2023-10-20T00:34:17.963698196Z",
     "start_time": "2023-10-20T00:34:15.274659709Z"
    },
    "collapsed": false
   },
   "outputs": [
    {
     "data": {
      "text/html": [
       "<div>\n",
       "<style scoped>\n",
       "    .dataframe tbody tr th:only-of-type {\n",
       "        vertical-align: middle;\n",
       "    }\n",
       "\n",
       "    .dataframe tbody tr th {\n",
       "        vertical-align: top;\n",
       "    }\n",
       "\n",
       "    .dataframe thead th {\n",
       "        text-align: right;\n",
       "    }\n",
       "</style>\n",
       "<table border=\"1\" class=\"dataframe\">\n",
       "  <thead>\n",
       "    <tr style=\"text-align: right;\">\n",
       "      <th>decision_changed</th>\n",
       "      <th>same decision</th>\n",
       "      <th>changed decision</th>\n",
       "      <th>All</th>\n",
       "    </tr>\n",
       "    <tr>\n",
       "      <th>background</th>\n",
       "      <th></th>\n",
       "      <th></th>\n",
       "      <th></th>\n",
       "    </tr>\n",
       "  </thead>\n",
       "  <tbody>\n",
       "    <tr>\n",
       "      <th>factual</th>\n",
       "      <td>173</td>\n",
       "      <td>101</td>\n",
       "      <td>274</td>\n",
       "    </tr>\n",
       "    <tr>\n",
       "      <th>subjective</th>\n",
       "      <td>168</td>\n",
       "      <td>112</td>\n",
       "      <td>280</td>\n",
       "    </tr>\n",
       "    <tr>\n",
       "      <th>All</th>\n",
       "      <td>341</td>\n",
       "      <td>213</td>\n",
       "      <td>554</td>\n",
       "    </tr>\n",
       "  </tbody>\n",
       "</table>\n",
       "</div>"
      ],
      "text/plain": [
       "decision_changed  same decision  changed decision  All\n",
       "background                                            \n",
       "factual                     173               101  274\n",
       "subjective                  168               112  280\n",
       "All                         341               213  554"
      ]
     },
     "execution_count": 684,
     "metadata": {},
     "output_type": "execute_result"
    }
   ],
   "source": [
    "contingency_background_decision_change = crosstab(\n",
    "    index=df_test2[\"background\"],\n",
    "    columns=df_test2[\"decision_changed\"],\n",
    ")\n",
    "contingency_full_background_decision_change = crosstab(\n",
    "    index=df_test2[\"background\"],\n",
    "    columns=df_test2[\"decision_changed\"],\n",
    "    margins=True,\n",
    ")\n",
    "contingency_full_background_decision_change"
   ]
  },
  {
   "cell_type": "code",
   "execution_count": 685,
   "id": "6975e33c538a8b3c",
   "metadata": {
    "ExecuteTime": {
     "end_time": "2023-10-20T00:34:17.965938064Z",
     "start_time": "2023-10-20T00:34:15.450090616Z"
    },
    "collapsed": false
   },
   "outputs": [
    {
     "data": {
      "text/plain": [
       "Chi2ContingencyResult(statistic=0.45147539596089975, pvalue=0.5016351438413066, dof=1, expected_freq=array([[168.6534296, 105.3465704],\n",
       "       [172.3465704, 107.6534296]]))"
      ]
     },
     "execution_count": 685,
     "metadata": {},
     "output_type": "execute_result"
    }
   ],
   "source": [
    "chi2_background_decision_change = chi2_contingency(contingency_background_decision_change)\n",
    "chi2_background_decision_change"
   ]
  },
  {
   "cell_type": "code",
   "execution_count": 686,
   "id": "b118f4a697b25d34",
   "metadata": {
    "ExecuteTime": {
     "end_time": "2023-10-20T00:34:18.036149509Z",
     "start_time": "2023-10-20T00:34:15.472418873Z"
    },
    "collapsed": false
   },
   "outputs": [
    {
     "data": {
      "text/html": [
       "<div>\n",
       "<style scoped>\n",
       "    .dataframe tbody tr th:only-of-type {\n",
       "        vertical-align: middle;\n",
       "    }\n",
       "\n",
       "    .dataframe tbody tr th {\n",
       "        vertical-align: top;\n",
       "    }\n",
       "\n",
       "    .dataframe thead th {\n",
       "        text-align: right;\n",
       "    }\n",
       "</style>\n",
       "<table border=\"1\" class=\"dataframe\">\n",
       "  <thead>\n",
       "    <tr style=\"text-align: right;\">\n",
       "      <th>decision_changed</th>\n",
       "      <th>same decision</th>\n",
       "      <th>changed decision</th>\n",
       "      <th>All</th>\n",
       "    </tr>\n",
       "    <tr>\n",
       "      <th>quality</th>\n",
       "      <th></th>\n",
       "      <th></th>\n",
       "      <th></th>\n",
       "    </tr>\n",
       "  </thead>\n",
       "  <tbody>\n",
       "    <tr>\n",
       "      <th>low quality~\\secondary{(\\(&lt;0.57\\))}</th>\n",
       "      <td>154</td>\n",
       "      <td>119</td>\n",
       "      <td>273</td>\n",
       "    </tr>\n",
       "    <tr>\n",
       "      <th>high quality~\\secondary{(\\(\\geq0.57\\))}</th>\n",
       "      <td>187</td>\n",
       "      <td>94</td>\n",
       "      <td>281</td>\n",
       "    </tr>\n",
       "    <tr>\n",
       "      <th>All</th>\n",
       "      <td>341</td>\n",
       "      <td>213</td>\n",
       "      <td>554</td>\n",
       "    </tr>\n",
       "  </tbody>\n",
       "</table>\n",
       "</div>"
      ],
      "text/plain": [
       "decision_changed                         same decision  changed decision  All\n",
       "quality                                                                      \n",
       "low quality~\\secondary{(\\(<0.57\\))}                154               119  273\n",
       "high quality~\\secondary{(\\(\\geq0.57\\))}            187                94  281\n",
       "All                                                341               213  554"
      ]
     },
     "execution_count": 686,
     "metadata": {},
     "output_type": "execute_result"
    }
   ],
   "source": [
    "contingency_quality_decision_change = crosstab(\n",
    "    index=df_test2[\"quality\"],\n",
    "    columns=df_test2[\"decision_changed\"],\n",
    ")\n",
    "contingency_full_quality_decision_change = crosstab(\n",
    "    index=df_test2[\"quality\"],\n",
    "    columns=df_test2[\"decision_changed\"],\n",
    "    margins=True,\n",
    ")\n",
    "contingency_full_quality_decision_change"
   ]
  },
  {
   "cell_type": "code",
   "execution_count": 687,
   "id": "7684bb57a6637a2f",
   "metadata": {
    "ExecuteTime": {
     "end_time": "2023-10-20T00:34:18.062482308Z",
     "start_time": "2023-10-20T00:34:15.722740146Z"
    },
    "collapsed": false
   },
   "outputs": [
    {
     "data": {
      "text/plain": [
       "Chi2ContingencyResult(statistic=5.5928006827064305, pvalue=0.018034438809805656, dof=1, expected_freq=array([[168.03790614, 104.96209386],\n",
       "       [172.96209386, 108.03790614]]))"
      ]
     },
     "execution_count": 687,
     "metadata": {},
     "output_type": "execute_result"
    }
   ],
   "source": [
    "chi2_quality_decision_change = chi2_contingency(contingency_quality_decision_change)\n",
    "chi2_quality_decision_change"
   ]
  },
  {
   "cell_type": "code",
   "execution_count": 688,
   "id": "aca06ffc497e37a",
   "metadata": {
    "ExecuteTime": {
     "end_time": "2023-10-20T00:34:18.421173251Z",
     "start_time": "2023-10-20T00:34:15.854252690Z"
    },
    "collapsed": false
   },
   "outputs": [
    {
     "data": {
      "text/html": [
       "<div>\n",
       "<style scoped>\n",
       "    .dataframe tbody tr th:only-of-type {\n",
       "        vertical-align: middle;\n",
       "    }\n",
       "\n",
       "    .dataframe tbody tr th {\n",
       "        vertical-align: top;\n",
       "    }\n",
       "\n",
       "    .dataframe thead th {\n",
       "        text-align: right;\n",
       "    }\n",
       "</style>\n",
       "<table border=\"1\" class=\"dataframe\">\n",
       "  <thead>\n",
       "    <tr style=\"text-align: right;\">\n",
       "      <th>final_confidence</th>\n",
       "      <th>low confidence~\\secondary{(\\(&lt;5\\))}</th>\n",
       "      <th>high confidence~\\secondary{(\\(\\geq5\\))}</th>\n",
       "      <th>All</th>\n",
       "    </tr>\n",
       "    <tr>\n",
       "      <th>background</th>\n",
       "      <th></th>\n",
       "      <th></th>\n",
       "      <th></th>\n",
       "    </tr>\n",
       "  </thead>\n",
       "  <tbody>\n",
       "    <tr>\n",
       "      <th>factual</th>\n",
       "      <td>93</td>\n",
       "      <td>181</td>\n",
       "      <td>274</td>\n",
       "    </tr>\n",
       "    <tr>\n",
       "      <th>subjective</th>\n",
       "      <td>117</td>\n",
       "      <td>163</td>\n",
       "      <td>280</td>\n",
       "    </tr>\n",
       "    <tr>\n",
       "      <th>All</th>\n",
       "      <td>210</td>\n",
       "      <td>344</td>\n",
       "      <td>554</td>\n",
       "    </tr>\n",
       "  </tbody>\n",
       "</table>\n",
       "</div>"
      ],
      "text/plain": [
       "final_confidence  low confidence~\\secondary{(\\(<5\\))}  \\\n",
       "background                                              \n",
       "factual                                            93   \n",
       "subjective                                        117   \n",
       "All                                               210   \n",
       "\n",
       "final_confidence  high confidence~\\secondary{(\\(\\geq5\\))}  All  \n",
       "background                                                      \n",
       "factual                                               181  274  \n",
       "subjective                                            163  280  \n",
       "All                                                   344  554  "
      ]
     },
     "execution_count": 688,
     "metadata": {},
     "output_type": "execute_result"
    }
   ],
   "source": [
    "contingency_background_final_confidence = crosstab(\n",
    "    index=df_test2[\"background\"],\n",
    "    columns=df_test2[\"final_confidence\"],\n",
    ")\n",
    "contingency_full_background_final_confidence = crosstab(\n",
    "    index=df_test2[\"background\"],\n",
    "    columns=df_test2[\"final_confidence\"],\n",
    "    margins=True,\n",
    ")\n",
    "contingency_full_background_final_confidence"
   ]
  },
  {
   "cell_type": "code",
   "execution_count": 689,
   "id": "e0e78c4d16d2c900",
   "metadata": {
    "ExecuteTime": {
     "end_time": "2023-10-20T00:34:18.422332965Z",
     "start_time": "2023-10-20T00:34:16.183663109Z"
    },
    "collapsed": false
   },
   "outputs": [
    {
     "data": {
      "text/plain": [
       "Chi2ContingencyResult(statistic=3.2945683881471437, pvalue=0.06950937370879164, dof=1, expected_freq=array([[103.86281588, 170.13718412],\n",
       "       [106.13718412, 173.86281588]]))"
      ]
     },
     "execution_count": 689,
     "metadata": {},
     "output_type": "execute_result"
    }
   ],
   "source": [
    "chi2_background_final_confidence = chi2_contingency(contingency_background_final_confidence)\n",
    "chi2_background_final_confidence"
   ]
  },
  {
   "cell_type": "code",
   "execution_count": 690,
   "id": "342ef717615c624f",
   "metadata": {
    "ExecuteTime": {
     "end_time": "2023-10-20T00:34:19.259793975Z",
     "start_time": "2023-10-20T00:34:16.238538356Z"
    },
    "collapsed": false
   },
   "outputs": [
    {
     "data": {
      "text/html": [
       "<div>\n",
       "<style scoped>\n",
       "    .dataframe tbody tr th:only-of-type {\n",
       "        vertical-align: middle;\n",
       "    }\n",
       "\n",
       "    .dataframe tbody tr th {\n",
       "        vertical-align: top;\n",
       "    }\n",
       "\n",
       "    .dataframe thead th {\n",
       "        text-align: right;\n",
       "    }\n",
       "</style>\n",
       "<table border=\"1\" class=\"dataframe\">\n",
       "  <thead>\n",
       "    <tr style=\"text-align: right;\">\n",
       "      <th>final_confidence</th>\n",
       "      <th>low confidence~\\secondary{(\\(&lt;5\\))}</th>\n",
       "      <th>high confidence~\\secondary{(\\(\\geq5\\))}</th>\n",
       "      <th>All</th>\n",
       "    </tr>\n",
       "    <tr>\n",
       "      <th>quality</th>\n",
       "      <th></th>\n",
       "      <th></th>\n",
       "      <th></th>\n",
       "    </tr>\n",
       "  </thead>\n",
       "  <tbody>\n",
       "    <tr>\n",
       "      <th>low quality~\\secondary{(\\(&lt;0.57\\))}</th>\n",
       "      <td>105</td>\n",
       "      <td>168</td>\n",
       "      <td>273</td>\n",
       "    </tr>\n",
       "    <tr>\n",
       "      <th>high quality~\\secondary{(\\(\\geq0.57\\))}</th>\n",
       "      <td>105</td>\n",
       "      <td>176</td>\n",
       "      <td>281</td>\n",
       "    </tr>\n",
       "    <tr>\n",
       "      <th>All</th>\n",
       "      <td>210</td>\n",
       "      <td>344</td>\n",
       "      <td>554</td>\n",
       "    </tr>\n",
       "  </tbody>\n",
       "</table>\n",
       "</div>"
      ],
      "text/plain": [
       "final_confidence                         low confidence~\\secondary{(\\(<5\\))}  \\\n",
       "quality                                                                        \n",
       "low quality~\\secondary{(\\(<0.57\\))}                                      105   \n",
       "high quality~\\secondary{(\\(\\geq0.57\\))}                                  105   \n",
       "All                                                                      210   \n",
       "\n",
       "final_confidence                         high confidence~\\secondary{(\\(\\geq5\\))}  \\\n",
       "quality                                                                            \n",
       "low quality~\\secondary{(\\(<0.57\\))}                                          168   \n",
       "high quality~\\secondary{(\\(\\geq0.57\\))}                                      176   \n",
       "All                                                                          344   \n",
       "\n",
       "final_confidence                         All  \n",
       "quality                                       \n",
       "low quality~\\secondary{(\\(<0.57\\))}      273  \n",
       "high quality~\\secondary{(\\(\\geq0.57\\))}  281  \n",
       "All                                      554  "
      ]
     },
     "execution_count": 690,
     "metadata": {},
     "output_type": "execute_result"
    }
   ],
   "source": [
    "contingency_quality_final_confidence = crosstab(\n",
    "    index=df_test2[\"quality\"],\n",
    "    columns=df_test2[\"final_confidence\"],\n",
    ")\n",
    "contingency_full_quality_final_confidence = crosstab(\n",
    "    index=df_test2[\"quality\"],\n",
    "    columns=df_test2[\"final_confidence\"],\n",
    "    margins=True,\n",
    ")\n",
    "contingency_full_quality_final_confidence"
   ]
  },
  {
   "cell_type": "code",
   "execution_count": 691,
   "id": "8a160198bebbaee",
   "metadata": {
    "ExecuteTime": {
     "end_time": "2023-10-20T00:34:19.501254760Z",
     "start_time": "2023-10-20T00:34:16.420265462Z"
    },
    "collapsed": false
   },
   "outputs": [
    {
     "data": {
      "text/plain": [
       "Chi2ContingencyResult(statistic=0.03168690707056254, pvalue=0.8587165628284373, dof=1, expected_freq=array([[103.48375451, 169.51624549],\n",
       "       [106.51624549, 174.48375451]]))"
      ]
     },
     "execution_count": 691,
     "metadata": {},
     "output_type": "execute_result"
    }
   ],
   "source": [
    "chi2_quality_final_confidence = chi2_contingency(contingency_quality_final_confidence)\n",
    "chi2_quality_final_confidence"
   ]
  },
  {
   "cell_type": "code",
   "execution_count": 692,
   "id": "52ce420b4ad1afda",
   "metadata": {
    "ExecuteTime": {
     "end_time": "2023-10-20T00:34:19.766347116Z",
     "start_time": "2023-10-20T00:34:16.518446838Z"
    },
    "collapsed": false
   },
   "outputs": [
    {
     "data": {
      "text/html": [
       "<div>\n",
       "<style scoped>\n",
       "    .dataframe tbody tr th:only-of-type {\n",
       "        vertical-align: middle;\n",
       "    }\n",
       "\n",
       "    .dataframe tbody tr th {\n",
       "        vertical-align: top;\n",
       "    }\n",
       "\n",
       "    .dataframe thead th {\n",
       "        text-align: right;\n",
       "    }\n",
       "</style>\n",
       "<table border=\"1\" class=\"dataframe\">\n",
       "  <thead>\n",
       "    <tr style=\"text-align: right;\">\n",
       "      <th>confidence_changed</th>\n",
       "      <th>less confident</th>\n",
       "      <th>same confidence</th>\n",
       "      <th>more confident</th>\n",
       "      <th>All</th>\n",
       "    </tr>\n",
       "    <tr>\n",
       "      <th>background</th>\n",
       "      <th></th>\n",
       "      <th></th>\n",
       "      <th></th>\n",
       "      <th></th>\n",
       "    </tr>\n",
       "  </thead>\n",
       "  <tbody>\n",
       "    <tr>\n",
       "      <th>factual</th>\n",
       "      <td>46</td>\n",
       "      <td>98</td>\n",
       "      <td>121</td>\n",
       "      <td>265</td>\n",
       "    </tr>\n",
       "    <tr>\n",
       "      <th>subjective</th>\n",
       "      <td>50</td>\n",
       "      <td>146</td>\n",
       "      <td>78</td>\n",
       "      <td>274</td>\n",
       "    </tr>\n",
       "    <tr>\n",
       "      <th>All</th>\n",
       "      <td>96</td>\n",
       "      <td>244</td>\n",
       "      <td>199</td>\n",
       "      <td>539</td>\n",
       "    </tr>\n",
       "  </tbody>\n",
       "</table>\n",
       "</div>"
      ],
      "text/plain": [
       "confidence_changed  less confident  same confidence  more confident  All\n",
       "background                                                              \n",
       "factual                         46               98             121  265\n",
       "subjective                      50              146              78  274\n",
       "All                             96              244             199  539"
      ]
     },
     "execution_count": 692,
     "metadata": {},
     "output_type": "execute_result"
    }
   ],
   "source": [
    "contingency_background_confidence_change = crosstab(\n",
    "    index=df_test2[\"background\"],\n",
    "    columns=df_test2[\"confidence_changed\"],\n",
    ")\n",
    "contingency_full_background_confidence_change = crosstab(\n",
    "    index=df_test2[\"background\"],\n",
    "    columns=df_test2[\"confidence_changed\"],\n",
    "    margins=True,\n",
    ")\n",
    "contingency_full_background_confidence_change"
   ]
  },
  {
   "cell_type": "code",
   "execution_count": 693,
   "id": "d66f4bfa1ba892b7",
   "metadata": {
    "ExecuteTime": {
     "end_time": "2023-10-20T00:34:20.754172337Z",
     "start_time": "2023-10-20T00:34:16.716230978Z"
    },
    "collapsed": false
   },
   "outputs": [
    {
     "data": {
      "text/plain": [
       "Chi2ContingencyResult(statistic=18.75569787657797, pvalue=8.457693721328121e-05, dof=2, expected_freq=array([[ 47.19851577, 119.96289425,  97.83858998],\n",
       "       [ 48.80148423, 124.03710575, 101.16141002]]))"
      ]
     },
     "execution_count": 693,
     "metadata": {},
     "output_type": "execute_result"
    }
   ],
   "source": [
    "chi2_background_confidence_change = chi2_contingency(contingency_background_confidence_change)\n",
    "chi2_background_confidence_change"
   ]
  },
  {
   "cell_type": "code",
   "execution_count": 694,
   "id": "39056d139780ac18",
   "metadata": {
    "ExecuteTime": {
     "end_time": "2023-10-20T00:34:21.611437696Z",
     "start_time": "2023-10-20T00:34:16.762568475Z"
    },
    "collapsed": false
   },
   "outputs": [
    {
     "data": {
      "text/html": [
       "<div>\n",
       "<style scoped>\n",
       "    .dataframe tbody tr th:only-of-type {\n",
       "        vertical-align: middle;\n",
       "    }\n",
       "\n",
       "    .dataframe tbody tr th {\n",
       "        vertical-align: top;\n",
       "    }\n",
       "\n",
       "    .dataframe thead th {\n",
       "        text-align: right;\n",
       "    }\n",
       "</style>\n",
       "<table border=\"1\" class=\"dataframe\">\n",
       "  <thead>\n",
       "    <tr style=\"text-align: right;\">\n",
       "      <th>confidence_changed</th>\n",
       "      <th>less confident</th>\n",
       "      <th>same confidence</th>\n",
       "      <th>more confident</th>\n",
       "      <th>All</th>\n",
       "    </tr>\n",
       "    <tr>\n",
       "      <th>quality</th>\n",
       "      <th></th>\n",
       "      <th></th>\n",
       "      <th></th>\n",
       "      <th></th>\n",
       "    </tr>\n",
       "  </thead>\n",
       "  <tbody>\n",
       "    <tr>\n",
       "      <th>low quality~\\secondary{(\\(&lt;0.57\\))}</th>\n",
       "      <td>49</td>\n",
       "      <td>132</td>\n",
       "      <td>87</td>\n",
       "      <td>268</td>\n",
       "    </tr>\n",
       "    <tr>\n",
       "      <th>high quality~\\secondary{(\\(\\geq0.57\\))}</th>\n",
       "      <td>47</td>\n",
       "      <td>112</td>\n",
       "      <td>112</td>\n",
       "      <td>271</td>\n",
       "    </tr>\n",
       "    <tr>\n",
       "      <th>All</th>\n",
       "      <td>96</td>\n",
       "      <td>244</td>\n",
       "      <td>199</td>\n",
       "      <td>539</td>\n",
       "    </tr>\n",
       "  </tbody>\n",
       "</table>\n",
       "</div>"
      ],
      "text/plain": [
       "confidence_changed                       less confident  same confidence  \\\n",
       "quality                                                                    \n",
       "low quality~\\secondary{(\\(<0.57\\))}                  49              132   \n",
       "high quality~\\secondary{(\\(\\geq0.57\\))}              47              112   \n",
       "All                                                  96              244   \n",
       "\n",
       "confidence_changed                       more confident  All  \n",
       "quality                                                       \n",
       "low quality~\\secondary{(\\(<0.57\\))}                  87  268  \n",
       "high quality~\\secondary{(\\(\\geq0.57\\))}             112  271  \n",
       "All                                                 199  539  "
      ]
     },
     "execution_count": 694,
     "metadata": {},
     "output_type": "execute_result"
    }
   ],
   "source": [
    "contingency_quality_confidence_change = crosstab(\n",
    "    index=df_test2[\"quality\"],\n",
    "    columns=df_test2[\"confidence_changed\"],\n",
    ")\n",
    "contingency_full_quality_confidence_change = crosstab(\n",
    "    index=df_test2[\"quality\"],\n",
    "    columns=df_test2[\"confidence_changed\"],\n",
    "    margins=True,\n",
    ")\n",
    "contingency_full_quality_confidence_change"
   ]
  },
  {
   "cell_type": "code",
   "execution_count": 695,
   "id": "a5a8461da8f3d9f1",
   "metadata": {
    "ExecuteTime": {
     "end_time": "2023-10-20T00:34:21.616415265Z",
     "start_time": "2023-10-20T00:34:16.935850856Z"
    },
    "collapsed": false
   },
   "outputs": [
    {
     "data": {
      "text/plain": [
       "Chi2ContingencyResult(statistic=4.805165716824304, pvalue=0.09048394399715304, dof=2, expected_freq=array([[ 47.73283859, 121.32096475,  98.94619666],\n",
       "       [ 48.26716141, 122.67903525, 100.05380334]]))"
      ]
     },
     "execution_count": 695,
     "metadata": {},
     "output_type": "execute_result"
    }
   ],
   "source": [
    "chi2_quality_confidence_change = chi2_contingency(contingency_quality_confidence_change)\n",
    "chi2_quality_confidence_change"
   ]
  },
  {
   "cell_type": "code",
   "execution_count": 696,
   "id": "e3f67c9b703f9f0e",
   "metadata": {
    "ExecuteTime": {
     "end_time": "2023-10-20T00:34:21.862519187Z",
     "start_time": "2023-10-20T00:34:16.978853565Z"
    },
    "collapsed": false
   },
   "outputs": [
    {
     "data": {
      "text/html": [
       "<div>\n",
       "<style scoped>\n",
       "    .dataframe tbody tr th:only-of-type {\n",
       "        vertical-align: middle;\n",
       "    }\n",
       "\n",
       "    .dataframe tbody tr th {\n",
       "        vertical-align: top;\n",
       "    }\n",
       "\n",
       "    .dataframe thead th {\n",
       "        text-align: right;\n",
       "    }\n",
       "</style>\n",
       "<table border=\"1\" class=\"dataframe\">\n",
       "  <thead>\n",
       "    <tr style=\"text-align: right;\">\n",
       "      <th>confidence_changed</th>\n",
       "      <th>less confident</th>\n",
       "      <th>same confidence</th>\n",
       "      <th>more confident</th>\n",
       "      <th>All</th>\n",
       "    </tr>\n",
       "    <tr>\n",
       "      <th>decision_changed</th>\n",
       "      <th></th>\n",
       "      <th></th>\n",
       "      <th></th>\n",
       "      <th></th>\n",
       "    </tr>\n",
       "  </thead>\n",
       "  <tbody>\n",
       "    <tr>\n",
       "      <th>same decision</th>\n",
       "      <td>38</td>\n",
       "      <td>182</td>\n",
       "      <td>115</td>\n",
       "      <td>335</td>\n",
       "    </tr>\n",
       "    <tr>\n",
       "      <th>changed decision</th>\n",
       "      <td>58</td>\n",
       "      <td>62</td>\n",
       "      <td>84</td>\n",
       "      <td>204</td>\n",
       "    </tr>\n",
       "    <tr>\n",
       "      <th>All</th>\n",
       "      <td>96</td>\n",
       "      <td>244</td>\n",
       "      <td>199</td>\n",
       "      <td>539</td>\n",
       "    </tr>\n",
       "  </tbody>\n",
       "</table>\n",
       "</div>"
      ],
      "text/plain": [
       "confidence_changed  less confident  same confidence  more confident  All\n",
       "decision_changed                                                        \n",
       "same decision                   38              182             115  335\n",
       "changed decision                58               62              84  204\n",
       "All                             96              244             199  539"
      ]
     },
     "execution_count": 696,
     "metadata": {},
     "output_type": "execute_result"
    }
   ],
   "source": [
    "contingency_decision_confidence_change = crosstab(\n",
    "    index=df_test2[\"decision_changed\"],\n",
    "    columns=df_test2[\"confidence_changed\"],\n",
    ")\n",
    "contingency_full_decision_confidence_change = crosstab(\n",
    "    index=df_test2[\"decision_changed\"],\n",
    "    columns=df_test2[\"confidence_changed\"],\n",
    "    margins=True,\n",
    ")\n",
    "contingency_full_decision_confidence_change"
   ]
  },
  {
   "cell_type": "code",
   "execution_count": 697,
   "id": "f55e895b0e3fd850",
   "metadata": {
    "ExecuteTime": {
     "end_time": "2023-10-20T00:34:22.378021700Z",
     "start_time": "2023-10-20T00:34:17.194907975Z"
    },
    "collapsed": false
   },
   "outputs": [
    {
     "data": {
      "text/plain": [
       "Chi2ContingencyResult(statistic=38.444523896115314, pvalue=4.486190447261729e-09, dof=2, expected_freq=array([[ 59.66604824, 151.65120594, 123.68274583],\n",
       "       [ 36.33395176,  92.34879406,  75.31725417]]))"
      ]
     },
     "execution_count": 697,
     "metadata": {},
     "output_type": "execute_result"
    }
   ],
   "source": [
    "chi2_decision_confidence_change = chi2_contingency(contingency_decision_confidence_change)\n",
    "chi2_decision_confidence_change"
   ]
  },
  {
   "cell_type": "code",
   "execution_count": 698,
   "id": "7251c507989f173b",
   "metadata": {
    "ExecuteTime": {
     "end_time": "2023-10-20T00:34:22.629647055Z",
     "start_time": "2023-10-20T00:34:17.243062152Z"
    },
    "collapsed": false
   },
   "outputs": [
    {
     "name": "stdout",
     "output_type": "stream",
     "text": [
      "\\begin{tabular}{@{}l@{\\hspace{\\largetabcolsep}}r@{ }lr@{ }lr@{\\hspace{\\largetabcolsep}}r@{ }lr@{ }lr@{\\hspace{\\largetabcolsep}}r@{ }lr@{ }lr@{ }lr@{}}\n",
      "  \\toprule\n",
      "  \\textbf{Predictor} & \\multicolumn{5}{@{}c@{\\hspace{\\largetabcolsep}}}{\\textbf{Decision change}} & \\multicolumn{5}{@{}c@{\\hspace{\\largetabcolsep}}}{\\textbf{Final decision confidence}} & \\multicolumn{7}{@{}c@{}}{\\textbf{Decision confidence change}} \\\\\n",
      "  & \\multicolumn{2}{@{}l}{Unchanged} & \\multicolumn{2}{l}{Changed} & \\(\\sum\\) & \\multicolumn{2}{@{}l}{Low~\\secondary{(\\(<5.00\\))}} & \\multicolumn{2}{l}{High~\\secondary{(\\(<5.00\\))}} & \\(\\sum\\) & \\multicolumn{2}{@{}l}{Decreased} & \\multicolumn{2}{l}{Unchanged} & \\multicolumn{2}{l}{Increased} & \\(\\sum\\) \\\\\n",
      "  \\midrule\n",
      "  \\textit{Background} & \\multicolumn{5}{@{}c@{\\hspace{\\largetabcolsep}}}{\\(\\chi^2(1)=0.45\\), \\(p=0.502\\)} & \\multicolumn{5}{@{}c@{\\hspace{\\largetabcolsep}}}{\\(\\chi^2(1)=3.29\\), \\(p=0.070\\)} & \\multicolumn{7}{@{}c@{}}{\\textbfn{\\(\\bm{\\chi^2(2)=18.76}\\), \\(\\bm{p<0.001}\\)}} \\\\\n",
      "  \\midrule\n",
      "  factual & 173 & \\secondary{(\\(+\\)4)} & 101 & \\secondary{(--4)} & 274 & 93 & \\secondary{(--11)} & 181 & \\secondary{(\\(+\\)11)} & 274 & 46 & \\secondary{(--1)} & 98 & \\secondary{(--22)} & 121 & \\secondary{(\\(+\\)23)} & 265 \\\\\n",
      "  subjective & 168 & \\secondary{(--4)} & 112 & \\secondary{(\\(+\\)4)} & 280 & 117 & \\secondary{(\\(+\\)11)} & 163 & \\secondary{(--11)} & 280 & 50 & \\secondary{(\\(+\\)1)} & 146 & \\secondary{(\\(+\\)22)} & 78 & \\secondary{(--23)} & 274 \\\\\n",
      "  \\(\\sum\\) & 341 &  & 213 &  & 554 & 210 &  & 344 &  & 554 & 96 &  & 244 &  & 199 &  & 539 \\\\\n",
      "  \\midrule\n",
      "  \\textit{Quality} & \\multicolumn{5}{@{}c@{\\hspace{\\largetabcolsep}}}{\\(\\chi^2(1)=5.59\\), \\(p=0.018\\)} & \\multicolumn{5}{@{}c@{\\hspace{\\largetabcolsep}}}{\\(\\chi^2(1)=0.03\\), \\(p=0.859\\)} & \\multicolumn{7}{@{}c@{}}{\\(\\chi^2(2)=4.81\\), \\(p=0.090\\)} \\\\\n",
      "  \\midrule\n",
      "  low quality~\\secondary{(\\(<0.57\\))} & 154 & \\secondary{(--14)} & 119 & \\secondary{(\\(+\\)14)} & 273 & 105 & \\secondary{(\\(+\\)2)} & 168 & \\secondary{(--2)} & 273 & 49 & \\secondary{(\\(+\\)1)} & 132 & \\secondary{(\\(+\\)11)} & 87 & \\secondary{(--12)} & 268 \\\\\n",
      "  high quality~\\secondary{(\\(\\geq0.57\\))} & 187 & \\secondary{(\\(+\\)14)} & 94 & \\secondary{(--14)} & 281 & 105 & \\secondary{(--2)} & 176 & \\secondary{(\\(+\\)2)} & 281 & 47 & \\secondary{(--1)} & 112 & \\secondary{(--11)} & 112 & \\secondary{(\\(+\\)12)} & 271 \\\\\n",
      "  \\(\\sum\\) & 341 &  & 213 &  & 554 & 210 &  & 344 &  & 554 & 96 &  & 244 &  & 199 &  & 539 \\\\\n",
      "  \\bottomrule\n",
      "\\end{tabular}\n"
     ]
    }
   ],
   "source": [
    "tests = [\n",
    "    (r\"Background\", contingency_full_background_decision_change, chi2_background_decision_change, contingency_full_background_final_confidence, chi2_background_final_confidence, contingency_full_background_confidence_change, chi2_background_confidence_change),\n",
    "    (r\"Quality\", contingency_full_quality_decision_change, chi2_quality_decision_change, contingency_full_quality_final_confidence, chi2_quality_final_confidence, contingency_full_quality_confidence_change, chi2_quality_confidence_change),\n",
    "]\n",
    "alpha = 0.05\n",
    "correction = 3\n",
    "alpha_corrected = alpha / correction  # Bonferroni correction across outcomes\n",
    "# TODO: Indicate change compared to expected frequencies.\n",
    "# print(r\"\\newlength{\\largetabcolsep}\")\n",
    "# print(r\"\\setlength{\\largetabcolsep}{3\\tabcolsep}\")\n",
    "print(r\"\\begin{tabular}{@{}l@{\\hspace{\\largetabcolsep}}r@{ }lr@{ }lr@{\\hspace{\\largetabcolsep}}r@{ }lr@{ }lr@{\\hspace{\\largetabcolsep}}r@{ }lr@{ }lr@{ }lr@{}}\")\n",
    "print(r\"  \\toprule\")\n",
    "print(r\"  \\textbf{Predictor} & \\multicolumn{5}{@{}c@{\\hspace{\\largetabcolsep}}}{\\textbf{Decision change}} & \\multicolumn{5}{@{}c@{\\hspace{\\largetabcolsep}}}{\\textbf{Final decision confidence}} & \\multicolumn{7}{@{}c@{}}{\\textbf{Decision confidence change}} \\\\\")\n",
    "print(r\"  & \\multicolumn{2}{@{}l}{Unchanged} & \\multicolumn{2}{l}{Changed} & \\(\\sum\\) & \\multicolumn{2}{@{}l}{Low~\\secondary{(\\(<\"+f\"{final_confidence_threshold:.2f}\"+r\"\\))}} & \\multicolumn{2}{l}{High~\\secondary{(\\(<\"+f\"{final_confidence_threshold:.2f}\"+r\"\\))}} & \\(\\sum\\) & \\multicolumn{2}{@{}l}{Decreased} & \\multicolumn{2}{l}{Unchanged} & \\multicolumn{2}{l}{Increased} & \\(\\sum\\) \\\\\")\n",
    "for variable_name, contingency_decision_change, chi2_result_decision_change, contingency_final_confidence, chi2_result_final_confidence, contingency_confidence_change, chi2_result_confidence_change in tests:\n",
    "    print(r\"  \\midrule\")\n",
    "    print(r\"  \\textit{\" + variable_name + r\"} & \\multicolumn{5}{@{}c@{\\hspace{\\largetabcolsep}}}{\" + chi2_to_tex(chi2_result_decision_change, alpha_corrected) + r\"} & \\multicolumn{5}{@{}c@{\\hspace{\\largetabcolsep}}}{\" + chi2_to_tex(chi2_result_final_confidence, alpha_corrected) + r\"} & \\multicolumn{7}{@{}c@{}}{\" + chi2_to_tex(chi2_result_confidence_change, alpha_corrected) + r\"} \\\\\")\n",
    "    print(r\"  \\midrule\")\n",
    "    for i, ((index_decision_change, row_decision_change), (index_final_confidence, row_final_confidence), (index_confidence_change, row_confidence_change)) in enumerate(zip(contingency_decision_change.iterrows(), contingency_final_confidence.iterrows(), contingency_confidence_change.iterrows())):\n",
    "        assert index_decision_change == index_final_confidence == index_confidence_change\n",
    "        index = index_confidence_change\n",
    "        if \"All\" in index:\n",
    "            index = r\"\\(\\sum\\)\"\n",
    "        columns = [\n",
    "            index,\n",
    "            f\"{row_decision_change['same decision']}\",\n",
    "            diff_expected_freq_tex(row_decision_change, \"same decision\", index, i, chi2_result_decision_change),\n",
    "            f\"{row_decision_change['changed decision']}\",\n",
    "            diff_expected_freq_tex(row_decision_change, \"changed decision\", index, i, chi2_result_decision_change),\n",
    "            f\"{row_decision_change['All']}\",\n",
    "            f\"{row_final_confidence[label_low_final_confidence]}\",\n",
    "            diff_expected_freq_tex(row_final_confidence, label_low_final_confidence, index, i, chi2_result_final_confidence),\n",
    "            f\"{row_final_confidence[label_high_final_confidence]}\",\n",
    "            diff_expected_freq_tex(row_final_confidence, label_high_final_confidence, index, i, chi2_result_final_confidence),\n",
    "            f\"{row_final_confidence['All']}\",\n",
    "            f\"{row_confidence_change['less confident']}\",\n",
    "            diff_expected_freq_tex(row_confidence_change, \"less confident\", index, i, chi2_result_confidence_change),\n",
    "            f\"{row_confidence_change['same confidence']}\",\n",
    "            diff_expected_freq_tex(row_confidence_change, \"same confidence\", index, i, chi2_result_confidence_change),\n",
    "            f\"{row_confidence_change['more confident']}\",\n",
    "            diff_expected_freq_tex(row_confidence_change, \"more confident\", index, i, chi2_result_confidence_change),\n",
    "            f\"{row_confidence_change['All']}\",\n",
    "        ]\n",
    "        print(r\"  \" + r\" & \".join(columns) + r\" \\\\\")\n",
    "print(r\"  \\bottomrule\")\n",
    "print(r\"\\end{tabular}\")"
   ]
  },
  {
   "cell_type": "code",
   "execution_count": 699,
   "id": "e7611220d7684288",
   "metadata": {
    "ExecuteTime": {
     "end_time": "2023-10-20T00:34:24.806609235Z",
     "start_time": "2023-10-20T00:34:17.416809445Z"
    },
    "collapsed": false
   },
   "outputs": [
    {
     "data": {
      "text/html": [
       "<div>\n",
       "<style scoped>\n",
       "    .dataframe tbody tr th:only-of-type {\n",
       "        vertical-align: middle;\n",
       "    }\n",
       "\n",
       "    .dataframe tbody tr th {\n",
       "        vertical-align: top;\n",
       "    }\n",
       "\n",
       "    .dataframe thead th {\n",
       "        text-align: right;\n",
       "    }\n",
       "</style>\n",
       "<table border=\"1\" class=\"dataframe\">\n",
       "  <thead>\n",
       "    <tr style=\"text-align: right;\">\n",
       "      <th>statement_research_confirmed</th>\n",
       "      <th>no</th>\n",
       "      <th>yes</th>\n",
       "      <th>All</th>\n",
       "    </tr>\n",
       "    <tr>\n",
       "      <th>quality</th>\n",
       "      <th></th>\n",
       "      <th></th>\n",
       "      <th></th>\n",
       "    </tr>\n",
       "  </thead>\n",
       "  <tbody>\n",
       "    <tr>\n",
       "      <th>low quality~\\secondary{(\\(&lt;0.57\\))}</th>\n",
       "      <td>215</td>\n",
       "      <td>58</td>\n",
       "      <td>273</td>\n",
       "    </tr>\n",
       "    <tr>\n",
       "      <th>high quality~\\secondary{(\\(\\geq0.57\\))}</th>\n",
       "      <td>213</td>\n",
       "      <td>68</td>\n",
       "      <td>281</td>\n",
       "    </tr>\n",
       "    <tr>\n",
       "      <th>All</th>\n",
       "      <td>428</td>\n",
       "      <td>126</td>\n",
       "      <td>554</td>\n",
       "    </tr>\n",
       "  </tbody>\n",
       "</table>\n",
       "</div>"
      ],
      "text/plain": [
       "statement_research_confirmed              no  yes  All\n",
       "quality                                               \n",
       "low quality~\\secondary{(\\(<0.57\\))}      215   58  273\n",
       "high quality~\\secondary{(\\(\\geq0.57\\))}  213   68  281\n",
       "All                                      428  126  554"
      ]
     },
     "execution_count": 699,
     "metadata": {},
     "output_type": "execute_result"
    }
   ],
   "source": [
    "contingency_statement_research_confirmed = crosstab(\n",
    "    index=df_test2[\"quality\"],\n",
    "    columns=df_test2[\"statement_research_confirmed\"],\n",
    ")\n",
    "contingency_full_statement_research_confirmed = crosstab(\n",
    "    index=df_test2[\"quality\"],\n",
    "    columns=df_test2[\"statement_research_confirmed\"],\n",
    "    margins=True,\n",
    ")\n",
    "contingency_full_statement_research_confirmed"
   ]
  },
  {
   "cell_type": "code",
   "execution_count": 700,
   "id": "c55d2c9e107d0061",
   "metadata": {
    "ExecuteTime": {
     "end_time": "2023-10-20T00:34:25.191929230Z",
     "start_time": "2023-10-20T00:34:17.630816788Z"
    },
    "collapsed": false
   },
   "outputs": [
    {
     "data": {
      "text/plain": [
       "Chi2ContingencyResult(statistic=0.5297805988394619, pvalue=0.46669911488200444, dof=1, expected_freq=array([[210.90974729,  62.09025271],\n",
       "       [217.09025271,  63.90974729]]))"
      ]
     },
     "execution_count": 700,
     "metadata": {},
     "output_type": "execute_result"
    }
   ],
   "source": [
    "chi2_statement_research_confirmed = chi2_contingency(contingency_statement_research_confirmed)\n",
    "chi2_statement_research_confirmed"
   ]
  },
  {
   "cell_type": "code",
   "execution_count": 701,
   "id": "9dd3d54c76db7ca",
   "metadata": {
    "ExecuteTime": {
     "end_time": "2023-10-20T00:34:25.263527660Z",
     "start_time": "2023-10-20T00:34:17.820864298Z"
    },
    "collapsed": false
   },
   "outputs": [
    {
     "data": {
      "text/html": [
       "<div>\n",
       "<style scoped>\n",
       "    .dataframe tbody tr th:only-of-type {\n",
       "        vertical-align: middle;\n",
       "    }\n",
       "\n",
       "    .dataframe tbody tr th {\n",
       "        vertical-align: top;\n",
       "    }\n",
       "\n",
       "    .dataframe thead th {\n",
       "        text-align: right;\n",
       "    }\n",
       "</style>\n",
       "<table border=\"1\" class=\"dataframe\">\n",
       "  <thead>\n",
       "    <tr style=\"text-align: right;\">\n",
       "      <th>statement_research_helped</th>\n",
       "      <th>no</th>\n",
       "      <th>yes</th>\n",
       "      <th>All</th>\n",
       "    </tr>\n",
       "    <tr>\n",
       "      <th>quality</th>\n",
       "      <th></th>\n",
       "      <th></th>\n",
       "      <th></th>\n",
       "    </tr>\n",
       "  </thead>\n",
       "  <tbody>\n",
       "    <tr>\n",
       "      <th>low quality~\\secondary{(\\(&lt;0.57\\))}</th>\n",
       "      <td>216</td>\n",
       "      <td>57</td>\n",
       "      <td>273</td>\n",
       "    </tr>\n",
       "    <tr>\n",
       "      <th>high quality~\\secondary{(\\(\\geq0.57\\))}</th>\n",
       "      <td>177</td>\n",
       "      <td>104</td>\n",
       "      <td>281</td>\n",
       "    </tr>\n",
       "    <tr>\n",
       "      <th>All</th>\n",
       "      <td>393</td>\n",
       "      <td>161</td>\n",
       "      <td>554</td>\n",
       "    </tr>\n",
       "  </tbody>\n",
       "</table>\n",
       "</div>"
      ],
      "text/plain": [
       "statement_research_helped                 no  yes  All\n",
       "quality                                               \n",
       "low quality~\\secondary{(\\(<0.57\\))}      216   57  273\n",
       "high quality~\\secondary{(\\(\\geq0.57\\))}  177  104  281\n",
       "All                                      393  161  554"
      ]
     },
     "execution_count": 701,
     "metadata": {},
     "output_type": "execute_result"
    }
   ],
   "source": [
    "contingency_statement_research_helped = crosstab(\n",
    "    index=df_test2[\"quality\"],\n",
    "    columns=df_test2[\"statement_research_helped\"],\n",
    ")\n",
    "contingency_full_statement_research_helped = crosstab(\n",
    "    index=df_test2[\"quality\"],\n",
    "    columns=df_test2[\"statement_research_helped\"],\n",
    "    margins=True,\n",
    ")\n",
    "contingency_full_statement_research_helped"
   ]
  },
  {
   "cell_type": "code",
   "execution_count": 702,
   "id": "8bf7c25f27a4792a",
   "metadata": {
    "ExecuteTime": {
     "end_time": "2023-10-20T00:34:25.657408262Z",
     "start_time": "2023-10-20T00:34:17.933134820Z"
    },
    "collapsed": false
   },
   "outputs": [
    {
     "data": {
      "text/plain": [
       "Chi2ContingencyResult(statistic=16.705117384774475, pvalue=4.366306089184387e-05, dof=1, expected_freq=array([[193.66245487,  79.33754513],\n",
       "       [199.33754513,  81.66245487]]))"
      ]
     },
     "execution_count": 702,
     "metadata": {},
     "output_type": "execute_result"
    }
   ],
   "source": [
    "chi2_statement_research_helped = chi2_contingency(contingency_statement_research_helped)\n",
    "chi2_statement_research_helped"
   ]
  },
  {
   "cell_type": "code",
   "execution_count": 703,
   "id": "225d0014b9caa1cb",
   "metadata": {
    "ExecuteTime": {
     "end_time": "2023-10-20T00:34:27.036285027Z",
     "start_time": "2023-10-20T00:34:17.953319980Z"
    },
    "collapsed": false
   },
   "outputs": [
    {
     "data": {
      "text/html": [
       "<div>\n",
       "<style scoped>\n",
       "    .dataframe tbody tr th:only-of-type {\n",
       "        vertical-align: middle;\n",
       "    }\n",
       "\n",
       "    .dataframe tbody tr th {\n",
       "        vertical-align: top;\n",
       "    }\n",
       "\n",
       "    .dataframe thead th {\n",
       "        text-align: right;\n",
       "    }\n",
       "</style>\n",
       "<table border=\"1\" class=\"dataframe\">\n",
       "  <thead>\n",
       "    <tr style=\"text-align: right;\">\n",
       "      <th>statement_research_not_helped</th>\n",
       "      <th>no</th>\n",
       "      <th>yes</th>\n",
       "      <th>All</th>\n",
       "    </tr>\n",
       "    <tr>\n",
       "      <th>quality</th>\n",
       "      <th></th>\n",
       "      <th></th>\n",
       "      <th></th>\n",
       "    </tr>\n",
       "  </thead>\n",
       "  <tbody>\n",
       "    <tr>\n",
       "      <th>low quality~\\secondary{(\\(&lt;0.57\\))}</th>\n",
       "      <td>201</td>\n",
       "      <td>72</td>\n",
       "      <td>273</td>\n",
       "    </tr>\n",
       "    <tr>\n",
       "      <th>high quality~\\secondary{(\\(\\geq0.57\\))}</th>\n",
       "      <td>243</td>\n",
       "      <td>38</td>\n",
       "      <td>281</td>\n",
       "    </tr>\n",
       "    <tr>\n",
       "      <th>All</th>\n",
       "      <td>444</td>\n",
       "      <td>110</td>\n",
       "      <td>554</td>\n",
       "    </tr>\n",
       "  </tbody>\n",
       "</table>\n",
       "</div>"
      ],
      "text/plain": [
       "statement_research_not_helped             no  yes  All\n",
       "quality                                               \n",
       "low quality~\\secondary{(\\(<0.57\\))}      201   72  273\n",
       "high quality~\\secondary{(\\(\\geq0.57\\))}  243   38  281\n",
       "All                                      444  110  554"
      ]
     },
     "execution_count": 703,
     "metadata": {},
     "output_type": "execute_result"
    }
   ],
   "source": [
    "contingency_statement_research_not_helped = crosstab(\n",
    "    index=df_test2[\"quality\"],\n",
    "    columns=df_test2[\"statement_research_not_helped\"],\n",
    ")\n",
    "contingency_full_statement_research_not_helped = crosstab(\n",
    "    index=df_test2[\"quality\"],\n",
    "    columns=df_test2[\"statement_research_not_helped\"],\n",
    "    margins=True,\n",
    ")\n",
    "contingency_full_statement_research_not_helped"
   ]
  },
  {
   "cell_type": "code",
   "execution_count": 704,
   "id": "88a0cefae3aaaa17",
   "metadata": {
    "ExecuteTime": {
     "end_time": "2023-10-20T00:34:27.120535650Z",
     "start_time": "2023-10-20T00:34:18.186491583Z"
    },
    "collapsed": false
   },
   "outputs": [
    {
     "data": {
      "text/plain": [
       "Chi2ContingencyResult(statistic=13.573342966759338, pvalue=0.00022942042584097255, dof=1, expected_freq=array([[218.79422383,  54.20577617],\n",
       "       [225.20577617,  55.79422383]]))"
      ]
     },
     "execution_count": 704,
     "metadata": {},
     "output_type": "execute_result"
    }
   ],
   "source": [
    "chi2_statement_research_not_helped = chi2_contingency(contingency_statement_research_not_helped)\n",
    "chi2_statement_research_not_helped"
   ]
  },
  {
   "cell_type": "code",
   "execution_count": 705,
   "id": "15e41b4bd24a64b2",
   "metadata": {
    "ExecuteTime": {
     "end_time": "2023-10-20T00:34:27.148204792Z",
     "start_time": "2023-10-20T00:34:18.242898235Z"
    },
    "collapsed": false
   },
   "outputs": [
    {
     "data": {
      "text/html": [
       "<div>\n",
       "<style scoped>\n",
       "    .dataframe tbody tr th:only-of-type {\n",
       "        vertical-align: middle;\n",
       "    }\n",
       "\n",
       "    .dataframe tbody tr th {\n",
       "        vertical-align: top;\n",
       "    }\n",
       "\n",
       "    .dataframe thead th {\n",
       "        text-align: right;\n",
       "    }\n",
       "</style>\n",
       "<table border=\"1\" class=\"dataframe\">\n",
       "  <thead>\n",
       "    <tr style=\"text-align: right;\">\n",
       "      <th>statement_research_learned</th>\n",
       "      <th>no</th>\n",
       "      <th>yes</th>\n",
       "      <th>All</th>\n",
       "    </tr>\n",
       "    <tr>\n",
       "      <th>quality</th>\n",
       "      <th></th>\n",
       "      <th></th>\n",
       "      <th></th>\n",
       "    </tr>\n",
       "  </thead>\n",
       "  <tbody>\n",
       "    <tr>\n",
       "      <th>low quality~\\secondary{(\\(&lt;0.57\\))}</th>\n",
       "      <td>168</td>\n",
       "      <td>105</td>\n",
       "      <td>273</td>\n",
       "    </tr>\n",
       "    <tr>\n",
       "      <th>high quality~\\secondary{(\\(\\geq0.57\\))}</th>\n",
       "      <td>112</td>\n",
       "      <td>169</td>\n",
       "      <td>281</td>\n",
       "    </tr>\n",
       "    <tr>\n",
       "      <th>All</th>\n",
       "      <td>280</td>\n",
       "      <td>274</td>\n",
       "      <td>554</td>\n",
       "    </tr>\n",
       "  </tbody>\n",
       "</table>\n",
       "</div>"
      ],
      "text/plain": [
       "statement_research_learned                no  yes  All\n",
       "quality                                               \n",
       "low quality~\\secondary{(\\(<0.57\\))}      168  105  273\n",
       "high quality~\\secondary{(\\(\\geq0.57\\))}  112  169  281\n",
       "All                                      280  274  554"
      ]
     },
     "execution_count": 705,
     "metadata": {},
     "output_type": "execute_result"
    }
   ],
   "source": [
    "contingency_statement_research_learned = crosstab(\n",
    "    index=df_test2[\"quality\"],\n",
    "    columns=df_test2[\"statement_research_learned\"],\n",
    ")\n",
    "contingency_full_statement_research_learned = crosstab(\n",
    "    index=df_test2[\"quality\"],\n",
    "    columns=df_test2[\"statement_research_learned\"],\n",
    "    margins=True,\n",
    ")\n",
    "contingency_full_statement_research_learned"
   ]
  },
  {
   "cell_type": "code",
   "execution_count": 706,
   "id": "48b11cfe7866eb8c",
   "metadata": {
    "ExecuteTime": {
     "end_time": "2023-10-20T00:34:27.150156454Z",
     "start_time": "2023-10-20T00:34:18.366668906Z"
    },
    "collapsed": false
   },
   "outputs": [
    {
     "data": {
      "text/plain": [
       "Chi2ContingencyResult(statistic=25.178699839088498, pvalue=5.225616709624952e-07, dof=1, expected_freq=array([[137.97833935, 135.02166065],\n",
       "       [142.02166065, 138.97833935]]))"
      ]
     },
     "execution_count": 706,
     "metadata": {},
     "output_type": "execute_result"
    }
   ],
   "source": [
    "chi2_statement_research_learned = chi2_contingency(contingency_statement_research_learned)\n",
    "chi2_statement_research_learned"
   ]
  },
  {
   "cell_type": "code",
   "execution_count": 707,
   "id": "76dc35704e29c52",
   "metadata": {
    "ExecuteTime": {
     "end_time": "2023-10-20T00:34:27.277358275Z",
     "start_time": "2023-10-20T00:34:18.414948798Z"
    },
    "collapsed": false
   },
   "outputs": [
    {
     "data": {
      "text/html": [
       "<div>\n",
       "<style scoped>\n",
       "    .dataframe tbody tr th:only-of-type {\n",
       "        vertical-align: middle;\n",
       "    }\n",
       "\n",
       "    .dataframe tbody tr th {\n",
       "        vertical-align: top;\n",
       "    }\n",
       "\n",
       "    .dataframe thead th {\n",
       "        text-align: right;\n",
       "    }\n",
       "</style>\n",
       "<table border=\"1\" class=\"dataframe\">\n",
       "  <thead>\n",
       "    <tr style=\"text-align: right;\">\n",
       "      <th>statement_research_continue</th>\n",
       "      <th>no</th>\n",
       "      <th>yes</th>\n",
       "      <th>All</th>\n",
       "    </tr>\n",
       "    <tr>\n",
       "      <th>quality</th>\n",
       "      <th></th>\n",
       "      <th></th>\n",
       "      <th></th>\n",
       "    </tr>\n",
       "  </thead>\n",
       "  <tbody>\n",
       "    <tr>\n",
       "      <th>low quality~\\secondary{(\\(&lt;0.57\\))}</th>\n",
       "      <td>193</td>\n",
       "      <td>80</td>\n",
       "      <td>273</td>\n",
       "    </tr>\n",
       "    <tr>\n",
       "      <th>high quality~\\secondary{(\\(\\geq0.57\\))}</th>\n",
       "      <td>233</td>\n",
       "      <td>48</td>\n",
       "      <td>281</td>\n",
       "    </tr>\n",
       "    <tr>\n",
       "      <th>All</th>\n",
       "      <td>426</td>\n",
       "      <td>128</td>\n",
       "      <td>554</td>\n",
       "    </tr>\n",
       "  </tbody>\n",
       "</table>\n",
       "</div>"
      ],
      "text/plain": [
       "statement_research_continue               no  yes  All\n",
       "quality                                               \n",
       "low quality~\\secondary{(\\(<0.57\\))}      193   80  273\n",
       "high quality~\\secondary{(\\(\\geq0.57\\))}  233   48  281\n",
       "All                                      426  128  554"
      ]
     },
     "execution_count": 707,
     "metadata": {},
     "output_type": "execute_result"
    }
   ],
   "source": [
    "contingency_statement_research_continue = crosstab(\n",
    "    index=df_test2[\"quality\"],\n",
    "    columns=df_test2[\"statement_research_continue\"],\n",
    ")\n",
    "contingency_full_statement_research_continue = crosstab(\n",
    "    index=df_test2[\"quality\"],\n",
    "    columns=df_test2[\"statement_research_continue\"],\n",
    "    margins=True,\n",
    ")\n",
    "contingency_full_statement_research_continue"
   ]
  },
  {
   "cell_type": "code",
   "execution_count": 708,
   "id": "7122c9b96ec24aef",
   "metadata": {
    "ExecuteTime": {
     "end_time": "2023-10-20T00:34:27.356054588Z",
     "start_time": "2023-10-20T00:34:18.650419463Z"
    },
    "collapsed": false
   },
   "outputs": [
    {
     "data": {
      "text/plain": [
       "Chi2ContingencyResult(statistic=10.964998057913595, pvalue=0.0009284904422298395, dof=1, expected_freq=array([[209.92418773,  63.07581227],\n",
       "       [216.07581227,  64.92418773]]))"
      ]
     },
     "execution_count": 708,
     "metadata": {},
     "output_type": "execute_result"
    }
   ],
   "source": [
    "chi2_statement_research_continue = chi2_contingency(contingency_statement_research_continue)\n",
    "chi2_statement_research_continue"
   ]
  },
  {
   "cell_type": "code",
   "execution_count": 709,
   "id": "97940cbd929350c3",
   "metadata": {
    "ExecuteTime": {
     "end_time": "2023-10-20T00:34:27.468649110Z",
     "start_time": "2023-10-20T00:34:18.774762432Z"
    },
    "collapsed": false
   },
   "outputs": [
    {
     "data": {
      "text/html": [
       "<div>\n",
       "<style scoped>\n",
       "    .dataframe tbody tr th:only-of-type {\n",
       "        vertical-align: middle;\n",
       "    }\n",
       "\n",
       "    .dataframe tbody tr th {\n",
       "        vertical-align: top;\n",
       "    }\n",
       "\n",
       "    .dataframe thead th {\n",
       "        text-align: right;\n",
       "    }\n",
       "</style>\n",
       "<table border=\"1\" class=\"dataframe\">\n",
       "  <thead>\n",
       "    <tr style=\"text-align: right;\">\n",
       "      <th>statement_research_confirmed</th>\n",
       "      <th>no</th>\n",
       "      <th>yes</th>\n",
       "      <th>All</th>\n",
       "    </tr>\n",
       "    <tr>\n",
       "      <th>background</th>\n",
       "      <th></th>\n",
       "      <th></th>\n",
       "      <th></th>\n",
       "    </tr>\n",
       "  </thead>\n",
       "  <tbody>\n",
       "    <tr>\n",
       "      <th>factual</th>\n",
       "      <td>199</td>\n",
       "      <td>75</td>\n",
       "      <td>274</td>\n",
       "    </tr>\n",
       "    <tr>\n",
       "      <th>subjective</th>\n",
       "      <td>229</td>\n",
       "      <td>51</td>\n",
       "      <td>280</td>\n",
       "    </tr>\n",
       "    <tr>\n",
       "      <th>All</th>\n",
       "      <td>428</td>\n",
       "      <td>126</td>\n",
       "      <td>554</td>\n",
       "    </tr>\n",
       "  </tbody>\n",
       "</table>\n",
       "</div>"
      ],
      "text/plain": [
       "statement_research_confirmed   no  yes  All\n",
       "background                                 \n",
       "factual                       199   75  274\n",
       "subjective                    229   51  280\n",
       "All                           428  126  554"
      ]
     },
     "execution_count": 709,
     "metadata": {},
     "output_type": "execute_result"
    }
   ],
   "source": [
    "contingency_statement_research_confirmed_background = crosstab(\n",
    "    index=df_test2[\"background\"],\n",
    "    columns=df_test2[\"statement_research_confirmed\"],\n",
    ")\n",
    "contingency_full_statement_research_confirmed_background = crosstab(\n",
    "    index=df_test2[\"background\"],\n",
    "    columns=df_test2[\"statement_research_confirmed\"],\n",
    "    margins=True,\n",
    ")\n",
    "contingency_full_statement_research_confirmed_background"
   ]
  },
  {
   "cell_type": "code",
   "execution_count": 710,
   "id": "41cee742e3906f04",
   "metadata": {
    "ExecuteTime": {
     "end_time": "2023-10-20T00:34:27.470988948Z",
     "start_time": "2023-10-20T00:34:19.020738116Z"
    },
    "collapsed": false
   },
   "outputs": [
    {
     "data": {
      "text/plain": [
       "Chi2ContingencyResult(statistic=6.099099419567495, pvalue=0.013525079199060413, dof=1, expected_freq=array([[211.68231047,  62.31768953],\n",
       "       [216.31768953,  63.68231047]]))"
      ]
     },
     "execution_count": 710,
     "metadata": {},
     "output_type": "execute_result"
    }
   ],
   "source": [
    "chi2_statement_research_confirmed_background = chi2_contingency(contingency_statement_research_confirmed_background)\n",
    "chi2_statement_research_confirmed_background"
   ]
  },
  {
   "cell_type": "code",
   "execution_count": 711,
   "id": "eb31df613f7441cf",
   "metadata": {
    "ExecuteTime": {
     "end_time": "2023-10-20T00:34:27.602509807Z",
     "start_time": "2023-10-20T00:34:19.069789357Z"
    },
    "collapsed": false
   },
   "outputs": [
    {
     "data": {
      "text/html": [
       "<div>\n",
       "<style scoped>\n",
       "    .dataframe tbody tr th:only-of-type {\n",
       "        vertical-align: middle;\n",
       "    }\n",
       "\n",
       "    .dataframe tbody tr th {\n",
       "        vertical-align: top;\n",
       "    }\n",
       "\n",
       "    .dataframe thead th {\n",
       "        text-align: right;\n",
       "    }\n",
       "</style>\n",
       "<table border=\"1\" class=\"dataframe\">\n",
       "  <thead>\n",
       "    <tr style=\"text-align: right;\">\n",
       "      <th>statement_research_helped</th>\n",
       "      <th>no</th>\n",
       "      <th>yes</th>\n",
       "      <th>All</th>\n",
       "    </tr>\n",
       "    <tr>\n",
       "      <th>background</th>\n",
       "      <th></th>\n",
       "      <th></th>\n",
       "      <th></th>\n",
       "    </tr>\n",
       "  </thead>\n",
       "  <tbody>\n",
       "    <tr>\n",
       "      <th>factual</th>\n",
       "      <td>171</td>\n",
       "      <td>103</td>\n",
       "      <td>274</td>\n",
       "    </tr>\n",
       "    <tr>\n",
       "      <th>subjective</th>\n",
       "      <td>222</td>\n",
       "      <td>58</td>\n",
       "      <td>280</td>\n",
       "    </tr>\n",
       "    <tr>\n",
       "      <th>All</th>\n",
       "      <td>393</td>\n",
       "      <td>161</td>\n",
       "      <td>554</td>\n",
       "    </tr>\n",
       "  </tbody>\n",
       "</table>\n",
       "</div>"
      ],
      "text/plain": [
       "statement_research_helped   no  yes  All\n",
       "background                              \n",
       "factual                    171  103  274\n",
       "subjective                 222   58  280\n",
       "All                        393  161  554"
      ]
     },
     "execution_count": 711,
     "metadata": {},
     "output_type": "execute_result"
    }
   ],
   "source": [
    "contingency_statement_research_helped_background = crosstab(\n",
    "    index=df_test2[\"background\"],\n",
    "    columns=df_test2[\"statement_research_helped\"],\n",
    ")\n",
    "contingency_full_statement_research_helped_background = crosstab(\n",
    "    index=df_test2[\"background\"],\n",
    "    columns=df_test2[\"statement_research_helped\"],\n",
    "    margins=True,\n",
    ")\n",
    "contingency_full_statement_research_helped_background"
   ]
  },
  {
   "cell_type": "code",
   "execution_count": 712,
   "id": "fef02918158c7caa",
   "metadata": {
    "ExecuteTime": {
     "end_time": "2023-10-20T00:34:27.604217837Z",
     "start_time": "2023-10-20T00:34:19.366912481Z"
    },
    "collapsed": false
   },
   "outputs": [
    {
     "data": {
      "text/plain": [
       "Chi2ContingencyResult(statistic=18.32333517903541, pvalue=1.8640979363567875e-05, dof=1, expected_freq=array([[194.37184116,  79.62815884],\n",
       "       [198.62815884,  81.37184116]]))"
      ]
     },
     "execution_count": 712,
     "metadata": {},
     "output_type": "execute_result"
    }
   ],
   "source": [
    "chi2_statement_research_helped_background = chi2_contingency(contingency_statement_research_helped_background)\n",
    "chi2_statement_research_helped_background"
   ]
  },
  {
   "cell_type": "code",
   "execution_count": 713,
   "id": "c5a0f49a570efc93",
   "metadata": {
    "ExecuteTime": {
     "end_time": "2023-10-20T00:34:27.804170090Z",
     "start_time": "2023-10-20T00:34:19.410996555Z"
    },
    "collapsed": false
   },
   "outputs": [
    {
     "data": {
      "text/html": [
       "<div>\n",
       "<style scoped>\n",
       "    .dataframe tbody tr th:only-of-type {\n",
       "        vertical-align: middle;\n",
       "    }\n",
       "\n",
       "    .dataframe tbody tr th {\n",
       "        vertical-align: top;\n",
       "    }\n",
       "\n",
       "    .dataframe thead th {\n",
       "        text-align: right;\n",
       "    }\n",
       "</style>\n",
       "<table border=\"1\" class=\"dataframe\">\n",
       "  <thead>\n",
       "    <tr style=\"text-align: right;\">\n",
       "      <th>statement_research_not_helped</th>\n",
       "      <th>no</th>\n",
       "      <th>yes</th>\n",
       "      <th>All</th>\n",
       "    </tr>\n",
       "    <tr>\n",
       "      <th>background</th>\n",
       "      <th></th>\n",
       "      <th></th>\n",
       "      <th></th>\n",
       "    </tr>\n",
       "  </thead>\n",
       "  <tbody>\n",
       "    <tr>\n",
       "      <th>factual</th>\n",
       "      <td>227</td>\n",
       "      <td>47</td>\n",
       "      <td>274</td>\n",
       "    </tr>\n",
       "    <tr>\n",
       "      <th>subjective</th>\n",
       "      <td>217</td>\n",
       "      <td>63</td>\n",
       "      <td>280</td>\n",
       "    </tr>\n",
       "    <tr>\n",
       "      <th>All</th>\n",
       "      <td>444</td>\n",
       "      <td>110</td>\n",
       "      <td>554</td>\n",
       "    </tr>\n",
       "  </tbody>\n",
       "</table>\n",
       "</div>"
      ],
      "text/plain": [
       "statement_research_not_helped   no  yes  All\n",
       "background                                  \n",
       "factual                        227   47  274\n",
       "subjective                     217   63  280\n",
       "All                            444  110  554"
      ]
     },
     "execution_count": 713,
     "metadata": {},
     "output_type": "execute_result"
    }
   ],
   "source": [
    "contingency_statement_research_not_helped_background = crosstab(\n",
    "    index=df_test2[\"background\"],\n",
    "    columns=df_test2[\"statement_research_not_helped\"],\n",
    ")\n",
    "contingency_full_statement_research_not_helped_background = crosstab(\n",
    "    index=df_test2[\"background\"],\n",
    "    columns=df_test2[\"statement_research_not_helped\"],\n",
    "    margins=True,\n",
    ")\n",
    "contingency_full_statement_research_not_helped_background"
   ]
  },
  {
   "cell_type": "code",
   "execution_count": 714,
   "id": "c7bcc2d23fe67dd3",
   "metadata": {
    "ExecuteTime": {
     "end_time": "2023-10-20T00:34:27.809100367Z",
     "start_time": "2023-10-20T00:34:19.667321692Z"
    },
    "collapsed": false
   },
   "outputs": [
    {
     "data": {
      "text/plain": [
       "Chi2ContingencyResult(statistic=2.1631587581633203, pvalue=0.14135384639055168, dof=1, expected_freq=array([[219.59566787,  54.40433213],\n",
       "       [224.40433213,  55.59566787]]))"
      ]
     },
     "execution_count": 714,
     "metadata": {},
     "output_type": "execute_result"
    }
   ],
   "source": [
    "chi2_statement_research_not_helped_background = chi2_contingency(contingency_statement_research_not_helped_background)\n",
    "chi2_statement_research_not_helped_background"
   ]
  },
  {
   "cell_type": "code",
   "execution_count": 715,
   "id": "5c2678426313387d",
   "metadata": {
    "ExecuteTime": {
     "end_time": "2023-10-20T00:34:28.010868279Z",
     "start_time": "2023-10-20T00:34:19.758624551Z"
    },
    "collapsed": false
   },
   "outputs": [
    {
     "data": {
      "text/html": [
       "<div>\n",
       "<style scoped>\n",
       "    .dataframe tbody tr th:only-of-type {\n",
       "        vertical-align: middle;\n",
       "    }\n",
       "\n",
       "    .dataframe tbody tr th {\n",
       "        vertical-align: top;\n",
       "    }\n",
       "\n",
       "    .dataframe thead th {\n",
       "        text-align: right;\n",
       "    }\n",
       "</style>\n",
       "<table border=\"1\" class=\"dataframe\">\n",
       "  <thead>\n",
       "    <tr style=\"text-align: right;\">\n",
       "      <th>statement_research_learned</th>\n",
       "      <th>no</th>\n",
       "      <th>yes</th>\n",
       "      <th>All</th>\n",
       "    </tr>\n",
       "    <tr>\n",
       "      <th>background</th>\n",
       "      <th></th>\n",
       "      <th></th>\n",
       "      <th></th>\n",
       "    </tr>\n",
       "  </thead>\n",
       "  <tbody>\n",
       "    <tr>\n",
       "      <th>factual</th>\n",
       "      <td>127</td>\n",
       "      <td>147</td>\n",
       "      <td>274</td>\n",
       "    </tr>\n",
       "    <tr>\n",
       "      <th>subjective</th>\n",
       "      <td>153</td>\n",
       "      <td>127</td>\n",
       "      <td>280</td>\n",
       "    </tr>\n",
       "    <tr>\n",
       "      <th>All</th>\n",
       "      <td>280</td>\n",
       "      <td>274</td>\n",
       "      <td>554</td>\n",
       "    </tr>\n",
       "  </tbody>\n",
       "</table>\n",
       "</div>"
      ],
      "text/plain": [
       "statement_research_learned   no  yes  All\n",
       "background                               \n",
       "factual                     127  147  274\n",
       "subjective                  153  127  280\n",
       "All                         280  274  554"
      ]
     },
     "execution_count": 715,
     "metadata": {},
     "output_type": "execute_result"
    }
   ],
   "source": [
    "contingency_statement_research_learned_background = crosstab(\n",
    "    index=df_test2[\"background\"],\n",
    "    columns=df_test2[\"statement_research_learned\"],\n",
    ")\n",
    "contingency_full_statement_research_learned_background = crosstab(\n",
    "    index=df_test2[\"background\"],\n",
    "    columns=df_test2[\"statement_research_learned\"],\n",
    "    margins=True,\n",
    ")\n",
    "contingency_full_statement_research_learned_background"
   ]
  },
  {
   "cell_type": "code",
   "execution_count": 716,
   "id": "72f8210b1888fcf6",
   "metadata": {
    "ExecuteTime": {
     "end_time": "2023-10-20T00:34:28.014608510Z",
     "start_time": "2023-10-20T00:34:20.027128290Z"
    },
    "collapsed": false
   },
   "outputs": [
    {
     "data": {
      "text/plain": [
       "Chi2ContingencyResult(statistic=3.485087942517573, pvalue=0.061924071044720516, dof=1, expected_freq=array([[138.48375451, 135.51624549],\n",
       "       [141.51624549, 138.48375451]]))"
      ]
     },
     "execution_count": 716,
     "metadata": {},
     "output_type": "execute_result"
    }
   ],
   "source": [
    "chi2_statement_research_learned_background = chi2_contingency(contingency_statement_research_learned_background)\n",
    "chi2_statement_research_learned_background"
   ]
  },
  {
   "cell_type": "code",
   "execution_count": 717,
   "id": "3af7643e3e3231df",
   "metadata": {
    "ExecuteTime": {
     "end_time": "2023-10-20T00:34:28.019095498Z",
     "start_time": "2023-10-20T00:34:20.077736499Z"
    },
    "collapsed": false
   },
   "outputs": [
    {
     "data": {
      "text/html": [
       "<div>\n",
       "<style scoped>\n",
       "    .dataframe tbody tr th:only-of-type {\n",
       "        vertical-align: middle;\n",
       "    }\n",
       "\n",
       "    .dataframe tbody tr th {\n",
       "        vertical-align: top;\n",
       "    }\n",
       "\n",
       "    .dataframe thead th {\n",
       "        text-align: right;\n",
       "    }\n",
       "</style>\n",
       "<table border=\"1\" class=\"dataframe\">\n",
       "  <thead>\n",
       "    <tr style=\"text-align: right;\">\n",
       "      <th>statement_research_continue</th>\n",
       "      <th>no</th>\n",
       "      <th>yes</th>\n",
       "      <th>All</th>\n",
       "    </tr>\n",
       "    <tr>\n",
       "      <th>background</th>\n",
       "      <th></th>\n",
       "      <th></th>\n",
       "      <th></th>\n",
       "    </tr>\n",
       "  </thead>\n",
       "  <tbody>\n",
       "    <tr>\n",
       "      <th>factual</th>\n",
       "      <td>208</td>\n",
       "      <td>66</td>\n",
       "      <td>274</td>\n",
       "    </tr>\n",
       "    <tr>\n",
       "      <th>subjective</th>\n",
       "      <td>218</td>\n",
       "      <td>62</td>\n",
       "      <td>280</td>\n",
       "    </tr>\n",
       "    <tr>\n",
       "      <th>All</th>\n",
       "      <td>426</td>\n",
       "      <td>128</td>\n",
       "      <td>554</td>\n",
       "    </tr>\n",
       "  </tbody>\n",
       "</table>\n",
       "</div>"
      ],
      "text/plain": [
       "statement_research_continue   no  yes  All\n",
       "background                                \n",
       "factual                      208   66  274\n",
       "subjective                   218   62  280\n",
       "All                          426  128  554"
      ]
     },
     "execution_count": 717,
     "metadata": {},
     "output_type": "execute_result"
    }
   ],
   "source": [
    "contingency_statement_research_continue_background = crosstab(\n",
    "    index=df_test2[\"background\"],\n",
    "    columns=df_test2[\"statement_research_continue\"],\n",
    ")\n",
    "contingency_full_statement_research_continue_background = crosstab(\n",
    "    index=df_test2[\"background\"],\n",
    "    columns=df_test2[\"statement_research_continue\"],\n",
    "    margins=True,\n",
    ")\n",
    "contingency_full_statement_research_continue_background"
   ]
  },
  {
   "cell_type": "code",
   "execution_count": 718,
   "id": "9cffd8a6fc7650aa",
   "metadata": {
    "ExecuteTime": {
     "end_time": "2023-10-20T00:34:28.022588603Z",
     "start_time": "2023-10-20T00:34:20.350940629Z"
    },
    "collapsed": false
   },
   "outputs": [
    {
     "data": {
      "text/plain": [
       "Chi2ContingencyResult(statistic=0.1954943263022481, pvalue=0.6583825437223951, dof=1, expected_freq=array([[210.69314079,  63.30685921],\n",
       "       [215.30685921,  64.69314079]]))"
      ]
     },
     "execution_count": 718,
     "metadata": {},
     "output_type": "execute_result"
    }
   ],
   "source": [
    "chi2_statement_research_continue_background = chi2_contingency(contingency_statement_research_continue_background)\n",
    "chi2_statement_research_continue_background"
   ]
  },
  {
   "cell_type": "code",
   "execution_count": 719,
   "id": "d0a465368f4cbace",
   "metadata": {
    "ExecuteTime": {
     "end_time": "2023-10-20T00:34:27.386806066Z",
     "start_time": "2023-10-20T00:34:18.688662076Z"
    },
    "collapsed": false
   },
   "outputs": [
    {
     "name": "stdout",
     "output_type": "stream",
     "text": [
      "\\begin{tabular}{@{}l@{\\hspace{\\largetabcolsep}}r@{ }lr@{ }lr@{\\hspace{\\largetabcolsep}}r@{ }lr@{ }lr@{\\hspace{\\largetabcolsep}}r@{ }lr@{ }lr@{\\hspace{\\largetabcolsep}}r@{ }lr@{ }lr@{\\hspace{\\largetabcolsep}}r@{ }lr@{ }lr@{}}\n",
      "  \\toprule\n",
      "  \\textbf{Predictor} & \\multicolumn{5}{@{}c@{\\hspace{\\largetabcolsep}}}{\\textbf{Confirm.\\ prev.\\ opinion}} & \\multicolumn{5}{@{}c@{\\hspace{\\largetabcolsep}}}{\\textbf{Could make better decis.}} & \\multicolumn{5}{@{}c@{\\hspace{\\largetabcolsep}}}{\\textbf{Results did not help}} & \\multicolumn{5}{@{}c@{\\hspace{\\largetabcolsep}}}{\\textbf{Learned something new}} & \\multicolumn{5}{@{}c@{}}{\\textbf{Would do further search}} \\\\\n",
      "  & \\multicolumn{2}{@{}l}{No} & \\multicolumn{2}{l}{Yes} & \\(\\sum\\) & \\multicolumn{2}{@{}l}{No} & \\multicolumn{2}{l}{Yes} & \\(\\sum\\) & \\multicolumn{2}{@{}l}{No} & \\multicolumn{2}{l}{Yes} & \\(\\sum\\) & \\multicolumn{2}{@{}l}{No} & \\multicolumn{2}{l}{Yes} & \\(\\sum\\) & \\multicolumn{2}{@{}l}{No} & \\multicolumn{2}{l}{Yes} & \\(\\sum\\) \\\\\n",
      "  \\midrule\n",
      "  \\textit{Background} & \\multicolumn{5}{@{}c@{\\hspace{\\largetabcolsep}}}{\\(\\chi^2(1)=6.10\\), \\(p=0.014\\)} & \\multicolumn{5}{@{}c@{\\hspace{\\largetabcolsep}}}{\\textbfn{\\(\\bm{\\chi^2(1)=18.32}\\), \\(\\bm{p<0.001}\\)}} & \\multicolumn{5}{@{}c@{\\hspace{\\largetabcolsep}}}{\\(\\chi^2(1)=2.16\\), \\(p=0.141\\)} & \\multicolumn{5}{@{}c@{\\hspace{\\largetabcolsep}}}{\\(\\chi^2(1)=3.49\\), \\(p=0.062\\)} & \\multicolumn{5}{@{}c@{}}{\\(\\chi^2(1)=0.20\\), \\(p=0.658\\)} \\\\\n",
      "  \\midrule\n",
      "  factual & 199 & \\secondary{(--13)} & 75 & \\secondary{(\\(+\\)13)} & 274 & 171 & \\secondary{(--23)} & 103 & \\secondary{(\\(+\\)23)} & 274 & 227 & \\secondary{(\\(+\\)7)} & 47 & \\secondary{(--7)} & 274 & 127 & \\secondary{(--11)} & 147 & \\secondary{(\\(+\\)11)} & 274 & 208 & \\secondary{(--3)} & 66 & \\secondary{(\\(+\\)3)} & 274 \\\\\n",
      "  subjective & 229 & \\secondary{(\\(+\\)13)} & 51 & \\secondary{(--13)} & 280 & 222 & \\secondary{(\\(+\\)23)} & 58 & \\secondary{(--23)} & 280 & 217 & \\secondary{(--7)} & 63 & \\secondary{(\\(+\\)7)} & 280 & 153 & \\secondary{(\\(+\\)11)} & 127 & \\secondary{(--11)} & 280 & 218 & \\secondary{(\\(+\\)3)} & 62 & \\secondary{(--3)} & 280 \\\\\n",
      "  \\(\\sum\\) & 428 &  & 126 &  & 554 & 393 &  & 161 &  & 554 & 444 &  & 110 &  & 554 & 280 &  & 274 &  & 554 & 426 &  & 128 &  & 554 \\\\\n",
      "  \\midrule\n",
      "  \\textit{Quality} & \\multicolumn{5}{@{}c@{\\hspace{\\largetabcolsep}}}{\\(\\chi^2(1)=0.53\\), \\(p=0.467\\)} & \\multicolumn{5}{@{}c@{\\hspace{\\largetabcolsep}}}{\\textbfn{\\(\\bm{\\chi^2(1)=16.71}\\), \\(\\bm{p<0.001}\\)}} & \\multicolumn{5}{@{}c@{\\hspace{\\largetabcolsep}}}{\\textbfn{\\(\\bm{\\chi^2(1)=13.57}\\), \\(\\bm{p<0.001}\\)}} & \\multicolumn{5}{@{}c@{\\hspace{\\largetabcolsep}}}{\\textbfn{\\(\\bm{\\chi^2(1)=25.18}\\), \\(\\bm{p<0.001}\\)}} & \\multicolumn{5}{@{}c@{}}{\\textbfn{\\(\\bm{\\chi^2(1)=10.96}\\), \\(\\bm{p<0.001}\\)}} \\\\\n",
      "  \\midrule\n",
      "  low quality~\\secondary{(\\(<0.57\\))} & 215 & \\secondary{(\\(+\\)4)} & 58 & \\secondary{(--4)} & 273 & 216 & \\secondary{(\\(+\\)22)} & 57 & \\secondary{(--22)} & 273 & 201 & \\secondary{(--18)} & 72 & \\secondary{(\\(+\\)18)} & 273 & 168 & \\secondary{(\\(+\\)30)} & 105 & \\secondary{(--30)} & 273 & 193 & \\secondary{(--17)} & 80 & \\secondary{(\\(+\\)17)} & 273 \\\\\n",
      "  high quality~\\secondary{(\\(\\geq0.57\\))} & 213 & \\secondary{(--4)} & 68 & \\secondary{(\\(+\\)4)} & 281 & 177 & \\secondary{(--22)} & 104 & \\secondary{(\\(+\\)22)} & 281 & 243 & \\secondary{(\\(+\\)18)} & 38 & \\secondary{(--18)} & 281 & 112 & \\secondary{(--30)} & 169 & \\secondary{(\\(+\\)30)} & 281 & 233 & \\secondary{(\\(+\\)17)} & 48 & \\secondary{(--17)} & 281 \\\\\n",
      "  \\(\\sum\\) & 428 &  & 126 &  & 554 & 393 &  & 161 &  & 554 & 444 &  & 110 &  & 554 & 280 &  & 274 &  & 554 & 426 &  & 128 &  & 554 \\\\\n",
      "  \\bottomrule\n",
      "\\end{tabular}\n"
     ]
    }
   ],
   "source": [
    "tests = [\n",
    "    (r\"Background\", contingency_full_statement_research_confirmed_background, chi2_statement_research_confirmed_background, contingency_full_statement_research_helped_background, chi2_statement_research_helped_background, contingency_full_statement_research_not_helped_background, chi2_statement_research_not_helped_background, contingency_full_statement_research_learned_background, chi2_statement_research_learned_background, contingency_full_statement_research_continue_background, chi2_statement_research_continue_background),\n",
    "    (r\"Quality\", contingency_full_statement_research_confirmed, chi2_statement_research_confirmed, contingency_full_statement_research_helped, chi2_statement_research_helped, contingency_full_statement_research_not_helped, chi2_statement_research_not_helped, contingency_full_statement_research_learned, chi2_statement_research_learned, contingency_full_statement_research_continue, chi2_statement_research_continue),\n",
    "]\n",
    "alpha = 0.05\n",
    "correction = 5\n",
    "alpha_corrected = alpha / correction  # Bonferroni correction across outcomes\n",
    "# TODO: Indicate change compared to expected frequencies.\n",
    "# print(r\"\\newlength{\\largetabcolsep}\")\n",
    "# print(r\"\\setlength{\\largetabcolsep}{3\\tabcolsep}\")\n",
    "print(r\"\\begin{tabular}{@{}l@{\\hspace{\\largetabcolsep}}r@{ }lr@{ }lr@{\\hspace{\\largetabcolsep}}r@{ }lr@{ }lr@{\\hspace{\\largetabcolsep}}r@{ }lr@{ }lr@{\\hspace{\\largetabcolsep}}r@{ }lr@{ }lr@{\\hspace{\\largetabcolsep}}r@{ }lr@{ }lr@{}}\")\n",
    "print(r\"  \\toprule\")\n",
    "print(r\"  \\textbf{Predictor} & \\multicolumn{5}{@{}c@{\\hspace{\\largetabcolsep}}}{\\textbf{Confirm.\\ prev.\\ opinion}} & \\multicolumn{5}{@{}c@{\\hspace{\\largetabcolsep}}}{\\textbf{Could make better decis.}} & \\multicolumn{5}{@{}c@{\\hspace{\\largetabcolsep}}}{\\textbf{Results did not help}} & \\multicolumn{5}{@{}c@{\\hspace{\\largetabcolsep}}}{\\textbf{Learned something new}} & \\multicolumn{5}{@{}c@{}}{\\textbf{Would do further search}} \\\\\")\n",
    "print(r\"  & \\multicolumn{2}{@{}l}{No} & \\multicolumn{2}{l}{Yes} & \\(\\sum\\) & \\multicolumn{2}{@{}l}{No} & \\multicolumn{2}{l}{Yes} & \\(\\sum\\) & \\multicolumn{2}{@{}l}{No} & \\multicolumn{2}{l}{Yes} & \\(\\sum\\) & \\multicolumn{2}{@{}l}{No} & \\multicolumn{2}{l}{Yes} & \\(\\sum\\) & \\multicolumn{2}{@{}l}{No} & \\multicolumn{2}{l}{Yes} & \\(\\sum\\) \\\\\")\n",
    "for variable_name, contingency_1, chi2_result_1, contingency_2, chi2_result_2, contingency_3, chi2_result_3, contingency_4, chi2_result_4, contingency_5, chi2_result_5 in tests:\n",
    "    statistic_1, p_value_1, dof_1, _ = chi2_result_1\n",
    "    statistic_2, p_value_2, dof_2, _ = chi2_result_2\n",
    "    statistic_3, p_value_3, dof_3, _ = chi2_result_3\n",
    "    statistic_4, p_value_4, dof_4, _ = chi2_result_4\n",
    "    statistic_5, p_value_5, dof_5, _ = chi2_result_5\n",
    "    print(r\"  \\midrule\")\n",
    "    print(r\"  \\textit{\" + variable_name + r\"} & \\multicolumn{5}{@{}c@{\\hspace{\\largetabcolsep}}}{\" + chi2_to_tex(chi2_result_1, alpha_corrected) + r\"} & \\multicolumn{5}{@{}c@{\\hspace{\\largetabcolsep}}}{\" + chi2_to_tex(chi2_result_2, alpha_corrected) + r\"} & \\multicolumn{5}{@{}c@{\\hspace{\\largetabcolsep}}}{\" + chi2_to_tex(chi2_result_3, alpha_corrected) + r\"} & \\multicolumn{5}{@{}c@{\\hspace{\\largetabcolsep}}}{\" + chi2_to_tex(chi2_result_4, alpha_corrected) + r\"} & \\multicolumn{5}{@{}c@{}}{\" + chi2_to_tex(chi2_result_5, alpha_corrected) + r\"} \\\\\")\n",
    "    print(r\"  \\midrule\")\n",
    "    for i, ((index_1, row_1), (index_2, row_2), (index_3, row_3), (index_4, row_4), (index_5, row_5)) in enumerate(zip(contingency_1.iterrows(), contingency_2.iterrows(), contingency_3.iterrows(), contingency_4.iterrows(), contingency_5.iterrows())):\n",
    "        assert index_1 == index_2 == index_3 == index_4 == index_5\n",
    "        index = index_1\n",
    "        if \"All\" in index:\n",
    "            index = r\"\\(\\sum\\)\"\n",
    "        columns = [\n",
    "            index,\n",
    "            f\"{row_1['no']}\",\n",
    "            diff_expected_freq_tex(row_1, \"no\", index, i, chi2_result_1),\n",
    "            f\"{row_1['yes']}\",\n",
    "            diff_expected_freq_tex(row_1, \"yes\", index, i, chi2_result_1),\n",
    "            f\"{row_1['All']}\",\n",
    "            f\"{row_2['no']}\",\n",
    "            diff_expected_freq_tex(row_2, \"no\", index, i, chi2_result_2),\n",
    "            f\"{row_2['yes']}\",\n",
    "            diff_expected_freq_tex(row_2, \"yes\", index, i, chi2_result_2),\n",
    "            f\"{row_2['All']}\",\n",
    "            f\"{row_3['no']}\",\n",
    "            diff_expected_freq_tex(row_3, \"no\", index, i, chi2_result_3),\n",
    "            f\"{row_3['yes']}\",\n",
    "            diff_expected_freq_tex(row_3, \"yes\", index, i, chi2_result_3),\n",
    "            f\"{row_3['All']}\",\n",
    "            f\"{row_4['no']}\",\n",
    "            diff_expected_freq_tex(row_4, \"no\", index, i, chi2_result_4),\n",
    "            f\"{row_4['yes']}\",\n",
    "            diff_expected_freq_tex(row_4, \"yes\", index, i, chi2_result_4),\n",
    "            f\"{row_4['All']}\",\n",
    "            f\"{row_5['no']}\",\n",
    "            diff_expected_freq_tex(row_5, \"no\", index, i, chi2_result_5),\n",
    "            f\"{row_5['yes']}\",\n",
    "            diff_expected_freq_tex(row_5, \"yes\", index, i, chi2_result_5),\n",
    "            f\"{row_5['All']}\",\n",
    "        ]\n",
    "        print(r\"  \" + r\" & \".join(columns) + r\" \\\\\")\n",
    "print(r\"  \\bottomrule\")\n",
    "print(r\"\\end{tabular}\")"
   ]
  },
  {
   "cell_type": "code",
   "execution_count": 720,
   "id": "ea1115f8",
   "metadata": {},
   "outputs": [
    {
     "data": {
      "text/plain": [
       "0.01"
      ]
     },
     "execution_count": 720,
     "metadata": {},
     "output_type": "execute_result"
    }
   ],
   "source": [
    "alpha_corrected"
   ]
  },
  {
   "cell_type": "markdown",
   "id": "a61159915424bb7e",
   "metadata": {
    "collapsed": false
   },
   "source": [
    "## Correlations"
   ]
  },
  {
   "cell_type": "code",
   "execution_count": 721,
   "id": "b1a8d2962ab4d906",
   "metadata": {
    "ExecuteTime": {
     "start_time": "2023-10-20T00:34:26.316878968Z"
    },
    "collapsed": false
   },
   "outputs": [
    {
     "data": {
      "text/plain": [
       "PearsonRResult(statistic=-0.09275506179471997, pvalue=1.2235055812139667e-05)"
      ]
     },
     "execution_count": 721,
     "metadata": {},
     "output_type": "execute_result"
    }
   ],
   "source": [
    "pearsonr(df_doc[\"rank\"], df_doc[\"has_fully_read_document\"])"
   ]
  },
  {
   "cell_type": "code",
   "execution_count": 722,
   "id": "77b95a14c125fba6",
   "metadata": {
    "ExecuteTime": {
     "start_time": "2023-10-20T00:34:26.381427268Z"
    },
    "collapsed": false
   },
   "outputs": [
    {
     "data": {
      "text/plain": [
       "PearsonRResult(statistic=-0.16153597711143614, pvalue=2.006463264539391e-14)"
      ]
     },
     "execution_count": 722,
     "metadata": {},
     "output_type": "execute_result"
    }
   ],
   "source": [
    "pearsonr(df_doc[\"rank\"], df_doc[\"has_partially_read_document\"])"
   ]
  },
  {
   "cell_type": "code",
   "execution_count": 723,
   "id": "85831cf4955a095f",
   "metadata": {
    "ExecuteTime": {
     "start_time": "2023-10-20T00:34:26.447282744Z"
    },
    "collapsed": false
   },
   "outputs": [
    {
     "data": {
      "text/plain": [
       "PearsonRResult(statistic=-0.1122141037309577, pvalue=1.1825883633989267e-07)"
      ]
     },
     "execution_count": 723,
     "metadata": {},
     "output_type": "execute_result"
    }
   ],
   "source": [
    "pearsonr(df_doc[\"rank\"], df_doc[\"influence_document\"])"
   ]
  },
  {
   "cell_type": "code",
   "execution_count": 724,
   "id": "4b6e8c25e32f8aef",
   "metadata": {
    "ExecuteTime": {
     "start_time": "2023-10-20T00:34:26.514925244Z"
    },
    "collapsed": false
   },
   "outputs": [
    {
     "data": {
      "text/plain": [
       "PearsonRResult(statistic=-0.2114050356360075, pvalue=8.294865223591813e-24)"
      ]
     },
     "execution_count": 724,
     "metadata": {},
     "output_type": "execute_result"
    }
   ],
   "source": [
    "pearsonr(df_doc[\"rank\"], df_doc[\"quality_score_document\"])"
   ]
  },
  {
   "cell_type": "code",
   "execution_count": 725,
   "id": "f23d6ad07030c3d2",
   "metadata": {
    "ExecuteTime": {
     "start_time": "2023-10-20T00:34:26.515897801Z"
    },
    "collapsed": false
   },
   "outputs": [
    {
     "data": {
      "text/plain": [
       "PearsonRResult(statistic=-0.0667272054441804, pvalue=0.0016729751072267378)"
      ]
     },
     "execution_count": 725,
     "metadata": {},
     "output_type": "execute_result"
    }
   ],
   "source": [
    "pearsonr(df_doc[\"rank\"], df_doc[\"relevance_document\"])"
   ]
  },
  {
   "cell_type": "code",
   "execution_count": 726,
   "id": "66ab9a14453e4ddf",
   "metadata": {
    "ExecuteTime": {
     "start_time": "2023-10-20T00:34:26.559890449Z"
    },
    "collapsed": false
   },
   "outputs": [
    {
     "data": {
      "text/plain": [
       "PearsonRResult(statistic=0.15843226775024727, pvalue=6.317799909298208e-14)"
      ]
     },
     "execution_count": 726,
     "metadata": {},
     "output_type": "execute_result"
    }
   ],
   "source": [
    "pearsonr(df_doc[\"relevance_document\"], df_doc[\"quality_score_document\"])"
   ]
  }
 ],
 "metadata": {
  "kernelspec": {
   "display_name": "Python 3",
   "language": "python",
   "name": "python3"
  },
  "language_info": {
   "codemirror_mode": {
    "name": "ipython",
    "version": 3
   },
   "file_extension": ".py",
   "mimetype": "text/x-python",
   "name": "python",
   "nbconvert_exporter": "python",
   "pygments_lexer": "ipython3",
   "version": "3.11.0rc1"
  }
 },
 "nbformat": 4,
 "nbformat_minor": 5
}
